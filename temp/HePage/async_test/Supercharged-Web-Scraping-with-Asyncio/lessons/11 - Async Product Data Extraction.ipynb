{
 "cells": [
  {
   "cell_type": "code",
   "execution_count": 1,
   "metadata": {},
   "outputs": [],
   "source": [
    "# !pip install requests-html selenium arsenic pandas"
   ]
  },
  {
   "cell_type": "markdown",
   "metadata": {},
   "source": [
    "##  Sync vs Async\n",
    "\n",
    "The Chess Game Analogy\n",
    "\n",
    "Consecutive vs Concurrent"
   ]
  },
  {
   "cell_type": "code",
   "execution_count": 2,
   "metadata": {},
   "outputs": [
    {
     "name": "stdout",
     "output_type": "stream",
     "text": [
      "CPU times: user 5 µs, sys: 1 µs, total: 6 µs\n",
      "Wall time: 8.11 µs\n"
     ]
    }
   ],
   "source": [
    "%%time\n",
    "\n",
    "import time\n",
    "\n",
    "iteration_times = [1, 3, 2, 4]\n",
    "\n",
    "\n",
    "def sleeper(seconds, i=-1):\n",
    "    if i != -1:\n",
    "        print(f\"{i}\\t{seconds}s\")\n",
    "    time.sleep(seconds)\n",
    "\n",
    "\n",
    "def run():\n",
    "    for i, second in enumerate(iteration_times):\n",
    "        sleeper(second, i=i)\n",
    "    \n",
    "# run()"
   ]
  },
  {
   "cell_type": "code",
   "execution_count": 3,
   "metadata": {},
   "outputs": [
    {
     "name": "stdout",
     "output_type": "stream",
     "text": [
      "[<Task pending name='Task-2' coro=<a_sleeper() running at <ipython-input-3-b040379a2390>:5>>, <Task pending name='Task-3' coro=<a_sleeper() running at <ipython-input-3-b040379a2390>:5>>, <Task pending name='Task-4' coro=<a_sleeper() running at <ipython-input-3-b040379a2390>:5>>, <Task pending name='Task-5' coro=<a_sleeper() running at <ipython-input-3-b040379a2390>:5>>]\n",
      "0.0005028247833251953\n",
      "0\t1s\n",
      "1\t3s\n",
      "2\t2s\n",
      "3\t1s\n"
     ]
    }
   ],
   "source": [
    "start = time.time()\n",
    "iteration_times = [1, 3, 2, 1]\n",
    "import asyncio\n",
    "\n",
    "async def a_sleeper(seconds, i=-1):\n",
    "    if i != -1:\n",
    "        print(f\"{i}\\t{seconds}s\")\n",
    "    await asyncio.sleep(seconds) # coroutine\n",
    "    \n",
    "    ellap = time.time() - start\n",
    "    print(f\"{i} done {ellap}\")\n",
    "    return \"abc\"\n",
    "\n",
    "async def a_run():\n",
    "    results = []\n",
    "    for i, second in enumerate(iteration_times):\n",
    "        results.append(\n",
    "            asyncio.create_task(a_sleeper(second, i=i))\n",
    "        )\n",
    "    return results\n",
    "    \n",
    "results = await a_run()\n",
    "print(results)\n",
    "end = time.time() - start\n",
    "\n",
    "print(end)"
   ]
  },
  {
   "cell_type": "markdown",
   "metadata": {},
   "source": [
    "## Blocking & Timeouts"
   ]
  },
  {
   "cell_type": "code",
   "execution_count": 4,
   "metadata": {},
   "outputs": [],
   "source": [
    "def sleeper(seconds, i=-1):\n",
    "    if i != -1:\n",
    "        print(f\"{i}\\t{seconds}s\")\n",
    "    time.sleep(seconds)\n",
    "\n",
    "sleeper(12)"
   ]
  },
  {
   "cell_type": "code",
   "execution_count": 5,
   "metadata": {},
   "outputs": [
    {
     "name": "stdout",
     "output_type": "stream",
     "text": [
      "0 done 12.01803994178772\n",
      "3 done 12.018109798431396\n",
      "2 done 12.01813292503357\n",
      "1 done 12.018151760101318\n"
     ]
    }
   ],
   "source": [
    "async def asleeper(seconds, i=-1):\n",
    "    # time.sleep(seconds)\n",
    "    if i != -1:\n",
    "        print(f\"a{i}\\t{seconds}s\")\n",
    "    await asyncio.sleep(seconds)\n",
    "    \n",
    "await asleeper(12)"
   ]
  },
  {
   "cell_type": "code",
   "execution_count": 6,
   "metadata": {},
   "outputs": [
    {
     "name": "stdout",
     "output_type": "stream",
     "text": [
      "hello word\n"
     ]
    }
   ],
   "source": [
    "print(\"hello word\")"
   ]
  },
  {
   "cell_type": "code",
   "execution_count": 7,
   "metadata": {},
   "outputs": [
    {
     "data": {
      "text/plain": [
       "<Task pending name='Task-7' coro=<asleeper() running at <ipython-input-5-f7aa28347698>:1>>"
      ]
     },
     "execution_count": 7,
     "metadata": {},
     "output_type": "execute_result"
    }
   ],
   "source": [
    "loop = asyncio.get_event_loop()\n",
    "# loop = asyncio.new_event_loop()\n",
    "# aysncio.run()\n",
    "\n",
    "\n",
    "loop.create_task(asleeper(123))"
   ]
  },
  {
   "cell_type": "code",
   "execution_count": 8,
   "metadata": {},
   "outputs": [
    {
     "name": "stdout",
     "output_type": "stream",
     "text": [
      "hello word\n"
     ]
    }
   ],
   "source": [
    "print(\"hello word\")"
   ]
  },
  {
   "cell_type": "code",
   "execution_count": 9,
   "metadata": {},
   "outputs": [
    {
     "data": {
      "text/plain": [
       "({<Task finished name='Task-10' coro=<asleeper() done, defined at <ipython-input-5-f7aa28347698>:1> result=None>},\n",
       " {<Task pending name='Task-9' coro=<asleeper() running at <ipython-input-5-f7aa28347698>:5> wait_for=<Future pending cb=[<TaskWakeupMethWrapper object at 0x7fb3101746a0>()]>>})"
      ]
     },
     "execution_count": 9,
     "metadata": {},
     "output_type": "execute_result"
    }
   ],
   "source": [
    "done, pending = await asyncio.wait([asleeper(1), asleeper(123)], timeout=2)\n",
    "done, pending"
   ]
  },
  {
   "cell_type": "code",
   "execution_count": 10,
   "metadata": {},
   "outputs": [
    {
     "data": {
      "text/plain": [
       "{<Task finished name='Task-10' coro=<asleeper() done, defined at <ipython-input-5-f7aa28347698>:1> result=None>}"
      ]
     },
     "execution_count": 10,
     "metadata": {},
     "output_type": "execute_result"
    }
   ],
   "source": [
    "done"
   ]
  },
  {
   "cell_type": "code",
   "execution_count": 11,
   "metadata": {},
   "outputs": [
    {
     "data": {
      "text/plain": [
       "{<Task pending name='Task-9' coro=<asleeper() running at <ipython-input-5-f7aa28347698>:5> wait_for=<Future pending cb=[<TaskWakeupMethWrapper object at 0x7fb3101746a0>()]>>}"
      ]
     },
     "execution_count": 11,
     "metadata": {},
     "output_type": "execute_result"
    }
   ],
   "source": [
    "pending"
   ]
  },
  {
   "cell_type": "code",
   "execution_count": 12,
   "metadata": {},
   "outputs": [],
   "source": [
    "# await asyncio.wait(pending)"
   ]
  },
  {
   "cell_type": "code",
   "execution_count": 13,
   "metadata": {},
   "outputs": [],
   "source": [
    "# await asyncio.wait_for(asleeper(5), timeout=3)"
   ]
  },
  {
   "cell_type": "code",
   "execution_count": 14,
   "metadata": {},
   "outputs": [
    {
     "name": "stdout",
     "output_type": "stream",
     "text": [
      "Task failed\n"
     ]
    }
   ],
   "source": [
    "try:\n",
    "    await asyncio.wait_for(asleeper(5), timeout=3)\n",
    "except asyncio.TimeoutError:\n",
    "    print(\"Task failed\")"
   ]
  },
  {
   "cell_type": "code",
   "execution_count": 15,
   "metadata": {},
   "outputs": [],
   "source": [
    "async def asleeper_timeout(seconds, i=-1, timeout=4):\n",
    "    # time.sleep(seconds)\n",
    "    if i != -1:\n",
    "        print(f\"a{i}\\t{seconds}s\")\n",
    "    await asyncio.wait_for(asyncio.sleep(seconds), timeout=timeout)\n",
    "    \n",
    "# await asleeper_timeout(12, timeout=1)"
   ]
  },
  {
   "cell_type": "markdown",
   "metadata": {},
   "source": [
    "## Scraping with Selenium - Synchronous\n",
    "New to selenium and web scraping? Watch [this series](https://kirr.co/dwy90n)."
   ]
  },
  {
   "cell_type": "code",
   "execution_count": 16,
   "metadata": {},
   "outputs": [],
   "source": [
    "url = 'https://www.spoonflower.com/en/shop?on=fabric'"
   ]
  },
  {
   "cell_type": "code",
   "execution_count": 17,
   "metadata": {},
   "outputs": [],
   "source": [
    "import re\n",
    "import requests\n",
    "from requests_html import HTML\n",
    "import pandas as pd\n",
    "\n",
    "from selenium import webdriver\n",
    "from selenium.webdriver.chrome.options import Options"
   ]
  },
  {
   "cell_type": "code",
   "execution_count": 18,
   "metadata": {},
   "outputs": [],
   "source": [
    "def scraper(url):\n",
    "    options = Options()\n",
    "    options.add_argument(\"--headless\")\n",
    "    driver = webdriver.Chrome(options=options)\n",
    "    driver.get(url)\n",
    "    return driver.page_source\n",
    "\n",
    "\n",
    "# /en/fabric/7137786-genevieve-floral-by-crystal_walen\n",
    "def extract_id_slug(url_path):\n",
    "    regex = r\"^[^\\s]+/(?P<id>\\d+)-(?P<slug>[\\w_-]+)$\"\n",
    "    group = re.match(regex, url_path)\n",
    "    if not group:\n",
    "        return None, None\n",
    "    return group['id'], group['slug']"
   ]
  },
  {
   "cell_type": "code",
   "execution_count": 19,
   "metadata": {},
   "outputs": [],
   "source": [
    "content = scraper(url)"
   ]
  },
  {
   "cell_type": "code",
   "execution_count": null,
   "metadata": {},
   "outputs": [],
   "source": []
  },
  {
   "cell_type": "code",
   "execution_count": 20,
   "metadata": {},
   "outputs": [
    {
     "name": "stdout",
     "output_type": "stream",
     "text": [
      "3840217 nurse-theme-by-hot4tees_bg-yahoo_com\n",
      "8619105 flight-feathers-painted-by-xoxotique\n",
      "7662668 mermaid-music-by-ceciliamok\n",
      "5312944 thank-being-friend-small-by-elladorine\n",
      "4893900 half-scale-m81-woodland-camo-by-ricraynor\n",
      "509390 spoonflower-color-map-by-spoonflower_help\n",
      "8039248 forest-animal-hot-air-balloon-night-adventure-by-at_the_cottage\n",
      "2623675 black-white-music-notes-by-inspirationz\n",
      "7812388 dnd-pattern-by-neonborealis\n",
      "5839396 spectacular-cats-by-cynthia_arre\n",
      "4352750 loteria-by-jellymania\n",
      "5964319 hearts-on-grey-linen-valentines-day-by-littlearrowdesign\n",
      "7580754 ibd-gracie-grace-golden-jumbo-by-indybloomdesign\n",
      "4888888 flowers-skulls-by-elladorine\n",
      "7216659 rainbow-stars-watercolor-abstract-small-by-crystal_walen\n",
      "5247883 hexo-blue-med-by-nouveau_bohemian\n",
      "6650975 love-nurse-charcoal-gray-by-phyllisdobbs\n",
      "5513692 salon-barber-hairdresser-pattern-by-cloudycapevintage\n",
      "7790777 turtles-aqua-blue-by-gingerlique\n",
      "6650888 love-nurse-whimsy-blue-by-phyllisdobbs\n",
      "7698482 scrubs-dr-stetho-scope-by-adrianne_vanalstine\n",
      "5131007 scandinavian-sweet-hedgehog-illustration-kids-gender-neutral-black-white-by-littlesmilemakers\n",
      "5033660 80s-accessories-by-diannemehta\n",
      "4270747 happy-hair-stylist-friends-blue-by-clayvision_-_ahappybluetree\n",
      "7137898 sierra-floral-by-crystal_walen\n",
      "9240316 irish-notre-dame-irish-fabric-by-charlottewinter\n",
      "6573088 whale-s-song-by-katherine_quinn\n",
      "5773745 rainbow-pride-stripes-by-furbuddy\n",
      "6590171 mermaid-scales-by-elladorine\n",
      "8197261 night-sky-stars-midnight-blue-by-at_the_cottage\n",
      "5544045 napoleonic-bees-faux-gilt-on-blackest-black-by-peacoquettedesigns\n",
      "5532389 blue-white-camouflage-pattern-by-artpics\n",
      "7137786 genevieve-floral-by-crystal_walen\n",
      "2632362 colorful-happy-smiley-face-squares-large-print-by-inspirationz\n",
      "5588706 black-lives-matter-small-scale-by-ashleysummersdesign\n",
      "6444170 catching-fireflies-by-thestorysmith\n",
      "7679631 scattered-earth-tones-watercolor-rainbows-by-anniemontgomerydesign\n",
      "8692520 bees-lemons-large-blue-by-fernlesliestudio\n",
      "7368347 dear-clementine-oranges-teal-by-crystal_walen\n",
      "5469666 galaxy-far-far-away-gray-by-studiofibonacci\n",
      "1577333 marine-marpat-digital-woodland-camo-by-ricraynor\n",
      "2623792 purple-space-stars-small-print-by-inspirationz\n",
      "9119650 horror-friends-by-mariospeedwagon\n",
      "1306112 opal-by-peacoquettedesigns\n",
      "7984669 8-love-care-medical-white-by-rebelmod\n",
      "6079351 josie-meadow-floral-by-sweeterthanhoney\n",
      "5880084 mod-triangles-gold-indigo-by-crystal_walen\n",
      "5034356 80s-hair-dryers-by-cjldesigns\n",
      "6782514 eame-s-wildflower-meadow-by-hipkiddesigns\n",
      "7661255 just-jellies-jellyfish-by-katerhees\n",
      "5048115 mexican-blanket-by-anchored_by_love\n",
      "7984649 8-love-care-medical-black-by-rebelmod\n",
      "8286001 hanging-out-by-sarah_knight\n",
      "7685381 dragon-fire-by-adenaj\n",
      "7236018 australian-native-eucalyptus-leaves-edition-1-australiana-fabric-wallpaper-by-erin__kendal\n",
      "5939834 classic-leopard-by-cinneworthington\n",
      "3584004 mexican-sugar-skulls-small-by-lusykoror\n",
      "6178734 fable-floral-blush-med-by-nouveau_bohemian\n",
      "1096407 skull-wall-by-ben_goetting\n",
      "9060289 saints-fleur-de-lis-new-orleans-saints-football-football-fabric-fleur-de-lis-fabric-black-gold-gold-f-by-charlottewinter\n",
      "8056679 ruth-bader-ginsgurg-rbg-bust-black-by-katerhees\n",
      "7522587 save-honey-bees-large-new-by-fernlesliestudio\n",
      "991112 nursing-coordinates-by-bluevelvet\n",
      "5514018 hair-cutting-shears-by-cloudycapevintage\n",
      "7587085 heres-heart-navy-white-gold2-sketch-1-by-doodleandcharm_\n",
      "3817098 math-count-on-by-sammyk\n",
      "8618597 rainbow-watercolor-pawprints-by-dragonstarart\n",
      "2330040 maryland-flags-by-elramsay\n",
      "6812243 cute-kawaii-sushi-small-size-by-penguinhouse\n",
      "7944022 golden-girls-illustration-peach-by-yesterdaycollection\n",
      "7463028 seamless-watercolor-larger-leaves-pattern-1-by-daily_miracles\n",
      "4995362 heart-health-awareness-black-by-ohdarkthirty\n",
      "4830872 cherry-blossom-watercolor-cherry-blossom-floral-by-magentarosedesigns\n",
      "1112778 rosie-riveter-by-spacefem\n",
      "6852245 cute-nurse-love-black-no-gradient-by-jannasalak\n",
      "2920223 m81-woodland-camo-by-ricraynor\n",
      "6864327 love-lips-red-by-hipkiddesigns\n",
      "5700186 puzzle-hearts-by-designedbygeeks\n",
      "4981816 black-white-dogs-by-littleislandcompany\n",
      "9453318 african-american-girls-retro-pop-art-by-whimsical_brush\n",
      "6327300 call-mountains-evergreen-med-by-nouveau_bohemian\n",
      "6263258 navy-blue-watercolor-herringbone-by-laurapol\n",
      "6715163 8-wild-heart-florals-white-by-shopcabin\n",
      "4995555 heart-health-awareness-light-gray-large-by-ohdarkthirty\n"
     ]
    }
   ],
   "source": [
    "html_r = HTML(html=content)\n",
    "\n",
    "fabric_links = [x for x in list(html_r.links) if x.startswith(\"/en/fabric\")]\n",
    "\n",
    "datas = []\n",
    "for path in fabric_links:\n",
    "    id_, slug_ = extract_id_slug(path)\n",
    "    print(id_, slug_)\n",
    "    data = {\n",
    "        \"id\": id_,\n",
    "        \"slug\": slug_,\n",
    "        \"path\": path,\n",
    "        \"scraped\": 0 # True / False -> 1 / 0 \n",
    "    }\n",
    "    datas.append(data)"
   ]
  },
  {
   "cell_type": "code",
   "execution_count": 21,
   "metadata": {},
   "outputs": [
    {
     "data": {
      "text/html": [
       "<div>\n",
       "<style scoped>\n",
       "    .dataframe tbody tr th:only-of-type {\n",
       "        vertical-align: middle;\n",
       "    }\n",
       "\n",
       "    .dataframe tbody tr th {\n",
       "        vertical-align: top;\n",
       "    }\n",
       "\n",
       "    .dataframe thead th {\n",
       "        text-align: right;\n",
       "    }\n",
       "</style>\n",
       "<table border=\"1\" class=\"dataframe\">\n",
       "  <thead>\n",
       "    <tr style=\"text-align: right;\">\n",
       "      <th></th>\n",
       "      <th>id</th>\n",
       "      <th>slug</th>\n",
       "      <th>path</th>\n",
       "      <th>scraped</th>\n",
       "    </tr>\n",
       "  </thead>\n",
       "  <tbody>\n",
       "    <tr>\n",
       "      <th>0</th>\n",
       "      <td>3840217</td>\n",
       "      <td>nurse-theme-by-hot4tees_bg-yahoo_com</td>\n",
       "      <td>/en/fabric/3840217-nurse-theme-by-hot4tees_bg-...</td>\n",
       "      <td>0</td>\n",
       "    </tr>\n",
       "    <tr>\n",
       "      <th>1</th>\n",
       "      <td>8619105</td>\n",
       "      <td>flight-feathers-painted-by-xoxotique</td>\n",
       "      <td>/en/fabric/8619105-flight-feathers-painted-by-...</td>\n",
       "      <td>0</td>\n",
       "    </tr>\n",
       "    <tr>\n",
       "      <th>2</th>\n",
       "      <td>7662668</td>\n",
       "      <td>mermaid-music-by-ceciliamok</td>\n",
       "      <td>/en/fabric/7662668-mermaid-music-by-ceciliamok</td>\n",
       "      <td>0</td>\n",
       "    </tr>\n",
       "    <tr>\n",
       "      <th>3</th>\n",
       "      <td>5312944</td>\n",
       "      <td>thank-being-friend-small-by-elladorine</td>\n",
       "      <td>/en/fabric/5312944-thank-being-friend-small-by...</td>\n",
       "      <td>0</td>\n",
       "    </tr>\n",
       "    <tr>\n",
       "      <th>4</th>\n",
       "      <td>4893900</td>\n",
       "      <td>half-scale-m81-woodland-camo-by-ricraynor</td>\n",
       "      <td>/en/fabric/4893900-half-scale-m81-woodland-cam...</td>\n",
       "      <td>0</td>\n",
       "    </tr>\n",
       "  </tbody>\n",
       "</table>\n",
       "</div>"
      ],
      "text/plain": [
       "        id                                       slug  \\\n",
       "0  3840217       nurse-theme-by-hot4tees_bg-yahoo_com   \n",
       "1  8619105       flight-feathers-painted-by-xoxotique   \n",
       "2  7662668                mermaid-music-by-ceciliamok   \n",
       "3  5312944     thank-being-friend-small-by-elladorine   \n",
       "4  4893900  half-scale-m81-woodland-camo-by-ricraynor   \n",
       "\n",
       "                                                path  scraped  \n",
       "0  /en/fabric/3840217-nurse-theme-by-hot4tees_bg-...        0  \n",
       "1  /en/fabric/8619105-flight-feathers-painted-by-...        0  \n",
       "2     /en/fabric/7662668-mermaid-music-by-ceciliamok        0  \n",
       "3  /en/fabric/5312944-thank-being-friend-small-by...        0  \n",
       "4  /en/fabric/4893900-half-scale-m81-woodland-cam...        0  "
      ]
     },
     "execution_count": 21,
     "metadata": {},
     "output_type": "execute_result"
    }
   ],
   "source": [
    "df = pd.DataFrame(datas)\n",
    "df.head()"
   ]
  },
  {
   "cell_type": "code",
   "execution_count": 22,
   "metadata": {},
   "outputs": [],
   "source": [
    "df.to_csv(\"local.csv\", index=False)"
   ]
  },
  {
   "cell_type": "code",
   "execution_count": 23,
   "metadata": {},
   "outputs": [
    {
     "data": {
      "text/html": [
       "<div>\n",
       "<style scoped>\n",
       "    .dataframe tbody tr th:only-of-type {\n",
       "        vertical-align: middle;\n",
       "    }\n",
       "\n",
       "    .dataframe tbody tr th {\n",
       "        vertical-align: top;\n",
       "    }\n",
       "\n",
       "    .dataframe thead th {\n",
       "        text-align: right;\n",
       "    }\n",
       "</style>\n",
       "<table border=\"1\" class=\"dataframe\">\n",
       "  <thead>\n",
       "    <tr style=\"text-align: right;\">\n",
       "      <th></th>\n",
       "      <th>id</th>\n",
       "      <th>slug</th>\n",
       "      <th>path</th>\n",
       "      <th>scraped</th>\n",
       "    </tr>\n",
       "  </thead>\n",
       "  <tbody>\n",
       "    <tr>\n",
       "      <th>0</th>\n",
       "      <td>3840217</td>\n",
       "      <td>nurse-theme-by-hot4tees_bg-yahoo_com</td>\n",
       "      <td>/en/fabric/3840217-nurse-theme-by-hot4tees_bg-...</td>\n",
       "      <td>0</td>\n",
       "    </tr>\n",
       "    <tr>\n",
       "      <th>1</th>\n",
       "      <td>8619105</td>\n",
       "      <td>flight-feathers-painted-by-xoxotique</td>\n",
       "      <td>/en/fabric/8619105-flight-feathers-painted-by-...</td>\n",
       "      <td>0</td>\n",
       "    </tr>\n",
       "    <tr>\n",
       "      <th>2</th>\n",
       "      <td>7662668</td>\n",
       "      <td>mermaid-music-by-ceciliamok</td>\n",
       "      <td>/en/fabric/7662668-mermaid-music-by-ceciliamok</td>\n",
       "      <td>0</td>\n",
       "    </tr>\n",
       "    <tr>\n",
       "      <th>3</th>\n",
       "      <td>5312944</td>\n",
       "      <td>thank-being-friend-small-by-elladorine</td>\n",
       "      <td>/en/fabric/5312944-thank-being-friend-small-by...</td>\n",
       "      <td>0</td>\n",
       "    </tr>\n",
       "    <tr>\n",
       "      <th>4</th>\n",
       "      <td>4893900</td>\n",
       "      <td>half-scale-m81-woodland-camo-by-ricraynor</td>\n",
       "      <td>/en/fabric/4893900-half-scale-m81-woodland-cam...</td>\n",
       "      <td>0</td>\n",
       "    </tr>\n",
       "    <tr>\n",
       "      <th>...</th>\n",
       "      <td>...</td>\n",
       "      <td>...</td>\n",
       "      <td>...</td>\n",
       "      <td>...</td>\n",
       "    </tr>\n",
       "    <tr>\n",
       "      <th>79</th>\n",
       "      <td>9453318</td>\n",
       "      <td>african-american-girls-retro-pop-art-by-whimsi...</td>\n",
       "      <td>/en/fabric/9453318-african-american-girls-retr...</td>\n",
       "      <td>0</td>\n",
       "    </tr>\n",
       "    <tr>\n",
       "      <th>80</th>\n",
       "      <td>6327300</td>\n",
       "      <td>call-mountains-evergreen-med-by-nouveau_bohemian</td>\n",
       "      <td>/en/fabric/6327300-call-mountains-evergreen-me...</td>\n",
       "      <td>0</td>\n",
       "    </tr>\n",
       "    <tr>\n",
       "      <th>81</th>\n",
       "      <td>6263258</td>\n",
       "      <td>navy-blue-watercolor-herringbone-by-laurapol</td>\n",
       "      <td>/en/fabric/6263258-navy-blue-watercolor-herrin...</td>\n",
       "      <td>0</td>\n",
       "    </tr>\n",
       "    <tr>\n",
       "      <th>82</th>\n",
       "      <td>6715163</td>\n",
       "      <td>8-wild-heart-florals-white-by-shopcabin</td>\n",
       "      <td>/en/fabric/6715163-8-wild-heart-florals-white-...</td>\n",
       "      <td>0</td>\n",
       "    </tr>\n",
       "    <tr>\n",
       "      <th>83</th>\n",
       "      <td>4995555</td>\n",
       "      <td>heart-health-awareness-light-gray-large-by-ohd...</td>\n",
       "      <td>/en/fabric/4995555-heart-health-awareness-ligh...</td>\n",
       "      <td>0</td>\n",
       "    </tr>\n",
       "  </tbody>\n",
       "</table>\n",
       "<p>84 rows × 4 columns</p>\n",
       "</div>"
      ],
      "text/plain": [
       "         id                                               slug  \\\n",
       "0   3840217               nurse-theme-by-hot4tees_bg-yahoo_com   \n",
       "1   8619105               flight-feathers-painted-by-xoxotique   \n",
       "2   7662668                        mermaid-music-by-ceciliamok   \n",
       "3   5312944             thank-being-friend-small-by-elladorine   \n",
       "4   4893900          half-scale-m81-woodland-camo-by-ricraynor   \n",
       "..      ...                                                ...   \n",
       "79  9453318  african-american-girls-retro-pop-art-by-whimsi...   \n",
       "80  6327300   call-mountains-evergreen-med-by-nouveau_bohemian   \n",
       "81  6263258       navy-blue-watercolor-herringbone-by-laurapol   \n",
       "82  6715163            8-wild-heart-florals-white-by-shopcabin   \n",
       "83  4995555  heart-health-awareness-light-gray-large-by-ohd...   \n",
       "\n",
       "                                                 path  scraped  \n",
       "0   /en/fabric/3840217-nurse-theme-by-hot4tees_bg-...        0  \n",
       "1   /en/fabric/8619105-flight-feathers-painted-by-...        0  \n",
       "2      /en/fabric/7662668-mermaid-music-by-ceciliamok        0  \n",
       "3   /en/fabric/5312944-thank-being-friend-small-by...        0  \n",
       "4   /en/fabric/4893900-half-scale-m81-woodland-cam...        0  \n",
       "..                                                ...      ...  \n",
       "79  /en/fabric/9453318-african-american-girls-retr...        0  \n",
       "80  /en/fabric/6327300-call-mountains-evergreen-me...        0  \n",
       "81  /en/fabric/6263258-navy-blue-watercolor-herrin...        0  \n",
       "82  /en/fabric/6715163-8-wild-heart-florals-white-...        0  \n",
       "83  /en/fabric/4995555-heart-health-awareness-ligh...        0  \n",
       "\n",
       "[84 rows x 4 columns]"
      ]
     },
     "execution_count": 23,
     "metadata": {},
     "output_type": "execute_result"
    }
   ],
   "source": [
    "pd.read_csv(\"local.csv\")"
   ]
  },
  {
   "cell_type": "markdown",
   "metadata": {},
   "source": [
    "## Asynchronous Scraping with `chromedriver` and `arsenic`\n",
    "\n",
    "[arsenic Docs](https://arsenic.readthedocs.io/en/latest/)"
   ]
  },
  {
   "cell_type": "code",
   "execution_count": 24,
   "metadata": {},
   "outputs": [],
   "source": [
    "# !pip install arsenic"
   ]
  },
  {
   "cell_type": "code",
   "execution_count": 25,
   "metadata": {},
   "outputs": [
    {
     "name": "stdout",
     "output_type": "stream",
     "text": [
      "Overwriting async_scrape.py\n"
     ]
    }
   ],
   "source": [
    "%%writefile async_scrape.py\n",
    "\n",
    "import os\n",
    "import asyncio\n",
    "from arsenic import get_session, keys, browsers, services\n",
    "import pandas as pd\n",
    "from requests_html import HTML\n",
    "import itertools\n",
    "import re\n",
    "import time\n",
    "import pathlib\n",
    "\n",
    "\n",
    "# /en/fabric/7137786-genevieve-floral-by-crystal_walen\n",
    "async def extract_id_slug(url_path):\n",
    "    regex = r\"^[^\\s]+/(?P<id>\\d+)-(?P<slug>[\\w_-]+)$\"\n",
    "    group = re.match(regex, url_path)\n",
    "    if not group:\n",
    "        return None, None\n",
    "    return group['id'], group['slug']\n",
    "\n",
    "\n",
    "\n",
    "async def get_links(body_content):\n",
    "    html_r = HTML(html=body_content)\n",
    "    fabric_links = [x for x in list(html_r.links) if x.startswith(\"/en/fabric\")]\n",
    "    datas = []\n",
    "    for path in fabric_links:\n",
    "        id_, slug_ = await extract_id_slug(path)\n",
    "        data = {\n",
    "            \"id\": id_,\n",
    "            \"slug\": slug_,\n",
    "            \"path\": path,\n",
    "            \"scraped\": 0 # True / False -> 1 / 0 \n",
    "        }\n",
    "        datas.append(data)\n",
    "    return datas\n",
    "\n",
    "async def scraper(url):\n",
    "    service = services.Chromedriver()\n",
    "    browser = browsers.Chrome(chromeOptions={\n",
    "        'args': ['--headless', '--disable-gpu']\n",
    "    })\n",
    "    async with get_session(service, browser) as session:\n",
    "        await session.get(url)\n",
    "        body = await session.get_page_source()\n",
    "        # print(body)\n",
    "        return body\n",
    "\n",
    "\n",
    "async def store_links_as_df_pickle(datas=[], name='links.pkl'):\n",
    "    df = pd.DataFrame(datas)\n",
    "    df.set_index('id', drop=True, inplace=True)\n",
    "    df.to_pickle(name)\n",
    "    return df\n",
    "    \n",
    "    \n",
    "async def run(url):\n",
    "    body_content = await scraper(url)\n",
    "    links = await get_links(body_content)\n",
    "    df = await store_links_as_df_pickle(links)\n",
    "    return links\n",
    "    \n",
    "if __name__ == \"__main__\":\n",
    "    url = 'https://www.spoonflower.com/en/shop?on=fabric'\n",
    "    results = asyncio.run(run(url))\n",
    "    print(results)\n"
   ]
  },
  {
   "cell_type": "code",
   "execution_count": 26,
   "metadata": {},
   "outputs": [
    {
     "name": "stdout",
     "output_type": "stream",
     "text": [
      "Starting ChromeDriver 84.0.4147.30 (48b3e868b4cc0aa7e8149519690b6f6949e110a8-refs/branch-heads/4147@{#310}) on port 62144\n",
      "Only local connections are allowed.\n",
      "Please see https://chromedriver.chromium.org/security-considerations for suggestions on keeping ChromeDriver safe.\n",
      "ChromeDriver was started successfully.\n",
      "2020-08-04 15:50.55 request                        body={\"desiredCapabilities\": {\"browserName\": \"chrome\", \"chromeOptions\": {\"args\": [\"--headless\", \"--disable-gpu\"]}}} method=POST url=http://localhost:62144/session\n",
      "2020-08-04 15:50.55 response                       body={\"desiredCapabilities\": {\"browserName\": \"chrome\", \"chromeOptions\": {\"args\": [\"--headless\", \"--disable-gpu\"]}}} data={'sessionId': '1b7e29660a3faa0f5ec1ac138652f429', 'status': 0, 'value': {'acceptInsecureCerts': False, 'acceptSslCerts': False, 'applicationCacheEnabled': False, 'browserConnectionEnabled': False, 'browserName': 'chrome', 'chrome': {'chromedriverVersion': '84.0.4147.30 (48b3e868b4cc0aa7e8149519690b6f6949e110a8-refs/branch-heads/4147@{#310})', 'userDataDir': '/var/folders/ng/dc2j4rj50ts_56kgvdgyl3c00000gp/T/.com.google.Chrome.sVqnZp'}, 'cssSelectorsEnabled': True, 'databaseEnabled': False, 'goog:chromeOptions': {'debuggerAddress': 'localhost:62148'}, 'handlesAlerts': True, 'hasTouchScreen': False, 'javascriptEnabled': True, 'locationContextEnabled': True, 'mobileEmulationEnabled': False, 'nativeEvents': True, 'networkConnectionEnabled': False, 'pageLoadStrategy': 'normal', 'platform': 'Mac OS X', 'proxy': {}, 'rotatable': False, 'setWindowRect': True, 'strictFileInteractability': False, 'takesHeapSnapshot': True, 'takesScreenshot': True, 'timeouts': {'implicit': 0, 'pageLoad': 300000, 'script': 30000}, 'unexpectedAlertBehaviour': 'ignore', 'version': '84.0.4147.105', 'webStorageEnabled': True, 'webauthn:virtualAuthenticators': True}} method=POST response=<ClientResponse(http://localhost:62144/session) [200 OK]>\n",
      "<CIMultiDictProxy('Content-Length': '1079', 'Content-Type': 'application/json; charset=utf-8')>\n",
      " url=http://localhost:62144/session\n",
      "2020-08-04 15:50.55 request                        body={\"url\": \"https://www.spoonflower.com/en/shop?on=fabric\"} method=POST url=http://localhost:62144/session/1b7e29660a3faa0f5ec1ac138652f429/url\n",
      "2020-08-04 15:50.57 response                       body={\"url\": \"https://www.spoonflower.com/en/shop?on=fabric\"} data={'sessionId': '1b7e29660a3faa0f5ec1ac138652f429', 'status': 0, 'value': None} method=POST response=<ClientResponse(http://localhost:62144/session/1b7e29660a3faa0f5ec1ac138652f429/url) [200 OK]>\n",
      "<CIMultiDictProxy('Content-Length': '72', 'Content-Type': 'application/json; charset=utf-8')>\n",
      " url=http://localhost:62144/session/1b7e29660a3faa0f5ec1ac138652f429/url\n",
      "2020-08-04 15:50.57 request                        body=None method=GET url=http://localhost:62144/session/1b7e29660a3faa0f5ec1ac138652f429/source\n"
     ]
    },
    {
     "name": "stdout",
     "output_type": "stream",
     "text": [
      "2020-08-04 15:50.58 response                       body=None data={'sessionId': '1b7e29660a3faa0f5ec1ac138652f429', 'status': 0, 'value': '<html class=\"js\" lang=\"en\" data-wf-page=\"5d63f10f2f49481077e21b0c\" data-wf-site=\"5c083293d3df665a93b5c3a0\"><head><script type=\"text/javascript\" src=\"https://bam.nr-data.net/1/331b4fd22c?a=15371075&amp;v=1173.01dd3ba&amp;to=IFxcFkBbCFgEE01DBwJQRk1BXAtE&amp;rst=1990&amp;ck=1&amp;ref=https://www.spoonflower.com/en/shop&amp;ap=29&amp;be=201&amp;fe=1948&amp;dc=883&amp;af=err,xhr,stn,ins,spa&amp;perf=%7B%22timing%22:%7B%22of%22:1596581455834,%22n%22:0,%22f%22:0,%22dn%22:34,%22dne%22:35,%22c%22:35,%22s%22:47,%22ce%22:71,%22rq%22:72,%22rp%22:184,%22rpe%22:186,%22dl%22:189,%22di%22:883,%22ds%22:883,%22de%22:886,%22dc%22:1947,%22l%22:1947,%22le%22:1978%7D,%22navigation%22:%7B%7D%7D&amp;fp=565&amp;fcp=565&amp;jsonp=NREUM.setToken\"></script><script async=\"\" src=\"https://cdn2.exitintel.com/api/v1/pub/359?callback=exitintel.campaign.campaignsFileLoaded\"></script>\\n  <meta charset=\"utf-8\">\\n  <title>Shop the world’s largest marketplace of independent surface designers - Spoonflower</title>\\n  <meta name=\"viewport\" content=\"width=device-width, initial-scale=1\">\\n  <meta http-equiv=\"X-UA-Compatible\" content=\"IE=edge\">\\n<script src=\"https://js-agent.newrelic.com/nr-spa-1173.min.js\"></script><script async=\"\" src=\"https://s.pinimg.com/ct/lib/main.26939677.js\"></script><script async=\"\" src=\"https://www.googletagmanager.com/gtm.js?id=GTM-TGG2DKR\"></script><script type=\"text/javascript\" async=\"\" src=\"https://tracking2.channeladvisor.com/welcome_fp.asp?SMCID=12010793&amp;CAID=ebb891b6-eaea-4bbc-855c-931a66a630e5&amp;x=&amp;t=1596581457042\"></script><script src=\"https://connect.facebook.net/signals/config/1677236372494762?v=2.9.22&amp;r=stable\" async=\"\"></script><script src=\"https://connect.facebook.net/en_US/sdk.js?hash=9ce741221344fe7df9abcfba07eb21bc&amp;ua=modern_es6\" async=\"\" crossorigin=\"anonymous\"></script><script type=\"text/javascript\" async=\"\" src=\"https://www.google-analytics.com/gtm/js?id=GTM-N3KXLVM&amp;t=gtm2&amp;cid=1220745952.1596581457\"></script><script type=\"text/javascript\" async=\"\" src=\"https://www.google-analytics.com/plugins/ua/ec.js\"></script><script id=\"facebook-jssdk\" src=\"https://connect.facebook.net/en_US/sdk.js#xfbml=1&amp;version=v3.1\"></script><script type=\"text/javascript\" async=\"\" src=\"https://js.bronto.com/s/b.min.js\"></script><script type=\"text/javascript\" async=\"\" src=\"https://s.pinimg.com/ct/core.js\"></script><script type=\"text/javascript\" async=\"\" src=\"//www.googleadservices.com/pagead/conversion_async.js\"></script><script src=\"//bat.bing.com/bat.js\" async=\"\"></script><script type=\"text/javascript\" async=\"\" src=\"https://script.crazyegg.com/pages/scripts/0013/6846.js?443495\"></script><script type=\"text/javascript\" async=\"\" id=\"_casrc\" src=\"//t.channeladvisor.com/v2/12010793.js\"></script><script async=\"\" src=\"//connect.facebook.net/en_US/fbevents.js\"></script><script type=\"text/javascript\" async=\"\" src=\"https://www.google-analytics.com/analytics.js\"></script><script type=\"text/javascript\" async=\"\" src=\"https://www.google-analytics.com/analytics.js\"></script><script async=\"\" src=\"https://www.googletagmanager.com/gtm.js?id=GTM-TGG2DKR\"></script><script type=\"text/javascript\" async=\"\" src=\"https://js.bronto.com/c/c37i4q22szvir8ga3m8mtxaft7gwnm5fio8hfxo35mu81absi1/d171a69decf72d32a626b67e6ac3a4036fac012f8945e38645e45c3a29071ccb/s/b.min.js\"></script><script>window.NREUM||(NREUM={});NREUM.info={\"beacon\":\"bam.nr-data.net\",\"errorBeacon\":\"bam.nr-data.net\",\"licenseKey\":\"331b4fd22c\",\"applicationID\":\"15371075\",\"transactionName\":\"IFxcFkBbCFgEE01DBwJQRk1BXAtE\",\"queueTime\":0,\"applicationTime\":29,\"agent\":\"\"}</script>\\n<script>(window.NREUM||(NREUM={})).loader_config={xpid:\"VwUPUVBQGwIFV1ZTBwYC\",licenseKey:\"331b4fd22c\",applicationID:\"15371075\"};window.NREUM||(NREUM={}),__nr_require=function(t,e,n){function r(n){if(!e[n]){var o=e[n]={exports:{}};t[n][0].call(o.exports,function(e){var o=t[n][1][e];return r(o||e)},o,o.exports)}return e[n].exports}if(\"function\"==typeof __nr_require)return __nr_require;for(var o=0;o<n.length;o++)r(n[o]);return r}({1:[function(t,e,n){function r(t){try{c.console&&console.log(t)}catch(e){}}var o,i=t(\"ee\"),a=t(25),c={};try{o=localStorage.getItem(\"__nr_flags\").split(\",\"),console&&\"function\"==typeof console.log&&(c.console=!0,o.indexOf(\"dev\")!==-1&&(c.dev=!0),o.indexOf(\"nr_dev\")!==-1&&(c.nrDev=!0))}catch(s){}c.nrDev&&i.on(\"internal-error\",function(t){r(t.stack)}),c.dev&&i.on(\"fn-err\",function(t,e,n){r(n.stack)}),c.dev&&(r(\"NR AGENT IN DEVELOPMENT MODE\"),r(\"flags: \"+a(c,function(t,e){return t}).join(\", \")))},{}],2:[function(t,e,n){function r(t,e,n,r,c){try{l?l-=1:o(c||new UncaughtException(t,e,n),!0)}catch(f){try{i(\"ierr\",[f,s.now(),!0])}catch(d){}}return\"function\"==typeof u&&u.apply(this,a(arguments))}function UncaughtException(t,e,n){this.message=t||\"Uncaught error with no additional information\",this.sourceURL=e,this.line=n}function o(t,e){var n=e?null:s.now();i(\"err\",[t,n])}var i=t(\"handle\"),a=t(26),c=t(\"ee\"),s=t(\"loader\"),f=t(\"gos\"),u=window.onerror,d=!1,p=\"nr@seenError\",l=0;s.features.err=!0,t(1),window.onerror=r;try{throw new Error}catch(h){\"stack\"in h&&(t(13),t(12),\"addEventListener\"in window&&t(6),s.xhrWrappable&&t(14),d=!0)}c.on(\"fn-start\",function(t,e,n){d&&(l+=1)}),c.on(\"fn-err\",function(t,e,n){d&&!n[p]&&(f(n,p,function(){return!0}),this.thrown=!0,o(n))}),c.on(\"fn-end\",function(){d&&!this.thrown&&l>0&&(l-=1)}),c.on(\"internal-error\",function(t){i(\"ierr\",[t,s.now(),!0])})},{}],3:[function(t,e,n){t(\"loader\").features.ins=!0},{}],4:[function(t,e,n){function r(){_++,T=g.hash,this[u]=y.now()}function o(){_--,g.hash!==T&&i(0,!0);var t=y.now();this[h]=~~this[h]+t-this[u],this[d]=t}function i(t,e){E.emit(\"newURL\",[\"\"+g,e])}function a(t,e){t.on(e,function(){this[e]=y.now()})}var c=\"-start\",s=\"-end\",f=\"-body\",u=\"fn\"+c,d=\"fn\"+s,p=\"cb\"+c,l=\"cb\"+s,h=\"jsTime\",m=\"fetch\",v=\"addEventListener\",w=window,g=w.location,y=t(\"loader\");if(w[v]&&y.xhrWrappable){var x=t(10),b=t(11),E=t(8),R=t(6),O=t(13),N=t(7),M=t(14),P=t(9),C=t(\"ee\"),S=C.get(\"tracer\");t(16),y.features.spa=!0;var T,_=0;C.on(u,r),C.on(p,r),C.on(d,o),C.on(l,o),C.buffer([u,d,\"xhr-done\",\"xhr-resolved\"]),R.buffer([u]),O.buffer([\"setTimeout\"+s,\"clearTimeout\"+c,u]),M.buffer([u,\"new-xhr\",\"send-xhr\"+c]),N.buffer([m+c,m+\"-done\",m+f+c,m+f+s]),E.buffer([\"newURL\"]),x.buffer([u]),b.buffer([\"propagate\",p,l,\"executor-err\",\"resolve\"+c]),S.buffer([u,\"no-\"+u]),P.buffer([\"new-jsonp\",\"cb-start\",\"jsonp-error\",\"jsonp-end\"]),a(M,\"send-xhr\"+c),a(C,\"xhr-resolved\"),a(C,\"xhr-done\"),a(N,m+c),a(N,m+\"-done\"),a(P,\"new-jsonp\"),a(P,\"jsonp-end\"),a(P,\"cb-start\"),E.on(\"pushState-end\",i),E.on(\"replaceState-end\",i),w[v](\"hashchange\",i,!0),w[v](\"load\",i,!0),w[v](\"popstate\",function(){i(0,_>1)},!0)}},{}],5:[function(t,e,n){function r(t){}if(window.performance&&window.performance.timing&&window.performance.getEntriesByType){var o=t(\"ee\"),i=t(\"handle\"),a=t(13),c=t(12),s=\"learResourceTimings\",f=\"addEventListener\",u=\"resourcetimingbufferfull\",d=\"bstResource\",p=\"resource\",l=\"-start\",h=\"-end\",m=\"fn\"+l,v=\"fn\"+h,w=\"bstTimer\",g=\"pushState\",y=t(\"loader\");y.features.stn=!0,t(8),\"addEventListener\"in window&&t(6);var x=NREUM.o.EV;o.on(m,function(t,e){var n=t[0];n instanceof x&&(this.bstStart=y.now())}),o.on(v,function(t,e){var n=t[0];n instanceof x&&i(\"bst\",[n,e,this.bstStart,y.now()])}),a.on(m,function(t,e,n){this.bstStart=y.now(),this.bstType=n}),a.on(v,function(t,e){i(w,[e,this.bstStart,y.now(),this.bstType])}),c.on(m,function(){this.bstStart=y.now()}),c.on(v,function(t,e){i(w,[e,this.bstStart,y.now(),\"requestAnimationFrame\"])}),o.on(g+l,function(t){this.time=y.now(),this.startPath=location.pathname+location.hash}),o.on(g+h,function(t){i(\"bstHist\",[location.pathname+location.hash,this.startPath,this.time])}),f in window.performance&&(window.performance[\"c\"+s]?window.performance[f](u,function(t){i(d,[window.performance.getEntriesByType(p)]),window.performance[\"c\"+s]()},!1):window.performance[f](\"webkit\"+u,function(t){i(d,[window.performance.getEntriesByType(p)]),window.performance[\"webkitC\"+s]()},!1)),document[f](\"scroll\",r,{passive:!0}),document[f](\"keypress\",r,!1),document[f](\"click\",r,!1)}},{}],6:[function(t,e,n){function r(t){for(var e=t;e&&!e.hasOwnProperty(u);)e=Object.getPrototypeOf(e);e&&o(e)}function o(t){c.inPlace(t,[u,d],\"-\",i)}function i(t,e){return t[1]}var a=t(\"ee\").get(\"events\"),c=t(\"wrap-function\")(a,!0),s=t(\"gos\"),f=XMLHttpRequest,u=\"addEventListener\",d=\"removeEventListener\";e.exports=a,\"getPrototypeOf\"in Object?(r(document),r(window),r(f.prototype)):f.prototype.hasOwnProperty(u)&&(o(window),o(f.prototype)),a.on(u+\"-start\",function(t,e){var n=t[1],r=s(n,\"nr@wrapped\",function(){function t(){if(\"function\"==typeof n.handleEvent)return n.handleEvent.apply(n,arguments)}var e={object:t,\"function\":n}[typeof n];return e?c(e,\"fn-\",null,e.name||\"anonymous\"):n});this.wrapped=t[1]=r}),a.on(d+\"-start\",function(t){t[1]=this.wrapped||t[1]})},{}],7:[function(t,e,n){function r(t,e,n){var r=t[e];\"function\"==typeof r&&(t[e]=function(){var t=i(arguments),e={};o.emit(n+\"before-start\",[t],e);var a;e[m]&&e[m].dt&&(a=e[m].dt);var c=r.apply(this,t);return o.emit(n+\"start\",[t,a],c),c.then(function(t){return o.emit(n+\"end\",[null,t],c),t},function(t){throw o.emit(n+\"end\",[t],c),t})})}var o=t(\"ee\").get(\"fetch\"),i=t(26),a=t(25);e.exports=o;var c=window,s=\"fetch-\",f=s+\"body-\",u=[\"arrayBuffer\",\"blob\",\"json\",\"text\",\"formData\"],d=c.Request,p=c.Response,l=c.fetch,h=\"prototype\",m=\"nr@context\";d&&p&&l&&(a(u,function(t,e){r(d[h],e,f),r(p[h],e,f)}),r(c,\"fetch\",s),o.on(s+\"end\",function(t,e){var n=this;if(e){var r=e.headers.get(\"content-length\");null!==r&&(n.rxSize=r),o.emit(s+\"done\",[null,e],n)}else o.emit(s+\"done\",[t],n)}))},{}],8:[function(t,e,n){var r=t(\"ee\").get(\"history\"),o=t(\"wrap-function\")(r);e.exports=r;var i=window.history&&window.history.constructor&&window.history.constructor.prototype,a=window.history;i&&i.pushState&&i.replaceState&&(a=i),o.inPlace(a,[\"pushState\",\"replaceState\"],\"-\")},{}],9:[function(t,e,n){function r(t){function e(){s.emit(\"jsonp-end\",[],p),t.removeEventListener(\"load\",e,!1),t.removeEventListener(\"error\",n,!1)}function n(){s.emit(\"jsonp-error\",[],p),s.emit(\"jsonp-end\",[],p),t.removeEventListener(\"load\",e,!1),t.removeEventListener(\"error\",n,!1)}var r=t&&\"string\"==typeof t.nodeName&&\"script\"===t.nodeName.toLowerCase();if(r){var o=\"function\"==typeof t.addEventListener;if(o){var a=i(t.src);if(a){var u=c(a),d=\"function\"==typeof u.parent[u.key];if(d){var p={};f.inPlace(u.parent,[u.key],\"cb-\",p),t.addEventListener(\"load\",e,!1),t.addEventListener(\"error\",n,!1),s.emit(\"new-jsonp\",[t.src],p)}}}}}function o(){return\"addEventListener\"in window}function i(t){var e=t.match(u);return e?e[1]:null}function a(t,e){var n=t.match(p),r=n[1],o=n[3];return o?a(o,e[r]):e[r]}function c(t){var e=t.match(d);return e&&e.length>=3?{key:e[2],parent:a(e[1],window)}:{key:t,parent:window}}var s=t(\"ee\").get(\"jsonp\"),f=t(\"wrap-function\")(s);if(e.exports=s,o()){var u=/[?&](?:callback|cb)=([^&#]+)/,d=/(.*)\\\\.([^.]+)/,p=/^(\\\\w+)(\\\\.|$)(.*)$/,l=[\"appendChild\",\"insertBefore\",\"replaceChild\"];Node&&Node.prototype&&Node.prototype.appendChild?f.inPlace(Node.prototype,l,\"dom-\"):(f.inPlace(HTMLElement.prototype,l,\"dom-\"),f.inPlace(HTMLHeadElement.prototype,l,\"dom-\"),f.inPlace(HTMLBodyElement.prototype,l,\"dom-\")),s.on(\"dom-start\",function(t){r(t[0])})}},{}],10:[function(t,e,n){var r=t(\"ee\").get(\"mutation\"),o=t(\"wrap-function\")(r),i=NREUM.o.MO;e.exports=r,i&&(window.MutationObserver=function(t){return this instanceof i?new i(o(t,\"fn-\")):i.apply(this,arguments)},MutationObserver.prototype=i.prototype)},{}],11:[function(t,e,n){function r(t){var e=a.context(),n=c(t,\"executor-\",e),r=new f(n);return a.context(r).getCtx=function(){return e},a.emit(\"new-promise\",[r,e],e),r}function o(t,e){return e}var i=t(\"wrap-function\"),a=t(\"ee\").get(\"promise\"),c=i(a),s=t(25),f=NREUM.o.PR;e.exports=a,f&&(window.Promise=r,[\"all\",\"race\"].forEach(function(t){var e=f[t];f[t]=function(n){function r(t){return function(){a.emit(\"propagate\",[null,!o],i),o=o||!t}}var o=!1;s(n,function(e,n){Promise.resolve(n).then(r(\"all\"===t),r(!1))});var i=e.apply(f,arguments),c=f.resolve(i);return c}}),[\"resolve\",\"reject\"].forEach(function(t){var e=f[t];f[t]=function(t){var n=e.apply(f,arguments);return t!==n&&a.emit(\"propagate\",[t,!0],n),n}}),f.prototype[\"catch\"]=function(t){return this.then(null,t)},f.prototype=Object.create(f.prototype,{constructor:{value:r}}),s(Object.getOwnPropertyNames(f),function(t,e){try{r[e]=f[e]}catch(n){}}),a.on(\"executor-start\",function(t){t[0]=c(t[0],\"resolve-\",this),t[1]=c(t[1],\"resolve-\",this)}),a.on(\"executor-err\",function(t,e,n){t[1](n)}),c.inPlace(f.prototype,[\"then\"],\"then-\",o),a.on(\"then-start\",function(t,e){this.promise=e,t[0]=c(t[0],\"cb-\",this),t[1]=c(t[1],\"cb-\",this)}),a.on(\"then-end\",function(t,e,n){this.nextPromise=n;var r=this.promise;a.emit(\"propagate\",[r,!0],n)}),a.on(\"cb-end\",function(t,e,n){a.emit(\"propagate\",[n,!0],this.nextPromise)}),a.on(\"propagate\",function(t,e,n){this.getCtx&&!e||(this.getCtx=function(){if(t instanceof Promise)var e=a.context(t);return e&&e.getCtx?e.getCtx():this})}),r.toString=function(){return\"\"+f})},{}],12:[function(t,e,n){var r=t(\"ee\").get(\"raf\"),o=t(\"wrap-function\")(r),i=\"equestAnimationFrame\";e.exports=r,o.inPlace(window,[\"r\"+i,\"mozR\"+i,\"webkitR\"+i,\"msR\"+i],\"raf-\"),r.on(\"raf-start\",function(t){t[0]=o(t[0],\"fn-\")})},{}],13:[function(t,e,n){function r(t,e,n){t[0]=a(t[0],\"fn-\",null,n)}function o(t,e,n){this.method=n,this.timerDuration=isNaN(t[1])?0:+t[1],t[0]=a(t[0],\"fn-\",this,n)}var i=t(\"ee\").get(\"timer\"),a=t(\"wrap-function\")(i),c=\"setTimeout\",s=\"setInterval\",f=\"clearTimeout\",u=\"-start\",d=\"-\";e.exports=i,a.inPlace(window,[c,\"setImmediate\"],c+d),a.inPlace(window,[s],s+d),a.inPlace(window,[f,\"clearImmediate\"],f+d),i.on(s+u,r),i.on(c+u,o)},{}],14:[function(t,e,n){function r(t,e){d.inPlace(e,[\"onreadystatechange\"],\"fn-\",c)}function o(){var t=this,e=u.context(t);t.readyState>3&&!e.resolved&&(e.resolved=!0,u.emit(\"xhr-resolved\",[],t)),d.inPlace(t,g,\"fn-\",c)}function i(t){y.push(t),h&&(b?b.then(a):v?v(a):(E=-E,R.data=E))}function a(){for(var t=0;t<y.length;t++)r([],y[t]);y.length&&(y=[])}function c(t,e){return e}function s(t,e){for(var n in t)e[n]=t[n];return e}t(6);var f=t(\"ee\"),u=f.get(\"xhr\"),d=t(\"wrap-function\")(u),p=NREUM.o,l=p.XHR,h=p.MO,m=p.PR,v=p.SI,w=\"readystatechange\",g=[\"onload\",\"onerror\",\"onabort\",\"onloadstart\",\"onloadend\",\"onprogress\",\"ontimeout\"],y=[];e.exports=u;var x=window.XMLHttpRequest=function(t){var e=new l(t);try{u.emit(\"new-xhr\",[e],e),e.addEventListener(w,o,!1)}catch(n){try{u.emit(\"internal-error\",[n])}catch(r){}}return e};if(s(l,x),x.prototype=l.prototype,d.inPlace(x.prototype,[\"open\",\"send\"],\"-xhr-\",c),u.on(\"send-xhr-start\",function(t,e){r(t,e),i(e)}),u.on(\"open-xhr-start\",r),h){var b=m&&m.resolve();if(!v&&!m){var E=1,R=document.createTextNode(E);new h(a).observe(R,{characterData:!0})}}else f.on(\"fn-end\",function(t){t[0]&&t[0].type===w||a()})},{}],15:[function(t,e,n){function r(t){if(!c(t))return null;var e=window.NREUM;if(!e.loader_config)return null;var n=(e.loader_config.accountID||\"\").toString()||null,r=(e.loader_config.agentID||\"\").toString()||null,f=(e.loader_config.trustKey||\"\").toString()||null;if(!n||!r)return null;var h=l.generateSpanId(),m=l.generateTraceId(),v=Date.now(),w={spanId:h,traceId:m,timestamp:v};return(t.sameOrigin||s(t)&&p())&&(w.traceContextParentHeader=o(h,m),w.traceContextStateHeader=i(h,v,n,r,f)),(t.sameOrigin&&!u()||!t.sameOrigin&&s(t)&&d())&&(w.newrelicHeader=a(h,m,v,n,r,f)),w}function o(t,e){return\"00-\"+e+\"-\"+t+\"-01\"}function i(t,e,n,r,o){var i=0,a=\"\",c=1,s=\"\",f=\"\";return o+\"@nr=\"+i+\"-\"+c+\"-\"+n+\"-\"+r+\"-\"+t+\"-\"+a+\"-\"+s+\"-\"+f+\"-\"+e}function a(t,e,n,r,o,i){var a=\"btoa\"in window&&\"function\"==typeof window.btoa;if(!a)return null;var c={v:[0,1],d:{ty:\"Browser\",ac:r,ap:o,id:t,tr:e,ti:n}};return i&&r!==i&&(c.d.tk=i),btoa(JSON.stringify(c))}function c(t){return f()&&s(t)}function s(t){var e=!1,n={};if(\"init\"in NREUM&&\"distributed_tracing\"in NREUM.init&&(n=NREUM.init.distributed_tracing),t.sameOrigin)e=!0;else if(n.allowed_origins instanceof Array)for(var r=0;r<n.allowed_origins.length;r++){var o=h(n.allowed_origins[r]);if(t.hostname===o.hostname&&t.protocol===o.protocol&&t.port===o.port){e=!0;break}}return e}function f(){return\"init\"in NREUM&&\"distributed_tracing\"in NREUM.init&&!!NREUM.init.distributed_tracing.enabled}function u(){return\"init\"in NREUM&&\"distributed_tracing\"in NREUM.init&&!!NREUM.init.distributed_tracing.exclude_newrelic_header}function d(){return\"init\"in NREUM&&\"distributed_tracing\"in NREUM.init&&NREUM.init.distributed_tracing.cors_use_newrelic_header!==!1}function p(){return\"init\"in NREUM&&\"distributed_tracing\"in NREUM.init&&!!NREUM.init.distributed_tracing.cors_use_tracecontext_headers}var l=t(23),h=t(17);e.exports={generateTracePayload:r,shouldGenerateTrace:c}},{}],16:[function(t,e,n){function r(t){var e=this.params,n=this.metrics;if(!this.ended){this.ended=!0;for(var r=0;r<p;r++)t.removeEventListener(d[r],this.listener,!1);e.aborted||(n.duration=a.now()-this.startTime,this.loadCaptureCalled||4!==t.readyState?null==e.status&&(e.status=0):i(this,t),n.cbTime=this.cbTime,u.emit(\"xhr-done\",[t],t),c(\"xhr\",[e,n,this.startTime]))}}function o(t,e){var n=s(e),r=t.params;r.host=n.hostname+\":\"+n.port,r.pathname=n.pathname,t.parsedOrigin=s(e),t.sameOrigin=t.parsedOrigin.sameOrigin}function i(t,e){t.params.status=e.status;var n=v(e,t.lastSize);if(n&&(t.metrics.rxSize=n),t.sameOrigin){var r=e.getResponseHeader(\"X-NewRelic-App-Data\");r&&(t.params.cat=r.split(\", \").pop())}t.loadCaptureCalled=!0}var a=t(\"loader\");if(a.xhrWrappable){var c=t(\"handle\"),s=t(17),f=t(15).generateTracePayload,u=t(\"ee\"),d=[\"load\",\"error\",\"abort\",\"timeout\"],p=d.length,l=t(\"id\"),h=t(21),m=t(20),v=t(18),w=window.XMLHttpRequest;a.features.xhr=!0,t(14),t(7),u.on(\"new-xhr\",function(t){var e=this;e.totalCbs=0,e.called=0,e.cbTime=0,e.end=r,e.ended=!1,e.xhrGuids={},e.lastSize=null,e.loadCaptureCalled=!1,t.addEventListener(\"load\",function(n){i(e,t)},!1),h&&(h>34||h<10)||window.opera||t.addEventListener(\"progress\",function(t){e.lastSize=t.loaded},!1)}),u.on(\"open-xhr-start\",function(t){this.params={method:t[0]},o(this,t[1]),this.metrics={}}),u.on(\"open-xhr-end\",function(t,e){\"loader_config\"in NREUM&&\"xpid\"in NREUM.loader_config&&this.sameOrigin&&e.setRequestHeader(\"X-NewRelic-ID\",NREUM.loader_config.xpid);var n=f(this.parsedOrigin);if(n){var r=!1;n.newrelicHeader&&(e.setRequestHeader(\"newrelic\",n.newrelicHeader),r=!0),n.traceContextParentHeader&&(e.setRequestHeader(\"traceparent\",n.traceContextParentHeader),n.traceContextStateHeader&&e.setRequestHeader(\"tracestate\",n.traceContextStateHeader),r=!0),r&&(this.dt=n)}}),u.on(\"send-xhr-start\",function(t,e){var n=this.metrics,r=t[0],o=this;if(n&&r){var i=m(r);i&&(n.txSize=i)}this.startTime=a.now(),this.listener=function(t){try{\"abort\"!==t.type||o.loadCaptureCalled||(o.params.aborted=!0),(\"load\"!==t.type||o.called===o.totalCbs&&(o.onloadCalled||\"function\"!=typeof e.onload))&&o.end(e)}catch(n){try{u.emit(\"internal-error\",[n])}catch(r){}}};for(var c=0;c<p;c++)e.addEventListener(d[c],this.listener,!1)}),u.on(\"xhr-cb-time\",function(t,e,n){this.cbTime+=t,e?this.onloadCalled=!0:this.called+=1,this.called!==this.totalCbs||!this.onloadCalled&&\"function\"==typeof n.onload||this.end(n)}),u.on(\"xhr-load-added\",function(t,e){var n=\"\"+l(t)+!!e;this.xhrGuids&&!this.xhrGuids[n]&&(this.xhrGuids[n]=!0,this.totalCbs+=1)}),u.on(\"xhr-load-removed\",function(t,e){var n=\"\"+l(t)+!!e;this.xhrGuids&&this.xhrGuids[n]&&(delete this.xhrGuids[n],this.totalCbs-=1)}),u.on(\"addEventListener-end\",function(t,e){e instanceof w&&\"load\"===t[0]&&u.emit(\"xhr-load-added\",[t[1],t[2]],e)}),u.on(\"removeEventListener-end\",function(t,e){e instanceof w&&\"load\"===t[0]&&u.emit(\"xhr-load-removed\",[t[1],t[2]],e)}),u.on(\"fn-start\",function(t,e,n){e instanceof w&&(\"onload\"===n&&(this.onload=!0),(\"load\"===(t[0]&&t[0].type)||this.onload)&&(this.xhrCbStart=a.now()))}),u.on(\"fn-end\",function(t,e){this.xhrCbStart&&u.emit(\"xhr-cb-time\",[a.now()-this.xhrCbStart,this.onload,e],e)}),u.on(\"fetch-before-start\",function(t){function e(t,e){var n=!1;return e.newrelicHeader&&(t.set(\"newrelic\",e.newrelicHeader),n=!0),e.traceContextParentHeader&&(t.set(\"traceparent\",e.traceContextParentHeader),e.traceContextStateHeader&&t.set(\"tracestate\",e.traceContextStateHeader),n=!0),n}var n,r=t[1]||{};\"string\"==typeof t[0]?n=t[0]:t[0]&&t[0].url&&(n=t[0].url),n&&(this.parsedOrigin=s(n),this.sameOrigin=this.parsedOrigin.sameOrigin);var o=f(this.parsedOrigin);if(o&&(o.newrelicHeader||o.traceContextParentHeader))if(\"string\"==typeof t[0]){var i={};for(var a in r)i[a]=r[a];i.headers=new Headers(r.headers||{}),e(i.headers,o)&&(this.dt=o),t.length>1?t[1]=i:t.push(i)}else t[0]&&t[0].headers&&e(t[0].headers,o)&&(this.dt=o)})}},{}],17:[function(t,e,n){var r={};e.exports=function(t){if(t in r)return r[t];var e=document.createElement(\"a\"),n=window.location,o={};e.href=t,o.port=e.port;var i=e.href.split(\"://\");!o.port&&i[1]&&(o.port=i[1].split(\"/\")[0].split(\"@\").pop().split(\":\")[1]),o.port&&\"0\"!==o.port||(o.port=\"https\"===i[0]?\"443\":\"80\"),o.hostname=e.hostname||n.hostname,o.pathname=e.pathname,o.protocol=i[0],\"/\"!==o.pathname.charAt(0)&&(o.pathname=\"/\"+o.pathname);var a=!e.protocol||\":\"===e.protocol||e.protocol===n.protocol,c=e.hostname===document.domain&&e.port===n.port;return o.sameOrigin=a&&(!e.hostname||c),\"/\"===o.pathname&&(r[t]=o),o}},{}],18:[function(t,e,n){function r(t,e){var n=t.responseType;return\"json\"===n&&null!==e?e:\"arraybuffer\"===n||\"blob\"===n||\"json\"===n?o(t.response):\"text\"===n||\"\"===n||void 0===n?o(t.responseText):void 0}var o=t(20);e.exports=r},{}],19:[function(t,e,n){function r(){}function o(t,e,n){return function(){return i(t,[f.now()].concat(c(arguments)),e?null:this,n),e?void 0:this}}var i=t(\"handle\"),a=t(25),c=t(26),s=t(\"ee\").get(\"tracer\"),f=t(\"loader\"),u=NREUM;\"undefined\"==typeof window.newrelic&&(newrelic=u);var d=[\"setPageViewName\",\"setCustomAttribute\",\"setErrorHandler\",\"finished\",\"addToTrace\",\"inlineHit\",\"addRelease\"],p=\"api-\",l=p+\"ixn-\";a(d,function(t,e){u[e]=o(p+e,!0,\"api\")}),u.addPageAction=o(p+\"addPageAction\",!0),u.setCurrentRouteName=o(p+\"routeName\",!0),e.exports=newrelic,u.interaction=function(){return(new r).get()};var h=r.prototype={createTracer:function(t,e){var n={},r=this,o=\"function\"==typeof e;return i(l+\"tracer\",[f.now(),t,n],r),function(){if(s.emit((o?\"\":\"no-\")+\"fn-start\",[f.now(),r,o],n),o)try{return e.apply(this,arguments)}catch(t){throw s.emit(\"fn-err\",[arguments,this,t],n),t}finally{s.emit(\"fn-end\",[f.now()],n)}}}};a(\"actionText,setName,setAttribute,save,ignore,onEnd,getContext,end,get\".split(\",\"),function(t,e){h[e]=o(l+e)}),newrelic.noticeError=function(t,e){\"string\"==typeof t&&(t=new Error(t)),i(\"err\",[t,f.now(),!1,e])}},{}],20:[function(t,e,n){e.exports=function(t){if(\"string\"==typeof t&&t.length)return t.length;if(\"object\"==typeof t){if(\"undefined\"!=typeof ArrayBuffer&&t instanceof ArrayBuffer&&t.byteLength)return t.byteLength;if(\"undefined\"!=typeof Blob&&t instanceof Blob&&t.size)return t.size;if(!(\"undefined\"!=typeof FormData&&t instanceof FormData))try{return JSON.stringify(t).length}catch(e){return}}}},{}],21:[function(t,e,n){var r=0,o=navigator.userAgent.match(/Firefox[\\\\/\\\\s](\\\\d+\\\\.\\\\d+)/);o&&(r=+o[1]),e.exports=r},{}],22:[function(t,e,n){function r(t,e){var n=t.getEntries();n.forEach(function(t){\"first-paint\"===t.name?s(\"timing\",[\"fp\",Math.floor(t.startTime)]):\"first-contentful-paint\"===t.name&&s(\"timing\",[\"fcp\",Math.floor(t.startTime)])})}function o(t,e){var n=t.getEntries();n.length>0&&s(\"lcp\",[n[n.length-1]])}function i(t){if(t instanceof u&&!p){var e,n=Math.round(t.timeStamp);e=n>1e12?Date.now()-n:f.now()-n,p=!0,s(\"timing\",[\"fi\",n,{type:t.type,fid:e}])}}if(!(\"init\"in NREUM&&\"page_view_timing\"in NREUM.init&&\"enabled\"in NREUM.init.page_view_timing&&NREUM.init.page_view_timing.enabled===!1)){var a,c,s=t(\"handle\"),f=t(\"loader\"),u=NREUM.o.EV;if(\"PerformanceObserver\"in window&&\"function\"==typeof window.PerformanceObserver){a=new PerformanceObserver(r),c=new PerformanceObserver(o);try{a.observe({entryTypes:[\"paint\"]}),c.observe({entryTypes:[\"largest-contentful-paint\"]})}catch(d){}}if(\"addEventListener\"in document){var p=!1,l=[\"click\",\"keydown\",\"mousedown\",\"pointerdown\",\"touchstart\"];l.forEach(function(t){document.addEventListener(t,i,!1)})}}},{}],23:[function(t,e,n){function r(){function t(){return e?15&e[n++]:16*Math.random()|0}var e=null,n=0,r=window.crypto||window.msCrypto;r&&r.getRandomValues&&(e=r.getRandomValues(new Uint8Array(31)));for(var o,i=\"xxxxxxxx-xxxx-4xxx-yxxx-xxxxxxxxxxxx\",a=\"\",c=0;c<i.length;c++)o=i[c],\"x\"===o?a+=t().toString(16):\"y\"===o?(o=3&t()|8,a+=o.toString(16)):a+=o;return a}function o(){return a(16)}function i(){return a(32)}function a(t){function e(){return n?15&n[r++]:16*Math.random()|0}var n=null,r=0,o=window.crypto||window.msCrypto;o&&o.getRandomValues&&Uint8Array&&(n=o.getRandomValues(new Uint8Array(31)));for(var i=[],a=0;a<t;a++)i.push(e().toString(16));return i.join(\"\")}e.exports={generateUuid:r,generateSpanId:o,generateTraceId:i}},{}],24:[function(t,e,n){function r(t,e){if(!o)return!1;if(t!==o)return!1;if(!e)return!0;if(!i)return!1;for(var n=i.split(\".\"),r=e.split(\".\"),a=0;a<r.length;a++)if(r[a]!==n[a])return!1;return!0}var o=null,i=null,a=/Version\\\\/(\\\\S+)\\\\s+Safari/;if(navigator.userAgent){var c=navigator.userAgent,s=c.match(a);s&&c.indexOf(\"Chrome\")===-1&&c.indexOf(\"Chromium\")===-1&&(o=\"Safari\",i=s[1])}e.exports={agent:o,version:i,match:r}},{}],25:[function(t,e,n){function r(t,e){var n=[],r=\"\",i=0;for(r in t)o.call(t,r)&&(n[i]=e(r,t[r]),i+=1);return n}var o=Object.prototype.hasOwnProperty;e.exports=r},{}],26:[function(t,e,n){function r(t,e,n){e||(e=0),\"undefined\"==typeof n&&(n=t?t.length:0);for(var r=-1,o=n-e||0,i=Array(o<0?0:o);++r<o;)i[r]=t[e+r];return i}e.exports=r},{}],27:[function(t,e,n){e.exports={exists:\"undefined\"!=typeof window.performance&&window.performance.timing&&\"undefined\"!=typeof window.performance.timing.navigationStart}},{}],ee:[function(t,e,n){function r(){}function o(t){function e(t){return t&&t instanceof r?t:t?s(t,c,i):i()}function n(n,r,o,i){if(!p.aborted||i){t&&t(n,r,o);for(var a=e(o),c=m(n),s=c.length,f=0;f<s;f++)c[f].apply(a,r);var d=u[y[n]];return d&&d.push([x,n,r,a]),a}}function l(t,e){g[t]=m(t).concat(e)}function h(t,e){var n=g[t];if(n)for(var r=0;r<n.length;r++)n[r]===e&&n.splice(r,1)}function m(t){return g[t]||[]}function v(t){return d[t]=d[t]||o(n)}function w(t,e){f(t,function(t,n){e=e||\"feature\",y[n]=e,e in u||(u[e]=[])})}var g={},y={},x={on:l,addEventListener:l,removeEventListener:h,emit:n,get:v,listeners:m,context:e,buffer:w,abort:a,aborted:!1};return x}function i(){return new r}function a(){(u.api||u.feature)&&(p.aborted=!0,u=p.backlog={})}var c=\"nr@context\",s=t(\"gos\"),f=t(25),u={},d={},p=e.exports=o();p.backlog=u},{}],gos:[function(t,e,n){function r(t,e,n){if(o.call(t,e))return t[e];var r=n();if(Object.defineProperty&&Object.keys)try{return Object.defineProperty(t,e,{value:r,writable:!0,enumerable:!1}),r}catch(i){}return t[e]=r,r}var o=Object.prototype.hasOwnProperty;e.exports=r},{}],handle:[function(t,e,n){function r(t,e,n,r){o.buffer([t],r),o.emit(t,e,n)}var o=t(\"ee\").get(\"handle\");e.exports=r,r.ee=o},{}],id:[function(t,e,n){function r(t){var e=typeof t;return!t||\"object\"!==e&&\"function\"!==e?-1:t===window?0:a(t,i,function(){return o++})}var o=1,i=\"nr@id\",a=t(\"gos\");e.exports=r},{}],loader:[function(t,e,n){function r(){if(!E++){var t=b.info=NREUM.info,e=l.getElementsByTagName(\"script\")[0];if(setTimeout(u.abort,3e4),!(t&&t.licenseKey&&t.applicationID&&e))return u.abort();f(y,function(e,n){t[e]||(t[e]=n)}),s(\"mark\",[\"onload\",a()+b.offset],null,\"api\");var n=l.createElement(\"script\");n.src=\"https://\"+t.agent,e.parentNode.insertBefore(n,e)}}function o(){\"complete\"===l.readyState&&i()}function i(){s(\"mark\",[\"domContent\",a()+b.offset],null,\"api\")}function a(){return R.exists&&performance.now?Math.round(performance.now()):(c=Math.max((new Date).getTime(),c))-b.offset}var c=(new Date).getTime(),s=t(\"handle\"),f=t(25),u=t(\"ee\"),d=t(24),p=window,l=p.document,h=\"addEventListener\",m=\"attachEvent\",v=p.XMLHttpRequest,w=v&&v.prototype;NREUM.o={ST:setTimeout,SI:p.setImmediate,CT:clearTimeout,XHR:v,REQ:p.Request,EV:p.Event,PR:p.Promise,MO:p.MutationObserver};var g=\"\"+location,y={beacon:\"bam.nr-data.net\",errorBeacon:\"bam.nr-data.net\",agent:\"js-agent.newrelic.com/nr-spa-1173.min.js\"},x=v&&w&&w[h]&&!/CriOS/.test(navigator.userAgent),b=e.exports={offset:c,now:a,origin:g,features:{},xhrWrappable:x,userAgent:d};t(19),t(22),l[h]?(l[h](\"DOMContentLoaded\",i,!1),p[h](\"load\",r,!1)):(l[m](\"onreadystatechange\",o),p[m](\"onload\",r)),s(\"mark\",[\"firstbyte\",c],null,\"api\");var E=0,R=t(27)},{}],\"wrap-function\":[function(t,e,n){function r(t){return!(t&&t instanceof Function&&t.apply&&!t[a])}var o=t(\"ee\"),i=t(26),a=\"nr@original\",c=Object.prototype.hasOwnProperty,s=!1;e.exports=function(t,e){function n(t,e,n,o){function nrWrapper(){var r,a,c,s;try{a=this,r=i(arguments),c=\"function\"==typeof n?n(r,a):n||{}}catch(f){p([f,\"\",[r,a,o],c])}u(e+\"start\",[r,a,o],c);try{return s=t.apply(a,r)}catch(d){throw u(e+\"err\",[r,a,d],c),d}finally{u(e+\"end\",[r,a,s],c)}}return r(t)?t:(e||(e=\"\"),nrWrapper[a]=t,d(t,nrWrapper),nrWrapper)}function f(t,e,o,i){o||(o=\"\");var a,c,s,f=\"-\"===o.charAt(0);for(s=0;s<e.length;s++)c=e[s],a=t[c],r(a)||(t[c]=n(a,f?c+o:o,i,c))}function u(n,r,o){if(!s||e){var i=s;s=!0;try{t.emit(n,r,o,e)}catch(a){p([a,n,r,o])}s=i}}function d(t,e){if(Object.defineProperty&&Object.keys)try{var n=Object.keys(t);return n.forEach(function(n){Object.defineProperty(e,n,{get:function(){return t[n]},set:function(e){return t[n]=e,e}})}),e}catch(r){p([r])}for(var o in t)c.call(t,o)&&(e[o]=t[o]);return e}function p(e){try{t.emit(\"internal-error\",e)}catch(n){}}return t||(t=o),n.inPlace=f,n.flag=a,n}},{}]},{},[\"loader\",2,16,5,3,4]);</script>\\n  <link rel=\"stylesheet\" type=\"text/css\" href=\"/intl/stylesheets/styles.css?4ce90bc062bf9de363e143a237a72d\">\\n  <script rel=\"preload\" src=\"/intl/javascripts/runtime.js?version=a190c6aa26c16580ef1c3b8a51017b\" as=\"script\" type=\"text/javascript\"></script>\\n  <script>\\n    document.documentElement.className = document.documentElement.className.replace(/\\\\bno-js\\\\b/g, \\'js\\');\\n  </script>\\n  <meta name=\"csrf-param\" content=\"authenticity_token\">\\n<meta name=\"csrf-token\" content=\"HncM0d3hUaA8kAo8D5J0sekiJzyixwjeQeI3/33+UeVKml+qt0v7vz9vFRhLFyTETn7ISJJG5m9mrLn2Jjf/Pw==\">\\n  <meta name=\"action-cable-url\" content=\"/cable\">\\n          <link rel=\"alternate\" hreflang=\"de\" href=\"https://www.spoonflower.com/de/markt?on=fabric\">\\n        <link rel=\"canonical\" href=\"https://www.spoonflower.com/en/shop?on=fabric\">\\n      <link rel=\"alternate\" hreflang=\"en\" href=\"https://www.spoonflower.com/en/shop?on=fabric\">\\n      <link rel=\"alternate\" hreflang=\"es\" href=\"https://www.spoonflower.com/es/mercado?on=fabric\">\\n      <link rel=\"alternate\" hreflang=\"fr\" href=\"https://www.spoonflower.com/fr/march%C3%A9?on=fabric\">\\n\\n    <!-- Bronto Cart Recovery Snippet -->\\n    <script data-name=\"__br_tm\" type=\"text/javascript\">\\n      var brontoCart = {};\\n      var _bsw = _bsw || [];\\n      _bsw.push([\\'_bswId\\', \\'d171a69decf72d32a626b67e6ac3a4036fac012f8945e38645e45c3a29071ccb\\']);\\n      (function() {\\n        var bsw = document.createElement(\\'script\\'); bsw.type = \\'text/javascript\\'; bsw.async = true;\\n        bsw.src = (\\'https:\\' == document.location.protocol ? \\'https://\\' : \\'http://\\') + \\'js.bronto.com/c/c37i4q22szvir8ga3m8mtxaft7gwnm5fio8hfxo35mu81absi1/d171a69decf72d32a626b67e6ac3a4036fac012f8945e38645e45c3a29071ccb/s/b.min.js\\';\\n        var t = document.getElementsByTagName(\\'script\\')[0]; t.parentNode.insertBefore(bsw, t);\\n      })();\\n    </script>\\n\\n\\n  <!-- Start Visual Website Optimizer Asynchronous Code -->\\n  <script type=\"text/javascript\">\\n    var _vwo_code=(function(){\\n      var account_id=341218,\\n        settings_tolerance=2000,\\n        library_tolerance=2500,\\n        use_existing_jquery=false,\\n        /* DO NOT EDIT BELOW THIS LINE */\\n        f=false,d=document;return{use_existing_jquery:function(){return use_existing_jquery;},library_tolerance:function(){return library_tolerance;},finish:function(){if(!f){f=true;var a=d.getElementById(\\'_vis_opt_path_hides\\');if(a)a.parentNode.removeChild(a);}},finished:function(){return f;},load:function(a){var b=d.createElement(\\'script\\');b.src=a;b.type=\\'text/javascript\\';b.innerText;b.onerror=function(){_vwo_code.finish();};d.getElementsByTagName(\\'head\\')[0].appendChild(b);},init:function(){settings_timer=setTimeout(\\'_vwo_code.finish()\\',settings_tolerance);var a=d.createElement(\\'style\\'),b=\\'body{opacity:0 !important;filter:alpha(opacity=0) !important;background:none !important;}\\',h=d.getElementsByTagName(\\'head\\')[0];a.setAttribute(\\'id\\',\\'_vis_opt_path_hides\\');a.setAttribute(\\'type\\',\\'text/css\\');if(a.styleSheet)a.styleSheet.cssText=b;else a.appendChild(d.createTextNode(b));h.appendChild(a);this.load(\\'//dev.visualwebsiteoptimizer.com/j.php?a=\\'+account_id+\\'&u=\\'+encodeURIComponent(d.URL)+\\'&r=\\'+Math.random());return settings_timer;}};}());_vwo_settings_timer=_vwo_code.init();\\n  </script><script src=\"//dev.visualwebsiteoptimizer.com/j.php?a=341218&amp;u=https%3A%2F%2Fwww.spoonflower.com%2Fen%2Fshop%3Fon%3Dfabric&amp;r=0.3725625209139367\" type=\"text/javascript\"></script>\\n  <!-- End Visual Website Optimizer Asynchronous Code -->\\n\\n  <!-- Google Tag Manager -->\\n  <script>\\n    dataLayer = [];\\n    function startGoogleTagManager(data){\\n      if (data) {dataLayer.push(data)}\\n      (function(w,d,s,l,i){w[l]=w[l]||[];w[l].push({\\'gtm.start\\':\\n      new Date().getTime(),event:\\'gtm.js\\'});var f=d.getElementsByTagName(s)[0],\\n      j=d.createElement(s),dl=l!=\\'dataLayer\\'?\\'&l=\\'+l:\\'\\';j.async=true;j.src=\\n      \\'https://www.googletagmanager.com/gtm.js?id=\\'+i+dl;f.parentNode.insertBefore(j,f);\\n      })(window,document,\\'script\\',\\'dataLayer\\',\\'GTM-TGG2DKR\\');\\n    };\\n  </script>\\n  <!-- End Google Tag Manager -->\\n<link rel=\"stylesheet\" href=\"https://fonts.googleapis.com/css?family=Lato:300,400,700\" media=\"all\"><style data-emotion=\"\"></style><script charset=\"utf-8\" src=\"/intl/javascripts/0-chunk.js?version=647d0b89b52e6181a7899ecd5b537d-a190c6aa26c16580ef1c3b8a51017b\"></script><script charset=\"utf-8\" src=\"/intl/javascripts/2-chunk.js?version=5e3d5de2a2573f1cf2af7d66ad851b-a190c6aa26c16580ef1c3b8a51017b\"></script><script charset=\"utf-8\" src=\"/intl/javascripts/1-chunk.js?version=ed3700051a7458fe651c9087f2fc5d-a190c6aa26c16580ef1c3b8a51017b\"></script><script charset=\"utf-8\" src=\"/intl/javascripts/5-chunk.js?version=5b7a379bab8e521e728ef41c42638f-a190c6aa26c16580ef1c3b8a51017b\"></script><script src=\"https://get.exitintel.com/load.js?exitintelAccount=359\" async=\"\" data-cfasync=\"false\"></script><script type=\"text/javascript\" src=\"//ajax.googleapis.com/ajax/libs/jquery/1.11.2/jquery.min.js\"></script><script src=\"https://googleads.g.doubleclick.net/pagead/viewthroughconversion/882476019/?random=1596581457037&amp;cv=9&amp;fst=1596581457037&amp;num=1&amp;guid=ON&amp;resp=GooglemKTybQhCsO&amp;eid=376635470&amp;u_h=1440&amp;u_w=3440&amp;u_ah=1333&amp;u_aw=3440&amp;u_cd=24&amp;u_his=2&amp;u_tz=-420&amp;u_java=false&amp;u_nplug=0&amp;u_nmime=0&amp;gtm=2wg7v1&amp;sendb=1&amp;ig=1&amp;frm=0&amp;url=https%3A%2F%2Fwww.spoonflower.com%2Fen%2Fshop%3Fon%3Dfabric&amp;tiba=Spoonflower&amp;hn=www.googleadservices.com&amp;async=1&amp;rfmt=3&amp;fmt=4\"></script><style type=\"text/css\">.fb_hidden{position:absolute;top:-10000px;z-index:10001}.fb_reposition{overflow:hidden;position:relative}.fb_invisible{display:none}.fb_reset{background:none;border:0;border-spacing:0;color:#000;cursor:auto;direction:ltr;font-family:\"lucida grande\", tahoma, verdana, arial, sans-serif;font-size:11px;font-style:normal;font-variant:normal;font-weight:normal;letter-spacing:normal;line-height:1;margin:0;overflow:visible;padding:0;text-align:left;text-decoration:none;text-indent:0;text-shadow:none;text-transform:none;visibility:visible;white-space:normal;word-spacing:normal}.fb_reset>div{overflow:hidden}@keyframes fb_transform{from{opacity:0;transform:scale(.95)}to{opacity:1;transform:scale(1)}}.fb_animate{animation:fb_transform .3s forwards}\\n.fb_dialog{background:rgba(82, 82, 82, .7);position:absolute;top:-10000px;z-index:10001}.fb_dialog_advanced{border-radius:8px;padding:10px}.fb_dialog_content{background:#fff;color:#373737}.fb_dialog_close_icon{background:url(https://static.xx.fbcdn.net/rsrc.php/v3/yq/r/IE9JII6Z1Ys.png) no-repeat scroll 0 0 transparent;cursor:pointer;display:block;height:15px;position:absolute;right:18px;top:17px;width:15px}.fb_dialog_mobile .fb_dialog_close_icon{left:5px;right:auto;top:5px}.fb_dialog_padding{background-color:transparent;position:absolute;width:1px;z-index:-1}.fb_dialog_close_icon:hover{background:url(https://static.xx.fbcdn.net/rsrc.php/v3/yq/r/IE9JII6Z1Ys.png) no-repeat scroll 0 -15px transparent}.fb_dialog_close_icon:active{background:url(https://static.xx.fbcdn.net/rsrc.php/v3/yq/r/IE9JII6Z1Ys.png) no-repeat scroll 0 -30px transparent}.fb_dialog_iframe{line-height:0}.fb_dialog_content .dialog_title{background:#6d84b4;border:1px solid #365899;color:#fff;font-size:14px;font-weight:bold;margin:0}.fb_dialog_content .dialog_title>span{background:url(https://static.xx.fbcdn.net/rsrc.php/v3/yd/r/Cou7n-nqK52.gif) no-repeat 5px 50%;float:left;padding:5px 0 7px 26px}body.fb_hidden{height:100%;left:0;margin:0;overflow:visible;position:absolute;top:-10000px;transform:none;width:100%}.fb_dialog.fb_dialog_mobile.loading{background:url(https://static.xx.fbcdn.net/rsrc.php/v3/ya/r/3rhSv5V8j3o.gif) white no-repeat 50% 50%;min-height:100%;min-width:100%;overflow:hidden;position:absolute;top:0;z-index:10001}.fb_dialog.fb_dialog_mobile.loading.centered{background:none;height:auto;min-height:initial;min-width:initial;width:auto}.fb_dialog.fb_dialog_mobile.loading.centered #fb_dialog_loader_spinner{width:100%}.fb_dialog.fb_dialog_mobile.loading.centered .fb_dialog_content{background:none}.loading.centered #fb_dialog_loader_close{clear:both;color:#fff;display:block;font-size:18px;padding-top:20px}#fb-root #fb_dialog_ipad_overlay{background:rgba(0, 0, 0, .4);bottom:0;left:0;min-height:100%;position:absolute;right:0;top:0;width:100%;z-index:10000}#fb-root #fb_dialog_ipad_overlay.hidden{display:none}.fb_dialog.fb_dialog_mobile.loading iframe{visibility:hidden}.fb_dialog_mobile .fb_dialog_iframe{position:sticky;top:0}.fb_dialog_content .dialog_header{background:linear-gradient(from(#738aba), to(#2c4987));border-bottom:1px solid;border-color:#043b87;box-shadow:white 0 1px 1px -1px inset;color:#fff;font:bold 14px Helvetica, sans-serif;text-overflow:ellipsis;text-shadow:rgba(0, 30, 84, .296875) 0 -1px 0;vertical-align:middle;white-space:nowrap}.fb_dialog_content .dialog_header table{height:43px;width:100%}.fb_dialog_content .dialog_header td.header_left{font-size:12px;padding-left:5px;vertical-align:middle;width:60px}.fb_dialog_content .dialog_header td.header_right{font-size:12px;padding-right:5px;vertical-align:middle;width:60px}.fb_dialog_content .touchable_button{background:linear-gradient(from(#4267B2), to(#2a4887));background-clip:padding-box;border:1px solid #29487d;border-radius:3px;display:inline-block;line-height:18px;margin-top:3px;max-width:85px;padding:4px 12px;position:relative}.fb_dialog_content .dialog_header .touchable_button input{background:none;border:none;color:#fff;font:bold 12px Helvetica, sans-serif;margin:2px -12px;padding:2px 6px 3px 6px;text-shadow:rgba(0, 30, 84, .296875) 0 -1px 0}.fb_dialog_content .dialog_header .header_center{color:#fff;font-size:16px;font-weight:bold;line-height:18px;text-align:center;vertical-align:middle}.fb_dialog_content .dialog_content{background:url(https://static.xx.fbcdn.net/rsrc.php/v3/y9/r/jKEcVPZFk-2.gif) no-repeat 50% 50%;border:1px solid #4a4a4a;border-bottom:0;border-top:0;height:150px}.fb_dialog_content .dialog_footer{background:#f5f6f7;border:1px solid #4a4a4a;border-top-color:#ccc;height:40px}#fb_dialog_loader_close{float:left}.fb_dialog.fb_dialog_mobile .fb_dialog_close_button{text-shadow:rgba(0, 30, 84, .296875) 0 -1px 0}.fb_dialog.fb_dialog_mobile .fb_dialog_close_icon{visibility:hidden}#fb_dialog_loader_spinner{animation:rotateSpinner 1.2s linear infinite;background-color:transparent;background-image:url(https://static.xx.fbcdn.net/rsrc.php/v3/yD/r/t-wz8gw1xG1.png);background-position:50% 50%;background-repeat:no-repeat;height:24px;width:24px}@keyframes rotateSpinner{0%{transform:rotate(0deg)}100%{transform:rotate(360deg)}}\\n.fb_iframe_widget{display:inline-block;position:relative}.fb_iframe_widget span{display:inline-block;position:relative;text-align:justify}.fb_iframe_widget iframe{position:absolute}.fb_iframe_widget_fluid_desktop,.fb_iframe_widget_fluid_desktop span,.fb_iframe_widget_fluid_desktop iframe{max-width:100%}.fb_iframe_widget_fluid_desktop iframe{min-width:220px;position:relative}.fb_iframe_widget_lift{z-index:1}.fb_iframe_widget_fluid{display:inline}.fb_iframe_widget_fluid span{width:100%}</style></head>\\n\\n<body data-bronto-carttarget=\"cartContainer\">\\n  <!-- Google Tag Manager (noscript) -->\\n  <noscript><iframe src=\"https://www.googletagmanager.com/ns.html?id=GTM-TGG2DKR\"\\n      height=\"0\" width=\"0\" style=\"display:none;visibility:hidden\"></iframe></noscript>\\n  <!-- End Google Tag Manager (noscript) -->\\n  <noscript>\\n    <div class=\"b-flash-messages x-error\">\\n      <p class=\"message\" role=\"alert\" aria-live=\"polite\">\\n        Spoonflower works best with JavaScript enabled.\\n        <a target=\"_blank\" href=\"https://www.google.com/support/bin/answer.py?answer=23852\">Learn how to enable it.</a>\\n      </p>\\n    </div>\\n  </noscript>\\n\\n  <div class=\"b-flash-messages x-info x-iewarning\">\\n    <p class=\"message\" role=\"alert\" aria-live=\"polite\">\\n      Oh no! It looks like your browser is out of date. Please switch browsers or upgrade and try again.\\n    </p>\\n  </div>\\n\\n  \\n\\n\\n<div id=\"react-root\"><div class=\"basic-wrapper\" id=\"top\"><header class=\"b-header-main x-mobile-nav x-small-sub x-mobile-announcement\" role=\"banner\"><section class=\"wrapper-section-bar x-emphasized\"><div class=\"chrome-width\"><a class=\"logo large-desktop-hide\" title=\"Spoonflower\" aria-label=\"Spoonflower\" target=\"_self\" rel=\"noreferrer \" href=\"/\"><svg class=\"logo-svg\" width=\"138\" height=\"33\" role=\"img\" aria-labelledby=\"spoonflower-title\"><title id=\"spoonflower-title\">Spoonflower</title><image xlink:href=\"/intl/images/logo.svg\" src=\"/intl/images/logo.png\" alt=\"Spoonflower\" width=\"138\" height=\"33\"></image></svg></a><article tabindex=\"0\" class=\"b-announcements\"><h3 class=\"primary-announcement\">Important Update—Please Read<span class=\"ico ico-chevron-down\" aria-hidden=\"true\"></span></h3><ul tabindex=\"0\" class=\"announcement-list\"><li class=\"announcement-item\"><a class=\"announcement-link\" href=\"https://www.spoonflower.com/en/coronavirus#orders-faqs\">We print orders on demand and ship from the US &amp; DE. Processing times are listed in checkout and orders cannot be changed once placed. Expedited shipping currently unavailable. </a></li></ul></article><section class=\"b-user-navigation\"><button aria-label=\"Click to change your shipping country\" title=\"Click to change your shipping country\" class=\"link-button x-shipping-country-label\"><img src=\"/intl/images/flags/US.svg\" alt=\"United States\" class=\"flag-image\" height=\"15\" width=\"15\" aria-labelledby=\"ship-to-aria-label\"></button><article class=\"b-cart-pop\"><a class=\"cart-link link-button x-dark\" href=\"/en/cart\"><span class=\"ico ico-cart2\" aria-hidden=\"false\" aria-label=\"View Cart\" title=\"View Cart\"></span></a></article></section></div></section><section class=\"wrapper-search-menu large-desktop-hide\"><button type=\"button\" class=\"mobile-nav-btn x-non-full-width-mobile-button\"><span class=\"ico ico-menu\" aria-hidden=\"false\" aria-label=\"Mobile Navigation\" title=\"Mobile Navigation\"></span></button><article class=\"b-search-box\"><h1 class=\"visuallyhidden\">Site Search</h1><section class=\"search-text-input-wrapper\" role=\"search\" aria-label=\"Site Search\"><input aria-owns=\"autofill-categories\" aria-autocomplete=\"list\" aria-controls=\"autofill-categories\" aria-expanded=\"false\" autocomplete=\"off\" class=\"search-input\" id=\"search-header-input\" placeholder=\"Search\" role=\"searchbox\" value=\"\"><button id=\"submit-search\" type=\"submit\" class=\"btn white-button x-dark x-square next-to-input search-box-button\" aria-label=\"Search\" title=\"Search\"><span class=\"ico ico-search\" aria-hidden=\"true\"></span></button></section></article></section></header><main class=\"main\"><section class=\"content-inner x-1294\"><div class=\"b-shop-interface\"><article class=\"b-search-header\"><h1 class=\"search-header-title\"><span class=\"search-header-term\">Fabric</span></h1><div class=\"search-header-tags-wrapper\"><ul class=\"search-header-tags\"><li class=\"search-header-tag x-filter-item\"><button class=\"remove-filter-ico x-non-full-width-mobile-button\" type=\"button\" aria-label=\"Remove filter selection\" title=\"Remove filter selection\"><span class=\"tag-text\">Fabric</span><span class=\"ico ico-close\" aria-hidden=\"false\" aria-label=\"Remove filter selection\" title=\"Remove filter selection\"></span></button></li></ul></div></article><div class=\"b-search-filters tablet-down-hide\"><div class=\"filter-actions-wrapper\"><button class=\"black-button filter-button x-non-full-width-mobile-button\" type=\"button\"><span class=\"ico ico-filter\" aria-hidden=\"true\"></span>Hide</button><button class=\"white-button x-dark filter-button x-non-full-width-mobile-button\" type=\"button\"><span class=\"ico ico-clear-filter\" aria-hidden=\"true\"></span>Clear</button></div><div class=\"filter-wrapper\"><div class=\"b-filter\"><ul class=\"b-filter-items\"><li class=\"list-element x-parent-element\"><button type=\"button\" class=\"nav-link button x-nav-link\"><span class=\"ico ico-chevron-right\" aria-hidden=\"true\"></span><span class=\"filter-text-title-menu\">Sort by</span><span class=\"filter-text-sub-title-menu\">Best Selling</span></button></li></ul></div><div class=\"b-filter\"><ul class=\"b-filter-items\"><li class=\"list-element x-parent-element\"><button type=\"button\" class=\"nav-link button x-nav-link\"><span class=\"ico ico-chevron-right\" aria-hidden=\"true\"></span><span class=\"filter-text-title-menu\">Products</span><span class=\"filter-text-sub-title-menu\">Fabric</span></button></li></ul></div><div class=\"b-filter\"><ul class=\"b-filter-items\"><li class=\"list-element x-parent-element\"><button type=\"button\" class=\"nav-link button x-nav-link\"><span class=\"ico ico-chevron-right\" aria-hidden=\"true\"></span><span class=\"filter-text-title-menu\">Style</span><span class=\"filter-text-sub-title-menu\"></span></button></li></ul></div><div class=\"b-filter\"><ul class=\"b-filter-items\"><li class=\"list-element x-parent-element\"><button type=\"button\" class=\"nav-link button x-nav-link\"><span class=\"ico ico-chevron-right\" aria-hidden=\"true\"></span><span class=\"filter-text-title-menu\">Colors</span><span aria-label=\"all-colors\" title=\"all-colors\" class=\"b-dot x-all-colors\">all-colors</span></button></li></ul></div><div class=\"b-filter\"><ul class=\"b-filter-items\"><li class=\"list-element x-parent-element\"><button type=\"button\" class=\"nav-link button x-nav-link\"><span class=\"ico ico-chevron-right\" aria-hidden=\"true\"></span><span class=\"filter-text-title-menu\">Topic</span><span class=\"filter-text-sub-title-menu\"></span></button></li></ul></div><div class=\"b-filter\"><ul class=\"b-filter-items\"><li class=\"list-element x-parent-element\"><button type=\"button\" class=\"nav-link button x-nav-link\"><span class=\"ico ico-chevron-right\" aria-hidden=\"true\"></span><span class=\"filter-text-title-menu\">Availability</span><span class=\"filter-text-sub-title-menu\">For Sale</span></button></li></ul></div><button class=\"individual-filter-btn\" type=\"button\">Adult content<span class=\"individual-filter-text link-text\">blocked</span></button></div></div><div class=\"shop-content\"><section class=\"b-design-grid\"><div class=\"b-design-item x-shadowed\" itemprop=\"itemOffered\" itemscope=\"\" itemtype=\"https://schema.org/Product\"><a class=\"design-link\" title=\"Choose Design\" aria-label=\"Choose Design\" href=\"/en/fabric/6444170-catching-fireflies-by-thestorysmith\"><img class=\"item-pic\" src=\"https://garden.spoonflower.com/c/6444170/p/f/m/VKO-NXg_oW7mI6c9PAegpgFY9Wp2yAvLrHocvHJE2GPkIzYaQHWBKimY/Catching%20Fireflies.jpg\" alt=\"skillshare whimsical watercolor insects,firefly,mason jar,summertime,picnic,nighttime,boys room,glowing\" aria-label=\"Catching Fireflies\" itemprop=\"image\" height=\"294\" width=\"294\"></a><div class=\"design-item-text\"><em class=\"design-item-product-name\" itemprop=\"category material\">Fabric</em><a class=\"design-link\" title=\"Choose Design\" aria-label=\"Choose Design\" href=\"/en/fabric/6444170-catching-fireflies-by-thestorysmith\"><span itemprop=\"name\">Catching Fireflies</span></a><span class=\"visuallyhidden\" itemprop=\"productID\">6444170</span><p class=\"item-author-wrapper\">by<a class=\"item-author\" title=\"To the profile of thestorysmith\" aria-label=\"To the profile of thestorysmith\" itemprop=\"brand\" href=\"/profiles/thestorysmith\">thestorysmith</a></p></div><a class=\"all-products-link\" href=\"/en/products/6444170-catching-fireflies-by-thestorysmith\">See on all products</a></div><div class=\"b-design-item x-shadowed\" itemprop=\"itemOffered\" itemscope=\"\" itemtype=\"https://schema.org/Product\"><a class=\"design-link\" title=\"Choose Design\" aria-label=\"Choose Design\" href=\"/en/fabric/7984669-8-love-care-medical-white-by-rebelmod\"><img class=\"item-pic\" src=\"https://garden.spoonflower.com/c/7984669/p/f/m/3VpKMJmJtiud-Hn7zCpGjD_o8t-P6bAN_XG3u8GkfgiqZroL2WOevA/8%22%20Love%20to%20Care%20Medical%20-%20White.jpg\" alt=\"nurse,doctor,hospital,scrubs,surgeon,bandana,medical,medicine,urgent care,first aid,caring,wellbeing,uniform,expressyourself\" aria-label=\"8&quot; Love to Care Medical - White\" itemprop=\"image\" height=\"294\" width=\"294\"></a><div class=\"design-item-text\"><em class=\"design-item-product-name\" itemprop=\"category material\">Fabric</em><a class=\"design-link\" title=\"Choose Design\" aria-label=\"Choose Design\" href=\"/en/fabric/7984669-8-love-care-medical-white-by-rebelmod\"><span itemprop=\"name\">8\" Love to Care Medical - White</span></a><span class=\"visuallyhidden\" itemprop=\"productID\">7984669</span><p class=\"item-author-wrapper\">by<a class=\"item-author\" title=\"To the profile of rebelmod\" aria-label=\"To the profile of rebelmod\" itemprop=\"brand\" href=\"/profiles/rebelmod\">rebelmod</a></p></div><a class=\"all-products-link\" href=\"/en/products/7984669-8-love-care-medical-white-by-rebelmod\">See on all products</a></div><div class=\"b-design-item x-shadowed\" itemprop=\"itemOffered\" itemscope=\"\" itemtype=\"https://schema.org/Product\"><a class=\"design-link\" title=\"Choose Design\" aria-label=\"Choose Design\" href=\"/en/fabric/7944022-golden-girls-illustration-peach-by-yesterdaycollection\"><img class=\"item-pic\" src=\"https://garden.spoonflower.com/c/7944022/p/f/m/Kv6vK_2LKHR-w6sFUA2Et2NeE5wOM2jOSXfKQqEESYoQbBKZC01MOg/Golden%20Girls%20Illustration%20in%20Peach.jpg\" alt=\"miami,golden girls,stay golden,thank you for being,friends,bea arthur,betty white,blanche devereaux,rose nylund,dorothy zbornak,sophia petrillo,80s,pop culture\" aria-label=\"Golden Girls Illustration in Peach\" itemprop=\"image\" height=\"294\" width=\"294\"></a><div class=\"design-item-text\"><em class=\"design-item-product-name\" itemprop=\"category material\">Fabric</em><a class=\"design-link\" title=\"Choose Design\" aria-label=\"Choose Design\" href=\"/en/fabric/7944022-golden-girls-illustration-peach-by-yesterdaycollection\"><span itemprop=\"name\">Golden Girls Illustration in Peach</span></a><span class=\"visuallyhidden\" itemprop=\"productID\">7944022</span><p class=\"item-author-wrapper\">by<a class=\"item-author\" title=\"To the profile of yesterdaycollection\" aria-label=\"To the profile of yesterdaycollection\" itemprop=\"brand\" href=\"/profiles/yesterdaycollection\">yesterdaycollection</a></p></div><a class=\"all-products-link\" href=\"/en/products/7944022-golden-girls-illustration-peach-by-yesterdaycollection\">See on all products</a></div><div class=\"b-design-item x-shadowed\" itemprop=\"itemOffered\" itemscope=\"\" itemtype=\"https://schema.org/Product\"><a class=\"design-link\" title=\"Choose Design\" aria-label=\"Choose Design\" href=\"/en/fabric/8056679-ruth-bader-ginsgurg-rbg-bust-black-by-katerhees\"><img class=\"item-pic\" src=\"https://garden.spoonflower.com/c/8056679/p/f/m/ddFs-BXT237R12AyvLKkUZ2cmmzMHeqcSjkoWW_hdeOZV5Pof3Res76F/Ruth%20Bader%20Ginsgurg%20RBG%20Bust%20-%20Black.jpg\" alt=\"ruth bader ginsburg,rbg,supreme court,judge justice,dissent collar,united states,feminist,black red white,womens march,equality,equal rights,notorious,face mask\" aria-label=\"Ruth Bader Ginsgurg RBG Bust - Black\" itemprop=\"image\" height=\"294\" width=\"294\"></a><div class=\"design-item-text\"><em class=\"design-item-product-name\" itemprop=\"category material\">Fabric</em><a class=\"design-link\" title=\"Choose Design\" aria-label=\"Choose Design\" href=\"/en/fabric/8056679-ruth-bader-ginsgurg-rbg-bust-black-by-katerhees\"><span itemprop=\"name\">Ruth Bader Ginsgurg RBG Bust - Black</span></a><span class=\"visuallyhidden\" itemprop=\"productID\">8056679</span><p class=\"item-author-wrapper\">by<a class=\"item-author\" title=\"To the profile of katerhees\" aria-label=\"To the profile of katerhees\" itemprop=\"brand\" href=\"/profiles/katerhees\">katerhees</a></p></div><a class=\"all-products-link\" href=\"/en/products/8056679-ruth-bader-ginsgurg-rbg-bust-black-by-katerhees\">See on all products</a></div><div class=\"b-design-item x-shadowed\" itemprop=\"itemOffered\" itemscope=\"\" itemtype=\"https://schema.org/Product\"><a class=\"design-link\" title=\"Choose Design\" aria-label=\"Choose Design\" href=\"/en/fabric/4995362-heart-health-awareness-black-by-ohdarkthirty\"><img class=\"item-pic\" src=\"https://garden.spoonflower.com/c/4995362/p/f/m/qvi1t6GFokqQWMEoKyOc9tuw0zHzzA62s5c39C8VuiAzJXqFzTCTMff_/Heart%20Health%20Awareness%20-%20Black.jpg\" alt=\"heartbeat,ekg,nurse,doctor,hero,hospital,nursing,medical,sick,mask,face,virus,covid\" aria-label=\"Heart Health Awareness - Black\" itemprop=\"image\" height=\"294\" width=\"294\"></a><div class=\"design-item-text\"><em class=\"design-item-product-name\" itemprop=\"category material\">Fabric</em><a class=\"design-link\" title=\"Choose Design\" aria-label=\"Choose Design\" href=\"/en/fabric/4995362-heart-health-awareness-black-by-ohdarkthirty\"><span itemprop=\"name\">Heart Health Awareness - Black</span></a><span class=\"visuallyhidden\" itemprop=\"productID\">4995362</span><p class=\"item-author-wrapper\">by<a class=\"item-author\" title=\"To the profile of ohdarkthirty\" aria-label=\"To the profile of ohdarkthirty\" itemprop=\"brand\" href=\"/profiles/ohdarkthirty\">ohdarkthirty</a></p></div><a class=\"all-products-link\" href=\"/en/products/4995362-heart-health-awareness-black-by-ohdarkthirty\">See on all products</a></div><div class=\"b-design-item x-shadowed\" itemprop=\"itemOffered\" itemscope=\"\" itemtype=\"https://schema.org/Product\"><a class=\"design-link\" title=\"Choose Design\" aria-label=\"Choose Design\" href=\"/en/fabric/6590171-mermaid-scales-by-elladorine\"><img class=\"item-pic\" src=\"https://garden.spoonflower.com/c/6590171/p/f/m/av_Ma-j_tXqXqwLCMj2RtqNC25RrbAZPvKWrkk-121mxnOBgzwmHMzBD/Mermaid%20Scales.jpg\" alt=\"fish,ocean,scales,mermaid,mermaids,aquatic\" aria-label=\"Mermaid Scales\" itemprop=\"image\" height=\"294\" width=\"294\"></a><div class=\"design-item-text\"><em class=\"design-item-product-name\" itemprop=\"category material\">Fabric</em><a class=\"design-link\" title=\"Choose Design\" aria-label=\"Choose Design\" href=\"/en/fabric/6590171-mermaid-scales-by-elladorine\"><span itemprop=\"name\">Mermaid Scales</span></a><span class=\"visuallyhidden\" itemprop=\"productID\">6590171</span><p class=\"item-author-wrapper\">by<a class=\"item-author\" title=\"To the profile of elladorine\" aria-label=\"To the profile of elladorine\" itemprop=\"brand\" href=\"/profiles/elladorine\">elladorine</a></p></div><a class=\"all-products-link\" href=\"/en/products/6590171-mermaid-scales-by-elladorine\">See on all products</a></div><div class=\"b-design-item x-shadowed\" itemprop=\"itemOffered\" itemscope=\"\" itemtype=\"https://schema.org/Product\"><a class=\"design-link\" title=\"Choose Design\" aria-label=\"Choose Design\" href=\"/en/fabric/7137786-genevieve-floral-by-crystal_walen\"><img class=\"item-pic\" src=\"https://garden.spoonflower.com/c/7137786/p/f/m/gUAPBvQLK8UqtNTAH-vBFmCc3rb4eG3ztHHpcO02eTrnST9V7F8/genevieve%20floral.jpg\" alt=\"floral,watercolor,coral,blush,pink,navy,mustard,idwatercolorwallpaper19\" aria-label=\"genevieve floral\" itemprop=\"image\" height=\"294\" width=\"294\"></a><div class=\"design-item-text\"><em class=\"design-item-product-name\" itemprop=\"category material\">Fabric</em><a class=\"design-link\" title=\"Choose Design\" aria-label=\"Choose Design\" href=\"/en/fabric/7137786-genevieve-floral-by-crystal_walen\"><span itemprop=\"name\">genevieve floral</span></a><span class=\"visuallyhidden\" itemprop=\"productID\">7137786</span><p class=\"item-author-wrapper\">by<a class=\"item-author\" title=\"To the profile of crystal_walen\" aria-label=\"To the profile of crystal_walen\" itemprop=\"brand\" href=\"/profiles/crystal_walen\">crystal_walen</a></p></div><a class=\"all-products-link\" href=\"/en/products/7137786-genevieve-floral-by-crystal_walen\">See on all products</a></div><div class=\"b-design-item x-shadowed\" itemprop=\"itemOffered\" itemscope=\"\" itemtype=\"https://schema.org/Product\"><a class=\"design-link\" title=\"Choose Design\" aria-label=\"Choose Design\" href=\"/en/fabric/5939834-classic-leopard-by-cinneworthington\"><img class=\"item-pic\" src=\"https://garden.spoonflower.com/c/5939834/p/f/m/fphys6AM7AJBAD65xWENJFWSGQM-ItpM1N9WLDIcbRvhNK6lSCjFgw/classic%20leopard.jpg\" alt=\"lively,strong,leopard,cheetah,animal,jungle,black,swimwear,glam,boho style,spots dots\" aria-label=\"classic leopard\" itemprop=\"image\" height=\"294\" width=\"294\"></a><div class=\"design-item-text\"><em class=\"design-item-product-name\" itemprop=\"category material\">Fabric</em><a class=\"design-link\" title=\"Choose Design\" aria-label=\"Choose Design\" href=\"/en/fabric/5939834-classic-leopard-by-cinneworthington\"><span itemprop=\"name\">classic leopard</span></a><span class=\"visuallyhidden\" itemprop=\"productID\">5939834</span><p class=\"item-author-wrapper\">by<a class=\"item-author\" title=\"To the profile of cinneworthington\" aria-label=\"To the profile of cinneworthington\" itemprop=\"brand\" href=\"/profiles/cinneworthington\">cinneworthington</a></p></div><a class=\"all-products-link\" href=\"/en/products/5939834-classic-leopard-by-cinneworthington\">See on all products</a></div><div class=\"b-design-item x-shadowed\" itemprop=\"itemOffered\" itemscope=\"\" itemtype=\"https://schema.org/Product\"><a class=\"design-link\" title=\"Choose Design\" aria-label=\"Choose Design\" href=\"/en/fabric/6864327-love-lips-red-by-hipkiddesigns\"><img class=\"item-pic\" src=\"https://garden.spoonflower.com/c/6864327/p/f/m/8ORmVqYtZ7mzAEvNjKpIED_RIS2hFIL23eho0g8Nv1cKVAfadWS1bJ5h4iFYKQ/Love%20Lips%20%2F%2F%20Red.jpg\" alt=\"love,valentine,beauty,lipstick,kisses,xoxo,lips,valentines day,wedding,bride,watercolor,hearts,smooch\" aria-label=\"Love Lips // Red\" itemprop=\"image\" height=\"294\" width=\"294\"></a><div class=\"design-item-text\"><em class=\"design-item-product-name\" itemprop=\"category material\">Fabric</em><a class=\"design-link\" title=\"Choose Design\" aria-label=\"Choose Design\" href=\"/en/fabric/6864327-love-lips-red-by-hipkiddesigns\"><span itemprop=\"name\">Love Lips // Red</span></a><span class=\"visuallyhidden\" itemprop=\"productID\">6864327</span><p class=\"item-author-wrapper\">by<a class=\"item-author\" title=\"To the profile of hipkiddesigns\" aria-label=\"To the profile of hipkiddesigns\" itemprop=\"brand\" href=\"/profiles/hipkiddesigns\">hipkiddesigns</a></p></div><a class=\"all-products-link\" href=\"/en/products/6864327-love-lips-red-by-hipkiddesigns\">See on all products</a></div><div class=\"b-design-item x-shadowed\" itemprop=\"itemOffered\" itemscope=\"\" itemtype=\"https://schema.org/Product\"><a class=\"design-link\" title=\"Choose Design\" aria-label=\"Choose Design\" href=\"/en/fabric/9453318-african-american-girls-retro-pop-art-by-whimsical_brush\"><img class=\"item-pic\" src=\"https://garden.spoonflower.com/c/9453318/p/f/m/YUSuTdPaIf6Me6UwEhOd5rx9Qs1R1DbpDjICLqBMjoheg3tljQs/African%20american%20girls%20retro%20pop-art.jpg\" alt=\"afro girls,afro,pop-art,pop art,funky,70s,african,africa,african american,black culture,summer,black girls\" aria-label=\"African american girls retro pop-art\" itemprop=\"image\" height=\"294\" width=\"294\"></a><div class=\"design-item-text\"><em class=\"design-item-product-name\" itemprop=\"category material\">Fabric</em><a class=\"design-link\" title=\"Choose Design\" aria-label=\"Choose Design\" href=\"/en/fabric/9453318-african-american-girls-retro-pop-art-by-whimsical_brush\"><span itemprop=\"name\">African american girls retro pop-art</span></a><span class=\"visuallyhidden\" itemprop=\"productID\">9453318</span><p class=\"item-author-wrapper\">by<a class=\"item-author\" title=\"To the profile of whimsical_brush\" aria-label=\"To the profile of whimsical_brush\" itemprop=\"brand\" href=\"/profiles/whimsical_brush\">whimsical_brush</a></p></div><a class=\"all-products-link\" href=\"/en/products/9453318-african-american-girls-retro-pop-art-by-whimsical_brush\">See on all products</a></div><div class=\"b-design-item x-shadowed\" itemprop=\"itemOffered\" itemscope=\"\" itemtype=\"https://schema.org/Product\"><a class=\"design-link\" title=\"Choose Design\" aria-label=\"Choose Design\" href=\"/en/fabric/7236018-australian-native-eucalyptus-leaves-edition-1-australiana-fabric-wallpaper-by-erin__kendal\"><img class=\"item-pic\" src=\"https://garden.spoonflower.com/c/7236018/p/f/m/cVmcHs3cnSB4-lMaKl3mkZ8py3quxbng_jl8t4yLCZ89VfSznfeaXJNb/Australian%20Native%20Eucalyptus%20Leaves%20%7C%7C%20Edition%201%20%7C%7C%20Australiana%20Fabric%20Wallpaper.jpg\" alt=\"australian,eucalyptus leaves,gum leaves,eucalyptus,edition 1,botanical,leaves,sfaut15,r holiday dining,silver dollar,silver dollar eucaly,eucalyptus fabric,australian flora,australiana,j279,idbotanical20,eucalyptus wallpaper\" aria-label=\"Australian Native Eucalyptus Leaves || Edition 1 || Australiana Fabric Wallpaper\" itemprop=\"image\" height=\"294\" width=\"294\"></a><div class=\"design-item-text\"><em class=\"design-item-product-name\" itemprop=\"category material\">Fabric</em><a class=\"design-link\" title=\"Choose Design\" aria-label=\"Choose Design\" href=\"/en/fabric/7236018-australian-native-eucalyptus-leaves-edition-1-australiana-fabric-wallpaper-by-erin__kendal\"><span itemprop=\"name\">Australian Native Eucalyptus Leaves || Edition 1 || Australiana Fabric Wallpaper</span></a><span class=\"visuallyhidden\" itemprop=\"productID\">7236018</span><p class=\"item-author-wrapper\">by<a class=\"item-author\" title=\"To the profile of erin__kendal\" aria-label=\"To the profile of erin__kendal\" itemprop=\"brand\" href=\"/profiles/erin__kendal\">erin__kendal</a></p></div><a class=\"all-products-link\" href=\"/en/products/7236018-australian-native-eucalyptus-leaves-edition-1-australiana-fabric-wallpaper-by-erin__kendal\">See on all products</a></div><div class=\"b-design-item x-shadowed\" itemprop=\"itemOffered\" itemscope=\"\" itemtype=\"https://schema.org/Product\"><a class=\"design-link\" title=\"Choose Design\" aria-label=\"Choose Design\" href=\"/en/fabric/8692520-bees-lemons-large-blue-by-fernlesliestudio\"><img class=\"item-pic\" src=\"https://garden.spoonflower.com/c/8692520/p/f/m/yZlgJiNov1QY90Ki5-gd1EU2b4e57HZ8EMy5Mx8XvXXLoi7uVf4/Bees%20%26%20Lemons%20-%20Large%20-%20Blue.jpg\" alt=\"bees,honey bees,pollinators,lemons,citrus,fruit,apiary,blue,white,kitchen,nature,mustard yellow,traditional,r - dc - pollinators,sfmag520nurserywallpaper\" aria-label=\"Bees &amp; Lemons - Large - Blue\" itemprop=\"image\" height=\"294\" width=\"294\"></a><div class=\"design-item-text\"><em class=\"design-item-product-name\" itemprop=\"category material\">Fabric</em><a class=\"design-link\" title=\"Choose Design\" aria-label=\"Choose Design\" href=\"/en/fabric/8692520-bees-lemons-large-blue-by-fernlesliestudio\"><span itemprop=\"name\">Bees &amp; Lemons - Large - Blue</span></a><span class=\"visuallyhidden\" itemprop=\"productID\">8692520</span><p class=\"item-author-wrapper\">by<a class=\"item-author\" title=\"To the profile of fernlesliestudio\" aria-label=\"To the profile of fernlesliestudio\" itemprop=\"brand\" href=\"/profiles/fernlesliestudio\">fernlesliestudio</a></p></div><a class=\"all-products-link\" href=\"/en/products/8692520-bees-lemons-large-blue-by-fernlesliestudio\">See on all products</a></div><div class=\"b-design-item x-shadowed\" itemprop=\"itemOffered\" itemscope=\"\" itemtype=\"https://schema.org/Product\"><a class=\"design-link\" title=\"Choose Design\" aria-label=\"Choose Design\" href=\"/en/fabric/4995555-heart-health-awareness-light-gray-large-by-ohdarkthirty\"><img class=\"item-pic\" src=\"https://garden.spoonflower.com/c/4995555/p/f/m/x1zgd66WJbdtyE-TJG4fJclUWCDqkOppB9kl3Pi17NULJY1SiL5pCdIihGA/Heart%20Health%20Awareness%20-%20Light%20Gray%20(large).jpg\" alt=\"heartbeat,heart,nurse,doctor,hero,nursing,medical,sick,mask,health,awareness,virus,face\" aria-label=\"Heart Health Awareness - Light Gray (large)\" itemprop=\"image\" height=\"294\" width=\"294\"></a><div class=\"design-item-text\"><em class=\"design-item-product-name\" itemprop=\"category material\">Fabric</em><a class=\"design-link\" title=\"Choose Design\" aria-label=\"Choose Design\" href=\"/en/fabric/4995555-heart-health-awareness-light-gray-large-by-ohdarkthirty\"><span itemprop=\"name\">Heart Health Awareness - Light Gray (large)</span></a><span class=\"visuallyhidden\" itemprop=\"productID\">4995555</span><p class=\"item-author-wrapper\">by<a class=\"item-author\" title=\"To the profile of ohdarkthirty\" aria-label=\"To the profile of ohdarkthirty\" itemprop=\"brand\" href=\"/profiles/ohdarkthirty\">ohdarkthirty</a></p></div><a class=\"all-products-link\" href=\"/en/products/4995555-heart-health-awareness-light-gray-large-by-ohdarkthirty\">See on all products</a></div><div class=\"b-design-item x-shadowed\" itemprop=\"itemOffered\" itemscope=\"\" itemtype=\"https://schema.org/Product\"><a class=\"design-link\" title=\"Choose Design\" aria-label=\"Choose Design\" href=\"/en/fabric/7661255-just-jellies-jellyfish-by-katerhees\"><img class=\"item-pic\" src=\"https://garden.spoonflower.com/c/7661255/p/f/m/PKYMhQGSzSvvmP5Cbk4WjCVyfihDHOip_Q6CpB5KurulwET9EYvDNXdD/Just%20Jellies%20-%20Jellyfish.jpg\" alt=\"jellyfish,swim,modern,colorful,jelly fish,bright,animals,ocean animals,medusa,ocean,sea life,swim suit,pink red blue orange,underwater\" aria-label=\"Just Jellies - Jellyfish\" itemprop=\"image\" height=\"294\" width=\"294\"></a><div class=\"design-item-text\"><em class=\"design-item-product-name\" itemprop=\"category material\">Fabric</em><a class=\"design-link\" title=\"Choose Design\" aria-label=\"Choose Design\" href=\"/en/fabric/7661255-just-jellies-jellyfish-by-katerhees\"><span itemprop=\"name\">Just Jellies - Jellyfish</span></a><span class=\"visuallyhidden\" itemprop=\"productID\">7661255</span><p class=\"item-author-wrapper\">by<a class=\"item-author\" title=\"To the profile of katerhees\" aria-label=\"To the profile of katerhees\" itemprop=\"brand\" href=\"/profiles/katerhees\">katerhees</a></p></div><a class=\"all-products-link\" href=\"/en/products/7661255-just-jellies-jellyfish-by-katerhees\">See on all products</a></div><div class=\"b-design-item x-shadowed\" itemprop=\"itemOffered\" itemscope=\"\" itemtype=\"https://schema.org/Product\"><a class=\"design-link\" title=\"Choose Design\" aria-label=\"Choose Design\" href=\"/en/fabric/2920223-m81-woodland-camo-by-ricraynor\"><img class=\"item-pic\" src=\"https://garden.spoonflower.com/c/2920223/p/f/m/RiTW6BBdZQOm_sJ8g3AKzHJGrQY5IF30v0AcrSxIh94Dc1Cu0Xw/M81%20Woodland%20Camo.jpg\" alt=\"us,army,marines,woodland,blob,camo,m81\" aria-label=\"M81 Woodland Camo\" itemprop=\"image\" height=\"294\" width=\"294\"></a><div class=\"design-item-text\"><em class=\"design-item-product-name\" itemprop=\"category material\">Fabric</em><a class=\"design-link\" title=\"Choose Design\" aria-label=\"Choose Design\" href=\"/en/fabric/2920223-m81-woodland-camo-by-ricraynor\"><span itemprop=\"name\">M81 Woodland Camo</span></a><span class=\"visuallyhidden\" itemprop=\"productID\">2920223</span><p class=\"item-author-wrapper\">by<a class=\"item-author\" title=\"To the profile of ricraynor\" aria-label=\"To the profile of ricraynor\" itemprop=\"brand\" href=\"/profiles/ricraynor\">ricraynor</a></p></div><a class=\"all-products-link\" href=\"/en/products/2920223-m81-woodland-camo-by-ricraynor\">See on all products</a></div><div class=\"b-design-item x-shadowed\" itemprop=\"itemOffered\" itemscope=\"\" itemtype=\"https://schema.org/Product\"><a class=\"design-link\" title=\"Choose Design\" aria-label=\"Choose Design\" href=\"/en/fabric/7679631-scattered-earth-tones-watercolor-rainbows-by-anniemontgomerydesign\"><img class=\"item-pic\" src=\"https://garden.spoonflower.com/c/7679631/p/f/m/4Bfv8SUsGQ2K_snlf5dryRD8BfOAi_0fe51HXGHpITgfDh9WjlMB5OJt/Scattered%20Earth%20Tones%20Watercolor%20Rainbows.jpg\" alt=\"rainbow,rainbows,watercolor,colorful,teal,pink,nursery,scattered,earth tones,blue,blush pink,hippie,happy,2020kindermuster,20muster,livera,livera_2020\" aria-label=\"Scattered Earth Tones Watercolor Rainbows\" itemprop=\"image\" height=\"294\" width=\"294\"></a><div class=\"design-item-text\"><em class=\"design-item-product-name\" itemprop=\"category material\">Fabric</em><a class=\"design-link\" title=\"Choose Design\" aria-label=\"Choose Design\" href=\"/en/fabric/7679631-scattered-earth-tones-watercolor-rainbows-by-anniemontgomerydesign\"><span itemprop=\"name\">Scattered Earth Tones Watercolor Rainbows</span></a><span class=\"visuallyhidden\" itemprop=\"productID\">7679631</span><p class=\"item-author-wrapper\">by<a class=\"item-author\" title=\"To the profile of anniemontgomerydesign\" aria-label=\"To the profile of anniemontgomerydesign\" itemprop=\"brand\" href=\"/profiles/anniemontgomerydesign\">anniemontgomerydesign</a></p></div><a class=\"all-products-link\" href=\"/en/products/7679631-scattered-earth-tones-watercolor-rainbows-by-anniemontgomerydesign\">See on all products</a></div><div class=\"b-design-item x-shadowed\" itemprop=\"itemOffered\" itemscope=\"\" itemtype=\"https://schema.org/Product\"><a class=\"design-link\" title=\"Choose Design\" aria-label=\"Choose Design\" href=\"/en/fabric/4893900-half-scale-m81-woodland-camo-by-ricraynor\"><img class=\"item-pic\" src=\"https://garden.spoonflower.com/c/4893900/p/f/m/FFF-Yrj5fx_s4XNqsRqHenWiXp9spMpAbL-aL2qu9tqs2owYbbY/Half%20Scale%20M81%20Woodland%20Camo.jpg\" alt=\"Half Scale M81 Woodland Camo\" aria-label=\"Half Scale M81 Woodland Camo\" itemprop=\"image\" height=\"294\" width=\"294\"></a><div class=\"design-item-text\"><em class=\"design-item-product-name\" itemprop=\"category material\">Fabric</em><a class=\"design-link\" title=\"Choose Design\" aria-label=\"Choose Design\" href=\"/en/fabric/4893900-half-scale-m81-woodland-camo-by-ricraynor\"><span itemprop=\"name\">Half Scale M81 Woodland Camo</span></a><span class=\"visuallyhidden\" itemprop=\"productID\">4893900</span><p class=\"item-author-wrapper\">by<a class=\"item-author\" title=\"To the profile of ricraynor\" aria-label=\"To the profile of ricraynor\" itemprop=\"brand\" href=\"/profiles/ricraynor\">ricraynor</a></p></div><a class=\"all-products-link\" href=\"/en/products/4893900-half-scale-m81-woodland-camo-by-ricraynor\">See on all products</a></div><div class=\"b-design-item x-shadowed\" itemprop=\"itemOffered\" itemscope=\"\" itemtype=\"https://schema.org/Product\"><a class=\"design-link\" title=\"Choose Design\" aria-label=\"Choose Design\" href=\"/en/fabric/7522587-save-honey-bees-large-new-by-fernlesliestudio\"><img class=\"item-pic\" src=\"https://garden.spoonflower.com/c/7522587/p/f/m/lilOfzewpcQAeKhpcSfg7QYqkH_NzqzGoccVNjoA3pnsg0tFRxlerg/Save%20The%20Honey%20Bees%20-%20Large%20-%20New.jpg\" alt=\"endangered species,animals,bees,honey bee,flowers,honeycomb,yellow,white linen,apiary,insects,nature,modern,farmhouse,spring,summer\" aria-label=\"Save The Honey Bees - Large - New\" itemprop=\"image\" height=\"294\" width=\"294\"></a><div class=\"design-item-text\"><em class=\"design-item-product-name\" itemprop=\"category material\">Fabric</em><a class=\"design-link\" title=\"Choose Design\" aria-label=\"Choose Design\" href=\"/en/fabric/7522587-save-honey-bees-large-new-by-fernlesliestudio\"><span itemprop=\"name\">Save The Honey Bees - Large - New</span></a><span class=\"visuallyhidden\" itemprop=\"productID\">7522587</span><p class=\"item-author-wrapper\">by<a class=\"item-author\" title=\"To the profile of fernlesliestudio\" aria-label=\"To the profile of fernlesliestudio\" itemprop=\"brand\" href=\"/profiles/fernlesliestudio\">fernlesliestudio</a></p></div><a class=\"all-products-link\" href=\"/en/products/7522587-save-honey-bees-large-new-by-fernlesliestudio\">See on all products</a></div><div class=\"b-design-item x-shadowed\" itemprop=\"itemOffered\" itemscope=\"\" itemtype=\"https://schema.org/Product\"><a class=\"design-link\" title=\"Choose Design\" aria-label=\"Choose Design\" href=\"/en/fabric/991112-nursing-coordinates-by-bluevelvet\"><img class=\"item-pic\" src=\"https://garden.spoonflower.com/c/991112/p/f/m/DU8tLKJfoqJZY_tJdItAbB1Tzf_-dm2efDJC3BzQn-bzfQTatg/NURSING_COORDINATES.jpg\" alt=\"nursing,coordinates,nurse,nurse hat,stethascope,cross,red cross,hospital,medicine,medical,doctor,nursing home,retirement home\" aria-label=\"NURSING_COORDINATES\" itemprop=\"image\" height=\"294\" width=\"294\"></a><div class=\"design-item-text\"><em class=\"design-item-product-name\" itemprop=\"category material\">Fabric</em><a class=\"design-link\" title=\"Choose Design\" aria-label=\"Choose Design\" href=\"/en/fabric/991112-nursing-coordinates-by-bluevelvet\"><span itemprop=\"name\">NURSING_COORDINATES</span></a><span class=\"visuallyhidden\" itemprop=\"productID\">991112</span><p class=\"item-author-wrapper\">by<a class=\"item-author\" title=\"To the profile of bluevelvet\" aria-label=\"To the profile of bluevelvet\" itemprop=\"brand\" href=\"/profiles/bluevelvet\">bluevelvet</a></p></div><a class=\"all-products-link\" href=\"/en/products/991112-nursing-coordinates-by-bluevelvet\">See on all products</a></div><div class=\"b-design-item x-shadowed\" itemprop=\"itemOffered\" itemscope=\"\" itemtype=\"https://schema.org/Product\"><a class=\"design-link\" title=\"Choose Design\" aria-label=\"Choose Design\" href=\"/en/fabric/7812388-dnd-pattern-by-neonborealis\"><img class=\"item-pic\" src=\"https://garden.spoonflower.com/c/7812388/p/f/m/BaRvvCN-JrmEf7tMVa18MXgz9LdZRRnvc4_d3xB0j9VPD1j7JeaijlfZ/DND%20pattern.jpg\" alt=\"dnd,dungeons and dragons,dice,fantasy,polyhedral dice,blue,sword,illustration,ttrpg,rpg,magic,dice bags,dnd dice\" aria-label=\"DND pattern\" itemprop=\"image\" height=\"294\" width=\"294\"></a><div class=\"design-item-text\"><em class=\"design-item-product-name\" itemprop=\"category material\">Fabric</em><a class=\"design-link\" title=\"Choose Design\" aria-label=\"Choose Design\" href=\"/en/fabric/7812388-dnd-pattern-by-neonborealis\"><span itemprop=\"name\">DND pattern</span></a><span class=\"visuallyhidden\" itemprop=\"productID\">7812388</span><p class=\"item-author-wrapper\">by<a class=\"item-author\" title=\"To the profile of neonborealis\" aria-label=\"To the profile of neonborealis\" itemprop=\"brand\" href=\"/profiles/neonborealis\">neonborealis</a></p></div><a class=\"all-products-link\" href=\"/en/products/7812388-dnd-pattern-by-neonborealis\">See on all products</a></div><div class=\"b-design-item x-shadowed\" itemprop=\"itemOffered\" itemscope=\"\" itemtype=\"https://schema.org/Product\"><a class=\"design-link\" title=\"Choose Design\" aria-label=\"Choose Design\" href=\"/en/fabric/4352750-loteria-by-jellymania\"><img class=\"item-pic\" src=\"https://garden.spoonflower.com/c/4352750/p/f/m/dUD0EUh3pSI5892Hzw6tKnzM8JHs1RMkeMbR_nzKE1GoZpbHNfeTEIPE/Loteria.jpg\" alt=\"loteria,mexican,mexico,tarot,colorful,cards\" aria-label=\"Loteria\" itemprop=\"image\" height=\"294\" width=\"294\"></a><div class=\"design-item-text\"><em class=\"design-item-product-name\" itemprop=\"category material\">Fabric</em><a class=\"design-link\" title=\"Choose Design\" aria-label=\"Choose Design\" href=\"/en/fabric/4352750-loteria-by-jellymania\"><span itemprop=\"name\">Loteria</span></a><span class=\"visuallyhidden\" itemprop=\"productID\">4352750</span><p class=\"item-author-wrapper\">by<a class=\"item-author\" title=\"To the profile of jellymania\" aria-label=\"To the profile of jellymania\" itemprop=\"brand\" href=\"/profiles/jellymania\">jellymania</a></p></div><a class=\"all-products-link\" href=\"/en/products/4352750-loteria-by-jellymania\">See on all products</a></div><div class=\"b-design-item x-shadowed\" itemprop=\"itemOffered\" itemscope=\"\" itemtype=\"https://schema.org/Product\"><a class=\"design-link\" title=\"Choose Design\" aria-label=\"Choose Design\" href=\"/en/fabric/6079351-josie-meadow-floral-by-sweeterthanhoney\"><img class=\"item-pic\" src=\"https://garden.spoonflower.com/c/6079351/p/f/m/ueYPnAhrU2S9taiUms0BOgYHTLFb0P4eInQIr86f3qXyCPmZVMyPpqd7/Josie%20Meadow%20Floral.jpg\" alt=\"sweeterthanhoneydesign,purple and pink,raspberry,baby girl,baby blanket,wholecloth,cheater quilt\" aria-label=\"Josie Meadow Floral\" itemprop=\"image\" height=\"294\" width=\"294\"></a><div class=\"design-item-text\"><em class=\"design-item-product-name\" itemprop=\"category material\">Fabric</em><a class=\"design-link\" title=\"Choose Design\" aria-label=\"Choose Design\" href=\"/en/fabric/6079351-josie-meadow-floral-by-sweeterthanhoney\"><span itemprop=\"name\">Josie Meadow Floral</span></a><span class=\"visuallyhidden\" itemprop=\"productID\">6079351</span><p class=\"item-author-wrapper\">by<a class=\"item-author\" title=\"To the profile of sweeterthanhoney\" aria-label=\"To the profile of sweeterthanhoney\" itemprop=\"brand\" href=\"/profiles/sweeterthanhoney\">sweeterthanhoney</a></p></div><a class=\"all-products-link\" href=\"/en/products/6079351-josie-meadow-floral-by-sweeterthanhoney\">See on all products</a></div><div class=\"b-design-item x-shadowed\" itemprop=\"itemOffered\" itemscope=\"\" itemtype=\"https://schema.org/Product\"><a class=\"design-link\" title=\"Choose Design\" aria-label=\"Choose Design\" href=\"/en/fabric/3840217-nurse-theme-by-hot4tees_bg-yahoo_com\"><img class=\"item-pic\" src=\"https://garden.spoonflower.com/c/3840217/p/f/m/hdIVE_HoMYWF0Y525gY8QPcb-0Cjn6QkQeGZsLMfeQOgnM7fy74/Nurse%20Theme.jpg\" alt=\"nurse,nurses,registered nurse,lpn,student nurse,nursing student,nurse theme\" aria-label=\"Nurse Theme\" itemprop=\"image\" height=\"294\" width=\"294\"></a><div class=\"design-item-text\"><em class=\"design-item-product-name\" itemprop=\"category material\">Fabric</em><a class=\"design-link\" title=\"Choose Design\" aria-label=\"Choose Design\" href=\"/en/fabric/3840217-nurse-theme-by-hot4tees_bg-yahoo_com\"><span itemprop=\"name\">Nurse Theme</span></a><span class=\"visuallyhidden\" itemprop=\"productID\">3840217</span><p class=\"item-author-wrapper\">by<a class=\"item-author\" title=\"To the profile of hot4tees_bg@yahoo_com\" aria-label=\"To the profile of hot4tees_bg@yahoo_com\" itemprop=\"brand\" href=\"/profiles/hot4tees_bg@yahoo_com\">hot4tees_bg@yahoo_com</a></p></div><a class=\"all-products-link\" href=\"/en/products/3840217-nurse-theme-by-hot4tees_bg-yahoo_com\">See on all products</a></div><div class=\"b-design-item x-shadowed\" itemprop=\"itemOffered\" itemscope=\"\" itemtype=\"https://schema.org/Product\"><a class=\"design-link\" title=\"Choose Design\" aria-label=\"Choose Design\" href=\"/en/fabric/1112778-rosie-riveter-by-spacefem\"><img class=\"item-pic\" src=\"https://garden.spoonflower.com/c/1112778/p/f/m/iB2kay2kQZizNKH4NKCyMHF2Uj4KnMFgn7ZKCdamx1LtNpEZUWo/Rosie%20the%20Riveter.jpg\" alt=\"rosie the riveter,rosie,we can do it,feminist,vintage\" aria-label=\"Rosie the Riveter\" itemprop=\"image\" height=\"294\" width=\"294\"></a><div class=\"design-item-text\"><em class=\"design-item-product-name\" itemprop=\"category material\">Fabric</em><a class=\"design-link\" title=\"Choose Design\" aria-label=\"Choose Design\" href=\"/en/fabric/1112778-rosie-riveter-by-spacefem\"><span itemprop=\"name\">Rosie the Riveter</span></a><span class=\"visuallyhidden\" itemprop=\"productID\">1112778</span><p class=\"item-author-wrapper\">by<a class=\"item-author\" title=\"To the profile of spacefem\" aria-label=\"To the profile of spacefem\" itemprop=\"brand\" href=\"/profiles/spacefem\">spacefem</a></p></div><a class=\"all-products-link\" href=\"/en/products/1112778-rosie-riveter-by-spacefem\">See on all products</a></div><div class=\"b-design-item x-shadowed\" itemprop=\"itemOffered\" itemscope=\"\" itemtype=\"https://schema.org/Product\"><a class=\"design-link\" title=\"Choose Design\" aria-label=\"Choose Design\" href=\"/en/fabric/8618597-rainbow-watercolor-pawprints-by-dragonstarart\"><img class=\"item-pic\" src=\"https://garden.spoonflower.com/c/8618597/p/f/m/XTzuiInYs8SFY3Hu72EgWJ-Ybx0qFqwuHE3uaDrKtNX5Nr6bH_o/Rainbow%20Watercolor%20Pawprints.jpg\" alt=\"rainbow,watercolor,paw print,pawprints,colorful,pets,animals,cats,dogs,kitty,puppy,bright\" aria-label=\"Rainbow Watercolor Pawprints\" itemprop=\"image\" height=\"294\" width=\"294\"></a><div class=\"design-item-text\"><em class=\"design-item-product-name\" itemprop=\"category material\">Fabric</em><a class=\"design-link\" title=\"Choose Design\" aria-label=\"Choose Design\" href=\"/en/fabric/8618597-rainbow-watercolor-pawprints-by-dragonstarart\"><span itemprop=\"name\">Rainbow Watercolor Pawprints</span></a><span class=\"visuallyhidden\" itemprop=\"productID\">8618597</span><p class=\"item-author-wrapper\">by<a class=\"item-author\" title=\"To the profile of dragonstarart\" aria-label=\"To the profile of dragonstarart\" itemprop=\"brand\" href=\"/profiles/dragonstarart\">dragonstarart</a></p></div><a class=\"all-products-link\" href=\"/en/products/8618597-rainbow-watercolor-pawprints-by-dragonstarart\">See on all products</a></div><div class=\"b-design-item x-shadowed\" itemprop=\"itemOffered\" itemscope=\"\" itemtype=\"https://schema.org/Product\"><a class=\"design-link\" title=\"Choose Design\" aria-label=\"Choose Design\" href=\"/en/fabric/5839396-spectacular-cats-by-cynthia_arre\"><img class=\"item-pic\" src=\"https://garden.spoonflower.com/c/5839396/p/f/m/jBulHBSvrxB1z22Ubc5eawu2Nwdt4ffrxDeRTs9ZBvjJ5buwWs04ppN3/Spectacular%20Cats.jpg\" alt=\"cats,cat,hipster,animals,cute,retro,geek,kitties,kitten,animal,pets,pet,glasses\" aria-label=\"Spectacular Cats\" itemprop=\"image\" height=\"294\" width=\"294\"></a><div class=\"design-item-text\"><em class=\"design-item-product-name\" itemprop=\"category material\">Fabric</em><a class=\"design-link\" title=\"Choose Design\" aria-label=\"Choose Design\" href=\"/en/fabric/5839396-spectacular-cats-by-cynthia_arre\"><span itemprop=\"name\">Spectacular Cats</span></a><span class=\"visuallyhidden\" itemprop=\"productID\">5839396</span><p class=\"item-author-wrapper\">by<a class=\"item-author\" title=\"To the profile of cynthia_arre\" aria-label=\"To the profile of cynthia_arre\" itemprop=\"brand\" href=\"/profiles/cynthia_arre\">cynthia_arre</a></p></div><a class=\"all-products-link\" href=\"/en/products/5839396-spectacular-cats-by-cynthia_arre\">See on all products</a></div><div class=\"b-design-item x-shadowed\" itemprop=\"itemOffered\" itemscope=\"\" itemtype=\"https://schema.org/Product\"><a class=\"design-link\" title=\"Choose Design\" aria-label=\"Choose Design\" href=\"/en/fabric/7984649-8-love-care-medical-black-by-rebelmod\"><img class=\"item-pic\" src=\"https://garden.spoonflower.com/c/7984649/p/f/m/3VpKMJmJtiud-Hv7zCpGjD_o8t-P6bAN_XG3u8GkfgiqZroL2WOevA/8%22%20Love%20to%20Care%20Medical%20-%20Black.jpg\" alt=\"nurse,doctor,hospital,scrubs,surgeon,bandana,medical,medicine,urgent care,first aid,caring,wellbeing,uniform\" aria-label=\"8&quot; Love to Care Medical - Black\" itemprop=\"image\" height=\"294\" width=\"294\"></a><div class=\"design-item-text\"><em class=\"design-item-product-name\" itemprop=\"category material\">Fabric</em><a class=\"design-link\" title=\"Choose Design\" aria-label=\"Choose Design\" href=\"/en/fabric/7984649-8-love-care-medical-black-by-rebelmod\"><span itemprop=\"name\">8\" Love to Care Medical - Black</span></a><span class=\"visuallyhidden\" itemprop=\"productID\">7984649</span><p class=\"item-author-wrapper\">by<a class=\"item-author\" title=\"To the profile of rebelmod\" aria-label=\"To the profile of rebelmod\" itemprop=\"brand\" href=\"/profiles/rebelmod\">rebelmod</a></p></div><a class=\"all-products-link\" href=\"/en/products/7984649-8-love-care-medical-black-by-rebelmod\">See on all products</a></div><div class=\"b-design-item x-shadowed\" itemprop=\"itemOffered\" itemscope=\"\" itemtype=\"https://schema.org/Product\"><a class=\"design-link\" title=\"Choose Design\" aria-label=\"Choose Design\" href=\"/en/fabric/5514018-hair-cutting-shears-by-cloudycapevintage\"><img class=\"item-pic\" src=\"https://garden.spoonflower.com/c/5514018/p/f/m/ai4esPFBNe_YY9nz1iC-gZ08tzomXgzDmBoqJ8O7onXLw0955qaHAbI61m8/Hair%20Cutting%20Shears.jpg\" alt=\"barber,salon,hair,hairdresser,shears,scissors,vintage,barbershop,black,white,black and white,retro,feminine\" aria-label=\"Hair Cutting Shears\" itemprop=\"image\" height=\"294\" width=\"294\"></a><div class=\"design-item-text\"><em class=\"design-item-product-name\" itemprop=\"category material\">Fabric</em><a class=\"design-link\" title=\"Choose Design\" aria-label=\"Choose Design\" href=\"/en/fabric/5514018-hair-cutting-shears-by-cloudycapevintage\"><span itemprop=\"name\">Hair Cutting Shears</span></a><span class=\"visuallyhidden\" itemprop=\"productID\">5514018</span><p class=\"item-author-wrapper\">by<a class=\"item-author\" title=\"To the profile of cloudycapevintage\" aria-label=\"To the profile of cloudycapevintage\" itemprop=\"brand\" href=\"/profiles/cloudycapevintage\">cloudycapevintage</a></p></div><a class=\"all-products-link\" href=\"/en/products/5514018-hair-cutting-shears-by-cloudycapevintage\">See on all products</a></div><div class=\"b-design-item x-shadowed\" itemprop=\"itemOffered\" itemscope=\"\" itemtype=\"https://schema.org/Product\"><a class=\"design-link\" title=\"Choose Design\" aria-label=\"Choose Design\" href=\"/en/fabric/5532389-blue-white-camouflage-pattern-by-artpics\"><img class=\"item-pic\" src=\"https://garden.spoonflower.com/c/5532389/p/f/m/k19zvTz_39Q2zYzOcy6cMMCegEkeOdV7xB3ruLbh-TBxjhYrkcg/Blue%20and%20White%20Camouflage%20pattern.jpg\" alt=\"camo,camouflage,blue camo,military,army,water,uniform\" aria-label=\"Blue and White Camouflage pattern\" itemprop=\"image\" height=\"294\" width=\"294\"></a><div class=\"design-item-text\"><em class=\"design-item-product-name\" itemprop=\"category material\">Fabric</em><a class=\"design-link\" title=\"Choose Design\" aria-label=\"Choose Design\" href=\"/en/fabric/5532389-blue-white-camouflage-pattern-by-artpics\"><span itemprop=\"name\">Blue and White Camouflage pattern</span></a><span class=\"visuallyhidden\" itemprop=\"productID\">5532389</span><p class=\"item-author-wrapper\">by<a class=\"item-author\" title=\"To the profile of artpics\" aria-label=\"To the profile of artpics\" itemprop=\"brand\" href=\"/profiles/artpics\">artpics</a></p></div><a class=\"all-products-link\" href=\"/en/products/5532389-blue-white-camouflage-pattern-by-artpics\">See on all products</a></div><div class=\"b-design-item x-shadowed\" itemprop=\"itemOffered\" itemscope=\"\" itemtype=\"https://schema.org/Product\"><a class=\"design-link\" title=\"Choose Design\" aria-label=\"Choose Design\" href=\"/en/fabric/2632362-colorful-happy-smiley-face-squares-large-print-by-inspirationz\"><img class=\"item-pic\" src=\"https://garden.spoonflower.com/c/2632362/p/f/m/HgP-6vMixIBTbhOqkK6TlzyZwefYZryLEV2RoCL--wz4g8jrs_fEMaZ-/Colorful%20Happy%20Smiley%20face%20Squares%20(large%20print).jpg\" alt=\"smiley,smilies,smileys,smiley face,rainbow,colorful,multicolor,happy faces,happy face,cute,multicolored,colourful,bright\" aria-label=\"Colorful Happy Smiley face Squares (large print)\" itemprop=\"image\" height=\"294\" width=\"294\"></a><div class=\"design-item-text\"><em class=\"design-item-product-name\" itemprop=\"category material\">Fabric</em><a class=\"design-link\" title=\"Choose Design\" aria-label=\"Choose Design\" href=\"/en/fabric/2632362-colorful-happy-smiley-face-squares-large-print-by-inspirationz\"><span itemprop=\"name\">Colorful Happy Smiley face Squares (large print)</span></a><span class=\"visuallyhidden\" itemprop=\"productID\">2632362</span><p class=\"item-author-wrapper\">by<a class=\"item-author\" title=\"To the profile of inspirationz\" aria-label=\"To the profile of inspirationz\" itemprop=\"brand\" href=\"/profiles/inspirationz\">inspirationz</a></p></div><a class=\"all-products-link\" href=\"/en/products/2632362-colorful-happy-smiley-face-squares-large-print-by-inspirationz\">See on all products</a></div><div class=\"b-design-item x-shadowed\" itemprop=\"itemOffered\" itemscope=\"\" itemtype=\"https://schema.org/Product\"><a class=\"design-link\" title=\"Choose Design\" aria-label=\"Choose Design\" href=\"/en/fabric/7698482-scrubs-dr-stetho-scope-by-adrianne_vanalstine\"><img class=\"item-pic\" src=\"https://garden.spoonflower.com/c/7698482/p/f/m/-9GL4uyiN61Hqf-VhDVdQGwEgWny4IqrPDakb7w892EiiY3T_ms/Scrubs%20-%20Dr%20Stetho%20Scope.jpg\" alt=\"scrubs,doctors,nurses,medical professions,virus,covid 19\" aria-label=\"Scrubs - Dr Stetho Scope\" itemprop=\"image\" height=\"294\" width=\"294\"></a><div class=\"design-item-text\"><em class=\"design-item-product-name\" itemprop=\"category material\">Fabric</em><a class=\"design-link\" title=\"Choose Design\" aria-label=\"Choose Design\" href=\"/en/fabric/7698482-scrubs-dr-stetho-scope-by-adrianne_vanalstine\"><span itemprop=\"name\">Scrubs - Dr Stetho Scope</span></a><span class=\"visuallyhidden\" itemprop=\"productID\">7698482</span><p class=\"item-author-wrapper\">by<a class=\"item-author\" title=\"To the profile of adrianne_vanalstine\" aria-label=\"To the profile of adrianne_vanalstine\" itemprop=\"brand\" href=\"/profiles/adrianne_vanalstine\">adrianne_vanalstine</a></p></div><a class=\"all-products-link\" href=\"/en/products/7698482-scrubs-dr-stetho-scope-by-adrianne_vanalstine\">See on all products</a></div><div class=\"b-design-item x-shadowed\" itemprop=\"itemOffered\" itemscope=\"\" itemtype=\"https://schema.org/Product\"><a class=\"design-link\" title=\"Choose Design\" aria-label=\"Choose Design\" href=\"/en/fabric/3584004-mexican-sugar-skulls-small-by-lusykoror\"><img class=\"item-pic\" src=\"https://garden.spoonflower.com/c/3584004/p/f/m/sh_MTA2RikoSvl4vb1xFr-flM3qbbVZVcNZMKsbFFOM7V5LyOb1XvJXa/Mexican%20Sugar%20Skulls%20(small).jpg\" alt=\"calavera,sugar skull,day of the dead,skull,mexico,halloween\" aria-label=\"Mexican Sugar Skulls (small)\" itemprop=\"image\" height=\"294\" width=\"294\"></a><div class=\"design-item-text\"><em class=\"design-item-product-name\" itemprop=\"category material\">Fabric</em><a class=\"design-link\" title=\"Choose Design\" aria-label=\"Choose Design\" href=\"/en/fabric/3584004-mexican-sugar-skulls-small-by-lusykoror\"><span itemprop=\"name\">Mexican Sugar Skulls (small)</span></a><span class=\"visuallyhidden\" itemprop=\"productID\">3584004</span><p class=\"item-author-wrapper\">by<a class=\"item-author\" title=\"To the profile of lusykoror\" aria-label=\"To the profile of lusykoror\" itemprop=\"brand\" href=\"/profiles/lusykoror\">lusykoror</a></p></div><a class=\"all-products-link\" href=\"/en/products/3584004-mexican-sugar-skulls-small-by-lusykoror\">See on all products</a></div><div class=\"b-design-item x-shadowed\" itemprop=\"itemOffered\" itemscope=\"\" itemtype=\"https://schema.org/Product\"><a class=\"design-link\" title=\"Choose Design\" aria-label=\"Choose Design\" href=\"/en/fabric/7368347-dear-clementine-oranges-teal-by-crystal_walen\"><img class=\"item-pic\" src=\"https://garden.spoonflower.com/c/7368347/p/f/m/9I1g5tWPrIhYzz1pUHnCfosU2yLRID0Ipds1C872vCV2yTA-L8CM9w/Dear%20Clementine%20oranges%20-%20teal.jpg\" alt=\"citrus,oranges,flowers,teal,orange,fashion,rfallteatowels\" aria-label=\"Dear Clementine oranges - teal\" itemprop=\"image\" height=\"294\" width=\"294\"></a><div class=\"design-item-text\"><em class=\"design-item-product-name\" itemprop=\"category material\">Fabric</em><a class=\"design-link\" title=\"Choose Design\" aria-label=\"Choose Design\" href=\"/en/fabric/7368347-dear-clementine-oranges-teal-by-crystal_walen\"><span itemprop=\"name\">Dear Clementine oranges - teal</span></a><span class=\"visuallyhidden\" itemprop=\"productID\">7368347</span><p class=\"item-author-wrapper\">by<a class=\"item-author\" title=\"To the profile of crystal_walen\" aria-label=\"To the profile of crystal_walen\" itemprop=\"brand\" href=\"/profiles/crystal_walen\">crystal_walen</a></p></div><a class=\"all-products-link\" href=\"/en/products/7368347-dear-clementine-oranges-teal-by-crystal_walen\">See on all products</a></div><div class=\"b-design-item x-shadowed\" itemprop=\"itemOffered\" itemscope=\"\" itemtype=\"https://schema.org/Product\"><a class=\"design-link\" title=\"Choose Design\" aria-label=\"Choose Design\" href=\"/en/fabric/6327300-call-mountains-evergreen-med-by-nouveau_bohemian\"><img class=\"item-pic\" src=\"https://garden.spoonflower.com/c/6327300/p/f/m/EH5SQwfuuvZKm_RuiAeKrUu6qYKoP67CVqApeY0ke5QnypISFuyzVR0U-tw/Call%20of%20the%20Mountains%20%20(evergreen)%20MED.jpg\" alt=\"mountain,painting,water colour,watercolour,forest,woods,geometric\" aria-label=\"Call of the Mountains  (evergreen) MED\" itemprop=\"image\" height=\"294\" width=\"294\"></a><div class=\"design-item-text\"><em class=\"design-item-product-name\" itemprop=\"category material\">Fabric</em><a class=\"design-link\" title=\"Choose Design\" aria-label=\"Choose Design\" href=\"/en/fabric/6327300-call-mountains-evergreen-med-by-nouveau_bohemian\"><span itemprop=\"name\">Call of the Mountains  (evergreen) MED</span></a><span class=\"visuallyhidden\" itemprop=\"productID\">6327300</span><p class=\"item-author-wrapper\">by<a class=\"item-author\" title=\"To the profile of nouveau_bohemian\" aria-label=\"To the profile of nouveau_bohemian\" itemprop=\"brand\" href=\"/profiles/nouveau_bohemian\">nouveau_bohemian</a></p></div><a class=\"all-products-link\" href=\"/en/products/6327300-call-mountains-evergreen-med-by-nouveau_bohemian\">See on all products</a></div><div class=\"b-design-item x-shadowed\" itemprop=\"itemOffered\" itemscope=\"\" itemtype=\"https://schema.org/Product\"><a class=\"design-link\" title=\"Choose Design\" aria-label=\"Choose Design\" href=\"/en/fabric/1306112-opal-by-peacoquettedesigns\"><img class=\"item-pic\" src=\"https://garden.spoonflower.com/c/1306112/p/f/m/jUBLpu-1GBzWb4ZBVpkHwGzVjMjhkK8G5zFwVpzM-fzb9xdMQ8PjGQ/Opal.jpg\" alt=\"opal,opalescent,multicolored,shimmer,rainbow,fantasy,clouds,pearly,pastel,pastels,soft,sweet,baby,pink,green,lemon,lavender,baby blue\" aria-label=\"Opal\" itemprop=\"image\" height=\"294\" width=\"294\"></a><div class=\"design-item-text\"><em class=\"design-item-product-name\" itemprop=\"category material\">Fabric</em><a class=\"design-link\" title=\"Choose Design\" aria-label=\"Choose Design\" href=\"/en/fabric/1306112-opal-by-peacoquettedesigns\"><span itemprop=\"name\">Opal</span></a><span class=\"visuallyhidden\" itemprop=\"productID\">1306112</span><p class=\"item-author-wrapper\">by<a class=\"item-author\" title=\"To the profile of peacoquettedesigns\" aria-label=\"To the profile of peacoquettedesigns\" itemprop=\"brand\" href=\"/profiles/peacoquettedesigns\">peacoquettedesigns</a></p></div><a class=\"all-products-link\" href=\"/en/products/1306112-opal-by-peacoquettedesigns\">See on all products</a></div><div class=\"b-design-item x-shadowed\" itemprop=\"itemOffered\" itemscope=\"\" itemtype=\"https://schema.org/Product\"><a class=\"design-link\" title=\"Choose Design\" aria-label=\"Choose Design\" href=\"/en/fabric/6812243-cute-kawaii-sushi-small-size-by-penguinhouse\"><img class=\"item-pic\" src=\"https://garden.spoonflower.com/c/6812243/p/f/m/SYmBwg5TqIuH3CBo4Bpd1_NrAlcGjr9z3_RN_IJypvxnJ6nmsvFDrBSn9so/Cute%20kawaii%20sushi%20small%20size.jpg\" alt=\"kawaii,sushi,fish,emoji,japanese,food,cartoon,cute,character,tasty,asian,bar,illustration\" aria-label=\"Cute kawaii sushi small size\" itemprop=\"image\" height=\"294\" width=\"294\"></a><div class=\"design-item-text\"><em class=\"design-item-product-name\" itemprop=\"category material\">Fabric</em><a class=\"design-link\" title=\"Choose Design\" aria-label=\"Choose Design\" href=\"/en/fabric/6812243-cute-kawaii-sushi-small-size-by-penguinhouse\"><span itemprop=\"name\">Cute kawaii sushi small size</span></a><span class=\"visuallyhidden\" itemprop=\"productID\">6812243</span><p class=\"item-author-wrapper\">by<a class=\"item-author\" title=\"To the profile of penguinhouse\" aria-label=\"To the profile of penguinhouse\" itemprop=\"brand\" href=\"/profiles/penguinhouse\">penguinhouse</a></p></div><a class=\"all-products-link\" href=\"/en/products/6812243-cute-kawaii-sushi-small-size-by-penguinhouse\">See on all products</a></div><div class=\"b-design-item x-shadowed\" itemprop=\"itemOffered\" itemscope=\"\" itemtype=\"https://schema.org/Product\"><a class=\"design-link\" title=\"Choose Design\" aria-label=\"Choose Design\" href=\"/en/fabric/5773745-rainbow-pride-stripes-by-furbuddy\"><img class=\"item-pic\" src=\"https://garden.spoonflower.com/c/5773745/p/f/m/J5RlNgGDR0epEEM2Cqz28CNemIACTi3HXdRcXUIsXv2nGOJoWM3B0W-g/Rainbow%20Pride%20Stripes.jpg\" alt=\"rainbow,pride,lgbt,flag,gay,summer,cute,lisbian,bi,pride week,love,red,purple\" aria-label=\"Rainbow Pride Stripes\" itemprop=\"image\" height=\"294\" width=\"294\"></a><div class=\"design-item-text\"><em class=\"design-item-product-name\" itemprop=\"category material\">Fabric</em><a class=\"design-link\" title=\"Choose Design\" aria-label=\"Choose Design\" href=\"/en/fabric/5773745-rainbow-pride-stripes-by-furbuddy\"><span itemprop=\"name\">Rainbow Pride Stripes</span></a><span class=\"visuallyhidden\" itemprop=\"productID\">5773745</span><p class=\"item-author-wrapper\">by<a class=\"item-author\" title=\"To the profile of furbuddy\" aria-label=\"To the profile of furbuddy\" itemprop=\"brand\" href=\"/profiles/furbuddy\">furbuddy</a></p></div><a class=\"all-products-link\" href=\"/en/products/5773745-rainbow-pride-stripes-by-furbuddy\">See on all products</a></div><div class=\"b-design-item x-shadowed\" itemprop=\"itemOffered\" itemscope=\"\" itemtype=\"https://schema.org/Product\"><a class=\"design-link\" title=\"Choose Design\" aria-label=\"Choose Design\" href=\"/en/fabric/2623792-purple-space-stars-small-print-by-inspirationz\"><img class=\"item-pic\" src=\"https://garden.spoonflower.com/c/2623792/p/f/m/XAuDGrNoKRg4kgBNgcx5T1LnDi5RoSivIEqlTR4vbLlkqLSsurg3aNew9c8/Purple%20Space%20Stars%20(small%20print).jpg\" alt=\"space,outer space,galaxy,nebula,stars,astronomy,science,sp346\" aria-label=\"Purple Space Stars (small print)\" itemprop=\"image\" height=\"294\" width=\"294\"></a><div class=\"design-item-text\"><em class=\"design-item-product-name\" itemprop=\"category material\">Fabric</em><a class=\"design-link\" title=\"Choose Design\" aria-label=\"Choose Design\" href=\"/en/fabric/2623792-purple-space-stars-small-print-by-inspirationz\"><span itemprop=\"name\">Purple Space Stars (small print)</span></a><span class=\"visuallyhidden\" itemprop=\"productID\">2623792</span><p class=\"item-author-wrapper\">by<a class=\"item-author\" title=\"To the profile of inspirationz\" aria-label=\"To the profile of inspirationz\" itemprop=\"brand\" href=\"/profiles/inspirationz\">inspirationz</a></p></div><a class=\"all-products-link\" href=\"/en/products/2623792-purple-space-stars-small-print-by-inspirationz\">See on all products</a></div><div class=\"b-design-item x-shadowed\" itemprop=\"itemOffered\" itemscope=\"\" itemtype=\"https://schema.org/Product\"><a class=\"design-link\" title=\"Choose Design\" aria-label=\"Choose Design\" href=\"/en/fabric/8619105-flight-feathers-painted-by-xoxotique\"><img class=\"item-pic\" src=\"https://garden.spoonflower.com/c/8619105/p/f/m/NUu1oq25DLc3XY_GqHb80TurCCCt4L_RDFBNcLV7MW7H4sy5zs8QGFAr/Flight%20of%20Feathers%20Painted.jpg\" alt=\"feathers,overlapping,overlapped,watercolor,painted,paint splatters,blotchy,collage,colorful,vibrant,tribal,r dc - feathers,minky,bohemian\" aria-label=\"Flight of Feathers Painted\" itemprop=\"image\" height=\"294\" width=\"294\"></a><div class=\"design-item-text\"><em class=\"design-item-product-name\" itemprop=\"category material\">Fabric</em><a class=\"design-link\" title=\"Choose Design\" aria-label=\"Choose Design\" href=\"/en/fabric/8619105-flight-feathers-painted-by-xoxotique\"><span itemprop=\"name\">Flight of Feathers Painted</span></a><span class=\"visuallyhidden\" itemprop=\"productID\">8619105</span><p class=\"item-author-wrapper\">by<a class=\"item-author\" title=\"To the profile of xoxotique\" aria-label=\"To the profile of xoxotique\" itemprop=\"brand\" href=\"/profiles/xoxotique\">xoxotique</a></p></div><a class=\"all-products-link\" href=\"/en/products/8619105-flight-feathers-painted-by-xoxotique\">See on all products</a></div><div class=\"b-design-item x-shadowed\" itemprop=\"itemOffered\" itemscope=\"\" itemtype=\"https://schema.org/Product\"><a class=\"design-link\" title=\"Choose Design\" aria-label=\"Choose Design\" href=\"/en/fabric/2623675-black-white-music-notes-by-inspirationz\"><img class=\"item-pic\" src=\"https://garden.spoonflower.com/c/2623675/p/f/m/OKdtgbfPBFZUON1OPaLU6rb00AvltILNVX0PIdUvPsFcI0lSXlvkySua/Black%20and%20white%20Music%20Notes.jpg\" alt=\"musician,piano,music,musical,sheet music,music notes,musical notes,black and white,black,white,instrument,pianist,notation\" aria-label=\"Black and white Music Notes\" itemprop=\"image\" height=\"294\" width=\"294\"></a><div class=\"design-item-text\"><em class=\"design-item-product-name\" itemprop=\"category material\">Fabric</em><a class=\"design-link\" title=\"Choose Design\" aria-label=\"Choose Design\" href=\"/en/fabric/2623675-black-white-music-notes-by-inspirationz\"><span itemprop=\"name\">Black and white Music Notes</span></a><span class=\"visuallyhidden\" itemprop=\"productID\">2623675</span><p class=\"item-author-wrapper\">by<a class=\"item-author\" title=\"To the profile of inspirationz\" aria-label=\"To the profile of inspirationz\" itemprop=\"brand\" href=\"/profiles/inspirationz\">inspirationz</a></p></div><a class=\"all-products-link\" href=\"/en/products/2623675-black-white-music-notes-by-inspirationz\">See on all products</a></div><div class=\"b-design-item x-shadowed\" itemprop=\"itemOffered\" itemscope=\"\" itemtype=\"https://schema.org/Product\"><a class=\"design-link\" title=\"Choose Design\" aria-label=\"Choose Design\" href=\"/en/fabric/509390-spoonflower-color-map-by-spoonflower_help\"><img class=\"item-pic\" src=\"https://garden.spoonflower.com/c/509390/p/f/m/pazvAyyVLN2zA0bECfdVrwypUcYE7WLGmfgZUh5spbxm-SSY3XqY/Spoonflower%20Color%20Map.jpg\" alt=\"color,color map,color tool,color management,color chart,map\" aria-label=\"Spoonflower Color Map\" itemprop=\"image\" height=\"294\" width=\"294\"></a><div class=\"design-item-text\"><em class=\"design-item-product-name\" itemprop=\"category material\">Fabric</em><a class=\"design-link\" title=\"Choose Design\" aria-label=\"Choose Design\" href=\"/en/fabric/509390-spoonflower-color-map-by-spoonflower_help\"><span itemprop=\"name\">Spoonflower Color Map</span></a><span class=\"visuallyhidden\" itemprop=\"productID\">509390</span><p class=\"item-author-wrapper\">by<a class=\"item-author\" title=\"To the profile of spoonflower_help\" aria-label=\"To the profile of spoonflower_help\" itemprop=\"brand\" href=\"/profiles/spoonflower_help\">spoonflower_help</a></p></div><a class=\"all-products-link\" href=\"/en/products/509390-spoonflower-color-map-by-spoonflower_help\">See on all products</a></div><div class=\"b-design-item x-shadowed\" itemprop=\"itemOffered\" itemscope=\"\" itemtype=\"https://schema.org/Product\"><a class=\"design-link\" title=\"Choose Design\" aria-label=\"Choose Design\" href=\"/en/fabric/3817098-math-count-on-by-sammyk\"><img class=\"item-pic\" src=\"https://garden.spoonflower.com/c/3817098/p/f/m/tRDgl0Snzuvia7eLRqMPpW6XhrclYzmAEQZNS1QOOlB_Q0rrvCOBAA/Math%3A%20Count%20On%20It!.jpg\" alt=\"math,mathematics,numbers,science,r-iwd-19\" aria-label=\"Math: Count On It!\" itemprop=\"image\" height=\"294\" width=\"294\"></a><div class=\"design-item-text\"><em class=\"design-item-product-name\" itemprop=\"category material\">Fabric</em><a class=\"design-link\" title=\"Choose Design\" aria-label=\"Choose Design\" href=\"/en/fabric/3817098-math-count-on-by-sammyk\"><span itemprop=\"name\">Math: Count On It!</span></a><span class=\"visuallyhidden\" itemprop=\"productID\">3817098</span><p class=\"item-author-wrapper\">by<a class=\"item-author\" title=\"To the profile of sammyk\" aria-label=\"To the profile of sammyk\" itemprop=\"brand\" href=\"/profiles/sammyk\">sammyk</a></p></div><a class=\"all-products-link\" href=\"/en/products/3817098-math-count-on-by-sammyk\">See on all products</a></div><div class=\"b-design-item x-shadowed\" itemprop=\"itemOffered\" itemscope=\"\" itemtype=\"https://schema.org/Product\"><a class=\"design-link\" title=\"Choose Design\" aria-label=\"Choose Design\" href=\"/en/fabric/5048115-mexican-blanket-by-anchored_by_love\"><img class=\"item-pic\" src=\"https://garden.spoonflower.com/c/5048115/p/f/m/CDgdKLYcYwL7zvC74qEViA25AKfOtworqqLdt3S22BtGWU9fnUB6k36Q/Mexican%20Blanket.jpg\" alt=\"mexican,mexican blanket,fiesta,mexican fiesta,colorful stripe,multi color,tex mex\" aria-label=\"Mexican Blanket\" itemprop=\"image\" height=\"294\" width=\"294\"></a><div class=\"design-item-text\"><em class=\"design-item-product-name\" itemprop=\"category material\">Fabric</em><a class=\"design-link\" title=\"Choose Design\" aria-label=\"Choose Design\" href=\"/en/fabric/5048115-mexican-blanket-by-anchored_by_love\"><span itemprop=\"name\">Mexican Blanket</span></a><span class=\"visuallyhidden\" itemprop=\"productID\">5048115</span><p class=\"item-author-wrapper\">by<a class=\"item-author\" title=\"To the profile of anchored_by_love\" aria-label=\"To the profile of anchored_by_love\" itemprop=\"brand\" href=\"/profiles/anchored_by_love\">anchored_by_love</a></p></div><a class=\"all-products-link\" href=\"/en/products/5048115-mexican-blanket-by-anchored_by_love\">See on all products</a></div><div class=\"b-design-item x-shadowed\" itemprop=\"itemOffered\" itemscope=\"\" itemtype=\"https://schema.org/Product\"><a class=\"design-link\" title=\"Choose Design\" aria-label=\"Choose Design\" href=\"/en/fabric/5131007-scandinavian-sweet-hedgehog-illustration-kids-gender-neutral-black-white-by-littlesmilemakers\"><img class=\"item-pic\" src=\"https://garden.spoonflower.com/c/5131007/p/f/m/AbYgNBVK9-wJYszOfUNZXwlWnKCZ3DJw1kKajSNzibvfmy-wEgkBN9-5/Scandinavian%20sweet%20hedgehog%20illustration%20for%20kids%20gender%20neutral%20black%20and%20white.jpg\" alt=\"hedgehog,kids,gender neutral,black and white,baby,scandinavian,spring,porcupine,winter,autumn,sfaut15,sheep,goat,dream,sfaut1915off\" aria-label=\"Scandinavian sweet hedgehog illustration for kids gender neutral black and white\" itemprop=\"image\" height=\"294\" width=\"294\"></a><div class=\"design-item-text\"><em class=\"design-item-product-name\" itemprop=\"category material\">Fabric</em><a class=\"design-link\" title=\"Choose Design\" aria-label=\"Choose Design\" href=\"/en/fabric/5131007-scandinavian-sweet-hedgehog-illustration-kids-gender-neutral-black-white-by-littlesmilemakers\"><span itemprop=\"name\">Scandinavian sweet hedgehog illustration for kids gender neutral black and white</span></a><span class=\"visuallyhidden\" itemprop=\"productID\">5131007</span><p class=\"item-author-wrapper\">by<a class=\"item-author\" title=\"To the profile of littlesmilemakers\" aria-label=\"To the profile of littlesmilemakers\" itemprop=\"brand\" href=\"/profiles/littlesmilemakers\">littlesmilemakers</a></p></div><a class=\"all-products-link\" href=\"/en/products/5131007-scandinavian-sweet-hedgehog-illustration-kids-gender-neutral-black-white-by-littlesmilemakers\">See on all products</a></div><div class=\"b-design-item x-shadowed\" itemprop=\"itemOffered\" itemscope=\"\" itemtype=\"https://schema.org/Product\"><a class=\"design-link\" title=\"Choose Design\" aria-label=\"Choose Design\" href=\"/en/fabric/5312944-thank-being-friend-small-by-elladorine\"><img class=\"item-pic\" src=\"https://garden.spoonflower.com/c/5312944/p/f/m/1dIZMPBnPLmn5FKs_aqS8Au4elQUi5w_b8jgMbRXMWCfAGGOJCMrfhT1kv8/Thank%20You%20for%20Being%20a%20Friend%20(small).jpg\" alt=\"thank you,rose nylund,blanche,dorothy,golden girls,sofia,sophia\" aria-label=\"Thank You for Being a Friend (small)\" itemprop=\"image\" height=\"294\" width=\"294\"></a><div class=\"design-item-text\"><em class=\"design-item-product-name\" itemprop=\"category material\">Fabric</em><a class=\"design-link\" title=\"Choose Design\" aria-label=\"Choose Design\" href=\"/en/fabric/5312944-thank-being-friend-small-by-elladorine\"><span itemprop=\"name\">Thank You for Being a Friend (small)</span></a><span class=\"visuallyhidden\" itemprop=\"productID\">5312944</span><p class=\"item-author-wrapper\">by<a class=\"item-author\" title=\"To the profile of elladorine\" aria-label=\"To the profile of elladorine\" itemprop=\"brand\" href=\"/profiles/elladorine\">elladorine</a></p></div><a class=\"all-products-link\" href=\"/en/products/5312944-thank-being-friend-small-by-elladorine\">See on all products</a></div><div class=\"b-design-item x-shadowed\" itemprop=\"itemOffered\" itemscope=\"\" itemtype=\"https://schema.org/Product\"><a class=\"design-link\" title=\"Choose Design\" aria-label=\"Choose Design\" href=\"/en/fabric/4981816-black-white-dogs-by-littleislandcompany\"><img class=\"item-pic\" src=\"https://garden.spoonflower.com/c/4981816/p/f/m/dptfVFkD8_rH6gJ8bCyLB6D5U_Q0rs1Eqwkxlq8OqTU-oh6UUO0/Black%20and%20White%20Dogs.jpg\" alt=\"black dogs,happy dogs,dog print,dog illustration,dog faces,funny dogs,hand drawn dogs,dog decor,dog design,dogs variety,dog,dogs,black and white dogs\" aria-label=\"Black and White Dogs\" itemprop=\"image\" height=\"294\" width=\"294\"></a><div class=\"design-item-text\"><em class=\"design-item-product-name\" itemprop=\"category material\">Fabric</em><a class=\"design-link\" title=\"Choose Design\" aria-label=\"Choose Design\" href=\"/en/fabric/4981816-black-white-dogs-by-littleislandcompany\"><span itemprop=\"name\">Black and White Dogs</span></a><span class=\"visuallyhidden\" itemprop=\"productID\">4981816</span><p class=\"item-author-wrapper\">by<a class=\"item-author\" title=\"To the profile of littleislandcompany\" aria-label=\"To the profile of littleislandcompany\" itemprop=\"brand\" href=\"/profiles/littleislandcompany\">littleislandcompany</a></p></div><a class=\"all-products-link\" href=\"/en/products/4981816-black-white-dogs-by-littleislandcompany\">See on all products</a></div><div class=\"b-design-item x-shadowed\" itemprop=\"itemOffered\" itemscope=\"\" itemtype=\"https://schema.org/Product\"><a class=\"design-link\" title=\"Choose Design\" aria-label=\"Choose Design\" href=\"/en/fabric/5880084-mod-triangles-gold-indigo-by-crystal_walen\"><img class=\"item-pic\" src=\"https://garden.spoonflower.com/c/5880084/p/f/m/mbtslPxtkz6eqy_Dpn19vw0kusDAPD-UY062OCxaBAFxcrLc-hI/Mod%20Triangles%20Gold%20Indigo.jpg\" alt=\"geometric,gold,mid-century,home decor,indigo,triangles,idcrystalwalen19geometrics\" aria-label=\"Mod Triangles Gold Indigo\" itemprop=\"image\" height=\"294\" width=\"294\"></a><div class=\"design-item-text\"><em class=\"design-item-product-name\" itemprop=\"category material\">Fabric</em><a class=\"design-link\" title=\"Choose Design\" aria-label=\"Choose Design\" href=\"/en/fabric/5880084-mod-triangles-gold-indigo-by-crystal_walen\"><span itemprop=\"name\">Mod Triangles Gold Indigo</span></a><span class=\"visuallyhidden\" itemprop=\"productID\">5880084</span><p class=\"item-author-wrapper\">by<a class=\"item-author\" title=\"To the profile of crystal_walen\" aria-label=\"To the profile of crystal_walen\" itemprop=\"brand\" href=\"/profiles/crystal_walen\">crystal_walen</a></p></div><a class=\"all-products-link\" href=\"/en/products/5880084-mod-triangles-gold-indigo-by-crystal_walen\">See on all products</a></div><div class=\"b-design-item x-shadowed\" itemprop=\"itemOffered\" itemscope=\"\" itemtype=\"https://schema.org/Product\"><a class=\"design-link\" title=\"Choose Design\" aria-label=\"Choose Design\" href=\"/en/fabric/6715163-8-wild-heart-florals-white-by-shopcabin\"><img class=\"item-pic\" src=\"https://garden.spoonflower.com/c/6715163/p/f/m/pQEa8ZMwXtDzNKw2EPpNvRMQrV7AornOXlaYlipdwlM9__GymmYzcA/8%22%20Wild%20at%20Heart%20Florals%20%2F%20White.jpg\" alt=\"florals,burgundy,pink,boho,flowers,nursery,autumn,sfaut15,shopcabin,baby,blanket,wallpaper,bestseller,bedding,sfaut1915off\" aria-label=\"8&quot; Wild at Heart Florals / White\" itemprop=\"image\" height=\"294\" width=\"294\"></a><div class=\"design-item-text\"><em class=\"design-item-product-name\" itemprop=\"category material\">Fabric</em><a class=\"design-link\" title=\"Choose Design\" aria-label=\"Choose Design\" href=\"/en/fabric/6715163-8-wild-heart-florals-white-by-shopcabin\"><span itemprop=\"name\">8\" Wild at Heart Florals / White</span></a><span class=\"visuallyhidden\" itemprop=\"productID\">6715163</span><p class=\"item-author-wrapper\">by<a class=\"item-author\" title=\"To the profile of shopcabin\" aria-label=\"To the profile of shopcabin\" itemprop=\"brand\" href=\"/profiles/shopcabin\">shopcabin</a></p></div><a class=\"all-products-link\" href=\"/en/products/6715163-8-wild-heart-florals-white-by-shopcabin\">See on all products</a></div><div class=\"b-design-item x-shadowed\" itemprop=\"itemOffered\" itemscope=\"\" itemtype=\"https://schema.org/Product\"><a class=\"design-link\" title=\"Choose Design\" aria-label=\"Choose Design\" href=\"/en/fabric/4830872-cherry-blossom-watercolor-cherry-blossom-floral-by-magentarosedesigns\"><img class=\"item-pic\" src=\"https://garden.spoonflower.com/c/4830872/p/f/m/qu7seRbNmS9s793yBT_nGZfL1x9lMSRzEk67f4G90GeIA50YsBAcysuZHfzqmg/cherry%20blossom%20watercolor%20%20%2F%2F%20cherry%20blossom%20floral.jpg\" alt=\"cherry blossom,floral,pink,magenta rose designs,watercolor flowers,spring blossom,gardening,pink cherry blossom,flowers,botanical,babies,watercolor,chinoiserie\" aria-label=\"cherry blossom watercolor  // cherry blossom floral\" itemprop=\"image\" height=\"294\" width=\"294\"></a><div class=\"design-item-text\"><em class=\"design-item-product-name\" itemprop=\"category material\">Fabric</em><a class=\"design-link\" title=\"Choose Design\" aria-label=\"Choose Design\" href=\"/en/fabric/4830872-cherry-blossom-watercolor-cherry-blossom-floral-by-magentarosedesigns\"><span itemprop=\"name\">cherry blossom watercolor  // cherry blossom floral</span></a><span class=\"visuallyhidden\" itemprop=\"productID\">4830872</span><p class=\"item-author-wrapper\">by<a class=\"item-author\" title=\"To the profile of magentarosedesigns\" aria-label=\"To the profile of magentarosedesigns\" itemprop=\"brand\" href=\"/profiles/magentarosedesigns\">magentarosedesigns</a></p></div><a class=\"all-products-link\" href=\"/en/products/4830872-cherry-blossom-watercolor-cherry-blossom-floral-by-magentarosedesigns\">See on all products</a></div><div class=\"b-design-item x-shadowed\" itemprop=\"itemOffered\" itemscope=\"\" itemtype=\"https://schema.org/Product\"><a class=\"design-link\" title=\"Choose Design\" aria-label=\"Choose Design\" href=\"/en/fabric/8197261-night-sky-stars-midnight-blue-by-at_the_cottage\"><img class=\"item-pic\" src=\"https://garden.spoonflower.com/c/8197261/p/f/m/xlJ4AnTMIYHLkSju9lvzCq9fGQxCGMBDhbb2RkpN-i1K5y3NGpE/Night%20Sky%20Stars%20Midnight%20Blue.jpg\" alt=\"stars,night sky,midnight blue,dark blue,star dots,astrological,nursery,baby quilt,hand-drawn,sky,cosmos,night star,turquoise\" aria-label=\"Night Sky Stars Midnight Blue\" itemprop=\"image\" height=\"294\" width=\"294\"></a><div class=\"design-item-text\"><em class=\"design-item-product-name\" itemprop=\"category material\">Fabric</em><a class=\"design-link\" title=\"Choose Design\" aria-label=\"Choose Design\" href=\"/en/fabric/8197261-night-sky-stars-midnight-blue-by-at_the_cottage\"><span itemprop=\"name\">Night Sky Stars Midnight Blue</span></a><span class=\"visuallyhidden\" itemprop=\"productID\">8197261</span><p class=\"item-author-wrapper\">by<a class=\"item-author\" title=\"To the profile of at_the_cottage\" aria-label=\"To the profile of at_the_cottage\" itemprop=\"brand\" href=\"/profiles/at_the_cottage\">at_the_cottage</a></p></div><a class=\"all-products-link\" href=\"/en/products/8197261-night-sky-stars-midnight-blue-by-at_the_cottage\">See on all products</a></div><div class=\"b-design-item x-shadowed\" itemprop=\"itemOffered\" itemscope=\"\" itemtype=\"https://schema.org/Product\"><a class=\"design-link\" title=\"Choose Design\" aria-label=\"Choose Design\" href=\"/en/fabric/5544045-napoleonic-bees-faux-gilt-on-blackest-black-by-peacoquettedesigns\"><img class=\"item-pic\" src=\"https://garden.spoonflower.com/c/5544045/p/f/m/KX1rHgujnSU6UQ7m2TVb9PFD9P2s_cnakYtnDRfgb67pOfR-5OCf5g/Napoleonic%20Bees%20~%20Faux%20Gilt%20on%20Blackest%20Black.jpg\" alt=\"napoleon,bee,gilt,blackest black,black,antique,gold,ry291,r - glam s19,idhollywood19,k485\" aria-label=\"Napoleonic Bees ~ Faux Gilt on Blackest Black\" itemprop=\"image\" height=\"294\" width=\"294\"></a><div class=\"design-item-text\"><em class=\"design-item-product-name\" itemprop=\"category material\">Fabric</em><a class=\"design-link\" title=\"Choose Design\" aria-label=\"Choose Design\" href=\"/en/fabric/5544045-napoleonic-bees-faux-gilt-on-blackest-black-by-peacoquettedesigns\"><span itemprop=\"name\">Napoleonic Bees ~ Faux Gilt on Blackest Black</span></a><span class=\"visuallyhidden\" itemprop=\"productID\">5544045</span><p class=\"item-author-wrapper\">by<a class=\"item-author\" title=\"To the profile of peacoquettedesigns\" aria-label=\"To the profile of peacoquettedesigns\" itemprop=\"brand\" href=\"/profiles/peacoquettedesigns\">peacoquettedesigns</a></p></div><a class=\"all-products-link\" href=\"/en/products/5544045-napoleonic-bees-faux-gilt-on-blackest-black-by-peacoquettedesigns\">See on all products</a></div><div class=\"b-design-item x-shadowed\" itemprop=\"itemOffered\" itemscope=\"\" itemtype=\"https://schema.org/Product\"><a class=\"design-link\" title=\"Choose Design\" aria-label=\"Choose Design\" href=\"/en/fabric/6650888-love-nurse-whimsy-blue-by-phyllisdobbs\"><img class=\"item-pic\" src=\"https://garden.spoonflower.com/c/6650888/p/f/m/yTSpjN5DIe46uxfBwLfnixH9Vtog5lp8ZXU5jJJDiQm9s4Bzstgtmw/Love%20a%20Nurse%20Whimsy%20Blue.jpg\" alt=\"love a nurse,whimsical medical art,vintage nurse caps,nurse words,cute fun whimsy,colorful,nursing,turquoise red,white multicolor,blue background,nurse art,nursing profession\" aria-label=\"Love a Nurse Whimsy Blue\" itemprop=\"image\" height=\"294\" width=\"294\"></a><div class=\"design-item-text\"><em class=\"design-item-product-name\" itemprop=\"category material\">Fabric</em><a class=\"design-link\" title=\"Choose Design\" aria-label=\"Choose Design\" href=\"/en/fabric/6650888-love-nurse-whimsy-blue-by-phyllisdobbs\"><span itemprop=\"name\">Love a Nurse Whimsy Blue</span></a><span class=\"visuallyhidden\" itemprop=\"productID\">6650888</span><p class=\"item-author-wrapper\">by<a class=\"item-author\" title=\"To the profile of phyllisdobbs\" aria-label=\"To the profile of phyllisdobbs\" itemprop=\"brand\" href=\"/profiles/phyllisdobbs\">phyllisdobbs</a></p></div><a class=\"all-products-link\" href=\"/en/products/6650888-love-nurse-whimsy-blue-by-phyllisdobbs\">See on all products</a></div><div class=\"b-design-item x-shadowed\" itemprop=\"itemOffered\" itemscope=\"\" itemtype=\"https://schema.org/Product\"><a class=\"design-link\" title=\"Choose Design\" aria-label=\"Choose Design\" href=\"/en/fabric/6782514-eame-s-wildflower-meadow-by-hipkiddesigns\"><img class=\"item-pic\" src=\"https://garden.spoonflower.com/c/6782514/p/f/m/P6EeAeD5pfBMC7-K17pWNz98o7QZPAJshQUP83iTSwW51KGAiXCW8A/Eame\\'s%20Wildflower%20Meadow.jpg\" alt=\"wild flower,wild flowers,floral,spring,flowers,colorful,cheerful,watercolor easter,florals,meadow,baby girl,watercolor floral,greenery\" aria-label=\"Eame\\'s Wildflower Meadow\" itemprop=\"image\" height=\"294\" width=\"294\"></a><div class=\"design-item-text\"><em class=\"design-item-product-name\" itemprop=\"category material\">Fabric</em><a class=\"design-link\" title=\"Choose Design\" aria-label=\"Choose Design\" href=\"/en/fabric/6782514-eame-s-wildflower-meadow-by-hipkiddesigns\"><span itemprop=\"name\">Eame\\'s Wildflower Meadow</span></a><span class=\"visuallyhidden\" itemprop=\"productID\">6782514</span><p class=\"item-author-wrapper\">by<a class=\"item-author\" title=\"To the profile of hipkiddesigns\" aria-label=\"To the profile of hipkiddesigns\" itemprop=\"brand\" href=\"/profiles/hipkiddesigns\">hipkiddesigns</a></p></div><a class=\"all-products-link\" href=\"/en/products/6782514-eame-s-wildflower-meadow-by-hipkiddesigns\">See on all products</a></div><div class=\"b-design-item x-shadowed\" itemprop=\"itemOffered\" itemscope=\"\" itemtype=\"https://schema.org/Product\"><a class=\"design-link\" title=\"Choose Design\" aria-label=\"Choose Design\" href=\"/en/fabric/1096407-skull-wall-by-ben_goetting\"><img class=\"item-pic\" src=\"https://garden.spoonflower.com/c/1096407/p/f/m/QWIj_xVpkffMx3HyxfFIbSoFylbcIK5z6X1MecrPhf2PaBVxGGmngA9N/Skull%20Wall.jpg\" alt=\"goth,punk,skulls,metal,halloween,evil,sf926hal13\" aria-label=\"Skull Wall\" itemprop=\"image\" height=\"294\" width=\"294\"></a><div class=\"design-item-text\"><em class=\"design-item-product-name\" itemprop=\"category material\">Fabric</em><a class=\"design-link\" title=\"Choose Design\" aria-label=\"Choose Design\" href=\"/en/fabric/1096407-skull-wall-by-ben_goetting\"><span itemprop=\"name\">Skull Wall</span></a><span class=\"visuallyhidden\" itemprop=\"productID\">1096407</span><p class=\"item-author-wrapper\">by<a class=\"item-author\" title=\"To the profile of ben_goetting\" aria-label=\"To the profile of ben_goetting\" itemprop=\"brand\" href=\"/profiles/ben_goetting\">ben_goetting</a></p></div><a class=\"all-products-link\" href=\"/en/products/1096407-skull-wall-by-ben_goetting\">See on all products</a></div><div class=\"b-design-item x-shadowed\" itemprop=\"itemOffered\" itemscope=\"\" itemtype=\"https://schema.org/Product\"><a class=\"design-link\" title=\"Choose Design\" aria-label=\"Choose Design\" href=\"/en/fabric/5034356-80s-hair-dryers-by-cjldesigns\"><img class=\"item-pic\" src=\"https://garden.spoonflower.com/c/5034356/p/f/m/x237iCS45IFLEk8fjfgfs6HKxRioAKNmc5q0FlFnDc1BGIyJNPQ/80s%20hair%20dryers.jpg\" alt=\"1980s,80s,80s hairstyle,hair,hairstyle,big hair\" aria-label=\"80s hair dryers\" itemprop=\"image\" height=\"294\" width=\"294\"></a><div class=\"design-item-text\"><em class=\"design-item-product-name\" itemprop=\"category material\">Fabric</em><a class=\"design-link\" title=\"Choose Design\" aria-label=\"Choose Design\" href=\"/en/fabric/5034356-80s-hair-dryers-by-cjldesigns\"><span itemprop=\"name\">80s hair dryers</span></a><span class=\"visuallyhidden\" itemprop=\"productID\">5034356</span><p class=\"item-author-wrapper\">by<a class=\"item-author\" title=\"To the profile of cjldesigns\" aria-label=\"To the profile of cjldesigns\" itemprop=\"brand\" href=\"/profiles/cjldesigns\">cjldesigns</a></p></div><a class=\"all-products-link\" href=\"/en/products/5034356-80s-hair-dryers-by-cjldesigns\">See on all products</a></div><div class=\"b-design-item x-shadowed\" itemprop=\"itemOffered\" itemscope=\"\" itemtype=\"https://schema.org/Product\"><a class=\"design-link\" title=\"Choose Design\" aria-label=\"Choose Design\" href=\"/en/fabric/9119650-horror-friends-by-mariospeedwagon\"><img class=\"item-pic\" src=\"https://garden.spoonflower.com/c/9119650/p/f/m/21XwMC5jpFWH4XI6B478XYwySEXlTnmP2VMLDIerMEGNOdQ0BlPbBiMx/Horror%20Friends%20.jpg\" alt=\"halloween,halloween embroidery,halloweendc,quirky,serial killer,clown,creepy,spooky,horror,weird,scary movie,cult classic,murderer,wtf,nightmare,horror movie\" aria-label=\"Horror Friends \" itemprop=\"image\" height=\"294\" width=\"294\"></a><div class=\"design-item-text\"><em class=\"design-item-product-name\" itemprop=\"category material\">Fabric</em><a class=\"design-link\" title=\"Choose Design\" aria-label=\"Choose Design\" href=\"/en/fabric/9119650-horror-friends-by-mariospeedwagon\"><span itemprop=\"name\">Horror Friends </span></a><span class=\"visuallyhidden\" itemprop=\"productID\">9119650</span><p class=\"item-author-wrapper\">by<a class=\"item-author\" title=\"To the profile of mariospeedwagon\" aria-label=\"To the profile of mariospeedwagon\" itemprop=\"brand\" href=\"/profiles/mariospeedwagon\">mariospeedwagon</a></p></div><a class=\"all-products-link\" href=\"/en/products/9119650-horror-friends-by-mariospeedwagon\">See on all products</a></div><div class=\"b-design-item x-shadowed\" itemprop=\"itemOffered\" itemscope=\"\" itemtype=\"https://schema.org/Product\"><a class=\"design-link\" title=\"Choose Design\" aria-label=\"Choose Design\" href=\"/en/fabric/7587085-heres-heart-navy-white-gold2-sketch-1-by-doodleandcharm_\"><img class=\"item-pic\" src=\"https://garden.spoonflower.com/c/7587085/p/f/m/AxFPRAUbUG-4K1f2FVWcwp-B3kRkvR4mdQhIkuPVMSip1aW_h6lN-6b-/Heres%20my%20heart%20%20navy%20white%20gold2%20-%20Sketch%201.jpg\" alt=\"medical design,nurses design,here s my heartbeat,heartbeats,heartbeat graph,heartbeat pulse,medical profession,ekg,doctor design,nurse uniform,medical office,paramedics,doodleandcharm\" aria-label=\"Heres my heart  navy white gold2 - Sketch 1\" itemprop=\"image\" height=\"294\" width=\"294\"></a><div class=\"design-item-text\"><em class=\"design-item-product-name\" itemprop=\"category material\">Fabric</em><a class=\"design-link\" title=\"Choose Design\" aria-label=\"Choose Design\" href=\"/en/fabric/7587085-heres-heart-navy-white-gold2-sketch-1-by-doodleandcharm_\"><span itemprop=\"name\">Heres my heart  navy white gold2 - Sketch 1</span></a><span class=\"visuallyhidden\" itemprop=\"productID\">7587085</span><p class=\"item-author-wrapper\">by<a class=\"item-author\" title=\"To the profile of doodleandcharm_\" aria-label=\"To the profile of doodleandcharm_\" itemprop=\"brand\" href=\"/profiles/doodleandcharm_\">doodleandcharm_</a></p></div><a class=\"all-products-link\" href=\"/en/products/7587085-heres-heart-navy-white-gold2-sketch-1-by-doodleandcharm_\">See on all products</a></div><div class=\"b-design-item x-shadowed\" itemprop=\"itemOffered\" itemscope=\"\" itemtype=\"https://schema.org/Product\"><a class=\"design-link\" title=\"Choose Design\" aria-label=\"Choose Design\" href=\"/en/fabric/5588706-black-lives-matter-small-scale-by-ashleysummersdesign\"><img class=\"item-pic\" src=\"https://garden.spoonflower.com/c/5588706/p/f/m/Gbaf0Q5Sua0eCCfMby0Vus9VcmJ-bvA496tJyIankUy1xMQgBSjcKMAw/Black%20Lives%20Matter%20Small%20Scale.jpg\" alt=\"black lives matter,blm,resist,resist fist,women in history,black,pink,hand,fist,poc,revolution,power,feminist\" aria-label=\"Black Lives Matter Small Scale\" itemprop=\"image\" height=\"294\" width=\"294\"></a><div class=\"design-item-text\"><em class=\"design-item-product-name\" itemprop=\"category material\">Fabric</em><a class=\"design-link\" title=\"Choose Design\" aria-label=\"Choose Design\" href=\"/en/fabric/5588706-black-lives-matter-small-scale-by-ashleysummersdesign\"><span itemprop=\"name\">Black Lives Matter Small Scale</span></a><span class=\"visuallyhidden\" itemprop=\"productID\">5588706</span><p class=\"item-author-wrapper\">by<a class=\"item-author\" title=\"To the profile of ashleysummersdesign\" aria-label=\"To the profile of ashleysummersdesign\" itemprop=\"brand\" href=\"/profiles/ashleysummersdesign\">ashleysummersdesign</a></p></div><a class=\"all-products-link\" href=\"/en/products/5588706-black-lives-matter-small-scale-by-ashleysummersdesign\">See on all products</a></div><div class=\"b-design-item x-shadowed\" itemprop=\"itemOffered\" itemscope=\"\" itemtype=\"https://schema.org/Product\"><a class=\"design-link\" title=\"Choose Design\" aria-label=\"Choose Design\" href=\"/en/fabric/7790777-turtles-aqua-blue-by-gingerlique\"><img class=\"item-pic\" src=\"https://garden.spoonflower.com/c/7790777/p/f/m/te5JCNwBJBKwMQpdZGHG59dcNo6CxEhzqImdkEi7XFlz7lIETreDJ4GLCY4/Turtles%20in%20Aqua%20and%20Blue.jpg\" alt=\"turtles,sea,ocean,sea life,sea creature,aqua,blue,turquoise,purple,gingerlique,baby,underwater,scuba\" aria-label=\"Turtles in Aqua and Blue\" itemprop=\"image\" height=\"294\" width=\"294\"></a><div class=\"design-item-text\"><em class=\"design-item-product-name\" itemprop=\"category material\">Fabric</em><a class=\"design-link\" title=\"Choose Design\" aria-label=\"Choose Design\" href=\"/en/fabric/7790777-turtles-aqua-blue-by-gingerlique\"><span itemprop=\"name\">Turtles in Aqua and Blue</span></a><span class=\"visuallyhidden\" itemprop=\"productID\">7790777</span><p class=\"item-author-wrapper\">by<a class=\"item-author\" title=\"To the profile of gingerlique\" aria-label=\"To the profile of gingerlique\" itemprop=\"brand\" href=\"/profiles/gingerlique\">gingerlique</a></p></div><a class=\"all-products-link\" href=\"/en/products/7790777-turtles-aqua-blue-by-gingerlique\">See on all products</a></div><div class=\"b-design-item x-shadowed\" itemprop=\"itemOffered\" itemscope=\"\" itemtype=\"https://schema.org/Product\"><a class=\"design-link\" title=\"Choose Design\" aria-label=\"Choose Design\" href=\"/en/fabric/7463028-seamless-watercolor-larger-leaves-pattern-1-by-daily_miracles\"><img class=\"item-pic\" src=\"https://garden.spoonflower.com/c/7463028/p/f/m/2Wl9cmb7SGt_BQTqF-Zv7RWWcGKYXkkLcNOdu2FFlI7wHSwndDM/SEAMLESS%20watercolor%20Larger%20leaves%20Pattern-1.jpg\" alt=\"eucalyptus,boxwood,magnolia leaves,hand painted watercolor,bluegreen,sage green,greenery,sfaut15,greenery pattern,foliage,watercolor design,nursery,watercolor leaves,soft eucalyptus,idwatercolorwallpaper19\" aria-label=\"SEAMLESS watercolor Larger leaves Pattern-1\" itemprop=\"image\" height=\"294\" width=\"294\"></a><div class=\"design-item-text\"><em class=\"design-item-product-name\" itemprop=\"category material\">Fabric</em><a class=\"design-link\" title=\"Choose Design\" aria-label=\"Choose Design\" href=\"/en/fabric/7463028-seamless-watercolor-larger-leaves-pattern-1-by-daily_miracles\"><span itemprop=\"name\">SEAMLESS watercolor Larger leaves Pattern-1</span></a><span class=\"visuallyhidden\" itemprop=\"productID\">7463028</span><p class=\"item-author-wrapper\">by<a class=\"item-author\" title=\"To the profile of daily_miracles\" aria-label=\"To the profile of daily_miracles\" itemprop=\"brand\" href=\"/profiles/daily_miracles\">daily_miracles</a></p></div><a class=\"all-products-link\" href=\"/en/products/7463028-seamless-watercolor-larger-leaves-pattern-1-by-daily_miracles\">See on all products</a></div><div class=\"b-design-item x-shadowed\" itemprop=\"itemOffered\" itemscope=\"\" itemtype=\"https://schema.org/Product\"><a class=\"design-link\" title=\"Choose Design\" aria-label=\"Choose Design\" href=\"/en/fabric/7580754-ibd-gracie-grace-golden-jumbo-by-indybloomdesign\"><img class=\"item-pic\" src=\"https://garden.spoonflower.com/c/7580754/p/f/m/7RnCgBGXV4ZbGtklwEevg7GmYmaKYD_4WDbF4ATwsloniX4Sb6wUW3Io/IBD%20Gracie%20Grace%20Golden%20Jumbo.jpg\" alt=\"indy bloom design,bedding,wallpaper,jumbo,large,floral\" aria-label=\"IBD Gracie Grace Golden Jumbo\" itemprop=\"image\" height=\"294\" width=\"294\"></a><div class=\"design-item-text\"><em class=\"design-item-product-name\" itemprop=\"category material\">Fabric</em><a class=\"design-link\" title=\"Choose Design\" aria-label=\"Choose Design\" href=\"/en/fabric/7580754-ibd-gracie-grace-golden-jumbo-by-indybloomdesign\"><span itemprop=\"name\">IBD Gracie Grace Golden Jumbo</span></a><span class=\"visuallyhidden\" itemprop=\"productID\">7580754</span><p class=\"item-author-wrapper\">by<a class=\"item-author\" title=\"To the profile of indybloomdesign\" aria-label=\"To the profile of indybloomdesign\" itemprop=\"brand\" href=\"/profiles/indybloomdesign\">indybloomdesign</a></p></div><a class=\"all-products-link\" href=\"/en/products/7580754-ibd-gracie-grace-golden-jumbo-by-indybloomdesign\">See on all products</a></div><div class=\"b-design-item x-shadowed\" itemprop=\"itemOffered\" itemscope=\"\" itemtype=\"https://schema.org/Product\"><a class=\"design-link\" title=\"Choose Design\" aria-label=\"Choose Design\" href=\"/en/fabric/7137898-sierra-floral-by-crystal_walen\"><img class=\"item-pic\" src=\"https://garden.spoonflower.com/c/7137898/p/f/m/z8Kj6R-jHwYNVU9ljB3m77KjwiUr2p81ccf3HsQp4D9s7AzpUxKqqg/Sierra%20Floral.jpg\" alt=\"floral,flower,pastel,navy,mustard,boho\" aria-label=\"Sierra Floral\" itemprop=\"image\" height=\"294\" width=\"294\"></a><div class=\"design-item-text\"><em class=\"design-item-product-name\" itemprop=\"category material\">Fabric</em><a class=\"design-link\" title=\"Choose Design\" aria-label=\"Choose Design\" href=\"/en/fabric/7137898-sierra-floral-by-crystal_walen\"><span itemprop=\"name\">Sierra Floral</span></a><span class=\"visuallyhidden\" itemprop=\"productID\">7137898</span><p class=\"item-author-wrapper\">by<a class=\"item-author\" title=\"To the profile of crystal_walen\" aria-label=\"To the profile of crystal_walen\" itemprop=\"brand\" href=\"/profiles/crystal_walen\">crystal_walen</a></p></div><a class=\"all-products-link\" href=\"/en/products/7137898-sierra-floral-by-crystal_walen\">See on all products</a></div><div class=\"b-design-item x-shadowed\" itemprop=\"itemOffered\" itemscope=\"\" itemtype=\"https://schema.org/Product\"><a class=\"design-link\" title=\"Choose Design\" aria-label=\"Choose Design\" href=\"/en/fabric/9060289-saints-fleur-de-lis-new-orleans-saints-football-football-fabric-fleur-de-lis-fabric-black-gold-gold-f-by-charlottewinter\"><img class=\"item-pic\" src=\"https://garden.spoonflower.com/c/9060289/p/f/m/PLjU6Zpn6n2JKkT9HHSOaoqpzPu6tmUNOIGErOxTCcSu9yQd1nfei2WY/saints%20fleur%20de%20lis%20-%20new%20orleans%20saints%2C%20football%2C%20football%20fabric%2C%20fleur%20de%20lis%20fabric%2C%20black%20and%20gold%2C%20gold%20fleur%20de%20lis.jpg\" alt=\"saints,new orleans,football,american football,black and gold fleur,fleur de lis,fleur\" aria-label=\"saints fleur de lis - new orleans saints, football, football fabric, fleur de lis fabric, black and gold, gold fleur de lis\" itemprop=\"image\" height=\"294\" width=\"294\"></a><div class=\"design-item-text\"><em class=\"design-item-product-name\" itemprop=\"category material\">Fabric</em><a class=\"design-link\" title=\"Choose Design\" aria-label=\"Choose Design\" href=\"/en/fabric/9060289-saints-fleur-de-lis-new-orleans-saints-football-football-fabric-fleur-de-lis-fabric-black-gold-gold-f-by-charlottewinter\"><span itemprop=\"name\">saints fleur de lis - new orleans saints, football, football fabric, fleur de lis fabric, black and gold, gold fleur de lis</span></a><span class=\"visuallyhidden\" itemprop=\"productID\">9060289</span><p class=\"item-author-wrapper\">by<a class=\"item-author\" title=\"To the profile of charlottewinter\" aria-label=\"To the profile of charlottewinter\" itemprop=\"brand\" href=\"/profiles/charlottewinter\">charlottewinter</a></p></div><a class=\"all-products-link\" href=\"/en/products/9060289-saints-fleur-de-lis-new-orleans-saints-football-football-fabric-fleur-de-lis-fabric-black-gold-gold-f-by-charlottewinter\">See on all products</a></div><div class=\"b-design-item x-shadowed\" itemprop=\"itemOffered\" itemscope=\"\" itemtype=\"https://schema.org/Product\"><a class=\"design-link\" title=\"Choose Design\" aria-label=\"Choose Design\" href=\"/en/fabric/5964319-hearts-on-grey-linen-valentines-day-by-littlearrowdesign\"><img class=\"item-pic\" src=\"https://garden.spoonflower.com/c/5964319/p/f/m/1ASaxF9sUytwJOOAC3tiHWADOv1W3Gi6rMJEPiUTJFtGb40u1lshE2muEH9VVA/hearts%20on%20grey%20linen%20%7C%7C%20valentines%20day.jpg\" alt=\"valentine,monochrome,cute,little hearts,linen,grey,small\" aria-label=\"hearts on grey linen || valentines day\" itemprop=\"image\" height=\"294\" width=\"294\"></a><div class=\"design-item-text\"><em class=\"design-item-product-name\" itemprop=\"category material\">Fabric</em><a class=\"design-link\" title=\"Choose Design\" aria-label=\"Choose Design\" href=\"/en/fabric/5964319-hearts-on-grey-linen-valentines-day-by-littlearrowdesign\"><span itemprop=\"name\">hearts on grey linen || valentines day</span></a><span class=\"visuallyhidden\" itemprop=\"productID\">5964319</span><p class=\"item-author-wrapper\">by<a class=\"item-author\" title=\"To the profile of littlearrowdesign\" aria-label=\"To the profile of littlearrowdesign\" itemprop=\"brand\" href=\"/profiles/littlearrowdesign\">littlearrowdesign</a></p></div><a class=\"all-products-link\" href=\"/en/products/5964319-hearts-on-grey-linen-valentines-day-by-littlearrowdesign\">See on all products</a></div><div class=\"b-design-item x-shadowed\" itemprop=\"itemOffered\" itemscope=\"\" itemtype=\"https://schema.org/Product\"><a class=\"design-link\" title=\"Choose Design\" aria-label=\"Choose Design\" href=\"/en/fabric/6852245-cute-nurse-love-black-no-gradient-by-jannasalak\"><img class=\"item-pic\" src=\"https://garden.spoonflower.com/c/6852245/p/f/m/G0IqdKNPipnb_LJYiOU2PSA7BkgLplXMdpOcrpWEcGyE_a5oCshG7g/Cute%20Nurse%20Love%20Black%20-%20No%20Gradient.jpg\" alt=\"nurse,nurses,cute,,rn,registered nurse,nurse gifts\" aria-label=\"Cute Nurse Love Black - No Gradient\" itemprop=\"image\" height=\"294\" width=\"294\"></a><div class=\"design-item-text\"><em class=\"design-item-product-name\" itemprop=\"category material\">Fabric</em><a class=\"design-link\" title=\"Choose Design\" aria-label=\"Choose Design\" href=\"/en/fabric/6852245-cute-nurse-love-black-no-gradient-by-jannasalak\"><span itemprop=\"name\">Cute Nurse Love Black - No Gradient</span></a><span class=\"visuallyhidden\" itemprop=\"productID\">6852245</span><p class=\"item-author-wrapper\">by<a class=\"item-author\" title=\"To the profile of jannasalak\" aria-label=\"To the profile of jannasalak\" itemprop=\"brand\" href=\"/profiles/jannasalak\">jannasalak</a></p></div><a class=\"all-products-link\" href=\"/en/products/6852245-cute-nurse-love-black-no-gradient-by-jannasalak\">See on all products</a></div><div class=\"b-design-item x-shadowed\" itemprop=\"itemOffered\" itemscope=\"\" itemtype=\"https://schema.org/Product\"><a class=\"design-link\" title=\"Choose Design\" aria-label=\"Choose Design\" href=\"/en/fabric/4270747-happy-hair-stylist-friends-blue-by-clayvision_-_ahappybluetree\"><img class=\"item-pic\" src=\"https://garden.spoonflower.com/c/4270747/p/f/m/55z7URTAmXNvkkpvPDM3k10rtlCfyvc_VzgfilaN15lQWllBRs5O71wA/Happy%20Hair%20Stylist%20Friends%20-%20Blue.jpg\" alt=\"hairdresser,scissors,shampoo,comb,cute kawaii,beauty salon,hair cut\" aria-label=\"Happy Hair Stylist Friends - Blue\" itemprop=\"image\" height=\"294\" width=\"294\"></a><div class=\"design-item-text\"><em class=\"design-item-product-name\" itemprop=\"category material\">Fabric</em><a class=\"design-link\" title=\"Choose Design\" aria-label=\"Choose Design\" href=\"/en/fabric/4270747-happy-hair-stylist-friends-blue-by-clayvision_-_ahappybluetree\"><span itemprop=\"name\">Happy Hair Stylist Friends - Blue</span></a><span class=\"visuallyhidden\" itemprop=\"productID\">4270747</span><p class=\"item-author-wrapper\">by<a class=\"item-author\" title=\"To the profile of clayvision_&amp;_ahappybluetree\" aria-label=\"To the profile of clayvision_&amp;_ahappybluetree\" itemprop=\"brand\" href=\"/profiles/clayvision_&amp;_ahappybluetree\">clayvision_&amp;_ahappybluetree</a></p></div><a class=\"all-products-link\" href=\"/en/products/4270747-happy-hair-stylist-friends-blue-by-clayvision_-_ahappybluetree\">See on all products</a></div><div class=\"b-design-item x-shadowed\" itemprop=\"itemOffered\" itemscope=\"\" itemtype=\"https://schema.org/Product\"><a class=\"design-link\" title=\"Choose Design\" aria-label=\"Choose Design\" href=\"/en/fabric/8039248-forest-animal-hot-air-balloon-night-adventure-by-at_the_cottage\"><img class=\"item-pic\" src=\"https://garden.spoonflower.com/c/8039248/p/f/m/pcyrjnzwn0aaCo_gEmJ05DsQ0GZewg7TlhAo5-dsvyJhBM1MV0ZNCw/Forest%20Animal%20Hot%20Air%20Balloon%20Night%20Adventure.jpg\" alt=\"gender neutral,gender neutral nursery,nursery,design challenge,wallpaper,hot air balloon,forest animals,large scale,night sky,woodland,hand painted,fox,bunny,deer,home decor,kids,adventure,baby boy\" aria-label=\"Forest Animal Hot Air Balloon Night Adventure\" itemprop=\"image\" height=\"294\" width=\"294\"></a><div class=\"design-item-text\"><em class=\"design-item-product-name\" itemprop=\"category material\">Fabric</em><a class=\"design-link\" title=\"Choose Design\" aria-label=\"Choose Design\" href=\"/en/fabric/8039248-forest-animal-hot-air-balloon-night-adventure-by-at_the_cottage\"><span itemprop=\"name\">Forest Animal Hot Air Balloon Night Adventure</span></a><span class=\"visuallyhidden\" itemprop=\"productID\">8039248</span><p class=\"item-author-wrapper\">by<a class=\"item-author\" title=\"To the profile of at_the_cottage\" aria-label=\"To the profile of at_the_cottage\" itemprop=\"brand\" href=\"/profiles/at_the_cottage\">at_the_cottage</a></p></div><a class=\"all-products-link\" href=\"/en/products/8039248-forest-animal-hot-air-balloon-night-adventure-by-at_the_cottage\">See on all products</a></div><div class=\"b-design-item x-shadowed\" itemprop=\"itemOffered\" itemscope=\"\" itemtype=\"https://schema.org/Product\"><a class=\"design-link\" title=\"Choose Design\" aria-label=\"Choose Design\" href=\"/en/fabric/5700186-puzzle-hearts-by-designedbygeeks\"><img class=\"item-pic\" src=\"https://garden.spoonflower.com/c/5700186/p/f/m/_O6HnpJQZeuN8_B381A0IEDagbxBUTQRVDxIAFtJ_7QbBFY5oF0TSw/Puzzle%20Hearts.jpg\" alt=\"autism,puzzle,rainbow,awareness,heart,love,pride\" aria-label=\"Puzzle Hearts\" itemprop=\"image\" height=\"294\" width=\"294\"></a><div class=\"design-item-text\"><em class=\"design-item-product-name\" itemprop=\"category material\">Fabric</em><a class=\"design-link\" title=\"Choose Design\" aria-label=\"Choose Design\" href=\"/en/fabric/5700186-puzzle-hearts-by-designedbygeeks\"><span itemprop=\"name\">Puzzle Hearts</span></a><span class=\"visuallyhidden\" itemprop=\"productID\">5700186</span><p class=\"item-author-wrapper\">by<a class=\"item-author\" title=\"To the profile of designedbygeeks\" aria-label=\"To the profile of designedbygeeks\" itemprop=\"brand\" href=\"/profiles/designedbygeeks\">designedbygeeks</a></p></div><a class=\"all-products-link\" href=\"/en/products/5700186-puzzle-hearts-by-designedbygeeks\">See on all products</a></div><div class=\"b-design-item x-shadowed\" itemprop=\"itemOffered\" itemscope=\"\" itemtype=\"https://schema.org/Product\"><a class=\"design-link\" title=\"Choose Design\" aria-label=\"Choose Design\" href=\"/en/fabric/5247883-hexo-blue-med-by-nouveau_bohemian\"><img class=\"item-pic\" src=\"https://garden.spoonflower.com/c/5247883/p/f/m/RU6irQvwGmnmtUOwtqcAScw_a69QhmOwAtdHADqGuqaF4od5w4lhN3X9/Hexo%20(blue)%20MED.jpg\" alt=\"woodgrain,linen,geometric,hexagonal,boy nursery,geo,a255,g200\" aria-label=\"Hexo (blue) MED\" itemprop=\"image\" height=\"294\" width=\"294\"></a><div class=\"design-item-text\"><em class=\"design-item-product-name\" itemprop=\"category material\">Fabric</em><a class=\"design-link\" title=\"Choose Design\" aria-label=\"Choose Design\" href=\"/en/fabric/5247883-hexo-blue-med-by-nouveau_bohemian\"><span itemprop=\"name\">Hexo (blue) MED</span></a><span class=\"visuallyhidden\" itemprop=\"productID\">5247883</span><p class=\"item-author-wrapper\">by<a class=\"item-author\" title=\"To the profile of nouveau_bohemian\" aria-label=\"To the profile of nouveau_bohemian\" itemprop=\"brand\" href=\"/profiles/nouveau_bohemian\">nouveau_bohemian</a></p></div><a class=\"all-products-link\" href=\"/en/products/5247883-hexo-blue-med-by-nouveau_bohemian\">See on all products</a></div><div class=\"b-design-item x-shadowed\" itemprop=\"itemOffered\" itemscope=\"\" itemtype=\"https://schema.org/Product\"><a class=\"design-link\" title=\"Choose Design\" aria-label=\"Choose Design\" href=\"/en/fabric/6650975-love-nurse-charcoal-gray-by-phyllisdobbs\"><img class=\"item-pic\" src=\"https://garden.spoonflower.com/c/6650975/p/f/m/jA0kLqZxZl-rq4peo-FOS5shAFxWw3gRFnUgGjyxiM-e4Y1oKGrACQ/Love%20a%20Nurse%20Charcoal%20Gray.jpg\" alt=\"charcoal gray red white,love a nurse words,whimsical medical art,nursing profession occu,nursing words,vintage nurse caps,whimsy medical career\" aria-label=\"Love a Nurse Charcoal Gray\" itemprop=\"image\" height=\"294\" width=\"294\"></a><div class=\"design-item-text\"><em class=\"design-item-product-name\" itemprop=\"category material\">Fabric</em><a class=\"design-link\" title=\"Choose Design\" aria-label=\"Choose Design\" href=\"/en/fabric/6650975-love-nurse-charcoal-gray-by-phyllisdobbs\"><span itemprop=\"name\">Love a Nurse Charcoal Gray</span></a><span class=\"visuallyhidden\" itemprop=\"productID\">6650975</span><p class=\"item-author-wrapper\">by<a class=\"item-author\" title=\"To the profile of phyllisdobbs\" aria-label=\"To the profile of phyllisdobbs\" itemprop=\"brand\" href=\"/profiles/phyllisdobbs\">phyllisdobbs</a></p></div><a class=\"all-products-link\" href=\"/en/products/6650975-love-nurse-charcoal-gray-by-phyllisdobbs\">See on all products</a></div><div class=\"b-design-item x-shadowed\" itemprop=\"itemOffered\" itemscope=\"\" itemtype=\"https://schema.org/Product\"><a class=\"design-link\" title=\"Choose Design\" aria-label=\"Choose Design\" href=\"/en/fabric/7685381-dragon-fire-by-adenaj\"><img class=\"item-pic\" src=\"https://garden.spoonflower.com/c/7685381/p/f/m/QHVfeojZTIFnSwIrxFCHIBmY1t8AWOLzUnPZIACoS4nT1dK24XA/Dragon%20fire.jpg\" alt=\"adenaj,watercolor,dragon,fantasy,blue,scarlet,fire breathing,flying,mystical,prussian blue,princess awesome,turkish blue,flames,fire\" aria-label=\"Dragon fire\" itemprop=\"image\" height=\"294\" width=\"294\"></a><div class=\"design-item-text\"><em class=\"design-item-product-name\" itemprop=\"category material\">Fabric</em><a class=\"design-link\" title=\"Choose Design\" aria-label=\"Choose Design\" href=\"/en/fabric/7685381-dragon-fire-by-adenaj\"><span itemprop=\"name\">Dragon fire</span></a><span class=\"visuallyhidden\" itemprop=\"productID\">7685381</span><p class=\"item-author-wrapper\">by<a class=\"item-author\" title=\"To the profile of adenaj\" aria-label=\"To the profile of adenaj\" itemprop=\"brand\" href=\"/profiles/adenaj\">adenaj</a></p></div><a class=\"all-products-link\" href=\"/en/products/7685381-dragon-fire-by-adenaj\">See on all products</a></div><div class=\"b-design-item x-shadowed\" itemprop=\"itemOffered\" itemscope=\"\" itemtype=\"https://schema.org/Product\"><a class=\"design-link\" title=\"Choose Design\" aria-label=\"Choose Design\" href=\"/en/fabric/6178734-fable-floral-blush-med-by-nouveau_bohemian\"><img class=\"item-pic\" src=\"https://garden.spoonflower.com/c/6178734/p/f/m/m-XDwfqlMZfb7WnkLdVOBFrJ-7d8DRoU1PLYCEDcNQKNnCj_LHVOxg/Fable%20Floral%20(blush)%20MED.jpg\" alt=\"floral,vintage,rose,flower,pink,girl,nouveau bohemian,flowers,dark floral,garden,foliage,fern,wildflowers\" aria-label=\"Fable Floral (blush) MED\" itemprop=\"image\" height=\"294\" width=\"294\"></a><div class=\"design-item-text\"><em class=\"design-item-product-name\" itemprop=\"category material\">Fabric</em><a class=\"design-link\" title=\"Choose Design\" aria-label=\"Choose Design\" href=\"/en/fabric/6178734-fable-floral-blush-med-by-nouveau_bohemian\"><span itemprop=\"name\">Fable Floral (blush) MED</span></a><span class=\"visuallyhidden\" itemprop=\"productID\">6178734</span><p class=\"item-author-wrapper\">by<a class=\"item-author\" title=\"To the profile of nouveau_bohemian\" aria-label=\"To the profile of nouveau_bohemian\" itemprop=\"brand\" href=\"/profiles/nouveau_bohemian\">nouveau_bohemian</a></p></div><a class=\"all-products-link\" href=\"/en/products/6178734-fable-floral-blush-med-by-nouveau_bohemian\">See on all products</a></div><div class=\"b-design-item x-shadowed\" itemprop=\"itemOffered\" itemscope=\"\" itemtype=\"https://schema.org/Product\"><a class=\"design-link\" title=\"Choose Design\" aria-label=\"Choose Design\" href=\"/en/fabric/8286001-hanging-out-by-sarah_knight\"><img class=\"item-pic\" src=\"https://garden.spoonflower.com/c/8286001/p/f/m/A-55LxcGt32aMhCrDxBf4Fo9zBWZeR-vnOu-RZwDSHnmOnBJ15-CgVn1/Hanging%20out.jpg\" alt=\"sloth,floral,sloth island,sloths,design challenge,turquoise,teal,butterflies,jungle,tropical\" aria-label=\"Hanging out\" itemprop=\"image\" height=\"294\" width=\"294\"></a><div class=\"design-item-text\"><em class=\"design-item-product-name\" itemprop=\"category material\">Fabric</em><a class=\"design-link\" title=\"Choose Design\" aria-label=\"Choose Design\" href=\"/en/fabric/8286001-hanging-out-by-sarah_knight\"><span itemprop=\"name\">Hanging out</span></a><span class=\"visuallyhidden\" itemprop=\"productID\">8286001</span><p class=\"item-author-wrapper\">by<a class=\"item-author\" title=\"To the profile of sarah_knight\" aria-label=\"To the profile of sarah_knight\" itemprop=\"brand\" href=\"/profiles/sarah_knight\">sarah_knight</a></p></div><a class=\"all-products-link\" href=\"/en/products/8286001-hanging-out-by-sarah_knight\">See on all products</a></div><div class=\"b-design-item x-shadowed\" itemprop=\"itemOffered\" itemscope=\"\" itemtype=\"https://schema.org/Product\"><a class=\"design-link\" title=\"Choose Design\" aria-label=\"Choose Design\" href=\"/en/fabric/5033660-80s-accessories-by-diannemehta\"><img class=\"item-pic\" src=\"https://garden.spoonflower.com/c/5033660/p/f/m/vV220lA4k1i5R10Fwf4QuECpfxbX0lKyoPSKuDbaD3uuAFaI9Aw/80s%20Accessories.jpg\" alt=\"vintage style,accessories,1980s,80s,80s hairstyle,hair,hairstyle,big hair,cosmetology,hair dryer,hair spray,comb,scissors,limited colors,aqua,black,covid-19,cotton masks,curling iron\" aria-label=\"80s Accessories\" itemprop=\"image\" height=\"294\" width=\"294\"></a><div class=\"design-item-text\"><em class=\"design-item-product-name\" itemprop=\"category material\">Fabric</em><a class=\"design-link\" title=\"Choose Design\" aria-label=\"Choose Design\" href=\"/en/fabric/5033660-80s-accessories-by-diannemehta\"><span itemprop=\"name\">80s Accessories</span></a><span class=\"visuallyhidden\" itemprop=\"productID\">5033660</span><p class=\"item-author-wrapper\">by<a class=\"item-author\" title=\"To the profile of diannemehta\" aria-label=\"To the profile of diannemehta\" itemprop=\"brand\" href=\"/profiles/diannemehta\">diannemehta</a></p></div><a class=\"all-products-link\" href=\"/en/products/5033660-80s-accessories-by-diannemehta\">See on all products</a></div><div class=\"b-design-item x-shadowed\" itemprop=\"itemOffered\" itemscope=\"\" itemtype=\"https://schema.org/Product\"><a class=\"design-link\" title=\"Choose Design\" aria-label=\"Choose Design\" href=\"/en/fabric/7662668-mermaid-music-by-ceciliamok\"><img class=\"item-pic\" src=\"https://garden.spoonflower.com/c/7662668/p/f/m/fVgTns8qPKffPRLbYfLCdBmJAn92pJw3-KKIA0mwbudgLQvb8po/Mermaid%20Music.jpg\" alt=\"mermaids,sea,fish,mermaid,underwater,under the sea,mother and child,animals,ocean animals,music,instruments,magical,fantasy,fantastic,mythical\" aria-label=\"Mermaid Music\" itemprop=\"image\" height=\"294\" width=\"294\"></a><div class=\"design-item-text\"><em class=\"design-item-product-name\" itemprop=\"category material\">Fabric</em><a class=\"design-link\" title=\"Choose Design\" aria-label=\"Choose Design\" href=\"/en/fabric/7662668-mermaid-music-by-ceciliamok\"><span itemprop=\"name\">Mermaid Music</span></a><span class=\"visuallyhidden\" itemprop=\"productID\">7662668</span><p class=\"item-author-wrapper\">by<a class=\"item-author\" title=\"To the profile of ceciliamok\" aria-label=\"To the profile of ceciliamok\" itemprop=\"brand\" href=\"/profiles/ceciliamok\">ceciliamok</a></p></div><a class=\"all-products-link\" href=\"/en/products/7662668-mermaid-music-by-ceciliamok\">See on all products</a></div><div class=\"b-design-item x-shadowed\" itemprop=\"itemOffered\" itemscope=\"\" itemtype=\"https://schema.org/Product\"><a class=\"design-link\" title=\"Choose Design\" aria-label=\"Choose Design\" href=\"/en/fabric/9240316-irish-notre-dame-irish-fabric-by-charlottewinter\"><img class=\"item-pic\" src=\"https://garden.spoonflower.com/c/9240316/p/f/m/ZGBuBq6WjWzX9-X6xfRSqKLY8icZ6gYnL8EUlwZFmjZS2_Cb4JexcrHSPVk/irish%20-%20notre%20dame%20irish%20fabric.jpg\" alt=\"notre dame,irish,fighting irish,shamrock,indiana,college,college football,sports,spirit,tailgate\" aria-label=\"irish - notre dame irish fabric\" itemprop=\"image\" height=\"294\" width=\"294\"></a><div class=\"design-item-text\"><em class=\"design-item-product-name\" itemprop=\"category material\">Fabric</em><a class=\"design-link\" title=\"Choose Design\" aria-label=\"Choose Design\" href=\"/en/fabric/9240316-irish-notre-dame-irish-fabric-by-charlottewinter\"><span itemprop=\"name\">irish - notre dame irish fabric</span></a><span class=\"visuallyhidden\" itemprop=\"productID\">9240316</span><p class=\"item-author-wrapper\">by<a class=\"item-author\" title=\"To the profile of charlottewinter\" aria-label=\"To the profile of charlottewinter\" itemprop=\"brand\" href=\"/profiles/charlottewinter\">charlottewinter</a></p></div><a class=\"all-products-link\" href=\"/en/products/9240316-irish-notre-dame-irish-fabric-by-charlottewinter\">See on all products</a></div><div class=\"b-design-item x-shadowed\" itemprop=\"itemOffered\" itemscope=\"\" itemtype=\"https://schema.org/Product\"><a class=\"design-link\" title=\"Choose Design\" aria-label=\"Choose Design\" href=\"/en/fabric/5513692-salon-barber-hairdresser-pattern-by-cloudycapevintage\"><img class=\"item-pic\" src=\"https://garden.spoonflower.com/c/5513692/p/f/m/NDAg3NLxIEUV77j0DSyRWXjvI__0SXWN-ThAFwb3rIZJoT-t4MNRRd1f/Salon%20%26%20Barber%20Hairdresser%20Pattern.jpg\" alt=\"salon,barber,barbershop,hair,scissors,comb,black and white,black,white,simple,icons,cute,retro\" aria-label=\"Salon &amp; Barber Hairdresser Pattern\" itemprop=\"image\" height=\"294\" width=\"294\"></a><div class=\"design-item-text\"><em class=\"design-item-product-name\" itemprop=\"category material\">Fabric</em><a class=\"design-link\" title=\"Choose Design\" aria-label=\"Choose Design\" href=\"/en/fabric/5513692-salon-barber-hairdresser-pattern-by-cloudycapevintage\"><span itemprop=\"name\">Salon &amp; Barber Hairdresser Pattern</span></a><span class=\"visuallyhidden\" itemprop=\"productID\">5513692</span><p class=\"item-author-wrapper\">by<a class=\"item-author\" title=\"To the profile of cloudycapevintage\" aria-label=\"To the profile of cloudycapevintage\" itemprop=\"brand\" href=\"/profiles/cloudycapevintage\">cloudycapevintage</a></p></div><a class=\"all-products-link\" href=\"/en/products/5513692-salon-barber-hairdresser-pattern-by-cloudycapevintage\">See on all products</a></div><div class=\"b-design-item x-shadowed\" itemprop=\"itemOffered\" itemscope=\"\" itemtype=\"https://schema.org/Product\"><a class=\"design-link\" title=\"Choose Design\" aria-label=\"Choose Design\" href=\"/en/fabric/5469666-galaxy-far-far-away-gray-by-studiofibonacci\"><img class=\"item-pic\" src=\"https://garden.spoonflower.com/c/5469666/p/f/m/R5Hy2r493V7etJNtDUdNj49lIv5PyohHnj_lOquhuKjKmPM7x94cZSKc/A%20Galaxy%20Far%20Far%20Away%20(gray).jpg\" alt=\"chibi kawaii,science fiction,characters,cartoon,fandom,space,fantasy\" aria-label=\"A Galaxy Far Far Away (gray)\" itemprop=\"image\" height=\"294\" width=\"294\"></a><div class=\"design-item-text\"><em class=\"design-item-product-name\" itemprop=\"category material\">Fabric</em><a class=\"design-link\" title=\"Choose Design\" aria-label=\"Choose Design\" href=\"/en/fabric/5469666-galaxy-far-far-away-gray-by-studiofibonacci\"><span itemprop=\"name\">A Galaxy Far Far Away (gray)</span></a><span class=\"visuallyhidden\" itemprop=\"productID\">5469666</span><p class=\"item-author-wrapper\">by<a class=\"item-author\" title=\"To the profile of studiofibonacci\" aria-label=\"To the profile of studiofibonacci\" itemprop=\"brand\" href=\"/profiles/studiofibonacci\">studiofibonacci</a></p></div><a class=\"all-products-link\" href=\"/en/products/5469666-galaxy-far-far-away-gray-by-studiofibonacci\">See on all products</a></div><div class=\"b-design-item x-shadowed\" itemprop=\"itemOffered\" itemscope=\"\" itemtype=\"https://schema.org/Product\"><a class=\"design-link\" title=\"Choose Design\" aria-label=\"Choose Design\" href=\"/en/fabric/4888888-flowers-skulls-by-elladorine\"><img class=\"item-pic\" src=\"https://garden.spoonflower.com/c/4888888/p/f/m/LJ49FMFzghRttgnh8NNdtmyCidxDgonMuyZQlOXqJpTi2cC9yj6CORlO/Flowers%20and%20Skulls.jpg\" alt=\"skull,skulls,skull pattern,floral pattern,flower pattern,rockabilly,delicate,sf926hal13\" aria-label=\"Flowers and Skulls\" itemprop=\"image\" height=\"294\" width=\"294\"></a><div class=\"design-item-text\"><em class=\"design-item-product-name\" itemprop=\"category material\">Fabric</em><a class=\"design-link\" title=\"Choose Design\" aria-label=\"Choose Design\" href=\"/en/fabric/4888888-flowers-skulls-by-elladorine\"><span itemprop=\"name\">Flowers and Skulls</span></a><span class=\"visuallyhidden\" itemprop=\"productID\">4888888</span><p class=\"item-author-wrapper\">by<a class=\"item-author\" title=\"To the profile of elladorine\" aria-label=\"To the profile of elladorine\" itemprop=\"brand\" href=\"/profiles/elladorine\">elladorine</a></p></div><a class=\"all-products-link\" href=\"/en/products/4888888-flowers-skulls-by-elladorine\">See on all products</a></div><div class=\"b-design-item x-shadowed\" itemprop=\"itemOffered\" itemscope=\"\" itemtype=\"https://schema.org/Product\"><a class=\"design-link\" title=\"Choose Design\" aria-label=\"Choose Design\" href=\"/en/fabric/1577333-marine-marpat-digital-woodland-camo-by-ricraynor\"><img class=\"item-pic\" src=\"https://garden.spoonflower.com/c/1577333/p/f/m/OHV5hdDyAX2VqIt8EytXLuGFLtMaaSDr4SjPB0L05dHW0kAFHLI/Marine%20MARPAT%20Digital%20Woodland%20Camo.jpg\" alt=\"marine,marpat,digital,woodland,camo\" aria-label=\"Marine MARPAT Digital Woodland Camo\" itemprop=\"image\" height=\"294\" width=\"294\"></a><div class=\"design-item-text\"><em class=\"design-item-product-name\" itemprop=\"category material\">Fabric</em><a class=\"design-link\" title=\"Choose Design\" aria-label=\"Choose Design\" href=\"/en/fabric/1577333-marine-marpat-digital-woodland-camo-by-ricraynor\"><span itemprop=\"name\">Marine MARPAT Digital Woodland Camo</span></a><span class=\"visuallyhidden\" itemprop=\"productID\">1577333</span><p class=\"item-author-wrapper\">by<a class=\"item-author\" title=\"To the profile of ricraynor\" aria-label=\"To the profile of ricraynor\" itemprop=\"brand\" href=\"/profiles/ricraynor\">ricraynor</a></p></div><a class=\"all-products-link\" href=\"/en/products/1577333-marine-marpat-digital-woodland-camo-by-ricraynor\">See on all products</a></div><div class=\"b-design-item x-shadowed\" itemprop=\"itemOffered\" itemscope=\"\" itemtype=\"https://schema.org/Product\"><a class=\"design-link\" title=\"Choose Design\" aria-label=\"Choose Design\" href=\"/en/fabric/6573088-whale-s-song-by-katherine_quinn\"><img class=\"item-pic\" src=\"https://garden.spoonflower.com/c/6573088/p/f/m/O_dm4CWxUl_TVNMF5bO5lgHRquAESRyFv7IaVwKbiA2s_m_-7Y0Rug/Whale\\'s%20song.jpg\" alt=\"whale,sea life,ocean,sea green,charcoal grey,sea weed,swimming,animals,ocean animals\" aria-label=\"Whale\\'s song\" itemprop=\"image\" height=\"294\" width=\"294\"></a><div class=\"design-item-text\"><em class=\"design-item-product-name\" itemprop=\"category material\">Fabric</em><a class=\"design-link\" title=\"Choose Design\" aria-label=\"Choose Design\" href=\"/en/fabric/6573088-whale-s-song-by-katherine_quinn\"><span itemprop=\"name\">Whale\\'s song</span></a><span class=\"visuallyhidden\" itemprop=\"productID\">6573088</span><p class=\"item-author-wrapper\">by<a class=\"item-author\" title=\"To the profile of katherine_quinn\" aria-label=\"To the profile of katherine_quinn\" itemprop=\"brand\" href=\"/profiles/katherine_quinn\">katherine_quinn</a></p></div><a class=\"all-products-link\" href=\"/en/products/6573088-whale-s-song-by-katherine_quinn\">See on all products</a></div><div class=\"b-design-item x-shadowed\" itemprop=\"itemOffered\" itemscope=\"\" itemtype=\"https://schema.org/Product\"><a class=\"design-link\" title=\"Choose Design\" aria-label=\"Choose Design\" href=\"/en/fabric/2330040-maryland-flags-by-elramsay\"><img class=\"item-pic\" src=\"https://garden.spoonflower.com/c/2330040/p/f/m/g1gUr81Fy8PghLo-s15NM2KiEfhciE_GB7himjg9YiIptrbUdQ8/Maryland%20Flags.jpg\" alt=\"maryland,flag,herald,horse racing,state,sailing,naval,elramsay,academy\" aria-label=\"Maryland Flags\" itemprop=\"image\" height=\"294\" width=\"294\"></a><div class=\"design-item-text\"><em class=\"design-item-product-name\" itemprop=\"category material\">Fabric</em><a class=\"design-link\" title=\"Choose Design\" aria-label=\"Choose Design\" href=\"/en/fabric/2330040-maryland-flags-by-elramsay\"><span itemprop=\"name\">Maryland Flags</span></a><span class=\"visuallyhidden\" itemprop=\"productID\">2330040</span><p class=\"item-author-wrapper\">by<a class=\"item-author\" title=\"To the profile of elramsay\" aria-label=\"To the profile of elramsay\" itemprop=\"brand\" href=\"/profiles/elramsay\">elramsay</a></p></div><a class=\"all-products-link\" href=\"/en/products/2330040-maryland-flags-by-elramsay\">See on all products</a></div><div class=\"b-design-item x-shadowed\" itemprop=\"itemOffered\" itemscope=\"\" itemtype=\"https://schema.org/Product\"><a class=\"design-link\" title=\"Choose Design\" aria-label=\"Choose Design\" href=\"/en/fabric/6263258-navy-blue-watercolor-herringbone-by-laurapol\"><img class=\"item-pic\" src=\"https://garden.spoonflower.com/c/6263258/p/f/m/OAhDssjUSJJuoQfMpaOMwuOM9Fq9JXEpnHerfbNryOL3H7zyQ1ST_g/Navy%20Blue%20Watercolor%20Herringbone.jpg\" alt=\"watercolor,herringbone,navy,blue,spring,summer,idwatercolorwallpaper19,iddreamyblue19\" aria-label=\"Navy Blue Watercolor Herringbone\" itemprop=\"image\" height=\"294\" width=\"294\"></a><div class=\"design-item-text\"><em class=\"design-item-product-name\" itemprop=\"category material\">Fabric</em><a class=\"design-link\" title=\"Choose Design\" aria-label=\"Choose Design\" href=\"/en/fabric/6263258-navy-blue-watercolor-herringbone-by-laurapol\"><span itemprop=\"name\">Navy Blue Watercolor Herringbone</span></a><span class=\"visuallyhidden\" itemprop=\"productID\">6263258</span><p class=\"item-author-wrapper\">by<a class=\"item-author\" title=\"To the profile of laurapol\" aria-label=\"To the profile of laurapol\" itemprop=\"brand\" href=\"/profiles/laurapol\">laurapol</a></p></div><a class=\"all-products-link\" href=\"/en/products/6263258-navy-blue-watercolor-herringbone-by-laurapol\">See on all products</a></div><div class=\"b-design-item x-shadowed\" itemprop=\"itemOffered\" itemscope=\"\" itemtype=\"https://schema.org/Product\"><a class=\"design-link\" title=\"Choose Design\" aria-label=\"Choose Design\" href=\"/en/fabric/7216659-rainbow-stars-watercolor-abstract-small-by-crystal_walen\"><img class=\"item-pic\" src=\"https://garden.spoonflower.com/c/7216659/p/f/m/6CBLlhQ7-YldZf_rn1pJV63H9_zqWzv25L48DpBGcILqpz1oyTk1AWkw/Rainbow-Stars-Watercolor-Abstract_Small.jpg\" alt=\"rainbow baby,rainbow,watercolor,abstract,texture,stars,gold\" aria-label=\"Rainbow-Stars-Watercolor-Abstract_Small\" itemprop=\"image\" height=\"294\" width=\"294\"></a><div class=\"design-item-text\"><em class=\"design-item-product-name\" itemprop=\"category material\">Fabric</em><a class=\"design-link\" title=\"Choose Design\" aria-label=\"Choose Design\" href=\"/en/fabric/7216659-rainbow-stars-watercolor-abstract-small-by-crystal_walen\"><span itemprop=\"name\">Rainbow-Stars-Watercolor-Abstract_Small</span></a><span class=\"visuallyhidden\" itemprop=\"productID\">7216659</span><p class=\"item-author-wrapper\">by<a class=\"item-author\" title=\"To the profile of crystal_walen\" aria-label=\"To the profile of crystal_walen\" itemprop=\"brand\" href=\"/profiles/crystal_walen\">crystal_walen</a></p></div><a class=\"all-products-link\" href=\"/en/products/7216659-rainbow-stars-watercolor-abstract-small-by-crystal_walen\">See on all products</a></div></section><div class=\"b-pagination\"><input type=\"number\" autocomplete=\"off\" placeholder=\"1\" min=\"1\" max=\"119\" class=\"pagination-input\" value=\"1\"><em class=\"page-numbers\">of 119</em><span class=\"btn grey-button x-disabled\" aria-disabled=\"true\" aria-label=\"No previous pages\" title=\"No previous pages\"><span class=\"ico ico-chevron-left\" aria-hidden=\"true\"></span></span><a class=\"btn grey-button\" aria-label=\"Previous page\" title=\"Previous page\" href=\"/en/shop?on=fabric&amp;page_offset=2\"><span class=\"ico ico-chevron-right\" aria-hidden=\"true\"></span></a></div></div></div></section></main><section class=\"b-subscribe\"><em class=\"h1\">Stay Up To Date</em><form name=\"bronto-webform\" class=\"bronto-webform\" action=\"https://app.bronto.com/public/webform/process/\" method=\"post\" autocomplete=\"off\"><input type=\"hidden\" name=\"fid\" value=\"anigw7zy10nuteegpza6pm2bivwc8\"><input type=\"hidden\" name=\"sid\" value=\"399cabfaabcbb11be6475c686f92316d\"><input type=\"hidden\" name=\"formtype\" value=\"addcontact\"><input type=\"text\" class=\"subscribe-email\" size=\"35\" name=\"26148\" placeholder=\"Your email\"><fieldset class=\"checkbox-fieldset\"><legend class=\"visuallyhidden\">I have a creative business</legend><input type=\"checkbox\" id=\"field_82073\" name=\"42153[82073]\" value=\"1\"><label id=\"caption_82073\" for=\"field_82073\" class=\"checkbox-label\">I have a creative business</label></fieldset><input type=\"hidden\" name=\"26151[364744]\" value=\"true\"><button type=\"submit\" class=\"submit-button\"><span class=\"ico ico-arrow-forward\" aria-hidden=\"false\" aria-label=\"Submit\" title=\"Submit\"></span></button></form></section><footer class=\"b-footer\" role=\"contentinfo\"><div class=\"chrome-width\"><ul class=\"b-footer-links\"><li class=\"menu-item\"><a href=\"/en/about\" class=\"menu-title menu-link\">About Us</a><ul class=\"sub-menu-list\"><li class=\"menu-item\"><a href=\"/en/about\" class=\"menu-link\">Overview</a></li><li class=\"menu-item\"><a href=\"/en/press\" class=\"menu-link\">Press</a></li><li class=\"menu-item\"><a href=\"https://jobs.spoonflower.com/work-at-spoonflower\" class=\"menu-link\">Jobs</a></li><li class=\"menu-item\"><a href=\"https://grow.spoonflower.com/sustainability/\" class=\"menu-link\">Social Responsibility</a></li><li class=\"menu-item\"><a href=\"/en/trade\" class=\"menu-link\">Trade Program</a></li></ul></li><li class=\"menu-item\"><a href=\"/terms\" class=\"menu-title menu-link\">Terms</a><ul class=\"sub-menu-list\"><li class=\"menu-item\"><a href=\"/seller_agreement\" class=\"menu-link\">Seller Agreement</a></li><li class=\"menu-item\"><a href=\"/terms\" class=\"menu-link\">Terms of Service</a></li><li class=\"menu-item\"><a href=\"/pro_terms\" class=\"menu-link\">Pro Terms of Service</a></li><li class=\"menu-item\"><a href=\"/privacy\" class=\"menu-link\">Privacy</a></li></ul></li><li class=\"menu-item\"><a href=\"/feedback/new\" class=\"menu-title menu-link\">Contact Us</a><ul class=\"sub-menu-list\"><li class=\"menu-item\"><a href=\"https://support.spoonflower.com/hc/en-us/articles/204444690-Can-I-return-or-exchange-what-I-ordered\" class=\"menu-link\">Returns &amp; Exchanges</a></li></ul></li></ul><div class=\"link-wrapper-right\"><a href=\"#top\" aria-label=\"Top\" class=\"b-back-to-top\"><span class=\"ico ico-arrow-up\" aria-hidden=\"true\"></span>Top</a><button aria-label=\"Help\" title=\"Help\" class=\"b-help\" type=\"button\"><span class=\"ico ico-help-chat\" aria-hidden=\"true\"></span><span class=\"button-text\">Help</span></button><div class=\"b-social-links\"><div class=\"social-link-item\"><a class=\"social-link\" title=\"Go to Spoonflower\\'s profile on Facebook\" aria-label=\"Go to Spoonflower\\'s profile on Facebook\" target=\"_blank\" rel=\"noopener noreferrer \" href=\"https://www.facebook.com/Spoonflower\"><span class=\"ico ico-facebook-circle\" aria-hidden=\"true\"></span></a></div><div class=\"social-link-item\"><a class=\"social-link\" title=\"Go to Spoonflower\\'s profile on Twitter\" aria-label=\"Go to Spoonflower\\'s profile on Twitter\" target=\"_blank\" rel=\"noopener noreferrer \" href=\"https://twitter.com/spoonflower\"><span class=\"ico ico-twitter-circle\" aria-hidden=\"true\"></span></a></div><div class=\"social-link-item\"><a class=\"social-link\" title=\"Go to Spoonflower\\'s profile on Instagram\" aria-label=\"Go to Spoonflower\\'s profile on Instagram\" target=\"_blank\" rel=\"noopener noreferrer \" href=\"https://www.instagram.com/spoonflower\"><span class=\"ico ico-instagram-circle\" aria-hidden=\"true\"></span></a></div><div class=\"social-link-item\"><a class=\"social-link\" title=\"Go to Spoonflower\\'s profile on Pinterest\" aria-label=\"Go to Spoonflower\\'s profile on Pinterest\" target=\"_blank\" rel=\"noopener noreferrer \" href=\"https://www.pinterest.com/spoonflower\"><span class=\"ico ico-pinterest-circle\" aria-hidden=\"true\"></span></a></div><div class=\"social-link-item\"><a class=\"social-link\" title=\"Go to the Spoonflower group on Flickr\" aria-label=\"Go to the Spoonflower group on Flickr\" target=\"_blank\" rel=\"noopener noreferrer \" href=\"https://www.flickr.com/groups/spoonflower\"><span class=\"ico ico-flickr-circle\" aria-hidden=\"true\"></span></a></div><div class=\"social-link-item\"><a class=\"social-link\" title=\"Go to Spoonflower\\'s profile on YouTube\" aria-label=\"Go to Spoonflower\\'s profile on YouTube\" target=\"_blank\" rel=\"noopener noreferrer \" href=\"https://www.youtube.com/user/spoonflowerfabric\"><span class=\"ico ico-youtube-circle\" aria-hidden=\"true\"></span></a></div></div><ul class=\"b-user-preferences-list\"><li class=\"list-item\"><img src=\"/intl/images/flags/US.svg\" alt=\"United States\" class=\"flag-image\" height=\"15\" width=\"15\"><span class=\"country-text\">United States</span></li><li class=\"list-item\">English</li><li class=\"list-item\">US$</li><li class=\"list-item\">Yards</li></ul></div><article class=\"b-text-box x-description secondary-information\"><p class=\"wrapper\"><span class=\"main-text\">© 2008-2020 Spoonflower Inc.</span></p></article></div></footer><section class=\"b-mobile-navigation-cover x-hidden\" aria-modal=\"true\" role=\"dialog\"><button type=\"button\" title=\"Close\" aria-label=\"Close\" class=\"btn btn-close\"><span class=\"ico ico-close\" aria-hidden=\"false\" aria-label=\"Close\" title=\"Close\"></span></button>;<nav class=\"b-mobile-navigation\"><ul class=\"b-menu-items\"><li class=\"list-element x-headline-element\">Welcome!</li><li class=\"list-element x-guest-element\"><article class=\"b-login-join x-menu\"><a class=\"link-button\" href=\"/login\">Log In</a><span class=\"connecting-text\">or</span><a class=\"link-button\" href=\"/register/new\">Join</a></article></li><li class=\"list-element x-parent-element\"><button class=\"nav-link\" type=\"button\" aria-label=\"Open\"><span class=\"nav-link-text\">Fabric</span><span class=\"ico ico-chevron-right\" aria-hidden=\"true\"></span></button></li><li class=\"list-element x-parent-element\"><button class=\"nav-link\" type=\"button\" aria-label=\"Open\"><span class=\"nav-link-text\">Wallpaper</span><span class=\"ico ico-chevron-right\" aria-hidden=\"true\"></span></button></li><li class=\"list-element x-parent-element\"><button class=\"nav-link\" type=\"button\" aria-label=\"Open\"><span class=\"nav-link-text\">Living &amp; Decor</span><span class=\"ico ico-chevron-right\" aria-hidden=\"true\"></span></button></li><li class=\"list-element x-parent-element\"><button class=\"nav-link\" type=\"button\" aria-label=\"Open\"><span class=\"nav-link-text\">Dining</span><span class=\"ico ico-chevron-right\" aria-hidden=\"true\"></span></button></li><li class=\"list-element x-parent-element\"><button class=\"nav-link\" type=\"button\" aria-label=\"Open\"><span class=\"nav-link-text\">Bedding</span><span class=\"ico ico-chevron-right\" aria-hidden=\"true\"></span></button></li><li class=\"list-element x-parent-element\"><button class=\"nav-link\" type=\"button\" aria-label=\"Open\"><span class=\"nav-link-text\">Design &amp; Sell</span><span class=\"ico ico-chevron-right\" aria-hidden=\"true\"></span></button></li><li class=\"list-element x-parent-element\"><button class=\"nav-link\" type=\"button\" aria-label=\"Open\"><span class=\"nav-link-text\">Discover</span><span class=\"ico ico-chevron-right\" aria-hidden=\"true\"></span></button></li><li class=\"list-element x-parent-element\"><button class=\"nav-link\" type=\"button\" aria-label=\"Open\"><span class=\"nav-link-text\">How It Works</span><span class=\"ico ico-chevron-right\" aria-hidden=\"true\"></span></button></li><li class=\"list-element x-parent-element x-emphasized\"><button class=\"nav-link\" type=\"button\" aria-label=\"Open\"><span class=\"nav-link-text\">Face Mask</span><span class=\"ico ico-chevron-right\" aria-hidden=\"true\"></span></button></li><li class=\"list-element\"><a class=\"nav-link child-link\" target=\"_self\" rel=\"noreferrer \" href=\"https://support.spoonflower.com\">Help</a></li><li class=\"list-element x-seperator-line\"><a class=\"nav-link child-link\" target=\"_self\" rel=\"noreferrer \" href=\"/en/cart\">Cart</a></li><li class=\"list-element\"><a class=\"nav-link child-link\" target=\"_self\" rel=\"noreferrer \" href=\"/designs/new\">Upload a Design</a></li><li class=\"list-element x-parent-element x-seperator-line\"><button class=\"nav-link\" type=\"button\" aria-label=\"Open\"><span class=\"nav-link-text\">About Us</span><span class=\"ico ico-chevron-right\" aria-hidden=\"true\"></span></button></li><li class=\"list-element x-parent-element\"><button class=\"nav-link\" type=\"button\" aria-label=\"Open\"><span class=\"nav-link-text\">Terms</span><span class=\"ico ico-chevron-right\" aria-hidden=\"true\"></span></button></li><li class=\"list-element x-parent-element\"><button class=\"nav-link\" type=\"button\" aria-label=\"Open\"><span class=\"nav-link-text\">Contact Us</span><span class=\"ico ico-chevron-right\" aria-hidden=\"true\"></span></button></li></ul></nav></section><article class=\"b-text-box x-global-dialog\"><p class=\"wrapper\">We use cookies to enable and enhance your site experience. By continuing, you agree to this use. <a class=\"link-text\" href=\"https://www.spoonflower.com/cookies\">Learn more.</a><button class=\"btn btn-close\" aria-label=\"Accept\" title=\"Accept\"><span class=\"ico ico-close\" aria-hidden=\"true\"></span></button></p></article></div></div>\\n\\n<script src=\"https://js.stripe.com/v3/\" type=\"text/javascript\"></script>\\n<script>\\n  window.uuid = \"7dc33015-bbe5-44b3-99fd-7cf966c8602c\";\\n  window.countries = {\"AF\":{\"id\":1,\"alpha2\":\"AF\",\"currency\":\"EUR\",\"available_currencies\":[\"EUR\"],\"localized_names\":{\"en\":\"Afghanistan\",\"de\":\"Afghanistan\",\"es\":\"Afganistán\",\"fr\":\"Afghanistan\"}},\"AL\":{\"id\":2,\"alpha2\":\"AL\",\"currency\":\"EUR\",\"available_currencies\":[\"EUR\"],\"localized_names\":{\"en\":\"Albania\",\"de\":\"Albanien\",\"es\":\"Albania\",\"fr\":\"Albanie\"}},\"DZ\":{\"id\":3,\"alpha2\":\"DZ\",\"currency\":\"EUR\",\"available_currencies\":[\"EUR\"],\"localized_names\":{\"en\":\"Algeria\",\"de\":\"Algerien\",\"es\":\"Algeria\",\"fr\":\"Algérie\"}},\"AS\":{\"id\":4,\"alpha2\":\"AS\",\"currency\":\"USD\",\"available_currencies\":[\"CAD\",\"USD\"],\"localized_names\":{\"en\":\"American Samoa\",\"de\":\"Amerikanisch-Samoa\",\"es\":\"Samoa Estadounidense\",\"fr\":\"Samoa américaines\"}},\"AD\":{\"id\":5,\"alpha2\":\"AD\",\"currency\":\"EUR\",\"available_currencies\":[\"EUR\"],\"localized_names\":{\"en\":\"Andorra\",\"de\":\"Andorra\",\"es\":\"Andorra\",\"fr\":\"Andorre\"}},\"AO\":{\"id\":6,\"alpha2\":\"AO\",\"currency\":\"EUR\",\"available_currencies\":[\"EUR\"],\"localized_names\":{\"en\":\"Angola\",\"de\":\"Angola\",\"es\":\"Angola\",\"fr\":\"Angola\"}},\"AI\":{\"id\":7,\"alpha2\":\"AI\",\"currency\":\"USD\",\"available_currencies\":[\"CAD\",\"USD\"],\"localized_names\":{\"en\":\"Anguilla\",\"de\":\"Anguilla\",\"es\":\"Anguila\",\"fr\":\"Anguilla\"}},\"AG\":{\"id\":8,\"alpha2\":\"AG\",\"currency\":\"USD\",\"available_currencies\":[\"CAD\",\"USD\"],\"localized_names\":{\"en\":\"Antigua and Barbuda\",\"de\":\"Antigua und Barbuda\",\"es\":\"Antigua y Barbuda\",\"fr\":\"Antigua-et-Barbuda\"}},\"AR\":{\"id\":9,\"alpha2\":\"AR\",\"currency\":\"EUR\",\"available_currencies\":[\"EUR\"],\"localized_names\":{\"en\":\"Argentina\",\"de\":\"Argentinien\",\"es\":\"Argentina\",\"fr\":\"Argentine\"}},\"AM\":{\"id\":10,\"alpha2\":\"AM\",\"currency\":\"EUR\",\"available_currencies\":[\"EUR\"],\"localized_names\":{\"en\":\"Armenia\",\"de\":\"Armenien\",\"es\":\"Armenia\",\"fr\":\"Arménie\"}},\"AW\":{\"id\":11,\"alpha2\":\"AW\",\"currency\":\"EUR\",\"available_currencies\":[\"EUR\"],\"localized_names\":{\"en\":\"Aruba\",\"de\":\"Aruba\",\"es\":\"Aruba\",\"fr\":\"Aruba\"}},\"AU\":{\"id\":12,\"alpha2\":\"AU\",\"currency\":\"AUD\",\"available_currencies\":[\"AUD\"],\"localized_names\":{\"en\":\"Australia\",\"de\":\"Australien\",\"es\":\"Australia\",\"fr\":\"Australie\"}},\"AT\":{\"id\":13,\"alpha2\":\"AT\",\"currency\":\"EUR\",\"available_currencies\":[\"EUR\"],\"localized_names\":{\"en\":\"Austria\",\"de\":\"Österreich\",\"es\":\"Austria\",\"fr\":\"Autriche\"}},\"AZ\":{\"id\":14,\"alpha2\":\"AZ\",\"currency\":\"EUR\",\"available_currencies\":[\"EUR\"],\"localized_names\":{\"en\":\"Azerbaijan\",\"de\":\"Aserbaidschan\",\"es\":\"Azerbaiyán\",\"fr\":\"Azerbaïdjan\"}},\"BS\":{\"id\":15,\"alpha2\":\"BS\",\"currency\":\"USD\",\"available_currencies\":[\"CAD\",\"USD\"],\"localized_names\":{\"en\":\"Bahamas\",\"de\":\"Bahamas\",\"es\":\"Bahamas\",\"fr\":\"Bahamas\"}},\"BH\":{\"id\":16,\"alpha2\":\"BH\",\"currency\":\"EUR\",\"available_currencies\":[\"EUR\"],\"localized_names\":{\"en\":\"Bahrain\",\"de\":\"Bahrain\",\"es\":\"Baréin\",\"fr\":\"Bahreïn\"}},\"BD\":{\"id\":17,\"alpha2\":\"BD\",\"currency\":\"EUR\",\"available_currencies\":[\"EUR\"],\"localized_names\":{\"en\":\"Bangladesh\",\"de\":\"Bangladesch\",\"es\":\"Bangladés\",\"fr\":\"Bangladesh\"}},\"BB\":{\"id\":18,\"alpha2\":\"BB\",\"currency\":\"USD\",\"available_currencies\":[\"CAD\",\"USD\"],\"localized_names\":{\"en\":\"Barbados\",\"de\":\"Barbados\",\"es\":\"Barbados\",\"fr\":\"Barbade\"}},\"BE\":{\"id\":19,\"alpha2\":\"BE\",\"currency\":\"EUR\",\"available_currencies\":[\"EUR\"],\"localized_names\":{\"en\":\"Belgium\",\"de\":\"Belgien\",\"es\":\"Bélgica\",\"fr\":\"Belgique\"}},\"BZ\":{\"id\":20,\"alpha2\":\"BZ\",\"currency\":\"USD\",\"available_currencies\":[\"CAD\",\"USD\"],\"localized_names\":{\"en\":\"Belize\",\"de\":\"Belize\",\"es\":\"Belice\",\"fr\":\"Belize\"}},\"BJ\":{\"id\":21,\"alpha2\":\"BJ\",\"currency\":\"EUR\",\"available_currencies\":[\"EUR\"],\"localized_names\":{\"en\":\"Benin\",\"de\":\"Benin\",\"es\":\"Benín\",\"fr\":\"Bénin\"}},\"BM\":{\"id\":22,\"alpha2\":\"BM\",\"currency\":\"USD\",\"available_currencies\":[\"CAD\",\"USD\"],\"localized_names\":{\"en\":\"Bermuda\",\"de\":\"Bermuda\",\"es\":\"Islas Bermudas\",\"fr\":\"Bermudes\"}},\"BT\":{\"id\":23,\"alpha2\":\"BT\",\"currency\":\"EUR\",\"available_currencies\":[\"EUR\"],\"localized_names\":{\"en\":\"Bhutan\",\"de\":\"Bhutan\",\"es\":\"Bután\",\"fr\":\"Bhoutan\"}},\"BO\":{\"id\":24,\"alpha2\":\"BO\",\"currency\":\"EUR\",\"available_currencies\":[\"EUR\"],\"localized_names\":{\"en\":\"Bolivia\",\"de\":\"Bolivien\",\"es\":\"Bolivia\",\"fr\":\"Bolivie\"}},\"BA\":{\"id\":25,\"alpha2\":\"BA\",\"currency\":\"EUR\",\"available_currencies\":[\"EUR\"],\"localized_names\":{\"en\":\"Bosnia and Herzegovina\",\"de\":\"Bosnien und Herzegowina\",\"es\":\"Bosnia y Herzegovina\",\"fr\":\"Bosnie-Herzégovine\"}},\"BW\":{\"id\":26,\"alpha2\":\"BW\",\"currency\":\"USD\",\"available_currencies\":[\"CAD\",\"USD\"],\"localized_names\":{\"en\":\"Botswana\",\"de\":\"Botsuana\",\"es\":\"Botsuana\",\"fr\":\"Botswana\"}},\"BV\":{\"id\":27,\"alpha2\":\"BV\",\"currency\":\"USD\",\"available_currencies\":[\"CAD\",\"USD\"],\"localized_names\":{\"en\":\"Bouvet Island\",\"de\":\"Bouvet-Insel\",\"es\":\"Isla Bouvet\",\"fr\":\"Bouvet, Île\"}},\"BR\":{\"id\":28,\"alpha2\":\"BR\",\"currency\":\"EUR\",\"available_currencies\":[\"EUR\"],\"localized_names\":{\"en\":\"Brazil\",\"de\":\"Brasilien\",\"es\":\"Brasil\",\"fr\":\"Brésil\"}},\"IO\":{\"id\":29,\"alpha2\":\"IO\",\"currency\":\"USD\",\"available_currencies\":[\"CAD\",\"USD\"],\"localized_names\":{\"en\":\"British Indian Ocean Territory\",\"de\":\"Britisches Territorium im Indischen Ozean\",\"es\":\"Territorio Británico del Océano Índico\",\"fr\":\"Océan Indien, Territoire britannique de l\\'\"}},\"BN\":{\"id\":30,\"alpha2\":\"BN\",\"currency\":\"EUR\",\"available_currencies\":[\"EUR\"],\"localized_names\":{\"en\":\"Brunei Darussalam\",\"de\":\"Brunei Darussalam\",\"es\":\"Brunei Darussalam\",\"fr\":\"Brunéi Darussalam\"}},\"BG\":{\"id\":31,\"alpha2\":\"BG\",\"currency\":\"EUR\",\"available_currencies\":[\"EUR\"],\"localized_names\":{\"en\":\"Bulgaria\",\"de\":\"Bulgarien\",\"es\":\"Bulgaria\",\"fr\":\"Bulgarie\"}},\"BF\":{\"id\":32,\"alpha2\":\"BF\",\"currency\":\"EUR\",\"available_currencies\":[\"EUR\"],\"localized_names\":{\"en\":\"Burkina Faso\",\"de\":\"Burkina Faso\",\"es\":\"Burquina Faso\",\"fr\":\"Burkina Faso\"}},\"BI\":{\"id\":33,\"alpha2\":\"BI\",\"currency\":\"EUR\",\"available_currencies\":[\"EUR\"],\"localized_names\":{\"en\":\"Burundi\",\"de\":\"Burundi\",\"es\":\"Burundi\",\"fr\":\"Burundi\"}},\"KH\":{\"id\":34,\"alpha2\":\"KH\",\"currency\":\"EUR\",\"available_currencies\":[\"EUR\"],\"localized_names\":{\"en\":\"Cambodia\",\"de\":\"Kambodscha\",\"es\":\"Camboya\",\"fr\":\"Cambodge\"}},\"CM\":{\"id\":35,\"alpha2\":\"CM\",\"currency\":\"EUR\",\"available_currencies\":[\"EUR\"],\"localized_names\":{\"en\":\"Cameroon\",\"de\":\"Kamerun\",\"es\":\"Camerún\",\"fr\":\"Cameroun\"}},\"CA\":{\"id\":36,\"alpha2\":\"CA\",\"currency\":\"CAD\",\"available_currencies\":[\"CAD\",\"USD\"],\"localized_names\":{\"en\":\"Canada\",\"de\":\"Kanada\",\"es\":\"Canadá\",\"fr\":\"Canada\"}},\"CV\":{\"id\":37,\"alpha2\":\"CV\",\"currency\":\"EUR\",\"available_currencies\":[\"EUR\"],\"localized_names\":{\"en\":\"Cabo Verde\",\"de\":\"Cabo Verde\",\"es\":\"Cabo Verde\",\"fr\":\"Cap-Vert\"}},\"KY\":{\"id\":38,\"alpha2\":\"KY\",\"currency\":\"USD\",\"available_currencies\":[\"CAD\",\"USD\"],\"localized_names\":{\"en\":\"Cayman Islands\",\"de\":\"Cayman-Inseln\",\"es\":\"Islas Caimán\",\"fr\":\"Caïman, Îles\"}},\"CF\":{\"id\":39,\"alpha2\":\"CF\",\"currency\":\"EUR\",\"available_currencies\":[\"EUR\"],\"localized_names\":{\"en\":\"Central African Republic\",\"de\":\"Zentralafrikanische Republik\",\"es\":\"República Centroafricana\",\"fr\":\"Centrafricaine, République\"}},\"TD\":{\"id\":40,\"alpha2\":\"TD\",\"currency\":\"USD\",\"available_currencies\":[\"CAD\",\"USD\"],\"localized_names\":{\"en\":\"Chad\",\"de\":\"Tschad\",\"es\":\"Chad\",\"fr\":\"Tchad\"}},\"CL\":{\"id\":41,\"alpha2\":\"CL\",\"currency\":\"EUR\",\"available_currencies\":[\"EUR\"],\"localized_names\":{\"en\":\"Chile\",\"de\":\"Chile\",\"es\":\"Chile\",\"fr\":\"Chili\"}},\"CN\":{\"id\":42,\"alpha2\":\"CN\",\"currency\":\"USD\",\"available_currencies\":[\"CAD\",\"USD\"],\"localized_names\":{\"en\":\"China\",\"de\":\"China\",\"es\":\"China\",\"fr\":\"Chine\"}},\"CX\":{\"id\":43,\"alpha2\":\"CX\",\"currency\":\"AUD\",\"available_currencies\":[\"AUD\"],\"localized_names\":{\"en\":\"Christmas Island\",\"de\":\"Weihnachtsinseln\",\"es\":\"Isla de Navidad\",\"fr\":\"Christmas, Île\"}},\"CC\":{\"id\":44,\"alpha2\":\"CC\",\"currency\":\"AUD\",\"available_currencies\":[\"AUD\"],\"localized_names\":{\"en\":\"Cocos (Keeling) Islands\",\"de\":\"Kokos-(Keeling-)Inseln\",\"es\":\"Islas Cocos (Keeling)\",\"fr\":\"Cocos (Keeling), Îles\"}},\"CO\":{\"id\":45,\"alpha2\":\"CO\",\"currency\":\"USD\",\"available_currencies\":[\"CAD\",\"USD\"],\"localized_names\":{\"en\":\"Colombia\",\"de\":\"Kolumbien\",\"es\":\"Colombia\",\"fr\":\"Colombie\"}},\"KM\":{\"id\":46,\"alpha2\":\"KM\",\"currency\":\"EUR\",\"available_currencies\":[\"EUR\"],\"localized_names\":{\"en\":\"Comoros\",\"de\":\"Komoren\",\"es\":\"Comores, Islas\",\"fr\":\"Comores\"}},\"CK\":{\"id\":47,\"alpha2\":\"CK\",\"currency\":\"EUR\",\"available_currencies\":[\"EUR\"],\"localized_names\":{\"en\":\"Cook Islands\",\"de\":\"Cookinseln\",\"es\":\"Islas Cook\",\"fr\":\"Cook, Îles\"}},\"CR\":{\"id\":48,\"alpha2\":\"CR\",\"currency\":\"USD\",\"available_currencies\":[\"CAD\",\"USD\"],\"localized_names\":{\"en\":\"Costa Rica\",\"de\":\"Costa Rica\",\"es\":\"Costa Rica\",\"fr\":\"Costa Rica\"}},\"HR\":{\"id\":49,\"alpha2\":\"HR\",\"currency\":\"EUR\",\"available_currencies\":[\"EUR\"],\"localized_names\":{\"en\":\"Croatia\",\"de\":\"Kroatien\",\"es\":\"Croacia\",\"fr\":\"Croatie\"}},\"CW\":{\"id\":50,\"alpha2\":\"CW\",\"currency\":\"EUR\",\"available_currencies\":[\"EUR\"],\"localized_names\":{\"en\":\"Curaçao\",\"de\":\"Curaçao\",\"es\":\"Curazao\",\"fr\":\"Curaçao\"}},\"CY\":{\"id\":51,\"alpha2\":\"CY\",\"currency\":\"EUR\",\"available_currencies\":[\"EUR\"],\"localized_names\":{\"en\":\"Cyprus\",\"de\":\"Zypern\",\"es\":\"Chipre\",\"fr\":\"Chypre\"}},\"CZ\":{\"id\":52,\"alpha2\":\"CZ\",\"currency\":\"EUR\",\"available_currencies\":[\"EUR\"],\"localized_names\":{\"en\":\"Czechia\",\"de\":\"Tschechien\",\"es\":\"Chequia\",\"fr\":\"Tchéquie\"}},\"DK\":{\"id\":53,\"alpha2\":\"DK\",\"currency\":\"EUR\",\"available_currencies\":[\"EUR\"],\"localized_names\":{\"en\":\"Denmark\",\"de\":\"Dänemark\",\"es\":\"Dinamarca\",\"fr\":\"Danemark\"}},\"DJ\":{\"id\":54,\"alpha2\":\"DJ\",\"currency\":\"EUR\",\"available_currencies\":[\"EUR\"],\"localized_names\":{\"en\":\"Djibouti\",\"de\":\"Dschibuti\",\"es\":\"Yibuti\",\"fr\":\"Djibouti\"}},\"DM\":{\"id\":55,\"alpha2\":\"DM\",\"currency\":\"USD\",\"available_currencies\":[\"CAD\",\"USD\"],\"localized_names\":{\"en\":\"Dominica\",\"de\":\"Dominica\",\"es\":\"Dominica\",\"fr\":\"Dominique\"}},\"DO\":{\"id\":56,\"alpha2\":\"DO\",\"currency\":\"USD\",\"available_currencies\":[\"CAD\",\"USD\"],\"localized_names\":{\"en\":\"Dominican Republic\",\"de\":\"Dominikanische Republik\",\"es\":\"República Dominicana\",\"fr\":\"Dominicaine, République\"}},\"EC\":{\"id\":57,\"alpha2\":\"EC\",\"currency\":\"USD\",\"available_currencies\":[\"CAD\",\"USD\"],\"localized_names\":{\"en\":\"Ecuador\",\"de\":\"Ecuador\",\"es\":\"Ecuador\",\"fr\":\"Équateur\"}},\"EG\":{\"id\":58,\"alpha2\":\"EG\",\"currency\":\"EUR\",\"available_currencies\":[\"EUR\"],\"localized_names\":{\"en\":\"Egypt\",\"de\":\"Ägypten\",\"es\":\"Egipto\",\"fr\":\"Égypte\"}},\"SV\":{\"id\":59,\"alpha2\":\"SV\",\"currency\":\"USD\",\"available_currencies\":[\"CAD\",\"USD\"],\"localized_names\":{\"en\":\"El Salvador\",\"de\":\"El Salvador\",\"es\":\"El Salvador\",\"fr\":\"Salvador\"}},\"GQ\":{\"id\":60,\"alpha2\":\"GQ\",\"currency\":\"USD\",\"available_currencies\":[\"CAD\",\"USD\"],\"localized_names\":{\"en\":\"Equatorial Guinea\",\"de\":\"Äquatorialguinea\",\"es\":\"Guinea Ecuatorial\",\"fr\":\"Guinée Équatoriale\"}},\"ER\":{\"id\":61,\"alpha2\":\"ER\",\"currency\":\"EUR\",\"available_currencies\":[\"EUR\"],\"localized_names\":{\"en\":\"Eritrea\",\"de\":\"Eritrea\",\"es\":\"Eritrea\",\"fr\":\"Érythrée\"}},\"EE\":{\"id\":62,\"alpha2\":\"EE\",\"currency\":\"EUR\",\"available_currencies\":[\"EUR\"],\"localized_names\":{\"en\":\"Estonia\",\"de\":\"Estland\",\"es\":\"Estonia\",\"fr\":\"Estonie\"}},\"ET\":{\"id\":63,\"alpha2\":\"ET\",\"currency\":\"EUR\",\"available_currencies\":[\"EUR\"],\"localized_names\":{\"en\":\"Ethiopia\",\"de\":\"Äthiopien\",\"es\":\"Etiopía\",\"fr\":\"Éthiopie\"}},\"FK\":{\"id\":64,\"alpha2\":\"FK\",\"currency\":\"EUR\",\"available_currencies\":[\"EUR\"],\"localized_names\":{\"en\":\"Falkland Islands (Malvinas)\",\"de\":\"Falklandinseln (Malwinen)\",\"es\":\"Islas Falkland (Malvinas)\",\"fr\":\"Falkland, Îles (Malvinas)\"}},\"FO\":{\"id\":65,\"alpha2\":\"FO\",\"currency\":\"EUR\",\"available_currencies\":[\"EUR\"],\"localized_names\":{\"en\":\"Faroe Islands\",\"de\":\"Färöer-Inseln\",\"es\":\"Islas Feroe\",\"fr\":\"Féroé, Îles\"}},\"FJ\":{\"id\":66,\"alpha2\":\"FJ\",\"currency\":\"USD\",\"available_currencies\":[\"CAD\",\"USD\"],\"localized_names\":{\"en\":\"Fiji\",\"de\":\"Fidschi\",\"es\":\"Fiyi\",\"fr\":\"Fidji\"}},\"FI\":{\"id\":67,\"alpha2\":\"FI\",\"currency\":\"EUR\",\"available_currencies\":[\"EUR\"],\"localized_names\":{\"en\":\"Finland\",\"de\":\"Finnland\",\"es\":\"Finlandia\",\"fr\":\"Finlande\"}},\"FR\":{\"id\":68,\"alpha2\":\"FR\",\"currency\":\"EUR\",\"available_currencies\":[\"EUR\"],\"localized_names\":{\"en\":\"France\",\"de\":\"Frankreich\",\"es\":\"Francia\",\"fr\":\"France\"}},\"GF\":{\"id\":69,\"alpha2\":\"GF\",\"currency\":\"EUR\",\"available_currencies\":[\"EUR\"],\"localized_names\":{\"en\":\"French Guiana\",\"de\":\"Französisch-Guyana\",\"es\":\"Guayana Francesa\",\"fr\":\"Guyane française\"}},\"PF\":{\"id\":70,\"alpha2\":\"PF\",\"currency\":\"USD\",\"available_currencies\":[\"CAD\",\"USD\"],\"localized_names\":{\"en\":\"French Polynesia\",\"de\":\"Französisch-Polynesien\",\"es\":\"Polinesia Francesa\",\"fr\":\"Polynésie française\"}},\"TF\":{\"id\":71,\"alpha2\":\"TF\",\"currency\":\"EUR\",\"available_currencies\":[\"EUR\"],\"localized_names\":{\"en\":\"French Southern Territories\",\"de\":\"Französische Süd- und Antarktisgebiete\",\"es\":\"Territorios Franceses del Sur\",\"fr\":\"Terres australes françaises\"}},\"GA\":{\"id\":72,\"alpha2\":\"GA\",\"currency\":\"USD\",\"available_currencies\":[\"CAD\",\"USD\"],\"localized_names\":{\"en\":\"Gabon\",\"de\":\"Gabun\",\"es\":\"Gabón\",\"fr\":\"Gabon\"}},\"GM\":{\"id\":73,\"alpha2\":\"GM\",\"currency\":\"EUR\",\"available_currencies\":[\"EUR\"],\"localized_names\":{\"en\":\"Gambia\",\"de\":\"Gambia\",\"es\":\"Gambia\",\"fr\":\"Gambie\"}},\"GE\":{\"id\":74,\"alpha2\":\"GE\",\"currency\":\"EUR\",\"available_currencies\":[\"EUR\"],\"localized_names\":{\"en\":\"Georgia\",\"de\":\"Georgien\",\"es\":\"Georgia\",\"fr\":\"Géorgie\"}},\"DE\":{\"id\":75,\"alpha2\":\"DE\",\"currency\":\"EUR\",\"available_currencies\":[\"EUR\"],\"localized_names\":{\"en\":\"Germany\",\"de\":\"Deutschland\",\"es\":\"Alemania\",\"fr\":\"Allemagne\"}},\"GH\":{\"id\":76,\"alpha2\":\"GH\",\"currency\":\"EUR\",\"available_currencies\":[\"EUR\"],\"localized_names\":{\"en\":\"Ghana\",\"de\":\"Ghana\",\"es\":\"Ghana\",\"fr\":\"Ghana\"}},\"GI\":{\"id\":77,\"alpha2\":\"GI\",\"currency\":\"EUR\",\"available_currencies\":[\"EUR\"],\"localized_names\":{\"en\":\"Gibraltar\",\"de\":\"Gibraltar\",\"es\":\"Gibraltar\",\"fr\":\"Gibraltar\"}},\"GR\":{\"id\":78,\"alpha2\":\"GR\",\"currency\":\"EUR\",\"available_currencies\":[\"EUR\"],\"localized_names\":{\"en\":\"Greece\",\"de\":\"Griechenland\",\"es\":\"Grecia\",\"fr\":\"Grèce\"}},\"GL\":{\"id\":79,\"alpha2\":\"GL\",\"currency\":\"EUR\",\"available_currencies\":[\"EUR\"],\"localized_names\":{\"en\":\"Greenland\",\"de\":\"Grönland\",\"es\":\"Groenlandia\",\"fr\":\"Groënland\"}},\"GD\":{\"id\":80,\"alpha2\":\"GD\",\"currency\":\"USD\",\"available_currencies\":[\"CAD\",\"USD\"],\"localized_names\":{\"en\":\"Grenada\",\"de\":\"Grenada\",\"es\":\"Granada\",\"fr\":\"Grenade\"}},\"GP\":{\"id\":81,\"alpha2\":\"GP\",\"currency\":\"EUR\",\"available_currencies\":[\"EUR\"],\"localized_names\":{\"en\":\"Guadeloupe\",\"de\":\"Guadeloupe\",\"es\":\"Guadalupe\",\"fr\":\"Guadeloupe\"}},\"GU\":{\"id\":82,\"alpha2\":\"GU\",\"currency\":\"USD\",\"available_currencies\":[\"CAD\",\"USD\"],\"localized_names\":{\"en\":\"Guam\",\"de\":\"Guam\",\"es\":\"Guam\",\"fr\":\"Guam\"}},\"GT\":{\"id\":83,\"alpha2\":\"GT\",\"currency\":\"USD\",\"available_currencies\":[\"CAD\",\"USD\"],\"localized_names\":{\"en\":\"Guatemala\",\"de\":\"Guatemala\",\"es\":\"Guatemala\",\"fr\":\"Guatemala\"}},\"GG\":{\"id\":84,\"alpha2\":\"GG\",\"currency\":\"GBP\",\"available_currencies\":[\"GBP\"],\"localized_names\":{\"en\":\"Guernsey\",\"de\":\"Guernsey\",\"es\":\"Guernsey\",\"fr\":\"Guernesey\"}},\"GN\":{\"id\":85,\"alpha2\":\"GN\",\"currency\":\"EUR\",\"available_currencies\":[\"EUR\"],\"localized_names\":{\"en\":\"Guinea\",\"de\":\"Guinea\",\"es\":\"Guinea\",\"fr\":\"Guinée\"}},\"GW\":{\"id\":86,\"alpha2\":\"GW\",\"currency\":\"EUR\",\"available_currencies\":[\"EUR\"],\"localized_names\":{\"en\":\"Guinea-Bissau\",\"de\":\"Guinea-Bissau\",\"es\":\"Guinea-Bisáu\",\"fr\":\"Guinée-Bissau\"}},\"GY\":{\"id\":87,\"alpha2\":\"GY\",\"currency\":\"EUR\",\"available_currencies\":[\"EUR\"],\"localized_names\":{\"en\":\"Guyana\",\"de\":\"Guyana\",\"es\":\"Guyana\",\"fr\":\"Guyana\"}},\"HT\":{\"id\":88,\"alpha2\":\"HT\",\"currency\":\"USD\",\"available_currencies\":[\"CAD\",\"USD\"],\"localized_names\":{\"en\":\"Haiti\",\"de\":\"Haiti\",\"es\":\"Haití\",\"fr\":\"Haïti\"}},\"HM\":{\"id\":89,\"alpha2\":\"HM\",\"currency\":\"AUD\",\"available_currencies\":[\"AUD\"],\"localized_names\":{\"en\":\"Heard Island and McDonald Islands\",\"de\":\"Heard und McDonaldinseln\",\"es\":\"Islas Heard y McDonald\",\"fr\":\"Heard, Île et McDonald, Îles\"}},\"VA\":{\"id\":90,\"alpha2\":\"VA\",\"currency\":\"EUR\",\"available_currencies\":[\"EUR\"],\"localized_names\":{\"en\":\"Holy See (Vatican City State)\",\"de\":\"Heiliger Stuhl (Staat Vatikanstadt)\",\"es\":\"Santa Sede (Ciudad Estado del Vaticano)\",\"fr\":\"Saint-Siège (état de la cité du Vatican)\"}},\"HN\":{\"id\":91,\"alpha2\":\"HN\",\"currency\":\"USD\",\"available_currencies\":[\"CAD\",\"USD\"],\"localized_names\":{\"en\":\"Honduras\",\"de\":\"Honduras\",\"es\":\"Honduras\",\"fr\":\"Honduras\"}},\"HK\":{\"id\":92,\"alpha2\":\"HK\",\"currency\":\"USD\",\"available_currencies\":[\"CAD\",\"USD\"],\"localized_names\":{\"en\":\"Hong Kong\",\"de\":\"Hongkong\",\"es\":\"Hong Kong\",\"fr\":\"Hong-Kong\"}},\"HU\":{\"id\":93,\"alpha2\":\"HU\",\"currency\":\"EUR\",\"available_currencies\":[\"EUR\"],\"localized_names\":{\"en\":\"Hungary\",\"de\":\"Ungarn\",\"es\":\"Hungría\",\"fr\":\"Hongrie\"}},\"IS\":{\"id\":94,\"alpha2\":\"IS\",\"currency\":\"EUR\",\"available_currencies\":[\"EUR\"],\"localized_names\":{\"en\":\"Iceland\",\"de\":\"Island\",\"es\":\"Islandia\",\"fr\":\"Islande\"}},\"IN\":{\"id\":95,\"alpha2\":\"IN\",\"currency\":\"EUR\",\"available_currencies\":[\"EUR\"],\"localized_names\":{\"en\":\"India\",\"de\":\"Indien\",\"es\":\"India\",\"fr\":\"Inde\"}},\"ID\":{\"id\":96,\"alpha2\":\"ID\",\"currency\":\"EUR\",\"available_currencies\":[\"EUR\"],\"localized_names\":{\"en\":\"Indonesia\",\"de\":\"Indonesien\",\"es\":\"Indonesia\",\"fr\":\"Indonésie\"}},\"IE\":{\"id\":97,\"alpha2\":\"IE\",\"currency\":\"EUR\",\"available_currencies\":[\"EUR\"],\"localized_names\":{\"en\":\"Ireland\",\"de\":\"Irland\",\"es\":\"Irlanda\",\"fr\":\"Irlande\"}},\"IM\":{\"id\":98,\"alpha2\":\"IM\",\"currency\":\"GBP\",\"available_currencies\":[\"GBP\"],\"localized_names\":{\"en\":\"Isle of Man\",\"de\":\"Insel Man\",\"es\":\"Isla de Man\",\"fr\":\"Île de Man\"}},\"IL\":{\"id\":99,\"alpha2\":\"IL\",\"currency\":\"USD\",\"available_currencies\":[\"CAD\",\"USD\"],\"localized_names\":{\"en\":\"Israel\",\"de\":\"Israel\",\"es\":\"Israel\",\"fr\":\"Israël\"}},\"IT\":{\"id\":100,\"alpha2\":\"IT\",\"currency\":\"EUR\",\"available_currencies\":[\"EUR\"],\"localized_names\":{\"en\":\"Italy\",\"de\":\"Italien\",\"es\":\"Italia\",\"fr\":\"Italie\"}},\"JM\":{\"id\":101,\"alpha2\":\"JM\",\"currency\":\"USD\",\"available_currencies\":[\"CAD\",\"USD\"],\"localized_names\":{\"en\":\"Jamaica\",\"de\":\"Jamaika\",\"es\":\"Jamaica\",\"fr\":\"Jamaïque\"}},\"JP\":{\"id\":102,\"alpha2\":\"JP\",\"currency\":\"USD\",\"available_currencies\":[\"CAD\",\"USD\"],\"localized_names\":{\"en\":\"Japan\",\"de\":\"Japan\",\"es\":\"Japón\",\"fr\":\"Japon\"}},\"JE\":{\"id\":103,\"alpha2\":\"JE\",\"currency\":\"GBP\",\"available_currencies\":[\"GBP\"],\"localized_names\":{\"en\":\"Jersey\",\"de\":\"Jersey\",\"es\":\"Jersey\",\"fr\":\"Jersey\"}},\"JO\":{\"id\":104,\"alpha2\":\"JO\",\"currency\":\"USD\",\"available_currencies\":[\"CAD\",\"USD\"],\"localized_names\":{\"en\":\"Jordan\",\"de\":\"Jordanien\",\"es\":\"Jordania\",\"fr\":\"Jordanie\"}},\"KZ\":{\"id\":105,\"alpha2\":\"KZ\",\"currency\":\"EUR\",\"available_currencies\":[\"EUR\"],\"localized_names\":{\"en\":\"Kazakhstan\",\"de\":\"Kasachstan\",\"es\":\"Kazajistán\",\"fr\":\"Kazakhstan\"}},\"KE\":{\"id\":106,\"alpha2\":\"KE\",\"currency\":\"EUR\",\"available_currencies\":[\"EUR\"],\"localized_names\":{\"en\":\"Kenya\",\"de\":\"Kenia\",\"es\":\"Kenia\",\"fr\":\"Kenya\"}},\"KI\":{\"id\":107,\"alpha2\":\"KI\",\"currency\":\"AUD\",\"available_currencies\":[\"AUD\"],\"localized_names\":{\"en\":\"Kiribati\",\"de\":\"Kiribati\",\"es\":\"Kiribati\",\"fr\":\"Kiribati\"}},\"KR\":{\"id\":108,\"alpha2\":\"KR\",\"currency\":\"USD\",\"available_currencies\":[\"CAD\",\"USD\"],\"localized_names\":{\"en\":\"Korea, Republic of\",\"de\":\"Korea, Republik\",\"es\":\"Corea, República de\",\"fr\":\"Corée, République de\"}},\"KW\":{\"id\":110,\"alpha2\":\"KW\",\"currency\":\"EUR\",\"available_currencies\":[\"EUR\"],\"localized_names\":{\"en\":\"Kuwait\",\"de\":\"Kuwait\",\"es\":\"Kuwait\",\"fr\":\"Koweït\"}},\"KG\":{\"id\":111,\"alpha2\":\"KG\",\"currency\":\"EUR\",\"available_currencies\":[\"EUR\"],\"localized_names\":{\"en\":\"Kyrgyzstan\",\"de\":\"Kirgisistan\",\"es\":\"Kirguistán\",\"fr\":\"Kirghizistan\"}},\"LA\":{\"id\":112,\"alpha2\":\"LA\",\"currency\":\"USD\",\"available_currencies\":[\"CAD\",\"USD\"],\"localized_names\":{\"en\":\"Lao People\\'s Democratic Republic\",\"de\":\"Laos, Demokratische Volksrepublik\",\"es\":\"República Democrática Popular de Lao\",\"fr\":\"Lao, République démocratique populaire\"}},\"LV\":{\"id\":113,\"alpha2\":\"LV\",\"currency\":\"EUR\",\"available_currencies\":[\"EUR\"],\"localized_names\":{\"en\":\"Latvia\",\"de\":\"Lettland\",\"es\":\"Letonia\",\"fr\":\"Lettonie\"}},\"LS\":{\"id\":114,\"alpha2\":\"LS\",\"currency\":\"EUR\",\"available_currencies\":[\"EUR\"],\"localized_names\":{\"en\":\"Lesotho\",\"de\":\"Lesotho\",\"es\":\"Lesoto\",\"fr\":\"Lesotho\"}},\"LR\":{\"id\":115,\"alpha2\":\"LR\",\"currency\":\"EUR\",\"available_currencies\":[\"EUR\"],\"localized_names\":{\"en\":\"Liberia\",\"de\":\"Liberia\",\"es\":\"Liberia\",\"fr\":\"Libéria\"}},\"LI\":{\"id\":116,\"alpha2\":\"LI\",\"currency\":\"EUR\",\"available_currencies\":[\"EUR\"],\"localized_names\":{\"en\":\"Liechtenstein\",\"de\":\"Liechtenstein\",\"es\":\"Liechtenstein\",\"fr\":\"Liechtenstein\"}},\"LT\":{\"id\":117,\"alpha2\":\"LT\",\"currency\":\"EUR\",\"available_currencies\":[\"EUR\"],\"localized_names\":{\"en\":\"Lithuania\",\"de\":\"Litauen\",\"es\":\"Lituania\",\"fr\":\"Lituanie\"}},\"LU\":{\"id\":118,\"alpha2\":\"LU\",\"currency\":\"EUR\",\"available_currencies\":[\"EUR\"],\"localized_names\":{\"en\":\"Luxembourg\",\"de\":\"Luxemburg\",\"es\":\"Luxemburgo\",\"fr\":\"Luxembourg\"}},\"MO\":{\"id\":119,\"alpha2\":\"MO\",\"currency\":\"EUR\",\"available_currencies\":[\"EUR\"],\"localized_names\":{\"en\":\"Macao\",\"de\":\"Macao\",\"es\":\"Macao\",\"fr\":\"Macau\"}},\"MK\":{\"id\":120,\"alpha2\":\"MK\",\"currency\":\"EUR\",\"available_currencies\":[\"EUR\"],\"localized_names\":{\"en\":\"Macedonia, Republic of\",\"de\":\"Mazedonien, ehemalige jugoslawische Republik\",\"es\":\"Macedonia, República de\",\"fr\":\"Macédoine, République de\"}},\"MG\":{\"id\":121,\"alpha2\":\"MG\",\"currency\":\"EUR\",\"available_currencies\":[\"EUR\"],\"localized_names\":{\"en\":\"Madagascar\",\"de\":\"Madagaskar\",\"es\":\"Madagascar\",\"fr\":\"Madagascar\"}},\"MW\":{\"id\":122,\"alpha2\":\"MW\",\"currency\":\"EUR\",\"available_currencies\":[\"EUR\"],\"localized_names\":{\"en\":\"Malawi\",\"de\":\"Malawi\",\"es\":\"Malaui\",\"fr\":\"Malawi\"}},\"MY\":{\"id\":123,\"alpha2\":\"MY\",\"currency\":\"USD\",\"available_currencies\":[\"CAD\",\"USD\"],\"localized_names\":{\"en\":\"Malaysia\",\"de\":\"Malaysia\",\"es\":\"Malasia\",\"fr\":\"Malaisie\"}},\"MV\":{\"id\":124,\"alpha2\":\"MV\",\"currency\":\"EUR\",\"available_currencies\":[\"EUR\"],\"localized_names\":{\"en\":\"Maldives\",\"de\":\"Malediven\",\"es\":\"Islas Maldivas\",\"fr\":\"Maldives\"}},\"ML\":{\"id\":125,\"alpha2\":\"ML\",\"currency\":\"EUR\",\"available_currencies\":[\"EUR\"],\"localized_names\":{\"en\":\"Mali\",\"de\":\"Mali\",\"es\":\"Mali\",\"fr\":\"Mali\"}},\"MT\":{\"id\":126,\"alpha2\":\"MT\",\"currency\":\"EUR\",\"available_currencies\":[\"EUR\"],\"localized_names\":{\"en\":\"Malta\",\"de\":\"Malta\",\"es\":\"Malta\",\"fr\":\"Malte\"}},\"MH\":{\"id\":127,\"alpha2\":\"MH\",\"currency\":\"USD\",\"available_currencies\":[\"CAD\",\"USD\"],\"localized_names\":{\"en\":\"Marshall Islands\",\"de\":\"Marshallinseln\",\"es\":\"Islas Marshall\",\"fr\":\"Îles Marshall\"}},\"MQ\":{\"id\":128,\"alpha2\":\"MQ\",\"currency\":\"EUR\",\"available_currencies\":[\"EUR\"],\"localized_names\":{\"en\":\"Martinique\",\"de\":\"Martinique\",\"es\":\"Martinica\",\"fr\":\"Martinique\"}},\"MR\":{\"id\":129,\"alpha2\":\"MR\",\"currency\":\"EUR\",\"available_currencies\":[\"EUR\"],\"localized_names\":{\"en\":\"Mauritania\",\"de\":\"Mauretanien\",\"es\":\"Mauritania\",\"fr\":\"Mauritanie\"}},\"MU\":{\"id\":130,\"alpha2\":\"MU\",\"currency\":\"EUR\",\"available_currencies\":[\"EUR\"],\"localized_names\":{\"en\":\"Mauritius\",\"de\":\"Mauritius\",\"es\":\"Mauricio\",\"fr\":\"Maurice\"}},\"YT\":{\"id\":131,\"alpha2\":\"YT\",\"currency\":\"EUR\",\"available_currencies\":[\"EUR\"],\"localized_names\":{\"en\":\"Mayotte\",\"de\":\"Mayotte\",\"es\":\"Mayotte\",\"fr\":\"Mayotte\"}},\"MX\":{\"id\":132,\"alpha2\":\"MX\",\"currency\":\"USD\",\"available_currencies\":[\"CAD\",\"USD\"],\"localized_names\":{\"en\":\"Mexico\",\"de\":\"Mexiko\",\"es\":\"México\",\"fr\":\"Mexique\"}},\"FM\":{\"id\":133,\"alpha2\":\"FM\",\"currency\":\"USD\",\"available_currencies\":[\"CAD\",\"USD\"],\"localized_names\":{\"en\":\"Micronesia, Federated States of\",\"de\":\"Mikronesien, Föderierte Staaten von\",\"es\":\"Micronesia, Estados Federados de\",\"fr\":\"Micronésie, États fédérés de\"}},\"MD\":{\"id\":134,\"alpha2\":\"MD\",\"currency\":\"EUR\",\"available_currencies\":[\"EUR\"],\"localized_names\":{\"en\":\"Moldova\",\"de\":\"Moldau\",\"es\":\"Moldavia\",\"fr\":\"Moldavie\"}},\"MC\":{\"id\":135,\"alpha2\":\"MC\",\"currency\":\"EUR\",\"available_currencies\":[\"EUR\"],\"localized_names\":{\"en\":\"Monaco\",\"de\":\"Monaco\",\"es\":\"Mónaco\",\"fr\":\"Monaco\"}},\"MN\":{\"id\":136,\"alpha2\":\"MN\",\"currency\":\"EUR\",\"available_currencies\":[\"EUR\"],\"localized_names\":{\"en\":\"Mongolia\",\"de\":\"Mongolei\",\"es\":\"Mongolia\",\"fr\":\"Mongolie\"}},\"ME\":{\"id\":137,\"alpha2\":\"ME\",\"currency\":\"EUR\",\"available_currencies\":[\"EUR\"],\"localized_names\":{\"en\":\"Montenegro\",\"de\":\"Montenegro\",\"es\":\"Montenegro\",\"fr\":\"Monténégro\"}},\"MS\":{\"id\":138,\"alpha2\":\"MS\",\"currency\":\"USD\",\"available_currencies\":[\"CAD\",\"USD\"],\"localized_names\":{\"en\":\"Montserrat\",\"de\":\"Montserrat\",\"es\":\"Montserrat\",\"fr\":\"Montserrat\"}},\"MA\":{\"id\":139,\"alpha2\":\"MA\",\"currency\":\"EUR\",\"available_currencies\":[\"EUR\"],\"localized_names\":{\"en\":\"Morocco\",\"de\":\"Marokko\",\"es\":\"Marruecos\",\"fr\":\"Maroc\"}},\"MZ\":{\"id\":140,\"alpha2\":\"MZ\",\"currency\":\"EUR\",\"available_currencies\":[\"EUR\"],\"localized_names\":{\"en\":\"Mozambique\",\"de\":\"Mosambik\",\"es\":\"Mozambique\",\"fr\":\"Mozambique\"}},\"MM\":{\"id\":141,\"alpha2\":\"MM\",\"currency\":\"EUR\",\"available_currencies\":[\"EUR\"],\"localized_names\":{\"en\":\"Myanmar\",\"de\":\"Myanmar\",\"es\":\"Birmania\",\"fr\":\"Birmanie\"}},\"NA\":{\"id\":142,\"alpha2\":\"NA\",\"currency\":\"EUR\",\"available_currencies\":[\"EUR\"],\"localized_names\":{\"en\":\"Namibia\",\"de\":\"Namibia\",\"es\":\"Namibia\",\"fr\":\"Namibie\"}},\"NR\":{\"id\":143,\"alpha2\":\"NR\",\"currency\":\"AUD\",\"available_currencies\":[\"AUD\"],\"localized_names\":{\"en\":\"Nauru\",\"de\":\"Nauru\",\"es\":\"Nauru\",\"fr\":\"Nauru\"}},\"NP\":{\"id\":144,\"alpha2\":\"NP\",\"currency\":\"EUR\",\"available_currencies\":[\"EUR\"],\"localized_names\":{\"en\":\"Nepal\",\"de\":\"Nepal\",\"es\":\"Nepal\",\"fr\":\"Népal\"}},\"NL\":{\"id\":145,\"alpha2\":\"NL\",\"currency\":\"EUR\",\"available_currencies\":[\"EUR\"],\"localized_names\":{\"en\":\"Netherlands\",\"de\":\"Niederlande\",\"es\":\"Países Bajos\",\"fr\":\"Pays-Bas\"}},\"AN\":{\"id\":146,\"alpha2\":\"AN\",\"currency\":\"USD\",\"available_currencies\":[\"CAD\",\"USD\"],\"localized_names\":{\"en\":\"Netherlands Antilles\",\"de\":\"Niederländische Antillen\",\"es\":\"Las Antillas Holandesas\",\"fr\":\"Antilles Néerlandaises\"}},\"NC\":{\"id\":147,\"alpha2\":\"NC\",\"currency\":\"USD\",\"available_currencies\":[\"CAD\",\"USD\"],\"localized_names\":{\"en\":\"New Caledonia\",\"de\":\"Neukaledonien\",\"es\":\"Nueva Caledonia\",\"fr\":\"Nouvelle-Calédonie\"}},\"NZ\":{\"id\":148,\"alpha2\":\"NZ\",\"currency\":\"AUD\",\"available_currencies\":[\"AUD\"],\"localized_names\":{\"en\":\"New Zealand\",\"de\":\"Neuseeland\",\"es\":\"Nueva Zelanda\",\"fr\":\"Nouvelle-Zélande\"}},\"NI\":{\"id\":149,\"alpha2\":\"NI\",\"currency\":\"USD\",\"available_currencies\":[\"CAD\",\"USD\"],\"localized_names\":{\"en\":\"Nicaragua\",\"de\":\"Nicaragua\",\"es\":\"Nicaragua\",\"fr\":\"Nicaragua\"}},\"NE\":{\"id\":150,\"alpha2\":\"NE\",\"currency\":\"EUR\",\"available_currencies\":[\"EUR\"],\"localized_names\":{\"en\":\"Niger\",\"de\":\"Niger\",\"es\":\"Niger\",\"fr\":\"Niger\"}},\"NG\":{\"id\":151,\"alpha2\":\"NG\",\"currency\":\"EUR\",\"available_currencies\":[\"EUR\"],\"localized_names\":{\"en\":\"Nigeria\",\"de\":\"Nigeria\",\"es\":\"Nigeria\",\"fr\":\"Nigeria\"}},\"NU\":{\"id\":152,\"alpha2\":\"NU\",\"currency\":\"USD\",\"available_currencies\":[\"CAD\",\"USD\"],\"localized_names\":{\"en\":\"Niue\",\"de\":\"Niue\",\"es\":\"Niue\",\"fr\":\"Nioue\"}},\"NF\":{\"id\":153,\"alpha2\":\"NF\",\"currency\":\"AUD\",\"available_currencies\":[\"AUD\"],\"localized_names\":{\"en\":\"Norfolk Island\",\"de\":\"Norfolkinsel\",\"es\":\"Isla Norfolk\",\"fr\":\"Norfolk, Île\"}},\"MP\":{\"id\":154,\"alpha2\":\"MP\",\"currency\":\"USD\",\"available_currencies\":[\"CAD\",\"USD\"],\"localized_names\":{\"en\":\"Northern Mariana Islands\",\"de\":\"Nördliche Marianen\",\"es\":\"Islas Marianas del Norte\",\"fr\":\"Îles Mariannes du Nord\"}},\"NO\":{\"id\":155,\"alpha2\":\"NO\",\"currency\":\"EUR\",\"available_currencies\":[\"EUR\"],\"localized_names\":{\"en\":\"Norway\",\"de\":\"Norwegen\",\"es\":\"Noruega\",\"fr\":\"Norvège\"}},\"OM\":{\"id\":156,\"alpha2\":\"OM\",\"currency\":\"EUR\",\"available_currencies\":[\"EUR\"],\"localized_names\":{\"en\":\"Oman\",\"de\":\"Oman\",\"es\":\"Omán\",\"fr\":\"Oman\"}},\"PK\":{\"id\":157,\"alpha2\":\"PK\",\"currency\":\"EUR\",\"available_currencies\":[\"EUR\"],\"localized_names\":{\"en\":\"Pakistan\",\"de\":\"Pakistan\",\"es\":\"Pakistán\",\"fr\":\"Pakistan\"}},\"PW\":{\"id\":158,\"alpha2\":\"PW\",\"currency\":\"USD\",\"available_currencies\":[\"CAD\",\"USD\"],\"localized_names\":{\"en\":\"Palau\",\"de\":\"Palau\",\"es\":\"Palaos\",\"fr\":\"Palaos\"}},\"PS\":{\"id\":159,\"alpha2\":\"PS\",\"currency\":\"EUR\",\"available_currencies\":[\"EUR\"],\"localized_names\":{\"en\":\"Palestine, State of\",\"de\":\"Palästina, Staat\",\"es\":\"Palestina, Estado de\",\"fr\":\"Palestine, État de\"}},\"PA\":{\"id\":160,\"alpha2\":\"PA\",\"currency\":\"EUR\",\"available_currencies\":[\"EUR\"],\"localized_names\":{\"en\":\"Panama\",\"de\":\"Panama\",\"es\":\"Panamá\",\"fr\":\"Panama\"}},\"PG\":{\"id\":161,\"alpha2\":\"PG\",\"currency\":\"USD\",\"available_currencies\":[\"CAD\",\"USD\"],\"localized_names\":{\"en\":\"Papua New Guinea\",\"de\":\"Papua-Neuguinea\",\"es\":\"Papúa Nueva Guinea\",\"fr\":\"Papouasie-Nouvelle-Guinée\"}},\"PY\":{\"id\":162,\"alpha2\":\"PY\",\"currency\":\"EUR\",\"available_currencies\":[\"EUR\"],\"localized_names\":{\"en\":\"Paraguay\",\"de\":\"Paraguay\",\"es\":\"Paraguay\",\"fr\":\"Paraguay\"}},\"PE\":{\"id\":163,\"alpha2\":\"PE\",\"currency\":\"EUR\",\"available_currencies\":[\"EUR\"],\"localized_names\":{\"en\":\"Peru\",\"de\":\"Peru\",\"es\":\"Perú\",\"fr\":\"Pérou\"}},\"PH\":{\"id\":164,\"alpha2\":\"PH\",\"currency\":\"EUR\",\"available_currencies\":[\"EUR\"],\"localized_names\":{\"en\":\"Philippines\",\"de\":\"Philippinen\",\"es\":\"Filipinas\",\"fr\":\"Philippines\"}},\"PN\":{\"id\":165,\"alpha2\":\"PN\",\"currency\":\"USD\",\"available_currencies\":[\"CAD\",\"USD\"],\"localized_names\":{\"en\":\"Pitcairn\",\"de\":\"Pitcairn\",\"es\":\"Pitcairn\",\"fr\":\"Îles Pitcairn\"}},\"PL\":{\"id\":166,\"alpha2\":\"PL\",\"currency\":\"EUR\",\"available_currencies\":[\"EUR\"],\"localized_names\":{\"en\":\"Poland\",\"de\":\"Polen\",\"es\":\"Polonia\",\"fr\":\"Pologne\"}},\"PT\":{\"id\":167,\"alpha2\":\"PT\",\"currency\":\"EUR\",\"available_currencies\":[\"EUR\"],\"localized_names\":{\"en\":\"Portugal\",\"de\":\"Portugal\",\"es\":\"Portugal\",\"fr\":\"Portugal\"}},\"QA\":{\"id\":168,\"alpha2\":\"QA\",\"currency\":\"EUR\",\"available_currencies\":[\"EUR\"],\"localized_names\":{\"en\":\"Qatar\",\"de\":\"Katar\",\"es\":\"Catar\",\"fr\":\"Qatar\"}},\"RE\":{\"id\":169,\"alpha2\":\"RE\",\"currency\":\"EUR\",\"available_currencies\":[\"EUR\"],\"localized_names\":{\"en\":\"Réunion\",\"de\":\"Réunion\",\"es\":\"Reunión\",\"fr\":\"Réunion, Île de la\"}},\"RO\":{\"id\":170,\"alpha2\":\"RO\",\"currency\":\"EUR\",\"available_currencies\":[\"EUR\"],\"localized_names\":{\"en\":\"Romania\",\"de\":\"Rumänien\",\"es\":\"Rumanía\",\"fr\":\"Roumanie\"}},\"RU\":{\"id\":171,\"alpha2\":\"RU\",\"currency\":\"EUR\",\"available_currencies\":[\"EUR\"],\"localized_names\":{\"en\":\"Russian Federation\",\"de\":\"Russische Föderation\",\"es\":\"Federación Rusa\",\"fr\":\"Russie, Fédération de\"}},\"RW\":{\"id\":172,\"alpha2\":\"RW\",\"currency\":\"EUR\",\"available_currencies\":[\"EUR\"],\"localized_names\":{\"en\":\"Rwanda\",\"de\":\"Ruanda\",\"es\":\"Ruanda\",\"fr\":\"Rwanda\"}},\"BL\":{\"id\":173,\"alpha2\":\"BL\",\"currency\":\"EUR\",\"available_currencies\":[\"EUR\"],\"localized_names\":{\"en\":\"Saint Barthélemy\",\"de\":\"Saint-Barthélemy\",\"es\":\"San Bartolomé\",\"fr\":\"Saint-Barthélemy\"}},\"SH\":{\"id\":174,\"alpha2\":\"SH\",\"currency\":\"USD\",\"available_currencies\":[\"CAD\",\"USD\"],\"localized_names\":{\"en\":\"Saint Helena, Ascension and Tristan da Cunha\",\"de\":\"St. Helena, Ascension und Tristan da Cunha\",\"es\":\"Santa Elena, Ascensión y Tristán de Acuña\",\"fr\":\"Sainte-Hélène, Ascension et Tristan da Cunha\"}},\"KN\":{\"id\":175,\"alpha2\":\"KN\",\"currency\":\"USD\",\"available_currencies\":[\"CAD\",\"USD\"],\"localized_names\":{\"en\":\"Saint Kitts and Nevis\",\"de\":\"St. Kitts und Nevis\",\"es\":\"San Cristóbal y Nieves\",\"fr\":\"Saint-Kitts-et-Nevis\"}},\"LC\":{\"id\":176,\"alpha2\":\"LC\",\"currency\":\"USD\",\"available_currencies\":[\"CAD\",\"USD\"],\"localized_names\":{\"en\":\"Saint Lucia\",\"de\":\"St. Lucia\",\"es\":\"Santa Lucía\",\"fr\":\"Sainte-Lucie\"}},\"MF\":{\"id\":177,\"alpha2\":\"MF\",\"currency\":\"EUR\",\"available_currencies\":[\"EUR\"],\"localized_names\":{\"en\":\"Saint Martin (French part)\",\"de\":\"Saint Martin (Französischer Teil)\",\"es\":\"San Martín (zona francesa)\",\"fr\":\"Saint-Martin (partie française)\"}},\"PM\":{\"id\":178,\"alpha2\":\"PM\",\"currency\":\"EUR\",\"available_currencies\":[\"EUR\"],\"localized_names\":{\"en\":\"Saint Pierre and Miquelon\",\"de\":\"St. Pierre und Miquelon\",\"es\":\"San Pedro y Miquelon\",\"fr\":\"Saint-Pierre-et-Miquelon\"}},\"VC\":{\"id\":179,\"alpha2\":\"VC\",\"currency\":\"USD\",\"available_currencies\":[\"CAD\",\"USD\"],\"localized_names\":{\"en\":\"Saint Vincent and the Grenadines\",\"de\":\"St. Vincent und die Grenadinen\",\"es\":\"San Vicente y las Granadinas\",\"fr\":\"Saint-Vincent-et-les Grenadines\"}},\"WS\":{\"id\":180,\"alpha2\":\"WS\",\"currency\":\"USD\",\"available_currencies\":[\"CAD\",\"USD\"],\"localized_names\":{\"en\":\"Samoa\",\"de\":\"Samoa\",\"es\":\"Samoa\",\"fr\":\"Samoa\"}},\"SM\":{\"id\":181,\"alpha2\":\"SM\",\"currency\":\"EUR\",\"available_currencies\":[\"EUR\"],\"localized_names\":{\"en\":\"San Marino\",\"de\":\"San Marino\",\"es\":\"San Marino\",\"fr\":\"Saint-Marin\"}},\"ST\":{\"id\":182,\"alpha2\":\"ST\",\"currency\":\"USD\",\"available_currencies\":[\"CAD\",\"USD\"],\"localized_names\":{\"en\":\"Sao Tome and Principe\",\"de\":\"São Tomé und Príncipe\",\"es\":\"Santo Tomé y Príncipe\",\"fr\":\"Sao Tomé-et-Principe\"}},\"SA\":{\"id\":183,\"alpha2\":\"SA\",\"currency\":\"EUR\",\"available_currencies\":[\"EUR\"],\"localized_names\":{\"en\":\"Saudi Arabia\",\"de\":\"Saudi-Arabien\",\"es\":\"Arabia Saudí\",\"fr\":\"Arabie saoudite\"}},\"SN\":{\"id\":184,\"alpha2\":\"SN\",\"currency\":\"EUR\",\"available_currencies\":[\"EUR\"],\"localized_names\":{\"en\":\"Senegal\",\"de\":\"Senegal\",\"es\":\"Senegal\",\"fr\":\"Sénégal\"}},\"RS\":{\"id\":185,\"alpha2\":\"RS\",\"currency\":\"EUR\",\"available_currencies\":[\"EUR\"],\"localized_names\":{\"en\":\"Serbia\",\"de\":\"Serbien\",\"es\":\"Serbia\",\"fr\":\"Serbie\"}},\"SC\":{\"id\":186,\"alpha2\":\"SC\",\"currency\":\"EUR\",\"available_currencies\":[\"EUR\"],\"localized_names\":{\"en\":\"Seychelles\",\"de\":\"Seychellen\",\"es\":\"Seychelles\",\"fr\":\"Seychelles\"}},\"SL\":{\"id\":187,\"alpha2\":\"SL\",\"currency\":\"EUR\",\"available_currencies\":[\"EUR\"],\"localized_names\":{\"en\":\"Sierra Leone\",\"de\":\"Sierra Leone\",\"es\":\"Sierra Leona\",\"fr\":\"Sierra Leone\"}},\"SG\":{\"id\":188,\"alpha2\":\"SG\",\"currency\":\"USD\",\"available_currencies\":[\"CAD\",\"USD\"],\"localized_names\":{\"en\":\"Singapore\",\"de\":\"Singapur\",\"es\":\"Singapur\",\"fr\":\"Singapour\"}},\"SK\":{\"id\":189,\"alpha2\":\"SK\",\"currency\":\"EUR\",\"available_currencies\":[\"EUR\"],\"localized_names\":{\"en\":\"Slovakia\",\"de\":\"Slowakei\",\"es\":\"Eslovaquia\",\"fr\":\"Slovaquie\"}},\"SI\":{\"id\":190,\"alpha2\":\"SI\",\"currency\":\"EUR\",\"available_currencies\":[\"EUR\"],\"localized_names\":{\"en\":\"Slovenia\",\"de\":\"Slowenien\",\"es\":\"Eslovenia\",\"fr\":\"Slovénie\"}},\"SB\":{\"id\":191,\"alpha2\":\"SB\",\"currency\":\"USD\",\"available_currencies\":[\"CAD\",\"USD\"],\"localized_names\":{\"en\":\"Solomon Islands\",\"de\":\"Salomoninseln\",\"es\":\"Islas Salomón\",\"fr\":\"Salomon, Îles\"}},\"ZA\":{\"id\":192,\"alpha2\":\"ZA\",\"currency\":\"EUR\",\"available_currencies\":[\"EUR\"],\"localized_names\":{\"en\":\"South Africa\",\"de\":\"Südafrika\",\"es\":\"Sudáfrica\",\"fr\":\"Afrique du Sud\"}},\"GS\":{\"id\":193,\"alpha2\":\"GS\",\"currency\":\"GBP\",\"available_currencies\":[\"GBP\"],\"localized_names\":{\"en\":\"South Georgia and the South Sandwich Islands\",\"de\":\"South Georgia und die Südlichen Sandwichinseln\",\"es\":\"Islas Georgias del Sur y Sándwich del Sur\",\"fr\":\"Géorgie du Sud et les îles Sandwich du Sud\"}},\"ES\":{\"id\":194,\"alpha2\":\"ES\",\"currency\":\"EUR\",\"available_currencies\":[\"EUR\"],\"localized_names\":{\"en\":\"Spain\",\"de\":\"Spanien\",\"es\":\"España\",\"fr\":\"Espagne\"}},\"LK\":{\"id\":195,\"alpha2\":\"LK\",\"currency\":\"EUR\",\"available_currencies\":[\"EUR\"],\"localized_names\":{\"en\":\"Sri Lanka\",\"de\":\"Sri Lanka\",\"es\":\"Sri Lanka\",\"fr\":\"Sri Lanka\"}},\"SR\":{\"id\":197,\"alpha2\":\"SR\",\"currency\":\"USD\",\"available_currencies\":[\"CAD\",\"USD\"],\"localized_names\":{\"en\":\"Suriname\",\"de\":\"Suriname\",\"es\":\"Surinám\",\"fr\":\"Surinam\"}},\"SJ\":{\"id\":198,\"alpha2\":\"SJ\",\"currency\":\"EUR\",\"available_currencies\":[\"EUR\"],\"localized_names\":{\"en\":\"Svalbard and Jan Mayen\",\"de\":\"Svalbard und Jan Mayen\",\"es\":\"Svalbard y Jan Mayen\",\"fr\":\"Svalbard et île Jan Mayen\"}},\"SZ\":{\"id\":199,\"alpha2\":\"SZ\",\"currency\":\"EUR\",\"available_currencies\":[\"EUR\"],\"localized_names\":{\"en\":\"Swaziland\",\"de\":\"Swasiland\",\"es\":\"Suazilandia\",\"fr\":\"Swaziland\"}},\"SE\":{\"id\":200,\"alpha2\":\"SE\",\"currency\":\"EUR\",\"available_currencies\":[\"EUR\"],\"localized_names\":{\"en\":\"Sweden\",\"de\":\"Schweden\",\"es\":\"Suecia\",\"fr\":\"Suède\"}},\"CH\":{\"id\":201,\"alpha2\":\"CH\",\"currency\":\"EUR\",\"available_currencies\":[\"EUR\"],\"localized_names\":{\"en\":\"Switzerland\",\"de\":\"Schweiz\",\"es\":\"Suiza\",\"fr\":\"Suisse\"}},\"TW\":{\"id\":202,\"alpha2\":\"TW\",\"currency\":\"USD\",\"available_currencies\":[\"CAD\",\"USD\"],\"localized_names\":{\"en\":\"Taiwan\",\"de\":\"Taiwan\",\"es\":\"Taiwán\",\"fr\":\"Taïwan\"}},\"TJ\":{\"id\":203,\"alpha2\":\"TJ\",\"currency\":\"EUR\",\"available_currencies\":[\"EUR\"],\"localized_names\":{\"en\":\"Tajikistan\",\"de\":\"Tadschikistan\",\"es\":\"Tayikistán\",\"fr\":\"Tadjikistan\"}},\"TZ\":{\"id\":204,\"alpha2\":\"TZ\",\"currency\":\"EUR\",\"available_currencies\":[\"EUR\"],\"localized_names\":{\"en\":\"Tanzania\",\"de\":\"Tansania\",\"es\":\"Tanzania\",\"fr\":\"Tanzanie\"}},\"TH\":{\"id\":205,\"alpha2\":\"TH\",\"currency\":\"USD\",\"available_currencies\":[\"CAD\",\"USD\"],\"localized_names\":{\"en\":\"Thailand\",\"de\":\"Thailand\",\"es\":\"Tailandia\",\"fr\":\"Thaïlande\"}},\"TL\":{\"id\":206,\"alpha2\":\"TL\",\"currency\":\"EUR\",\"available_currencies\":[\"EUR\"],\"localized_names\":{\"en\":\"Timor-Leste\",\"de\":\"Timor-Leste\",\"es\":\"Timor Oriental\",\"fr\":\"Timor oriental\"}},\"TG\":{\"id\":207,\"alpha2\":\"TG\",\"currency\":\"USD\",\"available_currencies\":[\"CAD\",\"USD\"],\"localized_names\":{\"en\":\"Togo\",\"de\":\"Togo\",\"es\":\"Togo\",\"fr\":\"Togo\"}},\"TK\":{\"id\":208,\"alpha2\":\"TK\",\"currency\":\"USD\",\"available_currencies\":[\"CAD\",\"USD\"],\"localized_names\":{\"en\":\"Tokelau\",\"de\":\"Tokelau\",\"es\":\"Tokelau\",\"fr\":\"Tokelau\"}},\"TO\":{\"id\":209,\"alpha2\":\"TO\",\"currency\":\"USD\",\"available_currencies\":[\"CAD\",\"USD\"],\"localized_names\":{\"en\":\"Tonga\",\"de\":\"Tonga\",\"es\":\"Tonga\",\"fr\":\"Tonga\"}},\"TT\":{\"id\":210,\"alpha2\":\"TT\",\"currency\":\"USD\",\"available_currencies\":[\"CAD\",\"USD\"],\"localized_names\":{\"en\":\"Trinidad and Tobago\",\"de\":\"Trinidad und Tobago\",\"es\":\"Trinidad y Tobago\",\"fr\":\"Trinité-et-Tobago\"}},\"TN\":{\"id\":211,\"alpha2\":\"TN\",\"currency\":\"EUR\",\"available_currencies\":[\"EUR\"],\"localized_names\":{\"en\":\"Tunisia\",\"de\":\"Tunesien\",\"es\":\"Tunez\",\"fr\":\"Tunisie\"}},\"TR\":{\"id\":212,\"alpha2\":\"TR\",\"currency\":\"EUR\",\"available_currencies\":[\"EUR\"],\"localized_names\":{\"en\":\"Turkey\",\"de\":\"Türkei\",\"es\":\"Turquía\",\"fr\":\"Turquie\"}},\"TM\":{\"id\":213,\"alpha2\":\"TM\",\"currency\":\"EUR\",\"available_currencies\":[\"EUR\"],\"localized_names\":{\"en\":\"Turkmenistan\",\"de\":\"Turkmenistan\",\"es\":\"Turkmenistán\",\"fr\":\"Turkménistan\"}},\"TC\":{\"id\":214,\"alpha2\":\"TC\",\"currency\":\"USD\",\"available_currencies\":[\"CAD\",\"USD\"],\"localized_names\":{\"en\":\"Turks and Caicos Islands\",\"de\":\"Turks- und Caicosinseln\",\"es\":\"Islas Turcas y Caicos\",\"fr\":\"Turks et Caïques, Îles\"}},\"TV\":{\"id\":215,\"alpha2\":\"TV\",\"currency\":\"USD\",\"available_currencies\":[\"CAD\",\"USD\"],\"localized_names\":{\"en\":\"Tuvalu\",\"de\":\"Tuvalu\",\"es\":\"Tuvalu\",\"fr\":\"Tuvalu\"}},\"UG\":{\"id\":216,\"alpha2\":\"UG\",\"currency\":\"EUR\",\"available_currencies\":[\"EUR\"],\"localized_names\":{\"en\":\"Uganda\",\"de\":\"Uganda\",\"es\":\"Uganda\",\"fr\":\"Ouganda\"}},\"UA\":{\"id\":217,\"alpha2\":\"UA\",\"currency\":\"EUR\",\"available_currencies\":[\"EUR\"],\"localized_names\":{\"en\":\"Ukraine\",\"de\":\"Ukraine\",\"es\":\"Ucrania\",\"fr\":\"Ukraine\"}},\"AE\":{\"id\":218,\"alpha2\":\"AE\",\"currency\":\"EUR\",\"available_currencies\":[\"EUR\"],\"localized_names\":{\"en\":\"United Arab Emirates\",\"de\":\"Vereinigte Arabische Emirate\",\"es\":\"Emiratos Árabes Unidos\",\"fr\":\"Émirats arabes unis\"}},\"GB\":{\"id\":219,\"alpha2\":\"GB\",\"currency\":\"GBP\",\"available_currencies\":[\"GBP\"],\"localized_names\":{\"en\":\"United Kingdom\",\"de\":\"Vereinigtes Königreich\",\"es\":\"Reino Unido\",\"fr\":\"Royaume-Uni\"}},\"US\":{\"id\":220,\"alpha2\":\"US\",\"currency\":\"USD\",\"available_currencies\":[\"CAD\",\"USD\"],\"localized_names\":{\"en\":\"United States\",\"de\":\"Vereinigte Staaten\",\"es\":\"Estados Unidos\",\"fr\":\"États-Unis\"}},\"UY\":{\"id\":222,\"alpha2\":\"UY\",\"currency\":\"EUR\",\"available_currencies\":[\"EUR\"],\"localized_names\":{\"en\":\"Uruguay\",\"de\":\"Uruguay\",\"es\":\"Uruguay\",\"fr\":\"Uruguay\"}},\"UZ\":{\"id\":223,\"alpha2\":\"UZ\",\"currency\":\"EUR\",\"available_currencies\":[\"EUR\"],\"localized_names\":{\"en\":\"Uzbekistan\",\"de\":\"Usbekistan\",\"es\":\"Uzbekistán\",\"fr\":\"Ouzbékistan\"}},\"VU\":{\"id\":224,\"alpha2\":\"VU\",\"currency\":\"USD\",\"available_currencies\":[\"CAD\",\"USD\"],\"localized_names\":{\"en\":\"Vanuatu\",\"de\":\"Vanuatu\",\"es\":\"Vanuatu\",\"fr\":\"Vanuatu\"}},\"VE\":{\"id\":225,\"alpha2\":\"VE\",\"currency\":\"USD\",\"available_currencies\":[\"CAD\",\"USD\"],\"localized_names\":{\"en\":\"Venezuela\",\"de\":\"Venezuela\",\"es\":\"Venezuela\",\"fr\":\"Vénézuela\"}},\"VN\":{\"id\":226,\"alpha2\":\"VN\",\"currency\":\"USD\",\"available_currencies\":[\"CAD\",\"USD\"],\"localized_names\":{\"en\":\"Vietnam\",\"de\":\"Vietnam\",\"es\":\"Vietnam\",\"fr\":\"Viêt Nam\"}},\"VG\":{\"id\":227,\"alpha2\":\"VG\",\"currency\":\"USD\",\"available_currencies\":[\"CAD\",\"USD\"],\"localized_names\":{\"en\":\"Virgin Islands, British\",\"de\":\"Britische Jungferninseln\",\"es\":\"Islas Vírgenes, Británicas\",\"fr\":\"Îles Vierges britanniques\"}},\"VI\":{\"id\":228,\"alpha2\":\"VI\",\"currency\":\"USD\",\"available_currencies\":[\"CAD\",\"USD\"],\"localized_names\":{\"en\":\"Virgin Islands, U.S.\",\"de\":\"Amerikanische Jungferninseln\",\"es\":\"Islas Vírgenes, de EEUU\",\"fr\":\"Îles Vierges des États-Unis\"}},\"WF\":{\"id\":229,\"alpha2\":\"WF\",\"currency\":\"USD\",\"available_currencies\":[\"CAD\",\"USD\"],\"localized_names\":{\"en\":\"Wallis and Futuna\",\"de\":\"Wallis und Futuna\",\"es\":\"Wallis y Futuna\",\"fr\":\"Wallis et Futuna\"}},\"EH\":{\"id\":230,\"alpha2\":\"EH\",\"currency\":\"EUR\",\"available_currencies\":[\"EUR\"],\"localized_names\":{\"en\":\"Western Sahara\",\"de\":\"Westsahara\",\"es\":\"Sahara Occidental\",\"fr\":\"Sahara Occidental\"}},\"ZM\":{\"id\":231,\"alpha2\":\"ZM\",\"currency\":\"EUR\",\"available_currencies\":[\"EUR\"],\"localized_names\":{\"en\":\"Zambia\",\"de\":\"Sambia\",\"es\":\"Zambia\",\"fr\":\"Zambie\"}},\"ZW\":{\"id\":232,\"alpha2\":\"ZW\",\"currency\":\"EUR\",\"available_currencies\":[\"EUR\"],\"localized_names\":{\"en\":\"Zimbabwe\",\"de\":\"Simbabwe\",\"es\":\"Zimbabue\",\"fr\":\"Zimbabwe\"}},\"AX\":{\"id\":233,\"alpha2\":\"AX\",\"currency\":\"EUR\",\"available_currencies\":[\"EUR\"],\"localized_names\":{\"en\":\"Åland Islands\",\"de\":\"Åland-Inseln\",\"es\":\"Islas Äland\",\"fr\":\"Åland, Îles\"}},\"CU\":{\"id\":234,\"alpha2\":\"CU\",\"currency\":\"USD\",\"available_currencies\":[\"CAD\",\"USD\"],\"localized_names\":{\"en\":\"Cuba\",\"de\":\"Kuba\",\"es\":\"Cuba\",\"fr\":\"Cuba\"}},\"IC\":{\"id\":236,\"alpha2\":\"IC\",\"currency\":\"EUR\",\"available_currencies\":[\"EUR\"],\"localized_names\":{\"en\":\"Canary Islands\",\"de\":\"Kanarischen Inseln\",\"es\":\"Las Islas Canarias\",\"fr\":\"Îles Canaries\"}}};\\n  window.usStates = {\"AL\":\"Alabama\",\"AK\":\"Alaska\",\"AS\":\"American Samoa\",\"AZ\":\"Arizona\",\"AR\":\"Arkansas\",\"AA\":\"Armed Forces Americas\",\"AE\":\"Armed Forces Europe\",\"AP\":\"Armed Forces Pacific\",\"CA\":\"California\",\"CO\":\"Colorado\",\"CT\":\"Connecticut\",\"DE\":\"Delaware\",\"DC\":\"District of Columbia\",\"FL\":\"Florida\",\"GA\":\"Georgia\",\"GU\":\"Guam\",\"HI\":\"Hawaii\",\"ID\":\"Idaho\",\"IL\":\"Illinois\",\"IN\":\"Indiana\",\"IA\":\"Iowa\",\"KS\":\"Kansas\",\"KY\":\"Kentucky\",\"LA\":\"Louisiana\",\"ME\":\"Maine\",\"MD\":\"Maryland\",\"MA\":\"Massachusetts\",\"MI\":\"Michigan\",\"MN\":\"Minnesota\",\"MS\":\"Mississippi\",\"MO\":\"Missouri\",\"MT\":\"Montana\",\"NE\":\"Nebraska\",\"NV\":\"Nevada\",\"NH\":\"New Hampshire\",\"NJ\":\"New Jersey\",\"NM\":\"New Mexico\",\"NY\":\"New York\",\"NC\":\"North Carolina\",\"ND\":\"North Dakota\",\"MP\":\"Northern Mariana Islands\",\"OH\":\"Ohio\",\"OK\":\"Oklahoma\",\"OR\":\"Oregon\",\"PA\":\"Pennsylvania\",\"PR\":\"Puerto Rico\",\"RI\":\"Rhode Island\",\"SC\":\"South Carolina\",\"SD\":\"South Dakota\",\"TN\":\"Tennessee\",\"TX\":\"Texas\",\"UT\":\"Utah\",\"VT\":\"Vermont\",\"VI\":\"Virgin Islands, U.S.\",\"VA\":\"Virginia\",\"WA\":\"Washington\",\"WV\":\"West Virginia\",\"WI\":\"Wisconsin\",\"WY\":\"Wyoming\"};\\n  window.canadaStates = {\"AB\":\"Alberta\",\"BC\":\"British Columbia\",\"MB\":\"Manitoba\",\"NB\":\"New Brunswick\",\"NL\":\"Newfoundland and Labrador\",\"NT\":\"Northwest Territories\",\"NS\":\"Nova Scotia\",\"NU\":\"Nunavut\",\"ON\":\"Ontario\",\"PE\":\"Prince Edward Island\",\"QC\":\"Quebec\",\"SK\":\"Saskatchewan\",\"YT\":\"Yukon\"};\\n  window.stripePublicKeyEu = \"pk_live_NGHQlZNwgdztdU99Phu1ohqS\";\\n  window.stripePublicKeyUs = \"pk_live_w7KehSda0TsHMwvE78nXaPa4\";\\n  window.userAgentLocale = \"en\";\\n  window.pageLang = \"en\";\\n  window.pageName = \"\";\\n  window.userAuthenticated = false;\\n  window.userDefaults = {country: \\'US\\'};\\n  window.multiLocaleRouterConfig = {\"welcome\":{\"en\":\"/\",\"de\":\"/de\",\"es\":\"/es\",\"fr\":\"/fr\"},\"fabric.BELGIAN_LINEN\":{\"de\":\"/de/belgischer-leinenstoff\",\"en\":\"/en/belgian-linen\",\"es\":\"/es/lino-belga\",\"fr\":\"/fr/lin-naturel-de-belgique\"},\"cart\":{\"de\":\"/de/cart\",\"en\":\"/en/cart\",\"es\":\"/es/cart\",\"fr\":\"/fr/cart\"},\"checkout.confirmation\":{\"de\":\"/de/checkout/confirmation\",\"en\":\"/en/checkout/confirmation\",\"es\":\"/es/checkout/confirmation\",\"fr\":\"/fr/checkout/confirmation\"},\"checkout.delivery_options\":{\"de\":\"/de/checkout/delivery_options\",\"en\":\"/en/checkout/delivery_options\",\"es\":\"/es/checkout/delivery_options\",\"fr\":\"/fr/checkout/delivery_options\"},\"checkout.payment\":{\"de\":\"/de/checkout/payment\",\"en\":\"/en/checkout/payment\",\"es\":\"/es/checkout/payment\",\"fr\":\"/fr/checkout/payment\"},\"checkout.review_order\":{\"de\":\"/de/checkout/review_order\",\"en\":\"/en/checkout/review_order\",\"es\":\"/es/checkout/review_order\",\"fr\":\"/fr/checkout/review_order\"},\"checkout.shipping_address\":{\"de\":\"/de/checkout/shipping_address\",\"en\":\"/en/checkout/shipping_address\",\"es\":\"/es/checkout/shipping_address\",\"fr\":\"/fr/checkout/shipping_address\"},\"login\":{\"de\":\"/de/einloggen\",\"en\":\"/en/login\",\"es\":\"/es/inicio-de-sesion\",\"fr\":\"/fr/se-connecter\"},\"businessGrant\":{\"de\":\"/de/f%C3%B6rderung-kleinunternehmer\",\"en\":\"/en/small-business-grant\",\"es\":\"/es/ayudas-peque%C3%B1as-empresas\",\"fr\":\"/fr/aide-petite-entreprise\"},\"HOME_GOOD_DIY_FABRIC_MASK_KIT\":{\"de\":\"/de/gesichtsmasken/DIY-Set-Gesichtsmasken\",\"en\":\"/en/masks/DIY-face-mask-kit\",\"es\":\"/es/tapabocas/Kit-de-costura-cose-tu-propio-tapabocas\",\"fr\":\"/fr/masque-en-tissu/kit-creatif-masque-en-tissu\"},\"HOME_GOOD_FABRIC_FACE_MASK\":{\"de\":\"/de/gesichtsmasken/gesichtsmaske\",\"en\":\"/en/masks/fabric-face-mask\",\"es\":\"/es/tapabocas/mascarilla-de-tela\",\"fr\":\"/fr/masque-en-tissu/masque-en-tissu\"},\"HOME_GOOD_GAITER_FACE_MASK\":{\"de\":\"/de/gesichtsmasken/schlauchschal-maske\",\"en\":\"/en/masks/gaiter-face-mask\",\"es\":\"/es/tapabocas/braga-de-cuello\",\"fr\":\"/fr/masque-en-tissu/tour-de-cou\"},\"HOME_GOOD_STANDARD_PILLOW_SHAM\":{\"de\":\"/de/heimtextilien/bettwasche/amerikanische-kissenbezuge\",\"en\":\"/en/home-decor/bedding/standard-pillow-sham\",\"es\":\"/es/decoracion-hogar/ropa-cama/cojin-decorativo-estandar\",\"fr\":\"/fr/maison/linge-de-lit/housse-de-coussin-usa\"},\"HOME_GOOD_DUVET_COVER\":{\"de\":\"/de/heimtextilien/bettwasche/bettbezuge\",\"en\":\"/en/home-decor/bedding/duvet-cover\",\"es\":\"/es/decoracion-hogar/ropa-cama/funda-edredon\",\"fr\":\"/fr/maison/linge-de-lit/housse-de-couette\"},\"HOME_GOOD_SHEET_SET\":{\"de\":\"/de/heimtextilien/bettwasche/bettwasche-set\",\"en\":\"/en/home-decor/bedding/sheet-set\",\"es\":\"/es/decoracion-hogar/ropa-cama/sabanas\",\"fr\":\"/fr/maison/linge-de-lit/draps\"},\"HOME_GOOD_LONG_LUMBAR_THROW_PILLOW\":{\"de\":\"/de/heimtextilien/bettwasche/bezug-fur-rechteckige-dekokissen\",\"en\":\"/en/home-decor/bedding/extra-long-lumbar-throw-pillow\",\"es\":\"/es/decoracion-hogar/ropa-cama/funda-de-cojin-lumbar-extra-larga\",\"fr\":\"/fr/maison/linge-de-lit/housse-de-coussin-lombaire-extra-long\"},\"HOME_GOOD_EURO_PILLOW_SHAM\":{\"de\":\"/de/heimtextilien/bettwasche/europaische-kissenbezuge\",\"en\":\"/en/home-decor/bedding/euro-pillow-sham\",\"es\":\"/es/decoracion-hogar/ropa-cama/cojin-decorativo-euro\",\"fr\":\"/fr/maison/linge-de-lit/housse-de-coussin-europe\"},\"HOME_GOOD_COCKTAIL_NAPKIN\":{\"de\":\"/de/heimtextilien/tischwasche/cocktail-servietten\",\"en\":\"/en/home-decor/dining/cocktail-napkins\",\"es\":\"/es/decoracion-hogar/comedor/coctel-servilletas\",\"fr\":\"/fr/maison/linge-de-table/serviettes-cocktail\"},\"HOME_GOOD_TEA_TOWEL\":{\"de\":\"/de/heimtextilien/tischwasche/geschirrtuch\",\"en\":\"/en/home-decor/dining/tea-towel\",\"es\":\"/es/decoracion-hogar/comedor/panos-de-cocina\",\"fr\":\"/fr/maison/linge-de-table/torchons\"},\"HOME_GOOD_RECTANGULAR_TABLE_CLOTH\":{\"de\":\"/de/heimtextilien/tischwasche/rechteckige-tischdecke\",\"en\":\"/en/home-decor/dining/rectangular-tablecloth\",\"es\":\"/es/decoracion-hogar/comedor/mantel-rectangular\",\"fr\":\"/fr/maison/linge-de-table/nappe-rectangulaire\"},\"HOME_GOOD_ROUND_TABLE_CLOTH\":{\"de\":\"/de/heimtextilien/tischwasche/runde-tischdecke\",\"en\":\"/en/home-decor/dining/round-tablecloth\",\"es\":\"/es/decoracion-hogar/comedor/mantel-redondo\",\"fr\":\"/fr/maison/linge-de-table/nappe-ronde\"},\"HOME_GOOD_DINNER_NAPKIN\":{\"de\":\"/de/heimtextilien/tischwasche/servietten\",\"en\":\"/en/home-decor/dining/dinner-napkins\",\"es\":\"/es/decoracion-hogar/comedor/cena-servilletas\",\"fr\":\"/fr/maison/linge-de-table/serviettes-de-table\"},\"HOME_GOOD_TABLE_RUNNER\":{\"de\":\"/de/heimtextilien/tischwasche/tischlaufer\",\"en\":\"/en/home-decor/dining/table-runner\",\"es\":\"/es/decoracion-hogar/comedor/camino-mesa\",\"fr\":\"/fr/maison/linge-de-table/chemin-de-table\"},\"HOME_GOOD_PLACEMAT\":{\"de\":\"/de/heimtextilien/tischwasche/tischset\",\"en\":\"/en/home-decor/dining/placemats\",\"es\":\"/es/decoracion-hogar/comedor/manteles-individuales\",\"fr\":\"/fr/maison/linge-de-table/sets-de-table\"},\"HOME_GOOD_SQUARE_THROW_PILLOW\":{\"de\":\"/de/heimtextilien/wohnen-deko/quadratisches-zierkissen\",\"en\":\"/en/home-decor/living-decor/square-throw-pillow\",\"es\":\"/es/decoracion-hogar/decoracion-de-interiores/cojin-cuadrado\",\"fr\":\"/fr/maison/decoration/coussin-carre\"},\"HOME_GOOD_LUMBAR_THROW_PILLOW\":{\"de\":\"/de/heimtextilien/wohnen-deko/rechteckiges-zierkissen\",\"en\":\"/en/home-decor/living-decor/lumbar-throw-pillow\",\"es\":\"/es/decoracion-hogar/decoracion-de-interiores/cojin-lumbar\",\"fr\":\"/fr/maison/decoration/coussin-lombaire\"},\"HOME_GOOD_THROW_BLANKET\":{\"de\":\"/de/heimtextilien/wohnen-deko/tagesdecke\",\"en\":\"/en/home-decor/living-decor/throw-blanket\",\"es\":\"/es/decoracion-hogar/decoracion-de-interiores/manta\",\"fr\":\"/fr/maison/decoration/couverture\"},\"HOME_GOOD_CURTAIN_PANEL\":{\"de\":\"/de/heimtextilien/wohnen-deko/vorhange\",\"en\":\"/en/home-decor/living-decor/curtains\",\"es\":\"/es/decoracion-hogar/decoracion-de-interiores/cortinas\",\"fr\":\"/fr/maison/decoration/rideaux\"},\"join\":{\"de\":\"/de/machmit\",\"en\":\"/en/join\",\"es\":\"/es/unete\",\"fr\":\"/fr/sinscrire\"},\"shop.search\":{\"de\":\"/de/markt\",\"en\":\"/en/shop\",\"es\":\"/es/mercado\",\"fr\":\"/fr/march%C3%A9\"},\"shop.home\":{\"de\":\"/de/markt?on=fabric\",\"en\":\"/en/shop?on=fabric\",\"es\":\"/es/mercado?on=fabric\",\"fr\":\"/fr/march%C3%A9?on=fabric\"},\"shop.giftWrap\":{\"de\":\"/de/markt?on=gift-wrap\",\"en\":\"/en/shop?on=gift-wrap\",\"es\":\"/es/mercado?on=gift-wrap\",\"fr\":\"/fr/march%C3%A9?on=gift-wrap\"},\"shop.wallpaper\":{\"de\":\"/de/markt?on=wallpaper\",\"en\":\"/en/shop?on=wallpaper\",\"es\":\"/es/mercado?on=wallpaper\",\"fr\":\"/fr/march%C3%A9?on=wallpaper\"},\"welcome.heroLink\":{\"de\":\"/de/markt?q=Herbst\\\\u0026availability=for-sale\\\\u0026sort=best-sellers\",\"es\":\"/es/mercado?q=Oto%C3%B1o\\\\u0026availability=for-sale\\\\u0026sort=best-sellers\",\"fr\":\"/fr/march%C3%A9?q=Automne\\\\u0026availability=for-sale\\\\u0026sort=best-sellers\",\"en\":\"/shop?type=fabric\\\\u0026view=designs\\\\u0026shop=fabric\\\\u0026t=autumn\\\\u0026commit=Search\"},\"welcome.featuredTheme2\":{\"de\":\"/de/markt/Aquarell-stoffe\",\"es\":\"/es/mercado/acuarelas-tela\",\"fr\":\"/fr/march%C3%A9/tissu-aquarelle\",\"en\":\"https://www.spoonflower.com/themes/abstract-painterly-fabric-and-wallpaper\"},\"welcome.featuredTheme1\":{\"de\":\"/de/markt/schwarz-weiß-stoffe\",\"es\":\"/es/mercado/blanco-y-negro-tela\",\"fr\":\"/fr/march%C3%A9/tissu-blanc-et-noir\",\"en\":\"/themes/black-and-white-fabric-and-wallpaper\"},\"newPassword\":{\"de\":\"/de/neues-passwort\",\"en\":\"/en/new-password\",\"es\":\"/es/nueva-contrasena\",\"fr\":\"/fr/nouveau-mot-de-passe\"},\"forgotPassword\":{\"de\":\"/de/passwort-vergessen\",\"en\":\"/en/forgot-password\",\"es\":\"/es/contrasena-olvidada\",\"fr\":\"/fr/mot-de-passe-oublie\"},\"all_products\":{\"de\":\"/de/produkte\",\"en\":\"/en/products\",\"es\":\"/es/productos\",\"fr\":\"/fr/produits\"},\"designGrant\":{\"de\":\"/de/stipendium-fur-studenten\",\"en\":\"/en/design-grant\",\"es\":\"/es/becas-para-estudiantes\",\"fr\":\"/fr/bourse-pour-etudiant\"},\"fabric.page\":{\"de\":\"/de/stoffe\",\"en\":\"/en/fabric\",\"es\":\"/es/telas\",\"fr\":\"/fr/tissus\"},\"shop.fabric\":{\"de\":\"/de/stoffe-shop\",\"en\":\"/en/fabric-shop\",\"es\":\"/es/tienda-de-telas\",\"fr\":\"/fr/magasin-tissu\"},\"wallpaper.page\":{\"de\":\"/de/tapete\",\"en\":\"/en/wallpaper\",\"es\":\"/es/papel-tapiz\",\"fr\":\"/fr/papier-peint\"},\"welcome.gettingStarted.samplePack\":{\"en\":\"/design_tools\"},\"shop.base\":{\"en\":\"/shop\"},\"welcome.gettingStarted.fromTheBlog\":{\"de\":\"http://grow.spoonflower.com/de/business\",\"en\":\"http://grow.spoonflower.com/en/business\"},\"welcome.featuredProject3\":{\"en\":\"https://blog.spoonflower.com/2017/06/diy-baby-tee\",\"de\":\"https://blog.spoonflower.com/de/2017/12/superschnelles-diy-baby-t-shirt-tutorial-naehanfaenger\"},\"welcome.featuredProject1\":{\"en\":\"https://blog.spoonflower.com/2018/01/bookcase-renovation-with-wallpaper\",\"de\":\"https://blog.spoonflower.com/de/2018/04/upcycling-buecherregal\"},\"welcome.featuredProject4\":{\"en\":\"https://blog.spoonflower.com/2018/07/diy-lunch-bags\",\"de\":\"https://blog.spoonflower.com/de/2018/11/naehanleitung_schnittmuster_lunchbag\"},\"welcome.featuredProject2\":{\"en\":\"https://blog.spoonflower.com/2018/08/a-doggone-cute-bow-tie-to-make-for-your-pup\",\"de\":\"https://blog.spoonflower.com/de/2018/12/naehanleitung-fliege-fuer-hund\"},\"socialMedia.twitter\":{\"en\":\"https://twitter.com/spoonflower\"},\"socialMedia.facebook\":{\"en\":\"https://www.facebook.com/Spoonflower\",\"de\":\"https://www.facebook.com/Spoonflowerde\"},\"socialMedia.flickr\":{\"en\":\"https://www.flickr.com/groups/spoonflower\"},\"socialMedia.instagram\":{\"en\":\"https://www.instagram.com/spoonflower\",\"de\":\"https://www.instagram.com/spoonflowerde\"},\"socialMedia.pinterest\":{\"en\":\"https://www.pinterest.com/spoonflower\",\"de\":\"https://www.pinterest.com/spoonflowerde\"},\"welcome.featuredProjectSmall3\":{\"de\":\"https://www.spoonflower.com/de/stoffe/3446832-wild-einfarbig-schwarz-wei%C3%9F-schwarz-und-wei%C3%9F-modern-schwarz-typografie-von-littlearrowdesign\",\"en\":\"https://www.spoonflower.com/en/fabric/3446832-wild--monochrome-typography-black-white-by-littlearrowdesign\",\"es\":\"https://www.spoonflower.com/es/telas/3446832-salvaje-monocromo-moderno-negro-tipograf%C3%ADa-por-littlearrowdesign\",\"fr\":\"https://www.spoonflower.com/fr/tissus/3446832-sauvage-monochrome-moderne-noir-typographie-de-littlearrowdesign\"},\"welcome.featuredProjectSmall2\":{\"de\":\"https://www.spoonflower.com/de/stoffe/6010407-stern-star-geometrisch-fliese-modern-origami-mosaik-mosaik--petrol-von-thistleandfox\",\"en\":\"https://www.spoonflower.com/en/fabric/6010407-star-tile-teal-by-thistleandfox\",\"es\":\"https://www.spoonflower.com/es/telas/6010407-estrella-geom%C3%A9trico-azulejo-moderno-origami-mosaico-trullo-por-thistleandfox\",\"fr\":\"https://www.spoonflower.com/fr/tissus/6010407-etoile-g%C3%A9om%C3%A9trique-tuile-moderne-origami-mosa%C3%AFque-sarcelle-de-thistleandfox\"},\"welcome.featuredProjectSmall4\":{\"de\":\"https://www.spoonflower.com/de/stoffe/7286139-weltraum-platz-weltall-hase-schildkr%C3%B6te-marineblau-marine-blau-verspielt-wunderlich-schildkr%C3%B6te-hase-von-heatherdutton\",\"en\":\"https://www.spoonflower.com/en/fabric/7286139-space-race---navy-blue-by-heatherdutton\",\"es\":\"https://www.spoonflower.com/es/telas/7286139-espacio-conejito-tortuga-armada-azul-caprichoso-tortuga-liebre-por-heatherdutton\",\"fr\":\"https://www.spoonflower.com/fr/tissus/7286139-espace-lapin-tortue-marine-bleu-capricieux-tortue-li%C3%A8vre-de-heatherdutton\"},\"welcome.featuredProjectSmall1\":{\"en\":\"https://www.spoonflower.com/wallpaper/5785100-lau-leaf---silver-by-nick_neuman\"},\"socialMedia.youtube\":{\"en\":\"https://www.youtube.com/user/spoonflowerfabric\"}};\\n  window.copyrightTerminalYear = \"2020\";\\n</script>\\n\\n\\n  <!-- webpack bundling -->\\n  <script rel=\"preload\" src=\"/intl/javascripts/vendor-chunk.js?version=8447d9019f8943399dc7a6af9ccd82-a190c6aa26c16580ef1c3b8a51017b\" as=\"script\" type=\"text/javascript\"></script>\\n  <script rel=\"preload\" src=\"/intl/javascripts/bundle-chunk.js?version=4094d98d2d25272856faf541f20827-a190c6aa26c16580ef1c3b8a51017b\" as=\"script\" type=\"text/javascript\"></script>\\n\\n\\n<!-- baerlauch-production-8 -->\\n<iframe frameborder=\"0\" allowtransparency=\"true\" scrolling=\"no\" name=\"__privateStripeMetricsController0\" allowpaymentrequest=\"true\" src=\"https://js.stripe.com/v3/m-outer-090169779cdf49fad5ab0e59c999f664.html#url=https%3A%2F%2Fwww.spoonflower.com%2Fen%2Fshop%3Fon%3Dfabric&amp;title=Spoonflower&amp;referrer=&amp;muid=NA&amp;sid=NA&amp;version=6&amp;preview=false\" aria-hidden=\"true\" tabindex=\"-1\" style=\"border: none !important; margin: 0px !important; padding: 0px !important; width: 1px !important; min-width: 100% !important; overflow: hidden !important; display: block !important; visibility: hidden !important; position: fixed !important; height: 1px !important; pointer-events: none !important; user-select: none !important;\"></iframe><div style=\"display: none; visibility: hidden;\"><script>!function(b,e,f,g,a,c,d){b.fbq||(a=b.fbq=function(){a.callMethod?a.callMethod.apply(a,arguments):a.queue.push(arguments)},b._fbq||(b._fbq=a),a.push=a,a.loaded=!0,a.version=\"2.0\",a.queue=[],c=e.createElement(f),c.async=!0,c.src=g,d=e.getElementsByTagName(f)[0],d.parentNode.insertBefore(c,d))}(window,document,\"script\",\"//connect.facebook.net/en_US/fbevents.js\");fbq(\"init\",\"1677236372494762\");fbq(\"track\",\"PageView\");</script>\\n<noscript></noscript>\\n</div><div style=\"display: none; visibility: hidden;\"><script type=\"text/javascript\">(function(b){var a=b.createElement(\"script\");a.src=b.location.protocol+\"//get.exitintel.com/load.js?exitintelAccount\\\\x3d359\";a.async=!0;a.setAttribute(\"data-cfasync\",\"false\");b.getElementsByTagName(\"head\")[0].appendChild(a)})(document);</script>\\n</div><div style=\"display: none; visibility: hidden;\"><script type=\"text/javascript\">var _caq=_caq||[];(function(){var a=document.createElement(\"script\");a.type=\"text/javascript\";a.async=!0;a.id=\"_casrc\";a.src=\"//t.channeladvisor.com/v2/12010793.js\";var b=document.getElementsByTagName(\"script\")[0];b.parentNode.insertBefore(a,b)})();</script></div><div style=\"display: none; visibility: hidden;\"><script>(function(b,c,e,f,d){b[d]=b[d]||[];var g=function(){var a={ti:\"5063217\"};a.q=b[d];b[d]=new UET(a);b[d].push(\"pageLoad\")};var a=c.createElement(e);a.src=f;a.async=1;a.onload=a.onreadystatechange=function(){var b=this.readyState;b&&\"loaded\"!==b&&\"complete\"!==b||(g(),a.onload=a.onreadystatechange=null)};c=c.getElementsByTagName(e)[0];c.parentNode.insertBefore(a,c)})(window,document,\"script\",\"//bat.bing.com/bat.js\",\"uetq\");</script>\\n<noscript></noscript></div><div style=\"display: none; visibility: hidden;\"><script data-name=\"__br_tm\" type=\"text/javascript\">var _bsw=_bsw||[];_bsw.push([\"_bswId\",\"d171a69decf72d32a626b67e6ac3a4036fac012f8945e38645e45c3a29071ccb\"]);(function(){var a=document.createElement(\"script\");a.type=\"text/javascript\";a.async=!0;a.src=\"https://js.bronto.com/s/b.min.js\";var b=document.getElementsByTagName(\"script\")[0];b.parentNode.insertBefore(a,b)})();</script></div><div id=\"fb-root\" class=\" fb_reset\"><div style=\"position: absolute; top: -10000px; width: 0px; height: 0px;\"><div></div></div></div>\\n<script type=\"text/javascript\" id=\"\">(function(a,b,c){var d=a.getElementsByTagName(b)[0];a.getElementById(c)||(a=a.createElement(b),a.id=c,a.src=\"https://connect.facebook.net/en_US/sdk.js#xfbml\\\\x3d1\\\\x26version\\\\x3dv3.1\",d.parentNode.insertBefore(a,d))})(document,\"script\",\"facebook-jssdk\");</script><div class=\"btr_location\" href=\"https://www.spoonflower.com/en/shop?on=fabric\" origin=\"https://www.spoonflower.com\" protocol=\"https:\" host=\"www.spoonflower.com\" hostname=\"www.spoonflower.com\" port=\"\" pathname=\"/en/shop\" search=\"?on=fabric\" hash=\"\"><div class=\"btr_location_ancestorOrigins\" length=\"0\"></div><div class=\"btr_location_queryString\" on=\"fabric\"></div><div class=\"btr_location_fragmentDirective\"></div></div><div style=\"width:0px; height:0px; display:none; visibility:hidden;\" id=\"batBeacon0.973745118349227\"><img style=\"width:0px; height:0px; display:none; visibility:hidden;\" id=\"batBeacon0.15161806431303115\" width=\"0\" height=\"0\" alt=\"\" src=\"https://bat.bing.com/action/0?ti=5063217&amp;Ver=2&amp;mid=0d2ea9da-cfee-96be-dacb-655b3cd6d368&amp;sid=7a3a31f3430ef356913cfe447e5f37c6&amp;vid=373a7280bd9ae61b15530542bec019ca&amp;vids=1&amp;pi=0&amp;lg=en-US&amp;sw=3440&amp;sh=1440&amp;sc=24&amp;tl=Spoonflower&amp;p=https%3A%2F%2Fwww.spoonflower.com%2Fen%2Fshop%3Fon%3Dfabric&amp;r=&amp;lt=886&amp;evt=pageLoad&amp;msclkid=N&amp;sv=1&amp;rn=945803\"></div><div class=\"btr_location\" href=\"https://www.spoonflower.com/en/shop?on=fabric\" origin=\"https://www.spoonflower.com\" protocol=\"https:\" host=\"www.spoonflower.com\" hostname=\"www.spoonflower.com\" port=\"\" pathname=\"/en/shop\" search=\"?on=fabric\" hash=\"\"><div class=\"btr_location_ancestorOrigins\" length=\"0\"></div><div class=\"btr_location_queryString\" on=\"fabric\"></div><div class=\"btr_location_fragmentDirective\"></div></div><div class=\"btr_location\" href=\"https://www.spoonflower.com/en/shop?on=fabric\" origin=\"https://www.spoonflower.com\" protocol=\"https:\" host=\"www.spoonflower.com\" hostname=\"www.spoonflower.com\" port=\"\" pathname=\"/en/shop\" search=\"?on=fabric\" hash=\"\"><div class=\"btr_location_ancestorOrigins\" length=\"0\"></div><div class=\"btr_location_queryString\" on=\"fabric\"></div><div class=\"btr_location_fragmentDirective\"></div></div><div class=\"btr_cart\" id=\"shadowDiv1\" data-bronto-carttarget=\"emailAddress\"></div></body></html>'} method=GET response=<ClientResponse(http://localhost:62144/session/1b7e29660a3faa0f5ec1ac138652f429/source) [200 OK]>\r\n",
      "<CIMultiDictProxy('Content-Length': '259377', 'Content-Type': 'application/json; charset=utf-8')>\r\n",
      " url=http://localhost:62144/session/1b7e29660a3faa0f5ec1ac138652f429/source\r\n",
      "2020-08-04 15:50.58 request                        body=None method=DELETE url=http://localhost:62144/session/1b7e29660a3faa0f5ec1ac138652f429\r\n"
     ]
    },
    {
     "name": "stdout",
     "output_type": "stream",
     "text": [
      "2020-08-04 15:50.58 response                       body=None data={'sessionId': '1b7e29660a3faa0f5ec1ac138652f429', 'status': 0, 'value': None} method=DELETE response=<ClientResponse(http://localhost:62144/session/1b7e29660a3faa0f5ec1ac138652f429) [200 OK]>\n",
      "<CIMultiDictProxy('Content-Length': '72', 'Content-Type': 'application/json; charset=utf-8')>\n",
      " url=http://localhost:62144/session/1b7e29660a3faa0f5ec1ac138652f429\n",
      "[{'id': '6650888', 'slug': 'love-nurse-whimsy-blue-by-phyllisdobbs', 'path': '/en/fabric/6650888-love-nurse-whimsy-blue-by-phyllisdobbs', 'scraped': 0}, {'id': '4995555', 'slug': 'heart-health-awareness-light-gray-large-by-ohdarkthirty', 'path': '/en/fabric/4995555-heart-health-awareness-light-gray-large-by-ohdarkthirty', 'scraped': 0}, {'id': '6079351', 'slug': 'josie-meadow-floral-by-sweeterthanhoney', 'path': '/en/fabric/6079351-josie-meadow-floral-by-sweeterthanhoney', 'scraped': 0}, {'id': '1112778', 'slug': 'rosie-riveter-by-spacefem', 'path': '/en/fabric/1112778-rosie-riveter-by-spacefem', 'scraped': 0}, {'id': '9060289', 'slug': 'saints-fleur-de-lis-new-orleans-saints-football-football-fabric-fleur-de-lis-fabric-black-gold-gold-f-by-charlottewinter', 'path': '/en/fabric/9060289-saints-fleur-de-lis-new-orleans-saints-football-football-fabric-fleur-de-lis-fabric-black-gold-gold-f-by-charlottewinter', 'scraped': 0}, {'id': '5247883', 'slug': 'hexo-blue-med-by-nouveau_bohemian', 'path': '/en/fabric/5247883-hexo-blue-med-by-nouveau_bohemian', 'scraped': 0}, {'id': '5034356', 'slug': '80s-hair-dryers-by-cjldesigns', 'path': '/en/fabric/5034356-80s-hair-dryers-by-cjldesigns', 'scraped': 0}, {'id': '3840217', 'slug': 'nurse-theme-by-hot4tees_bg-yahoo_com', 'path': '/en/fabric/3840217-nurse-theme-by-hot4tees_bg-yahoo_com', 'scraped': 0}, {'id': '4893900', 'slug': 'half-scale-m81-woodland-camo-by-ricraynor', 'path': '/en/fabric/4893900-half-scale-m81-woodland-camo-by-ricraynor', 'scraped': 0}, {'id': '7790777', 'slug': 'turtles-aqua-blue-by-gingerlique', 'path': '/en/fabric/7790777-turtles-aqua-blue-by-gingerlique', 'scraped': 0}, {'id': '3584004', 'slug': 'mexican-sugar-skulls-small-by-lusykoror', 'path': '/en/fabric/3584004-mexican-sugar-skulls-small-by-lusykoror', 'scraped': 0}, {'id': '5839396', 'slug': 'spectacular-cats-by-cynthia_arre', 'path': '/en/fabric/5839396-spectacular-cats-by-cynthia_arre', 'scraped': 0}, {'id': '4888888', 'slug': 'flowers-skulls-by-elladorine', 'path': '/en/fabric/4888888-flowers-skulls-by-elladorine', 'scraped': 0}, {'id': '6852245', 'slug': 'cute-nurse-love-black-no-gradient-by-jannasalak', 'path': '/en/fabric/6852245-cute-nurse-love-black-no-gradient-by-jannasalak', 'scraped': 0}, {'id': '7679631', 'slug': 'scattered-earth-tones-watercolor-rainbows-by-anniemontgomerydesign', 'path': '/en/fabric/7679631-scattered-earth-tones-watercolor-rainbows-by-anniemontgomerydesign', 'scraped': 0}, {'id': '2330040', 'slug': 'maryland-flags-by-elramsay', 'path': '/en/fabric/2330040-maryland-flags-by-elramsay', 'scraped': 0}, {'id': '5939834', 'slug': 'classic-leopard-by-cinneworthington', 'path': '/en/fabric/5939834-classic-leopard-by-cinneworthington', 'scraped': 0}, {'id': '8197261', 'slug': 'night-sky-stars-midnight-blue-by-at_the_cottage', 'path': '/en/fabric/8197261-night-sky-stars-midnight-blue-by-at_the_cottage', 'scraped': 0}, {'id': '3817098', 'slug': 'math-count-on-by-sammyk', 'path': '/en/fabric/3817098-math-count-on-by-sammyk', 'scraped': 0}, {'id': '5880084', 'slug': 'mod-triangles-gold-indigo-by-crystal_walen', 'path': '/en/fabric/5880084-mod-triangles-gold-indigo-by-crystal_walen', 'scraped': 0}, {'id': '5964319', 'slug': 'hearts-on-grey-linen-valentines-day-by-littlearrowdesign', 'path': '/en/fabric/5964319-hearts-on-grey-linen-valentines-day-by-littlearrowdesign', 'scraped': 0}, {'id': '8056679', 'slug': 'ruth-bader-ginsgurg-rbg-bust-black-by-katerhees', 'path': '/en/fabric/8056679-ruth-bader-ginsgurg-rbg-bust-black-by-katerhees', 'scraped': 0}, {'id': '6782514', 'slug': 'eame-s-wildflower-meadow-by-hipkiddesigns', 'path': '/en/fabric/6782514-eame-s-wildflower-meadow-by-hipkiddesigns', 'scraped': 0}, {'id': '5131007', 'slug': 'scandinavian-sweet-hedgehog-illustration-kids-gender-neutral-black-white-by-littlesmilemakers', 'path': '/en/fabric/5131007-scandinavian-sweet-hedgehog-illustration-kids-gender-neutral-black-white-by-littlesmilemakers', 'scraped': 0}, {'id': '5033660', 'slug': '80s-accessories-by-diannemehta', 'path': '/en/fabric/5033660-80s-accessories-by-diannemehta', 'scraped': 0}, {'id': '2920223', 'slug': 'm81-woodland-camo-by-ricraynor', 'path': '/en/fabric/2920223-m81-woodland-camo-by-ricraynor', 'scraped': 0}, {'id': '5544045', 'slug': 'napoleonic-bees-faux-gilt-on-blackest-black-by-peacoquettedesigns', 'path': '/en/fabric/5544045-napoleonic-bees-faux-gilt-on-blackest-black-by-peacoquettedesigns', 'scraped': 0}, {'id': '991112', 'slug': 'nursing-coordinates-by-bluevelvet', 'path': '/en/fabric/991112-nursing-coordinates-by-bluevelvet', 'scraped': 0}, {'id': '7661255', 'slug': 'just-jellies-jellyfish-by-katerhees', 'path': '/en/fabric/7661255-just-jellies-jellyfish-by-katerhees', 'scraped': 0}, {'id': '1577333', 'slug': 'marine-marpat-digital-woodland-camo-by-ricraynor', 'path': '/en/fabric/1577333-marine-marpat-digital-woodland-camo-by-ricraynor', 'scraped': 0}, {'id': '5773745', 'slug': 'rainbow-pride-stripes-by-furbuddy', 'path': '/en/fabric/5773745-rainbow-pride-stripes-by-furbuddy', 'scraped': 0}, {'id': '8692520', 'slug': 'bees-lemons-large-blue-by-fernlesliestudio', 'path': '/en/fabric/8692520-bees-lemons-large-blue-by-fernlesliestudio', 'scraped': 0}, {'id': '5532389', 'slug': 'blue-white-camouflage-pattern-by-artpics', 'path': '/en/fabric/5532389-blue-white-camouflage-pattern-by-artpics', 'scraped': 0}, {'id': '509390', 'slug': 'spoonflower-color-map-by-spoonflower_help', 'path': '/en/fabric/509390-spoonflower-color-map-by-spoonflower_help', 'scraped': 0}, {'id': '5048115', 'slug': 'mexican-blanket-by-anchored_by_love', 'path': '/en/fabric/5048115-mexican-blanket-by-anchored_by_love', 'scraped': 0}, {'id': '4270747', 'slug': 'happy-hair-stylist-friends-blue-by-clayvision_-_ahappybluetree', 'path': '/en/fabric/4270747-happy-hair-stylist-friends-blue-by-clayvision_-_ahappybluetree', 'scraped': 0}, {'id': '9240316', 'slug': 'irish-notre-dame-irish-fabric-by-charlottewinter', 'path': '/en/fabric/9240316-irish-notre-dame-irish-fabric-by-charlottewinter', 'scraped': 0}, {'id': '6573088', 'slug': 'whale-s-song-by-katherine_quinn', 'path': '/en/fabric/6573088-whale-s-song-by-katherine_quinn', 'scraped': 0}, {'id': '7463028', 'slug': 'seamless-watercolor-larger-leaves-pattern-1-by-daily_miracles', 'path': '/en/fabric/7463028-seamless-watercolor-larger-leaves-pattern-1-by-daily_miracles', 'scraped': 0}, {'id': '8039248', 'slug': 'forest-animal-hot-air-balloon-night-adventure-by-at_the_cottage', 'path': '/en/fabric/8039248-forest-animal-hot-air-balloon-night-adventure-by-at_the_cottage', 'scraped': 0}, {'id': '4352750', 'slug': 'loteria-by-jellymania', 'path': '/en/fabric/4352750-loteria-by-jellymania', 'scraped': 0}, {'id': '7137898', 'slug': 'sierra-floral-by-crystal_walen', 'path': '/en/fabric/7137898-sierra-floral-by-crystal_walen', 'scraped': 0}, {'id': '8286001', 'slug': 'hanging-out-by-sarah_knight', 'path': '/en/fabric/8286001-hanging-out-by-sarah_knight', 'scraped': 0}, {'id': '2623792', 'slug': 'purple-space-stars-small-print-by-inspirationz', 'path': '/en/fabric/2623792-purple-space-stars-small-print-by-inspirationz', 'scraped': 0}, {'id': '7236018', 'slug': 'australian-native-eucalyptus-leaves-edition-1-australiana-fabric-wallpaper-by-erin__kendal', 'path': '/en/fabric/7236018-australian-native-eucalyptus-leaves-edition-1-australiana-fabric-wallpaper-by-erin__kendal', 'scraped': 0}, {'id': '7698482', 'slug': 'scrubs-dr-stetho-scope-by-adrianne_vanalstine', 'path': '/en/fabric/7698482-scrubs-dr-stetho-scope-by-adrianne_vanalstine', 'scraped': 0}, {'id': '5312944', 'slug': 'thank-being-friend-small-by-elladorine', 'path': '/en/fabric/5312944-thank-being-friend-small-by-elladorine', 'scraped': 0}, {'id': '7216659', 'slug': 'rainbow-stars-watercolor-abstract-small-by-crystal_walen', 'path': '/en/fabric/7216659-rainbow-stars-watercolor-abstract-small-by-crystal_walen', 'scraped': 0}, {'id': '8619105', 'slug': 'flight-feathers-painted-by-xoxotique', 'path': '/en/fabric/8619105-flight-feathers-painted-by-xoxotique', 'scraped': 0}, {'id': '7685381', 'slug': 'dragon-fire-by-adenaj', 'path': '/en/fabric/7685381-dragon-fire-by-adenaj', 'scraped': 0}, {'id': '7522587', 'slug': 'save-honey-bees-large-new-by-fernlesliestudio', 'path': '/en/fabric/7522587-save-honey-bees-large-new-by-fernlesliestudio', 'scraped': 0}, {'id': '9119650', 'slug': 'horror-friends-by-mariospeedwagon', 'path': '/en/fabric/9119650-horror-friends-by-mariospeedwagon', 'scraped': 0}, {'id': '5469666', 'slug': 'galaxy-far-far-away-gray-by-studiofibonacci', 'path': '/en/fabric/5469666-galaxy-far-far-away-gray-by-studiofibonacci', 'scraped': 0}, {'id': '6263258', 'slug': 'navy-blue-watercolor-herringbone-by-laurapol', 'path': '/en/fabric/6263258-navy-blue-watercolor-herringbone-by-laurapol', 'scraped': 0}, {'id': '9453318', 'slug': 'african-american-girls-retro-pop-art-by-whimsical_brush', 'path': '/en/fabric/9453318-african-american-girls-retro-pop-art-by-whimsical_brush', 'scraped': 0}, {'id': '6812243', 'slug': 'cute-kawaii-sushi-small-size-by-penguinhouse', 'path': '/en/fabric/6812243-cute-kawaii-sushi-small-size-by-penguinhouse', 'scraped': 0}, {'id': '6715163', 'slug': '8-wild-heart-florals-white-by-shopcabin', 'path': '/en/fabric/6715163-8-wild-heart-florals-white-by-shopcabin', 'scraped': 0}, {'id': '2632362', 'slug': 'colorful-happy-smiley-face-squares-large-print-by-inspirationz', 'path': '/en/fabric/2632362-colorful-happy-smiley-face-squares-large-print-by-inspirationz', 'scraped': 0}, {'id': '7580754', 'slug': 'ibd-gracie-grace-golden-jumbo-by-indybloomdesign', 'path': '/en/fabric/7580754-ibd-gracie-grace-golden-jumbo-by-indybloomdesign', 'scraped': 0}, {'id': '6327300', 'slug': 'call-mountains-evergreen-med-by-nouveau_bohemian', 'path': '/en/fabric/6327300-call-mountains-evergreen-med-by-nouveau_bohemian', 'scraped': 0}, {'id': '5700186', 'slug': 'puzzle-hearts-by-designedbygeeks', 'path': '/en/fabric/5700186-puzzle-hearts-by-designedbygeeks', 'scraped': 0}, {'id': '4981816', 'slug': 'black-white-dogs-by-littleislandcompany', 'path': '/en/fabric/4981816-black-white-dogs-by-littleislandcompany', 'scraped': 0}, {'id': '7812388', 'slug': 'dnd-pattern-by-neonborealis', 'path': '/en/fabric/7812388-dnd-pattern-by-neonborealis', 'scraped': 0}, {'id': '8618597', 'slug': 'rainbow-watercolor-pawprints-by-dragonstarart', 'path': '/en/fabric/8618597-rainbow-watercolor-pawprints-by-dragonstarart', 'scraped': 0}, {'id': '7368347', 'slug': 'dear-clementine-oranges-teal-by-crystal_walen', 'path': '/en/fabric/7368347-dear-clementine-oranges-teal-by-crystal_walen', 'scraped': 0}, {'id': '6590171', 'slug': 'mermaid-scales-by-elladorine', 'path': '/en/fabric/6590171-mermaid-scales-by-elladorine', 'scraped': 0}, {'id': '4995362', 'slug': 'heart-health-awareness-black-by-ohdarkthirty', 'path': '/en/fabric/4995362-heart-health-awareness-black-by-ohdarkthirty', 'scraped': 0}, {'id': '5514018', 'slug': 'hair-cutting-shears-by-cloudycapevintage', 'path': '/en/fabric/5514018-hair-cutting-shears-by-cloudycapevintage', 'scraped': 0}, {'id': '1096407', 'slug': 'skull-wall-by-ben_goetting', 'path': '/en/fabric/1096407-skull-wall-by-ben_goetting', 'scraped': 0}, {'id': '7587085', 'slug': 'heres-heart-navy-white-gold2-sketch-1-by-doodleandcharm_', 'path': '/en/fabric/7587085-heres-heart-navy-white-gold2-sketch-1-by-doodleandcharm_', 'scraped': 0}, {'id': '4830872', 'slug': 'cherry-blossom-watercolor-cherry-blossom-floral-by-magentarosedesigns', 'path': '/en/fabric/4830872-cherry-blossom-watercolor-cherry-blossom-floral-by-magentarosedesigns', 'scraped': 0}, {'id': '7662668', 'slug': 'mermaid-music-by-ceciliamok', 'path': '/en/fabric/7662668-mermaid-music-by-ceciliamok', 'scraped': 0}, {'id': '6444170', 'slug': 'catching-fireflies-by-thestorysmith', 'path': '/en/fabric/6444170-catching-fireflies-by-thestorysmith', 'scraped': 0}, {'id': '7984649', 'slug': '8-love-care-medical-black-by-rebelmod', 'path': '/en/fabric/7984649-8-love-care-medical-black-by-rebelmod', 'scraped': 0}, {'id': '1306112', 'slug': 'opal-by-peacoquettedesigns', 'path': '/en/fabric/1306112-opal-by-peacoquettedesigns', 'scraped': 0}, {'id': '7137786', 'slug': 'genevieve-floral-by-crystal_walen', 'path': '/en/fabric/7137786-genevieve-floral-by-crystal_walen', 'scraped': 0}, {'id': '7984669', 'slug': '8-love-care-medical-white-by-rebelmod', 'path': '/en/fabric/7984669-8-love-care-medical-white-by-rebelmod', 'scraped': 0}, {'id': '6650975', 'slug': 'love-nurse-charcoal-gray-by-phyllisdobbs', 'path': '/en/fabric/6650975-love-nurse-charcoal-gray-by-phyllisdobbs', 'scraped': 0}, {'id': '2623675', 'slug': 'black-white-music-notes-by-inspirationz', 'path': '/en/fabric/2623675-black-white-music-notes-by-inspirationz', 'scraped': 0}, {'id': '5513692', 'slug': 'salon-barber-hairdresser-pattern-by-cloudycapevintage', 'path': '/en/fabric/5513692-salon-barber-hairdresser-pattern-by-cloudycapevintage', 'scraped': 0}, {'id': '6864327', 'slug': 'love-lips-red-by-hipkiddesigns', 'path': '/en/fabric/6864327-love-lips-red-by-hipkiddesigns', 'scraped': 0}, {'id': '5588706', 'slug': 'black-lives-matter-small-scale-by-ashleysummersdesign', 'path': '/en/fabric/5588706-black-lives-matter-small-scale-by-ashleysummersdesign', 'scraped': 0}, {'id': '6178734', 'slug': 'fable-floral-blush-med-by-nouveau_bohemian', 'path': '/en/fabric/6178734-fable-floral-blush-med-by-nouveau_bohemian', 'scraped': 0}, {'id': '7944022', 'slug': 'golden-girls-illustration-peach-by-yesterdaycollection', 'path': '/en/fabric/7944022-golden-girls-illustration-peach-by-yesterdaycollection', 'scraped': 0}]\n"
     ]
    }
   ],
   "source": [
    "!python async_scrape.py"
   ]
  },
  {
   "cell_type": "code",
   "execution_count": 27,
   "metadata": {},
   "outputs": [
    {
     "data": {
      "text/html": [
       "<div>\n",
       "<style scoped>\n",
       "    .dataframe tbody tr th:only-of-type {\n",
       "        vertical-align: middle;\n",
       "    }\n",
       "\n",
       "    .dataframe tbody tr th {\n",
       "        vertical-align: top;\n",
       "    }\n",
       "\n",
       "    .dataframe thead th {\n",
       "        text-align: right;\n",
       "    }\n",
       "</style>\n",
       "<table border=\"1\" class=\"dataframe\">\n",
       "  <thead>\n",
       "    <tr style=\"text-align: right;\">\n",
       "      <th></th>\n",
       "      <th>slug</th>\n",
       "      <th>path</th>\n",
       "      <th>scraped</th>\n",
       "    </tr>\n",
       "    <tr>\n",
       "      <th>id</th>\n",
       "      <th></th>\n",
       "      <th></th>\n",
       "      <th></th>\n",
       "    </tr>\n",
       "  </thead>\n",
       "  <tbody>\n",
       "    <tr>\n",
       "      <th>6650888</th>\n",
       "      <td>love-nurse-whimsy-blue-by-phyllisdobbs</td>\n",
       "      <td>/en/fabric/6650888-love-nurse-whimsy-blue-by-p...</td>\n",
       "      <td>0</td>\n",
       "    </tr>\n",
       "    <tr>\n",
       "      <th>4995555</th>\n",
       "      <td>heart-health-awareness-light-gray-large-by-ohd...</td>\n",
       "      <td>/en/fabric/4995555-heart-health-awareness-ligh...</td>\n",
       "      <td>0</td>\n",
       "    </tr>\n",
       "    <tr>\n",
       "      <th>6079351</th>\n",
       "      <td>josie-meadow-floral-by-sweeterthanhoney</td>\n",
       "      <td>/en/fabric/6079351-josie-meadow-floral-by-swee...</td>\n",
       "      <td>0</td>\n",
       "    </tr>\n",
       "    <tr>\n",
       "      <th>1112778</th>\n",
       "      <td>rosie-riveter-by-spacefem</td>\n",
       "      <td>/en/fabric/1112778-rosie-riveter-by-spacefem</td>\n",
       "      <td>0</td>\n",
       "    </tr>\n",
       "    <tr>\n",
       "      <th>9060289</th>\n",
       "      <td>saints-fleur-de-lis-new-orleans-saints-footbal...</td>\n",
       "      <td>/en/fabric/9060289-saints-fleur-de-lis-new-orl...</td>\n",
       "      <td>0</td>\n",
       "    </tr>\n",
       "  </tbody>\n",
       "</table>\n",
       "</div>"
      ],
      "text/plain": [
       "                                                      slug  \\\n",
       "id                                                           \n",
       "6650888             love-nurse-whimsy-blue-by-phyllisdobbs   \n",
       "4995555  heart-health-awareness-light-gray-large-by-ohd...   \n",
       "6079351            josie-meadow-floral-by-sweeterthanhoney   \n",
       "1112778                          rosie-riveter-by-spacefem   \n",
       "9060289  saints-fleur-de-lis-new-orleans-saints-footbal...   \n",
       "\n",
       "                                                      path  scraped  \n",
       "id                                                                   \n",
       "6650888  /en/fabric/6650888-love-nurse-whimsy-blue-by-p...        0  \n",
       "4995555  /en/fabric/4995555-heart-health-awareness-ligh...        0  \n",
       "6079351  /en/fabric/6079351-josie-meadow-floral-by-swee...        0  \n",
       "1112778       /en/fabric/1112778-rosie-riveter-by-spacefem        0  \n",
       "9060289  /en/fabric/9060289-saints-fleur-de-lis-new-orl...        0  "
      ]
     },
     "execution_count": 27,
     "metadata": {},
     "output_type": "execute_result"
    }
   ],
   "source": [
    "name = 'links.pkl'\n",
    "df = pd.read_pickle(name)\n",
    "df.head()"
   ]
  },
  {
   "cell_type": "code",
   "execution_count": 28,
   "metadata": {},
   "outputs": [
    {
     "data": {
      "text/plain": [
       "(84, 3)"
      ]
     },
     "execution_count": 28,
     "metadata": {},
     "output_type": "execute_result"
    }
   ],
   "source": [
    "df.shape"
   ]
  },
  {
   "cell_type": "markdown",
   "metadata": {},
   "source": [
    "## Hide `arsenic` Logs"
   ]
  },
  {
   "cell_type": "code",
   "execution_count": 29,
   "metadata": {},
   "outputs": [
    {
     "name": "stdout",
     "output_type": "stream",
     "text": [
      "Requirement already satisfied: structlog in /Users/cfe/.local/share/virtualenvs/supercharged-tjIFpWCv/lib/python3.8/site-packages (20.1.0)\n",
      "Requirement already satisfied: six in /Users/cfe/.local/share/virtualenvs/supercharged-tjIFpWCv/lib/python3.8/site-packages (from structlog) (1.15.0)\n"
     ]
    }
   ],
   "source": [
    "!pip install structlog"
   ]
  },
  {
   "cell_type": "code",
   "execution_count": 30,
   "metadata": {},
   "outputs": [
    {
     "name": "stdout",
     "output_type": "stream",
     "text": [
      "Overwriting async_scrape.py\n"
     ]
    }
   ],
   "source": [
    "%%writefile async_scrape.py\n",
    "\n",
    "import os\n",
    "import asyncio\n",
    "from arsenic import get_session, keys, browsers, services\n",
    "import pandas as pd\n",
    "from requests_html import HTML\n",
    "import itertools\n",
    "import re\n",
    "import time\n",
    "import pathlib\n",
    "\n",
    "import logging\n",
    "import structlog # pip install structlog\n",
    "\n",
    "def set_arsenic_log_level(level = logging.WARNING):\n",
    "    # Create logger\n",
    "    logger = logging.getLogger('arsenic')\n",
    "\n",
    "    # We need factory, to return application-wide logger\n",
    "    def logger_factory():\n",
    "        return logger\n",
    "\n",
    "    structlog.configure(logger_factory=logger_factory)\n",
    "    logger.setLevel(level)\n",
    "\n",
    "\n",
    "# /en/fabric/7137786-genevieve-floral-by-crystal_walen\n",
    "async def extract_id_slug(url_path):\n",
    "    regex = r\"^[^\\s]+/(?P<id>\\d+)-(?P<slug>[\\w_-]+)$\"\n",
    "    group = re.match(regex, url_path)\n",
    "    if not group:\n",
    "        return None, None\n",
    "    return group['id'], group['slug']\n",
    "\n",
    "\n",
    "\n",
    "async def get_links(body_content):\n",
    "    html_r = HTML(html=body_content)\n",
    "    fabric_links = [x for x in list(html_r.links) if x.startswith(\"/en/fabric\")]\n",
    "    datas = []\n",
    "    for path in fabric_links:\n",
    "        id_, slug_ = await extract_id_slug(path)\n",
    "        data = {\n",
    "            \"id\": id_,\n",
    "            \"slug\": slug_,\n",
    "            \"path\": path,\n",
    "            \"scraped\": 0 # True / False -> 1 / 0 \n",
    "        }\n",
    "        datas.append(data)\n",
    "    return datas\n",
    "\n",
    "async def scraper(url):\n",
    "    service = services.Chromedriver()\n",
    "    browser = browsers.Chrome(chromeOptions={\n",
    "        'args': ['--headless', '--disable-gpu']\n",
    "    })\n",
    "    async with get_session(service, browser) as session:\n",
    "        await session.get(url)\n",
    "        body = await session.get_page_source()\n",
    "        # print(body)\n",
    "        return body\n",
    "\n",
    "\n",
    "async def store_links_as_df_pickle(datas=[], name='links.pkl'):\n",
    "    df = pd.DataFrame(datas)\n",
    "    df.set_index('id', drop=True, inplace=True)\n",
    "    df.to_pickle(name)\n",
    "    return df\n",
    "    \n",
    "    \n",
    "async def run(url):\n",
    "    body_content = await scraper(url)\n",
    "    links = await get_links(body_content)\n",
    "    df = await store_links_as_df_pickle(links)\n",
    "    return links\n",
    "    \n",
    "if __name__ == \"__main__\":\n",
    "    set_arsenic_log_level()\n",
    "    url = 'https://www.spoonflower.com/en/shop?on=fabric'\n",
    "    results = asyncio.run(run(url))\n",
    "    print(results)\n"
   ]
  },
  {
   "cell_type": "code",
   "execution_count": 31,
   "metadata": {},
   "outputs": [
    {
     "name": "stdout",
     "output_type": "stream",
     "text": [
      "Starting ChromeDriver 84.0.4147.30 (48b3e868b4cc0aa7e8149519690b6f6949e110a8-refs/branch-heads/4147@{#310}) on port 62211\n",
      "Only local connections are allowed.\n",
      "Please see https://chromedriver.chromium.org/security-considerations for suggestions on keeping ChromeDriver safe.\n",
      "ChromeDriver was started successfully.\n",
      "Traceback (most recent call last):\n",
      "  File \"async_scrape.py\", line 80, in <module>\n",
      "    results = asyncio.run(run(url))\n",
      "  File \"/Library/Frameworks/Python.framework/Versions/3.8/lib/python3.8/asyncio/runners.py\", line 43, in run\n",
      "    return loop.run_until_complete(main)\n",
      "  File \"/Library/Frameworks/Python.framework/Versions/3.8/lib/python3.8/asyncio/base_events.py\", line 616, in run_until_complete\n",
      "    return future.result()\n",
      "  File \"async_scrape.py\", line 74, in run\n",
      "    df = await store_links_as_df_pickle(links)\n",
      "  File \"async_scrape.py\", line 66, in store_links_as_df_pickle\n",
      "    df.set_index('id', drop=True, inplace=True)\n",
      "  File \"/Users/cfe/.local/share/virtualenvs/supercharged-tjIFpWCv/lib/python3.8/site-packages/pandas/core/frame.py\", line 4545, in set_index\n",
      "    raise KeyError(f\"None of {missing} are in the columns\")\n",
      "KeyError: \"None of ['id'] are in the columns\"\n"
     ]
    }
   ],
   "source": [
    "!python async_scrape.py"
   ]
  },
  {
   "cell_type": "markdown",
   "metadata": {},
   "source": [
    "## Async Data with Pandas"
   ]
  },
  {
   "cell_type": "code",
   "execution_count": 32,
   "metadata": {},
   "outputs": [
    {
     "name": "stdout",
     "output_type": "stream",
     "text": [
      "Overwriting async_scrape.py\n"
     ]
    }
   ],
   "source": [
    "%%writefile async_scrape.py\n",
    "\n",
    "import os\n",
    "import asyncio\n",
    "from arsenic import get_session, keys, browsers, services\n",
    "import pandas as pd\n",
    "from requests_html import HTML\n",
    "import itertools\n",
    "import re\n",
    "import time\n",
    "import pathlib\n",
    "\n",
    "import logging\n",
    "import structlog # pip install structlog\n",
    "\n",
    "def set_arsenic_log_level(level = logging.WARNING):\n",
    "    # Create logger\n",
    "    logger = logging.getLogger('arsenic')\n",
    "\n",
    "    # We need factory, to return application-wide logger\n",
    "    def logger_factory():\n",
    "        return logger\n",
    "\n",
    "    structlog.configure(logger_factory=logger_factory)\n",
    "    logger.setLevel(level)\n",
    "\n",
    "\n",
    "# /en/fabric/7137786-genevieve-floral-by-crystal_walen\n",
    "async def extract_id_slug(url_path):\n",
    "    regex = r\"^[^\\s]+/(?P<id>\\d+)-(?P<slug>[\\w_-]+)$\"\n",
    "    group = re.match(regex, url_path)\n",
    "    if not group:\n",
    "        return None, None\n",
    "    return group['id'], group['slug']\n",
    "\n",
    "\n",
    "\n",
    "async def get_links(body_content):\n",
    "    html_r = HTML(html=body_content)\n",
    "    fabric_links = [x for x in list(html_r.links) if x.startswith(\"/en/fabric\")]\n",
    "    datas = []\n",
    "    for path in fabric_links:\n",
    "        id_, slug_ = await extract_id_slug(path)\n",
    "        data = {\n",
    "            \"id\": id_,\n",
    "            \"slug\": slug_,\n",
    "            \"path\": path,\n",
    "            \"scraped\": 0 # True / False -> 1 / 0 \n",
    "        }\n",
    "        datas.append(data)\n",
    "    return datas\n",
    "\n",
    "async def scraper(url):\n",
    "    service = services.Chromedriver()\n",
    "    browser = browsers.Chrome(chromeOptions={\n",
    "        'args': ['--headless', '--disable-gpu']\n",
    "    })\n",
    "    async with get_session(service, browser) as session:\n",
    "        await session.get(url)\n",
    "        body = await session.get_page_source()\n",
    "        # print(body)\n",
    "        return body\n",
    "\n",
    "\n",
    "def store_links_as_df_pickle(datas=[], name='links.pkl'):\n",
    "    new_df = pd.DataFrame(datas)\n",
    "    og_df = pd.DataFrame([{'id': 0}])\n",
    "    if pathlib.Path(name).exists():\n",
    "        og_df = pd.read_pickle(name) # read_csv\n",
    "    df = pd.concat([og_df, new_df])\n",
    "    df.reset_index(inplace=True, drop=False)\n",
    "    df = df[['id', 'slug', 'path', 'scraped']]\n",
    "    df = df.loc[~df.id.duplicated(keep='first')]\n",
    "    # df.set_index('id', inplace=True, drop=True)\n",
    "    df.dropna(inplace=True)\n",
    "    df.to_pickle(name)\n",
    "    return df\n",
    "    \n",
    "    \n",
    "async def run(url):\n",
    "    body_content = await scraper(url)\n",
    "    links = await get_links(body_content)\n",
    "    return links\n",
    "    \n",
    "if __name__ == \"__main__\":\n",
    "    set_arsenic_log_level()\n",
    "    url = 'https://www.spoonflower.com/en/shop?on=fabric'\n",
    "    name = \"link.pkl\"\n",
    "    results = asyncio.run(run(url))\n",
    "    df = store_links_as_df_pickle(results, name=name)\n",
    "    print(df.head())\n"
   ]
  },
  {
   "cell_type": "code",
   "execution_count": 33,
   "metadata": {},
   "outputs": [
    {
     "name": "stdout",
     "output_type": "stream",
     "text": [
      "Starting ChromeDriver 84.0.4147.30 (48b3e868b4cc0aa7e8149519690b6f6949e110a8-refs/branch-heads/4147@{#310}) on port 62271\n",
      "Only local connections are allowed.\n",
      "Please see https://chromedriver.chromium.org/security-considerations for suggestions on keeping ChromeDriver safe.\n",
      "ChromeDriver was started successfully.\n",
      "        id  ... scraped\n",
      "0  4981816  ...     0.0\n",
      "1  6178734  ...     0.0\n",
      "2  6852245  ...     0.0\n",
      "3  4995555  ...     0.0\n",
      "4  4352750  ...     0.0\n",
      "\n",
      "[5 rows x 4 columns]\n"
     ]
    }
   ],
   "source": [
    "!python async_scrape.py"
   ]
  },
  {
   "cell_type": "code",
   "execution_count": 34,
   "metadata": {},
   "outputs": [
    {
     "data": {
      "text/plain": [
       "(84, 4)"
      ]
     },
     "execution_count": 34,
     "metadata": {},
     "output_type": "execute_result"
    }
   ],
   "source": [
    "df = pd.read_pickle(\"link.pkl\")\n",
    "df.shape"
   ]
  },
  {
   "cell_type": "code",
   "execution_count": 35,
   "metadata": {},
   "outputs": [
    {
     "data": {
      "text/html": [
       "<div>\n",
       "<style scoped>\n",
       "    .dataframe tbody tr th:only-of-type {\n",
       "        vertical-align: middle;\n",
       "    }\n",
       "\n",
       "    .dataframe tbody tr th {\n",
       "        vertical-align: top;\n",
       "    }\n",
       "\n",
       "    .dataframe thead th {\n",
       "        text-align: right;\n",
       "    }\n",
       "</style>\n",
       "<table border=\"1\" class=\"dataframe\">\n",
       "  <thead>\n",
       "    <tr style=\"text-align: right;\">\n",
       "      <th></th>\n",
       "      <th>id</th>\n",
       "      <th>slug</th>\n",
       "      <th>path</th>\n",
       "      <th>scraped</th>\n",
       "    </tr>\n",
       "  </thead>\n",
       "  <tbody>\n",
       "    <tr>\n",
       "      <th>0</th>\n",
       "      <td>4981816</td>\n",
       "      <td>black-white-dogs-by-littleislandcompany</td>\n",
       "      <td>/en/fabric/4981816-black-white-dogs-by-littlei...</td>\n",
       "      <td>0.0</td>\n",
       "    </tr>\n",
       "    <tr>\n",
       "      <th>1</th>\n",
       "      <td>6178734</td>\n",
       "      <td>fable-floral-blush-med-by-nouveau_bohemian</td>\n",
       "      <td>/en/fabric/6178734-fable-floral-blush-med-by-n...</td>\n",
       "      <td>0.0</td>\n",
       "    </tr>\n",
       "    <tr>\n",
       "      <th>2</th>\n",
       "      <td>6852245</td>\n",
       "      <td>cute-nurse-love-black-no-gradient-by-jannasalak</td>\n",
       "      <td>/en/fabric/6852245-cute-nurse-love-black-no-gr...</td>\n",
       "      <td>0.0</td>\n",
       "    </tr>\n",
       "    <tr>\n",
       "      <th>3</th>\n",
       "      <td>4995555</td>\n",
       "      <td>heart-health-awareness-light-gray-large-by-ohd...</td>\n",
       "      <td>/en/fabric/4995555-heart-health-awareness-ligh...</td>\n",
       "      <td>0.0</td>\n",
       "    </tr>\n",
       "    <tr>\n",
       "      <th>4</th>\n",
       "      <td>4352750</td>\n",
       "      <td>loteria-by-jellymania</td>\n",
       "      <td>/en/fabric/4352750-loteria-by-jellymania</td>\n",
       "      <td>0.0</td>\n",
       "    </tr>\n",
       "    <tr>\n",
       "      <th>5</th>\n",
       "      <td>7137786</td>\n",
       "      <td>genevieve-floral-by-crystal_walen</td>\n",
       "      <td>/en/fabric/7137786-genevieve-floral-by-crystal...</td>\n",
       "      <td>0.0</td>\n",
       "    </tr>\n",
       "    <tr>\n",
       "      <th>6</th>\n",
       "      <td>4270747</td>\n",
       "      <td>happy-hair-stylist-friends-blue-by-clayvision_...</td>\n",
       "      <td>/en/fabric/4270747-happy-hair-stylist-friends-...</td>\n",
       "      <td>0.0</td>\n",
       "    </tr>\n",
       "    <tr>\n",
       "      <th>7</th>\n",
       "      <td>6079351</td>\n",
       "      <td>josie-meadow-floral-by-sweeterthanhoney</td>\n",
       "      <td>/en/fabric/6079351-josie-meadow-floral-by-swee...</td>\n",
       "      <td>0.0</td>\n",
       "    </tr>\n",
       "    <tr>\n",
       "      <th>8</th>\n",
       "      <td>7216659</td>\n",
       "      <td>rainbow-stars-watercolor-abstract-small-by-cry...</td>\n",
       "      <td>/en/fabric/7216659-rainbow-stars-watercolor-ab...</td>\n",
       "      <td>0.0</td>\n",
       "    </tr>\n",
       "    <tr>\n",
       "      <th>9</th>\n",
       "      <td>2920223</td>\n",
       "      <td>m81-woodland-camo-by-ricraynor</td>\n",
       "      <td>/en/fabric/2920223-m81-woodland-camo-by-ricraynor</td>\n",
       "      <td>0.0</td>\n",
       "    </tr>\n",
       "  </tbody>\n",
       "</table>\n",
       "</div>"
      ],
      "text/plain": [
       "        id                                               slug  \\\n",
       "0  4981816            black-white-dogs-by-littleislandcompany   \n",
       "1  6178734         fable-floral-blush-med-by-nouveau_bohemian   \n",
       "2  6852245    cute-nurse-love-black-no-gradient-by-jannasalak   \n",
       "3  4995555  heart-health-awareness-light-gray-large-by-ohd...   \n",
       "4  4352750                              loteria-by-jellymania   \n",
       "5  7137786                  genevieve-floral-by-crystal_walen   \n",
       "6  4270747  happy-hair-stylist-friends-blue-by-clayvision_...   \n",
       "7  6079351            josie-meadow-floral-by-sweeterthanhoney   \n",
       "8  7216659  rainbow-stars-watercolor-abstract-small-by-cry...   \n",
       "9  2920223                     m81-woodland-camo-by-ricraynor   \n",
       "\n",
       "                                                path  scraped  \n",
       "0  /en/fabric/4981816-black-white-dogs-by-littlei...      0.0  \n",
       "1  /en/fabric/6178734-fable-floral-blush-med-by-n...      0.0  \n",
       "2  /en/fabric/6852245-cute-nurse-love-black-no-gr...      0.0  \n",
       "3  /en/fabric/4995555-heart-health-awareness-ligh...      0.0  \n",
       "4           /en/fabric/4352750-loteria-by-jellymania      0.0  \n",
       "5  /en/fabric/7137786-genevieve-floral-by-crystal...      0.0  \n",
       "6  /en/fabric/4270747-happy-hair-stylist-friends-...      0.0  \n",
       "7  /en/fabric/6079351-josie-meadow-floral-by-swee...      0.0  \n",
       "8  /en/fabric/7216659-rainbow-stars-watercolor-ab...      0.0  \n",
       "9  /en/fabric/2920223-m81-woodland-camo-by-ricraynor      0.0  "
      ]
     },
     "execution_count": 35,
     "metadata": {},
     "output_type": "execute_result"
    }
   ],
   "source": [
    "df.head(n=10)"
   ]
  },
  {
   "cell_type": "markdown",
   "metadata": {},
   "source": [
    "## Prepare to Scrape Multiple URLs"
   ]
  },
  {
   "cell_type": "code",
   "execution_count": 36,
   "metadata": {},
   "outputs": [
    {
     "name": "stdout",
     "output_type": "stream",
     "text": [
      "[<Task pending name='Task-14' coro=<asleeper_timeout() running at <ipython-input-36-3aebb3aea940>:5>>, <Task pending name='Task-15' coro=<asleeper_timeout() running at <ipython-input-36-3aebb3aea940>:5>>, <Task pending name='Task-16' coro=<asleeper_timeout() running at <ipython-input-36-3aebb3aea940>:5>>, <Task pending name='Task-17' coro=<asleeper_timeout() running at <ipython-input-36-3aebb3aea940>:5>>]\n",
      "0.0006699562072753906\n",
      "a0\t1s\n",
      "a1\t3s\n",
      "a2\t2s\n",
      "a3\t1s\n"
     ]
    }
   ],
   "source": [
    "start = time.time()\n",
    "iteration_times = [1, 3, 2, 1]\n",
    "\n",
    "\n",
    "async def asleeper_timeout(seconds, i=-1, timeout=4):\n",
    "    # time.sleep(seconds)\n",
    "    if i != -1:\n",
    "        print(f\"a{i}\\t{seconds}s\")\n",
    "    await asyncio.wait_for(asyncio.sleep(seconds), timeout=timeout)\n",
    "    ellap = time.time() - start\n",
    "    print(f\"{i} done {ellap}\")\n",
    "\n",
    "\n",
    "async def a_run():\n",
    "    results = []\n",
    "    for i, second in enumerate(iteration_times):\n",
    "        results.append(\n",
    "            asyncio.create_task(asleeper_timeout(second, i=i))\n",
    "        )\n",
    "    return results\n",
    "    \n",
    "results = await a_run()\n",
    "print(results)\n",
    "end = time.time() - start\n",
    "\n",
    "print(end)"
   ]
  },
  {
   "cell_type": "code",
   "execution_count": 37,
   "metadata": {},
   "outputs": [
    {
     "name": "stdout",
     "output_type": "stream",
     "text": [
      "Overwriting async_scrape.py\n"
     ]
    }
   ],
   "source": [
    "%%writefile async_scrape.py\n",
    "\n",
    "import os\n",
    "import asyncio\n",
    "from arsenic import get_session, keys, browsers, services\n",
    "import pandas as pd\n",
    "from requests_html import HTML\n",
    "import itertools\n",
    "import re\n",
    "import time\n",
    "import pathlib\n",
    "\n",
    "import logging\n",
    "import structlog # pip install structlog\n",
    "\n",
    "\n",
    "\n",
    "def store_links_as_df_pickle(datas=[], name='links.pkl'):\n",
    "    new_df = pd.DataFrame(datas)\n",
    "    og_df = pd.DataFrame([{'id': 0}])\n",
    "    if pathlib.Path(name).exists():\n",
    "        og_df = pd.read_pickle(name) # read_csv\n",
    "    df = pd.concat([og_df, new_df])\n",
    "    df.reset_index(inplace=True, drop=False)\n",
    "    df = df[['id', 'slug', 'path', 'scraped']]\n",
    "    df = df.loc[~df.id.duplicated(keep='first')]\n",
    "    # df.set_index('id', inplace=True, drop=True)\n",
    "    df.dropna(inplace=True)\n",
    "    df.to_pickle(name)\n",
    "    return df\n",
    "\n",
    "\n",
    "def set_arsenic_log_level(level = logging.WARNING):\n",
    "    # Create logger\n",
    "    logger = logging.getLogger('arsenic')\n",
    "\n",
    "    # We need factory, to return application-wide logger\n",
    "    def logger_factory():\n",
    "        return logger\n",
    "\n",
    "    structlog.configure(logger_factory=logger_factory)\n",
    "    logger.setLevel(level)\n",
    "\n",
    "\n",
    "# /en/fabric/7137786-genevieve-floral-by-crystal_walen\n",
    "async def extract_id_slug(url_path):\n",
    "    regex = r\"^[^\\s]+/(?P<id>\\d+)-(?P<slug>[\\w_-]+)$\"\n",
    "    group = re.match(regex, url_path)\n",
    "    if not group:\n",
    "        return None, None\n",
    "    return group['id'], group['slug']\n",
    "\n",
    "\n",
    "\n",
    "async def get_links(body_content):\n",
    "    html_r = HTML(html=body_content)\n",
    "    fabric_links = [x for x in list(html_r.links) if x.startswith(\"/en/fabric\")]\n",
    "    datas = []\n",
    "    for path in fabric_links:\n",
    "        id_, slug_ = await extract_id_slug(path)\n",
    "        data = {\n",
    "            \"id\": id_,\n",
    "            \"slug\": slug_,\n",
    "            \"path\": path,\n",
    "            \"scraped\": 0 # True / False -> 1 / 0 \n",
    "        }\n",
    "        datas.append(data)\n",
    "    return datas\n",
    "\n",
    "async def scraper(url, i=-1, timeout=60, start=None):\n",
    "    service = services.Chromedriver()\n",
    "    browser = browsers.Chrome(chromeOptions={\n",
    "        'args': ['--headless', '--disable-gpu']\n",
    "    })\n",
    "    async with get_session(service, browser) as session:\n",
    "        try:\n",
    "            await asyncio.wait_for(session.get(url), timeout=timeout)\n",
    "        except asyncio.TimeoutError:\n",
    "            return []\n",
    "        body = await session.get_page_source()\n",
    "        links = await get_links(body)\n",
    "        if start != None:\n",
    "            end = time.time() - start\n",
    "            print(f'{i} took {end} seconds')\n",
    "        # print(body)\n",
    "        return links\n",
    "\n",
    "\n",
    "async def run(urls, timeout=60, start=None):\n",
    "    results = []\n",
    "    for i, url in enumerate(urls):\n",
    "        results.append(\n",
    "            asyncio.create_task(scraper(url, i=i, timeout=60, start=start))\n",
    "        )\n",
    "    list_of_links = await asyncio.gather(*results)\n",
    "    return list_of_links\n",
    "\n",
    "if __name__ == \"__main__\":\n",
    "    set_arsenic_log_level()\n",
    "    start = time.time()\n",
    "    urls = ['https://www.spoonflower.com/en/shop?on=fabric', \n",
    "            'https://www.spoonflower.com/en/fabric/6444170-catching-fireflies-by-thestorysmith']\n",
    "    name = \"link.pkl\"\n",
    "    results = asyncio.run(run(urls, start=start))\n",
    "    print(len(results))\n",
    "    end = time.time() - start\n",
    "    print(f'total time is {end}')\n",
    "#     df = store_links_as_df_pickle(results, name=name)\n",
    "#     print(df.head())\n"
   ]
  },
  {
   "cell_type": "code",
   "execution_count": 38,
   "metadata": {},
   "outputs": [
    {
     "name": "stdout",
     "output_type": "stream",
     "text": [
      "Starting ChromeDriver 84.0.4147.30 (48b3e868b4cc0aa7e8149519690b6f6949e110a8-refs/branch-heads/4147@{#310}) on port 62330\n",
      "Only local connections are allowed.\n",
      "Please see https://chromedriver.chromium.org/security-considerations for suggestions on keeping ChromeDriver safe.\n",
      "Starting ChromeDriver 84.0.4147.30 (48b3e868b4cc0aa7e8149519690b6f6949e110a8-refs/branch-heads/4147@{#310}) on port 62331\n",
      "Only local connections are allowed.\n",
      "Please see https://chromedriver.chromium.org/security-considerations for suggestions on keeping ChromeDriver safe.\n",
      "ChromeDriver was started successfully.\n",
      "ChromeDriver was started successfully.\n",
      "1 took 2.9974570274353027 seconds\n",
      "0 took 4.026594161987305 seconds\n",
      "2\n",
      "total time is 4.082810878753662\n",
      "0 done 5.038886070251465\n",
      "1 done 5.038977146148682\n",
      "2 done 5.03901219367981\n",
      "3 done 5.039041042327881\n"
     ]
    }
   ],
   "source": [
    "!python async_scrape.py"
   ]
  },
  {
   "cell_type": "markdown",
   "metadata": {},
   "source": [
    "## Extract Product Data"
   ]
  },
  {
   "cell_type": "code",
   "execution_count": 104,
   "metadata": {},
   "outputs": [],
   "source": [
    "import re\n",
    "import requests\n",
    "from requests_html import HTML\n",
    "import pandas as pd\n",
    "from urllib.parse import urlparse\n",
    "import time\n",
    "\n",
    "from selenium import webdriver\n",
    "from selenium.webdriver.chrome.options import Options\n",
    "\n",
    "def scraper(url):\n",
    "    options = Options()\n",
    "    options.add_argument(\"--headless\")\n",
    "    driver = webdriver.Chrome(options=options)\n",
    "    driver.get(url)\n",
    "    time.sleep(5)\n",
    "    return driver.page_source\n",
    "\n",
    "def extract_id_slug(url_path):\n",
    "    path = url_path\n",
    "    if path.startswith('http'):\n",
    "        parsed_url = urlparse(path)\n",
    "        path = parsed_url.path\n",
    "    regex = r\"^[^\\s]+/(?P<id>\\d+)-(?P<slug>[\\w_-]+)$\"\n",
    "    group = re.match(regex, path)\n",
    "    if not group:\n",
    "        return None, None, path\n",
    "    return group['id'], group['slug'], path"
   ]
  },
  {
   "cell_type": "code",
   "execution_count": 105,
   "metadata": {},
   "outputs": [],
   "source": [
    "url = 'https://www.spoonflower.com/en/fabric/6444170-catching-fireflies-by-thestorysmith'\n",
    "\n",
    "html_str = scraper(url)\n",
    "content = HTML(html=html_str)"
   ]
  },
  {
   "cell_type": "code",
   "execution_count": 115,
   "metadata": {},
   "outputs": [],
   "source": [
    "def get_product_data(url, content):\n",
    "    id_, slug_, path = extract_id_slug(url)\n",
    "    titleEl = content.find(\".design-title\", first=True)\n",
    "    data = {\n",
    "        'id': id_,\n",
    "        'slug': slug_,\n",
    "        'path': path,\n",
    "    }\n",
    "    title = None\n",
    "    if titleEl == None:\n",
    "        return data\n",
    "    title = titleEl.text\n",
    "    data['title'] = title\n",
    "    sizeEl = content.find(\"#fabric-size\", first=True)\n",
    "    size = None\n",
    "    if sizeEl != None:\n",
    "        size = sizeEl.text\n",
    "    data['size'] = size\n",
    "    price_parent_el = content.find('.b-item-price', first=True)\n",
    "    price_el = price_parent_el.find('.visuallyhidden', first=True)\n",
    "    for i in price_el.element.iterchildren():\n",
    "        attrs = dict(**i.attrib)\n",
    "        try:\n",
    "            del attrs['itemprop']\n",
    "        except:\n",
    "            pass\n",
    "        attrs_keys = list(attrs.keys())\n",
    "        data[i.attrib['itemprop']] = i.attrib[attrs_keys[0]]\n",
    "    return data"
   ]
  },
  {
   "cell_type": "code",
   "execution_count": 116,
   "metadata": {},
   "outputs": [
    {
     "data": {
      "text/plain": [
       "{'id': '6444170',\n",
       " 'slug': 'catching-fireflies-by-thestorysmith',\n",
       " 'path': '/en/fabric/6444170-catching-fireflies-by-thestorysmith',\n",
       " 'title': 'Catching Fireflies',\n",
       " 'size': 'Fat Quarter 21\" x 18\"',\n",
       " 'price': '10.75',\n",
       " 'priceCurrency': 'USD',\n",
       " 'priceValidUntil': '2030-01-01'}"
      ]
     },
     "execution_count": 116,
     "metadata": {},
     "output_type": "execute_result"
    }
   ],
   "source": [
    "get_product_data(url, content)"
   ]
  },
  {
   "cell_type": "code",
   "execution_count": 112,
   "metadata": {},
   "outputs": [
    {
     "data": {
      "text/plain": [
       "{'id': '7175195',\n",
       " 'slug': 'golden-watercolor-rainbow-rows-5-by-anniemontgomerydesign',\n",
       " 'path': '/en/fabric/7175195-golden-watercolor-rainbow-rows-5-by-anniemontgomerydesign',\n",
       " 'title': 'Golden Watercolor Rainbow Rows .5\"'}"
      ]
     },
     "execution_count": 112,
     "metadata": {},
     "output_type": "execute_result"
    }
   ],
   "source": [
    "# url2 = \"https://www.spoonflower.com/en/fabric/7175195-golden-watercolor-rainbow-rows-5-by-anniemontgomerydesign?fabric=petal_signature_cotton\"\n",
    "# html_str2 = scraper(url2)\n",
    "# content2 = HTML(html=html_str2)\n",
    "# get_product_data(url2, content2)\n"
   ]
  },
  {
   "cell_type": "markdown",
   "metadata": {},
   "source": [
    "## Async Product Data Extraction"
   ]
  },
  {
   "cell_type": "code",
   "execution_count": 124,
   "metadata": {},
   "outputs": [
    {
     "name": "stdout",
     "output_type": "stream",
     "text": [
      "Overwriting async_scrape.py\n"
     ]
    }
   ],
   "source": [
    "%%writefile async_scrape.py\n",
    "\n",
    "import os\n",
    "import asyncio\n",
    "from arsenic import get_session, keys, browsers, services\n",
    "import pandas as pd\n",
    "from requests_html import HTML\n",
    "import itertools\n",
    "import re\n",
    "import time\n",
    "import pathlib\n",
    "from urllib.parse import urlparse\n",
    "\n",
    "import logging\n",
    "import structlog # pip install structlog\n",
    "\n",
    "\n",
    "\n",
    "def store_links_as_df_pickle(datas=[], name='links.pkl'):\n",
    "    new_df = pd.DataFrame(datas)\n",
    "    og_df = pd.DataFrame([{'id': 0}])\n",
    "    if pathlib.Path(name).exists():\n",
    "        og_df = pd.read_pickle(name) # read_csv\n",
    "    df = pd.concat([og_df, new_df])\n",
    "    df.reset_index(inplace=True, drop=False)\n",
    "    df = df[['id', 'slug', 'path', 'scraped']]\n",
    "    df = df.loc[~df.id.duplicated(keep='first')]\n",
    "    # df.set_index('id', inplace=True, drop=True)\n",
    "    df.dropna(inplace=True)\n",
    "    df.to_pickle(name)\n",
    "    return df\n",
    "\n",
    "\n",
    "def set_arsenic_log_level(level = logging.WARNING):\n",
    "    # Create logger\n",
    "    logger = logging.getLogger('arsenic')\n",
    "\n",
    "    # We need factory, to return application-wide logger\n",
    "    def logger_factory():\n",
    "        return logger\n",
    "\n",
    "    structlog.configure(logger_factory=logger_factory)\n",
    "    logger.setLevel(level)\n",
    "\n",
    "\n",
    "# /en/fabric/7137786-genevieve-floral-by-crystal_walen\n",
    "async def extract_id_slug(url_path):\n",
    "    path = url_path\n",
    "    if path.startswith('http'):\n",
    "        parsed_url = urlparse(path)\n",
    "        path = parsed_url.path\n",
    "    regex = r\"^[^\\s]+/(?P<id>\\d+)-(?P<slug>[\\w_-]+)$\"\n",
    "    group = re.match(regex, path)\n",
    "    if not group:\n",
    "        return None, None, path\n",
    "    return group['id'], group['slug'], path\n",
    "\n",
    "\n",
    "\n",
    "async def get_product_data(url, content):\n",
    "    id_, slug_, path = await extract_id_slug(url)\n",
    "    titleEl = content.find(\".design-title\", first=True)\n",
    "    data = {\n",
    "        'id': id_,\n",
    "        'slug': slug_,\n",
    "        'path': path,\n",
    "    }\n",
    "    title = None\n",
    "    if titleEl == None:\n",
    "        return data\n",
    "    title = titleEl.text\n",
    "    data['title'] = title\n",
    "    sizeEl = content.find(\"#fabric-size\", first=True)\n",
    "    size = None\n",
    "    if sizeEl != None:\n",
    "        size = sizeEl.text\n",
    "    data['size'] = size\n",
    "    price_parent_el = content.find('.b-item-price', first=True)\n",
    "    price_el = price_parent_el.find('.visuallyhidden', first=True)\n",
    "    for i in price_el.element.iterchildren():\n",
    "        attrs = dict(**i.attrib)\n",
    "        try:\n",
    "            del attrs['itemprop']\n",
    "        except:\n",
    "            pass\n",
    "        attrs_keys = list(attrs.keys())\n",
    "        data[i.attrib['itemprop']] = i.attrib[attrs_keys[0]]\n",
    "    return data\n",
    "\n",
    "async def get_parsable_html(body_html_str):\n",
    "    return HTML(html=body_html_str)\n",
    "\n",
    "async def get_links(html_r):\n",
    "    fabric_links = [x for x in list(html_r.links) if x.startswith(\"/en/fabric\")]\n",
    "    datas = []\n",
    "    for path in fabric_links:\n",
    "        id_, slug_, _ = await extract_id_slug(path)\n",
    "        data = {\n",
    "            \"id\": id_,\n",
    "            \"slug\": slug_,\n",
    "            \"path\": path,\n",
    "            \"scraped\": 0 # True / False -> 1 / 0 \n",
    "        }\n",
    "        datas.append(data)\n",
    "    return datas\n",
    "\n",
    "async def scraper(url, i=-1, timeout=60, start=None):\n",
    "    service = services.Chromedriver()\n",
    "    browser = browsers.Chrome(chromeOptions={\n",
    "        'args': ['--headless', '--disable-gpu']\n",
    "    })\n",
    "    async with get_session(service, browser) as session:\n",
    "        try:\n",
    "            await asyncio.wait_for(session.get(url), timeout=timeout)\n",
    "        except asyncio.TimeoutError:\n",
    "            return []\n",
    "        await asyncio.sleep(10)\n",
    "        body = await session.get_page_source() # save this locally??\n",
    "        content = await get_parsable_html(body) \n",
    "        links = await get_links(content)\n",
    "        product_data = await get_product_data(url, content)\n",
    "        if start != None:\n",
    "            end = time.time() - start\n",
    "            print(f'{i} took {end} seconds')\n",
    "        # print(body)\n",
    "        dataset = {\n",
    "            \"links\": links,\n",
    "            \"product_data\": product_data\n",
    "        }\n",
    "        return dataset\n",
    "\n",
    "\n",
    "async def run(urls, timeout=60, start=None):\n",
    "    results = []\n",
    "    for i, url in enumerate(urls):\n",
    "        results.append(\n",
    "            asyncio.create_task(scraper(url, i=i, timeout=60, start=start))\n",
    "        )\n",
    "    list_of_links = await asyncio.gather(*results)\n",
    "    return list_of_links\n",
    "\n",
    "if __name__ == \"__main__\":\n",
    "    set_arsenic_log_level()\n",
    "    start = time.time()\n",
    "    urls = ['https://www.spoonflower.com/en/shop?on=fabric', \n",
    "            'https://www.spoonflower.com/en/fabric/6444170-catching-fireflies-by-thestorysmith']\n",
    "    name = \"link.pkl\"\n",
    "    results = asyncio.run(run(urls, start=start))\n",
    "    print(results)\n",
    "    end = time.time() - start\n",
    "    print(f'total time is {end}')\n",
    "#     df = store_links_as_df_pickle(results, name=name)\n",
    "#     print(df.head())\n"
   ]
  },
  {
   "cell_type": "code",
   "execution_count": 125,
   "metadata": {},
   "outputs": [
    {
     "name": "stdout",
     "output_type": "stream",
     "text": [
      "Starting ChromeDriver 84.0.4147.30 (48b3e868b4cc0aa7e8149519690b6f6949e110a8-refs/branch-heads/4147@{#310}) on port 54051\n",
      "Only local connections are allowed.\n",
      "Please see https://chromedriver.chromium.org/security-considerations for suggestions on keeping ChromeDriver safe.\n",
      "ChromeDriver was started successfully.\n",
      "Starting ChromeDriver 84.0.4147.30 (48b3e868b4cc0aa7e8149519690b6f6949e110a8-refs/branch-heads/4147@{#310}) on port 54052\n",
      "Only local connections are allowed.\n",
      "Please see https://chromedriver.chromium.org/security-considerations for suggestions on keeping ChromeDriver safe.\n",
      "ChromeDriver was started successfully.\n",
      "1 took 13.698167085647583 seconds\n",
      "0 took 14.873960971832275 seconds\n",
      "[{'links': [{'id': '7661255', 'slug': 'just-jellies-jellyfish-by-katerhees', 'path': '/en/fabric/7661255-just-jellies-jellyfish-by-katerhees', 'scraped': 0}, {'id': '5131007', 'slug': 'scandinavian-sweet-hedgehog-illustration-kids-gender-neutral-black-white-by-littlesmilemakers', 'path': '/en/fabric/5131007-scandinavian-sweet-hedgehog-illustration-kids-gender-neutral-black-white-by-littlesmilemakers', 'scraped': 0}, {'id': '4995555', 'slug': 'heart-health-awareness-light-gray-large-by-ohdarkthirty', 'path': '/en/fabric/4995555-heart-health-awareness-light-gray-large-by-ohdarkthirty', 'scraped': 0}, {'id': '509390', 'slug': 'spoonflower-color-map-by-spoonflower_help', 'path': '/en/fabric/509390-spoonflower-color-map-by-spoonflower_help', 'scraped': 0}, {'id': '7137786', 'slug': 'genevieve-floral-by-crystal_walen', 'path': '/en/fabric/7137786-genevieve-floral-by-crystal_walen', 'scraped': 0}, {'id': '7790777', 'slug': 'turtles-aqua-blue-by-gingerlique', 'path': '/en/fabric/7790777-turtles-aqua-blue-by-gingerlique', 'scraped': 0}, {'id': '5513692', 'slug': 'salon-barber-hairdresser-pattern-by-cloudycapevintage', 'path': '/en/fabric/5513692-salon-barber-hairdresser-pattern-by-cloudycapevintage', 'scraped': 0}, {'id': '5964319', 'slug': 'hearts-on-grey-linen-valentines-day-by-littlearrowdesign', 'path': '/en/fabric/5964319-hearts-on-grey-linen-valentines-day-by-littlearrowdesign', 'scraped': 0}, {'id': '5048115', 'slug': 'mexican-blanket-by-anchored_by_love', 'path': '/en/fabric/5048115-mexican-blanket-by-anchored_by_love', 'scraped': 0}, {'id': '5839396', 'slug': 'spectacular-cats-by-cynthia_arre', 'path': '/en/fabric/5839396-spectacular-cats-by-cynthia_arre', 'scraped': 0}, {'id': '8618597', 'slug': 'rainbow-watercolor-pawprints-by-dragonstarart', 'path': '/en/fabric/8618597-rainbow-watercolor-pawprints-by-dragonstarart', 'scraped': 0}, {'id': '4270747', 'slug': 'happy-hair-stylist-friends-blue-by-clayvision_-_ahappybluetree', 'path': '/en/fabric/4270747-happy-hair-stylist-friends-blue-by-clayvision_-_ahappybluetree', 'scraped': 0}, {'id': '1096407', 'slug': 'skull-wall-by-ben_goetting', 'path': '/en/fabric/1096407-skull-wall-by-ben_goetting', 'scraped': 0}, {'id': '4995362', 'slug': 'heart-health-awareness-black-by-ohdarkthirty', 'path': '/en/fabric/4995362-heart-health-awareness-black-by-ohdarkthirty', 'scraped': 0}, {'id': '2920223', 'slug': 'm81-woodland-camo-by-ricraynor', 'path': '/en/fabric/2920223-m81-woodland-camo-by-ricraynor', 'scraped': 0}, {'id': '8286001', 'slug': 'hanging-out-by-sarah_knight', 'path': '/en/fabric/8286001-hanging-out-by-sarah_knight', 'scraped': 0}, {'id': '4352750', 'slug': 'loteria-by-jellymania', 'path': '/en/fabric/4352750-loteria-by-jellymania', 'scraped': 0}, {'id': '7463028', 'slug': 'seamless-watercolor-larger-leaves-pattern-1-by-daily_miracles', 'path': '/en/fabric/7463028-seamless-watercolor-larger-leaves-pattern-1-by-daily_miracles', 'scraped': 0}, {'id': '5880084', 'slug': 'mod-triangles-gold-indigo-by-crystal_walen', 'path': '/en/fabric/5880084-mod-triangles-gold-indigo-by-crystal_walen', 'scraped': 0}, {'id': '7812388', 'slug': 'dnd-pattern-by-neonborealis', 'path': '/en/fabric/7812388-dnd-pattern-by-neonborealis', 'scraped': 0}, {'id': '6715163', 'slug': '8-wild-heart-florals-white-by-shopcabin', 'path': '/en/fabric/6715163-8-wild-heart-florals-white-by-shopcabin', 'scraped': 0}, {'id': '5514018', 'slug': 'hair-cutting-shears-by-cloudycapevintage', 'path': '/en/fabric/5514018-hair-cutting-shears-by-cloudycapevintage', 'scraped': 0}, {'id': '6782514', 'slug': 'eame-s-wildflower-meadow-by-hipkiddesigns', 'path': '/en/fabric/6782514-eame-s-wildflower-meadow-by-hipkiddesigns', 'scraped': 0}, {'id': '3840217', 'slug': 'nurse-theme-by-hot4tees_bg-yahoo_com', 'path': '/en/fabric/3840217-nurse-theme-by-hot4tees_bg-yahoo_com', 'scraped': 0}, {'id': '7368347', 'slug': 'dear-clementine-oranges-teal-by-crystal_walen', 'path': '/en/fabric/7368347-dear-clementine-oranges-teal-by-crystal_walen', 'scraped': 0}, {'id': '6327300', 'slug': 'call-mountains-evergreen-med-by-nouveau_bohemian', 'path': '/en/fabric/6327300-call-mountains-evergreen-med-by-nouveau_bohemian', 'scraped': 0}, {'id': '9119650', 'slug': 'horror-friends-by-mariospeedwagon', 'path': '/en/fabric/9119650-horror-friends-by-mariospeedwagon', 'scraped': 0}, {'id': '7698482', 'slug': 'scrubs-dr-stetho-scope-by-adrianne_vanalstine', 'path': '/en/fabric/7698482-scrubs-dr-stetho-scope-by-adrianne_vanalstine', 'scraped': 0}, {'id': '5544045', 'slug': 'napoleonic-bees-faux-gilt-on-blackest-black-by-peacoquettedesigns', 'path': '/en/fabric/5544045-napoleonic-bees-faux-gilt-on-blackest-black-by-peacoquettedesigns', 'scraped': 0}, {'id': '6812243', 'slug': 'cute-kawaii-sushi-small-size-by-penguinhouse', 'path': '/en/fabric/6812243-cute-kawaii-sushi-small-size-by-penguinhouse', 'scraped': 0}, {'id': '2623792', 'slug': 'purple-space-stars-small-print-by-inspirationz', 'path': '/en/fabric/2623792-purple-space-stars-small-print-by-inspirationz', 'scraped': 0}, {'id': '1112778', 'slug': 'rosie-riveter-by-spacefem', 'path': '/en/fabric/1112778-rosie-riveter-by-spacefem', 'scraped': 0}, {'id': '6079351', 'slug': 'josie-meadow-floral-by-sweeterthanhoney', 'path': '/en/fabric/6079351-josie-meadow-floral-by-sweeterthanhoney', 'scraped': 0}, {'id': '4981816', 'slug': 'black-white-dogs-by-littleislandcompany', 'path': '/en/fabric/4981816-black-white-dogs-by-littleislandcompany', 'scraped': 0}, {'id': '2623675', 'slug': 'black-white-music-notes-by-inspirationz', 'path': '/en/fabric/2623675-black-white-music-notes-by-inspirationz', 'scraped': 0}, {'id': '7944022', 'slug': 'golden-girls-illustration-peach-by-yesterdaycollection', 'path': '/en/fabric/7944022-golden-girls-illustration-peach-by-yesterdaycollection', 'scraped': 0}, {'id': '6590171', 'slug': 'mermaid-scales-by-elladorine', 'path': '/en/fabric/6590171-mermaid-scales-by-elladorine', 'scraped': 0}, {'id': '6444170', 'slug': 'catching-fireflies-by-thestorysmith', 'path': '/en/fabric/6444170-catching-fireflies-by-thestorysmith', 'scraped': 0}, {'id': '3584004', 'slug': 'mexican-sugar-skulls-small-by-lusykoror', 'path': '/en/fabric/3584004-mexican-sugar-skulls-small-by-lusykoror', 'scraped': 0}, {'id': '1306112', 'slug': 'opal-by-peacoquettedesigns', 'path': '/en/fabric/1306112-opal-by-peacoquettedesigns', 'scraped': 0}, {'id': '5312944', 'slug': 'thank-being-friend-small-by-elladorine', 'path': '/en/fabric/5312944-thank-being-friend-small-by-elladorine', 'scraped': 0}, {'id': '7522587', 'slug': 'save-honey-bees-large-new-by-fernlesliestudio', 'path': '/en/fabric/7522587-save-honey-bees-large-new-by-fernlesliestudio', 'scraped': 0}, {'id': '3817098', 'slug': 'math-count-on-by-sammyk', 'path': '/en/fabric/3817098-math-count-on-by-sammyk', 'scraped': 0}, {'id': '7662668', 'slug': 'mermaid-music-by-ceciliamok', 'path': '/en/fabric/7662668-mermaid-music-by-ceciliamok', 'scraped': 0}, {'id': '8692520', 'slug': 'bees-lemons-large-blue-by-fernlesliestudio', 'path': '/en/fabric/8692520-bees-lemons-large-blue-by-fernlesliestudio', 'scraped': 0}, {'id': '6263258', 'slug': 'navy-blue-watercolor-herringbone-by-laurapol', 'path': '/en/fabric/6263258-navy-blue-watercolor-herringbone-by-laurapol', 'scraped': 0}, {'id': '9240316', 'slug': 'irish-notre-dame-irish-fabric-by-charlottewinter', 'path': '/en/fabric/9240316-irish-notre-dame-irish-fabric-by-charlottewinter', 'scraped': 0}, {'id': '9453318', 'slug': 'african-american-girls-retro-pop-art-by-whimsical_brush', 'path': '/en/fabric/9453318-african-american-girls-retro-pop-art-by-whimsical_brush', 'scraped': 0}, {'id': '8039248', 'slug': 'forest-animal-hot-air-balloon-night-adventure-by-at_the_cottage', 'path': '/en/fabric/8039248-forest-animal-hot-air-balloon-night-adventure-by-at_the_cottage', 'scraped': 0}, {'id': '5532389', 'slug': 'blue-white-camouflage-pattern-by-artpics', 'path': '/en/fabric/5532389-blue-white-camouflage-pattern-by-artpics', 'scraped': 0}, {'id': '8056679', 'slug': 'ruth-bader-ginsgurg-rbg-bust-black-by-katerhees', 'path': '/en/fabric/8056679-ruth-bader-ginsgurg-rbg-bust-black-by-katerhees', 'scraped': 0}, {'id': '6178734', 'slug': 'fable-floral-blush-med-by-nouveau_bohemian', 'path': '/en/fabric/6178734-fable-floral-blush-med-by-nouveau_bohemian', 'scraped': 0}, {'id': '8197261', 'slug': 'night-sky-stars-midnight-blue-by-at_the_cottage', 'path': '/en/fabric/8197261-night-sky-stars-midnight-blue-by-at_the_cottage', 'scraped': 0}, {'id': '4893900', 'slug': 'half-scale-m81-woodland-camo-by-ricraynor', 'path': '/en/fabric/4893900-half-scale-m81-woodland-camo-by-ricraynor', 'scraped': 0}, {'id': '2330040', 'slug': 'maryland-flags-by-elramsay', 'path': '/en/fabric/2330040-maryland-flags-by-elramsay', 'scraped': 0}, {'id': '1577333', 'slug': 'marine-marpat-digital-woodland-camo-by-ricraynor', 'path': '/en/fabric/1577333-marine-marpat-digital-woodland-camo-by-ricraynor', 'scraped': 0}, {'id': '4830872', 'slug': 'cherry-blossom-watercolor-cherry-blossom-floral-by-magentarosedesigns', 'path': '/en/fabric/4830872-cherry-blossom-watercolor-cherry-blossom-floral-by-magentarosedesigns', 'scraped': 0}, {'id': '991112', 'slug': 'nursing-coordinates-by-bluevelvet', 'path': '/en/fabric/991112-nursing-coordinates-by-bluevelvet', 'scraped': 0}, {'id': '7685381', 'slug': 'dragon-fire-by-adenaj', 'path': '/en/fabric/7685381-dragon-fire-by-adenaj', 'scraped': 0}, {'id': '6573088', 'slug': 'whale-s-song-by-katherine_quinn', 'path': '/en/fabric/6573088-whale-s-song-by-katherine_quinn', 'scraped': 0}, {'id': '5773745', 'slug': 'rainbow-pride-stripes-by-furbuddy', 'path': '/en/fabric/5773745-rainbow-pride-stripes-by-furbuddy', 'scraped': 0}, {'id': '6650888', 'slug': 'love-nurse-whimsy-blue-by-phyllisdobbs', 'path': '/en/fabric/6650888-love-nurse-whimsy-blue-by-phyllisdobbs', 'scraped': 0}, {'id': '7984669', 'slug': '8-love-care-medical-white-by-rebelmod', 'path': '/en/fabric/7984669-8-love-care-medical-white-by-rebelmod', 'scraped': 0}, {'id': '6650975', 'slug': 'love-nurse-charcoal-gray-by-phyllisdobbs', 'path': '/en/fabric/6650975-love-nurse-charcoal-gray-by-phyllisdobbs', 'scraped': 0}, {'id': '7580754', 'slug': 'ibd-gracie-grace-golden-jumbo-by-indybloomdesign', 'path': '/en/fabric/7580754-ibd-gracie-grace-golden-jumbo-by-indybloomdesign', 'scraped': 0}, {'id': '5247883', 'slug': 'hexo-blue-med-by-nouveau_bohemian', 'path': '/en/fabric/5247883-hexo-blue-med-by-nouveau_bohemian', 'scraped': 0}, {'id': '7679631', 'slug': 'scattered-earth-tones-watercolor-rainbows-by-anniemontgomerydesign', 'path': '/en/fabric/7679631-scattered-earth-tones-watercolor-rainbows-by-anniemontgomerydesign', 'scraped': 0}, {'id': '8619105', 'slug': 'flight-feathers-painted-by-xoxotique', 'path': '/en/fabric/8619105-flight-feathers-painted-by-xoxotique', 'scraped': 0}, {'id': '9060289', 'slug': 'saints-fleur-de-lis-new-orleans-saints-football-football-fabric-fleur-de-lis-fabric-black-gold-gold-f-by-charlottewinter', 'path': '/en/fabric/9060289-saints-fleur-de-lis-new-orleans-saints-football-football-fabric-fleur-de-lis-fabric-black-gold-gold-f-by-charlottewinter', 'scraped': 0}, {'id': '5588706', 'slug': 'black-lives-matter-small-scale-by-ashleysummersdesign', 'path': '/en/fabric/5588706-black-lives-matter-small-scale-by-ashleysummersdesign', 'scraped': 0}, {'id': '7984649', 'slug': '8-love-care-medical-black-by-rebelmod', 'path': '/en/fabric/7984649-8-love-care-medical-black-by-rebelmod', 'scraped': 0}, {'id': '7236018', 'slug': 'australian-native-eucalyptus-leaves-edition-1-australiana-fabric-wallpaper-by-erin__kendal', 'path': '/en/fabric/7236018-australian-native-eucalyptus-leaves-edition-1-australiana-fabric-wallpaper-by-erin__kendal', 'scraped': 0}, {'id': '6864327', 'slug': 'love-lips-red-by-hipkiddesigns', 'path': '/en/fabric/6864327-love-lips-red-by-hipkiddesigns', 'scraped': 0}, {'id': '5469666', 'slug': 'galaxy-far-far-away-gray-by-studiofibonacci', 'path': '/en/fabric/5469666-galaxy-far-far-away-gray-by-studiofibonacci', 'scraped': 0}, {'id': '6852245', 'slug': 'cute-nurse-love-black-no-gradient-by-jannasalak', 'path': '/en/fabric/6852245-cute-nurse-love-black-no-gradient-by-jannasalak', 'scraped': 0}, {'id': '7137898', 'slug': 'sierra-floral-by-crystal_walen', 'path': '/en/fabric/7137898-sierra-floral-by-crystal_walen', 'scraped': 0}, {'id': '7216659', 'slug': 'rainbow-stars-watercolor-abstract-small-by-crystal_walen', 'path': '/en/fabric/7216659-rainbow-stars-watercolor-abstract-small-by-crystal_walen', 'scraped': 0}, {'id': '5939834', 'slug': 'classic-leopard-by-cinneworthington', 'path': '/en/fabric/5939834-classic-leopard-by-cinneworthington', 'scraped': 0}, {'id': '4888888', 'slug': 'flowers-skulls-by-elladorine', 'path': '/en/fabric/4888888-flowers-skulls-by-elladorine', 'scraped': 0}, {'id': '7587085', 'slug': 'heres-heart-navy-white-gold2-sketch-1-by-doodleandcharm_', 'path': '/en/fabric/7587085-heres-heart-navy-white-gold2-sketch-1-by-doodleandcharm_', 'scraped': 0}, {'id': '5700186', 'slug': 'puzzle-hearts-by-designedbygeeks', 'path': '/en/fabric/5700186-puzzle-hearts-by-designedbygeeks', 'scraped': 0}, {'id': '5034356', 'slug': '80s-hair-dryers-by-cjldesigns', 'path': '/en/fabric/5034356-80s-hair-dryers-by-cjldesigns', 'scraped': 0}, {'id': '5033660', 'slug': '80s-accessories-by-diannemehta', 'path': '/en/fabric/5033660-80s-accessories-by-diannemehta', 'scraped': 0}, {'id': '2632362', 'slug': 'colorful-happy-smiley-face-squares-large-print-by-inspirationz', 'path': '/en/fabric/2632362-colorful-happy-smiley-face-squares-large-print-by-inspirationz', 'scraped': 0}], 'product_data': {'id': None, 'slug': None, 'path': '/en/shop'}}, {'links': [], 'product_data': {'id': '6444170', 'slug': 'catching-fireflies-by-thestorysmith', 'path': '/en/fabric/6444170-catching-fireflies-by-thestorysmith', 'title': 'Catching Fireflies', 'size': 'Fat Quarter 21\" x 18\"', 'price': '10.75', 'priceCurrency': 'USD', 'priceValidUntil': '2030-01-01'}}]\n",
      "total time is 14.936013221740723\n"
     ]
    }
   ],
   "source": [
    "!python async_scrape.py"
   ]
  },
  {
   "cell_type": "code",
   "execution_count": null,
   "metadata": {},
   "outputs": [],
   "source": []
  }
 ],
 "metadata": {
  "kernelspec": {
   "display_name": "Python 3",
   "language": "python",
   "name": "python3"
  },
  "language_info": {
   "codemirror_mode": {
    "name": "ipython",
    "version": 3
   },
   "file_extension": ".py",
   "mimetype": "text/x-python",
   "name": "python",
   "nbconvert_exporter": "python",
   "pygments_lexer": "ipython3",
   "version": "3.8.2"
  }
 },
 "nbformat": 4,
 "nbformat_minor": 4
}
