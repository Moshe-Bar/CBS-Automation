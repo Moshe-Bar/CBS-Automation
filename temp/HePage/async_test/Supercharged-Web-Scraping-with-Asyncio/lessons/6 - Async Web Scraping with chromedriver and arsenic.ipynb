{
 "cells": [
  {
   "cell_type": "code",
   "execution_count": 1,
   "metadata": {},
   "outputs": [],
   "source": [
    "# !pip install requests-html selenium arsenic pandas"
   ]
  },
  {
   "cell_type": "markdown",
   "metadata": {},
   "source": [
    "##  Sync vs Async\n",
    "\n",
    "The Chess Game Analogy\n",
    "\n",
    "Consecutive vs Concurrent"
   ]
  },
  {
   "cell_type": "code",
   "execution_count": 2,
   "metadata": {},
   "outputs": [
    {
     "name": "stdout",
     "output_type": "stream",
     "text": [
      "CPU times: user 6 µs, sys: 0 ns, total: 6 µs\n",
      "Wall time: 8.82 µs\n"
     ]
    }
   ],
   "source": [
    "%%time\n",
    "\n",
    "import time\n",
    "\n",
    "iteration_times = [1, 3, 2, 4]\n",
    "\n",
    "\n",
    "def sleeper(seconds, i=-1):\n",
    "    if i != -1:\n",
    "        print(f\"{i}\\t{seconds}s\")\n",
    "    time.sleep(seconds)\n",
    "\n",
    "\n",
    "def run():\n",
    "    for i, second in enumerate(iteration_times):\n",
    "        sleeper(second, i=i)\n",
    "    \n",
    "# run()"
   ]
  },
  {
   "cell_type": "code",
   "execution_count": 3,
   "metadata": {},
   "outputs": [
    {
     "name": "stdout",
     "output_type": "stream",
     "text": [
      "[<Task pending name='Task-2' coro=<a_sleeper() running at <ipython-input-3-b040379a2390>:5>>, <Task pending name='Task-3' coro=<a_sleeper() running at <ipython-input-3-b040379a2390>:5>>, <Task pending name='Task-4' coro=<a_sleeper() running at <ipython-input-3-b040379a2390>:5>>, <Task pending name='Task-5' coro=<a_sleeper() running at <ipython-input-3-b040379a2390>:5>>]\n",
      "0.0007050037384033203\n",
      "0\t1s\n",
      "1\t3s\n",
      "2\t2s\n",
      "3\t1s\n"
     ]
    }
   ],
   "source": [
    "start = time.time()\n",
    "iteration_times = [1, 3, 2, 1]\n",
    "import asyncio\n",
    "\n",
    "async def a_sleeper(seconds, i=-1):\n",
    "    if i != -1:\n",
    "        print(f\"{i}\\t{seconds}s\")\n",
    "    await asyncio.sleep(seconds) # coroutine\n",
    "    \n",
    "    ellap = time.time() - start\n",
    "    print(f\"{i} done {ellap}\")\n",
    "    return \"abc\"\n",
    "\n",
    "async def a_run():\n",
    "    results = []\n",
    "    for i, second in enumerate(iteration_times):\n",
    "        results.append(\n",
    "            asyncio.create_task(a_sleeper(second, i=i))\n",
    "        )\n",
    "    return results\n",
    "    \n",
    "results = await a_run()\n",
    "print(results)\n",
    "end = time.time() - start\n",
    "\n",
    "print(end)"
   ]
  },
  {
   "cell_type": "markdown",
   "metadata": {},
   "source": [
    "## Blocking & Timeouts"
   ]
  },
  {
   "cell_type": "code",
   "execution_count": 4,
   "metadata": {},
   "outputs": [],
   "source": [
    "def sleeper(seconds, i=-1):\n",
    "    if i != -1:\n",
    "        print(f\"{i}\\t{seconds}s\")\n",
    "    time.sleep(seconds)\n",
    "\n",
    "sleeper(12)"
   ]
  },
  {
   "cell_type": "code",
   "execution_count": 5,
   "metadata": {},
   "outputs": [
    {
     "name": "stdout",
     "output_type": "stream",
     "text": [
      "0 done 12.023157119750977\n",
      "3 done 12.023277044296265\n",
      "2 done 12.023310899734497\n",
      "1 done 12.023338079452515\n"
     ]
    }
   ],
   "source": [
    "async def asleeper(seconds, i=-1):\n",
    "    # time.sleep(seconds)\n",
    "    if i != -1:\n",
    "        print(f\"a{i}\\t{seconds}s\")\n",
    "    await asyncio.sleep(seconds)\n",
    "    \n",
    "await asleeper(12)"
   ]
  },
  {
   "cell_type": "code",
   "execution_count": 6,
   "metadata": {},
   "outputs": [
    {
     "name": "stdout",
     "output_type": "stream",
     "text": [
      "hello word\n"
     ]
    }
   ],
   "source": [
    "print(\"hello word\")"
   ]
  },
  {
   "cell_type": "code",
   "execution_count": 7,
   "metadata": {},
   "outputs": [
    {
     "data": {
      "text/plain": [
       "<Task pending name='Task-7' coro=<asleeper() running at <ipython-input-5-f7aa28347698>:1>>"
      ]
     },
     "execution_count": 7,
     "metadata": {},
     "output_type": "execute_result"
    }
   ],
   "source": [
    "loop = asyncio.get_event_loop()\n",
    "# loop = asyncio.new_event_loop()\n",
    "# aysncio.run()\n",
    "\n",
    "\n",
    "loop.create_task(asleeper(123))"
   ]
  },
  {
   "cell_type": "code",
   "execution_count": 8,
   "metadata": {},
   "outputs": [
    {
     "name": "stdout",
     "output_type": "stream",
     "text": [
      "hello word\n"
     ]
    }
   ],
   "source": [
    "print(\"hello word\")"
   ]
  },
  {
   "cell_type": "code",
   "execution_count": 9,
   "metadata": {},
   "outputs": [
    {
     "data": {
      "text/plain": [
       "({<Task finished name='Task-10' coro=<asleeper() done, defined at <ipython-input-5-f7aa28347698>:1> result=None>},\n",
       " {<Task pending name='Task-9' coro=<asleeper() running at <ipython-input-5-f7aa28347698>:5> wait_for=<Future pending cb=[<TaskWakeupMethWrapper object at 0x7fdbd83216a0>()]>>})"
      ]
     },
     "execution_count": 9,
     "metadata": {},
     "output_type": "execute_result"
    }
   ],
   "source": [
    "done, pending = await asyncio.wait([asleeper(1), asleeper(123)], timeout=2)\n",
    "done, pending"
   ]
  },
  {
   "cell_type": "code",
   "execution_count": 10,
   "metadata": {},
   "outputs": [
    {
     "data": {
      "text/plain": [
       "{<Task finished name='Task-10' coro=<asleeper() done, defined at <ipython-input-5-f7aa28347698>:1> result=None>}"
      ]
     },
     "execution_count": 10,
     "metadata": {},
     "output_type": "execute_result"
    }
   ],
   "source": [
    "done"
   ]
  },
  {
   "cell_type": "code",
   "execution_count": 11,
   "metadata": {},
   "outputs": [
    {
     "data": {
      "text/plain": [
       "{<Task pending name='Task-9' coro=<asleeper() running at <ipython-input-5-f7aa28347698>:5> wait_for=<Future pending cb=[<TaskWakeupMethWrapper object at 0x7fdbd83216a0>()]>>}"
      ]
     },
     "execution_count": 11,
     "metadata": {},
     "output_type": "execute_result"
    }
   ],
   "source": [
    "pending"
   ]
  },
  {
   "cell_type": "code",
   "execution_count": 12,
   "metadata": {},
   "outputs": [],
   "source": [
    "# await asyncio.wait(pending)"
   ]
  },
  {
   "cell_type": "code",
   "execution_count": 13,
   "metadata": {},
   "outputs": [
    {
     "ename": "TimeoutError",
     "evalue": "",
     "output_type": "error",
     "traceback": [
      "\u001b[0;31m---------------------------------------------------------------------------\u001b[0m",
      "\u001b[0;31mTimeoutError\u001b[0m                              Traceback (most recent call last)",
      "\u001b[0;32m<ipython-input-13-05fcc47660c2>\u001b[0m in \u001b[0;36m<module>\u001b[0;34m\u001b[0m\n\u001b[0;32m----> 1\u001b[0;31m \u001b[0;32mawait\u001b[0m \u001b[0masyncio\u001b[0m\u001b[0;34m.\u001b[0m\u001b[0mwait_for\u001b[0m\u001b[0;34m(\u001b[0m\u001b[0masleeper\u001b[0m\u001b[0;34m(\u001b[0m\u001b[0;36m5\u001b[0m\u001b[0;34m)\u001b[0m\u001b[0;34m,\u001b[0m \u001b[0mtimeout\u001b[0m\u001b[0;34m=\u001b[0m\u001b[0;36m3\u001b[0m\u001b[0;34m)\u001b[0m\u001b[0;34m\u001b[0m\u001b[0;34m\u001b[0m\u001b[0m\n\u001b[0m",
      "\u001b[0;32m/Library/Frameworks/Python.framework/Versions/3.8/lib/python3.8/asyncio/tasks.py\u001b[0m in \u001b[0;36mwait_for\u001b[0;34m(fut, timeout, loop)\u001b[0m\n\u001b[1;32m    488\u001b[0m             \u001b[0;31m# See https://bugs.python.org/issue32751\u001b[0m\u001b[0;34m\u001b[0m\u001b[0;34m\u001b[0m\u001b[0;34m\u001b[0m\u001b[0m\n\u001b[1;32m    489\u001b[0m             \u001b[0;32mawait\u001b[0m \u001b[0m_cancel_and_wait\u001b[0m\u001b[0;34m(\u001b[0m\u001b[0mfut\u001b[0m\u001b[0;34m,\u001b[0m \u001b[0mloop\u001b[0m\u001b[0;34m=\u001b[0m\u001b[0mloop\u001b[0m\u001b[0;34m)\u001b[0m\u001b[0;34m\u001b[0m\u001b[0;34m\u001b[0m\u001b[0m\n\u001b[0;32m--> 490\u001b[0;31m             \u001b[0;32mraise\u001b[0m \u001b[0mexceptions\u001b[0m\u001b[0;34m.\u001b[0m\u001b[0mTimeoutError\u001b[0m\u001b[0;34m(\u001b[0m\u001b[0;34m)\u001b[0m\u001b[0;34m\u001b[0m\u001b[0;34m\u001b[0m\u001b[0m\n\u001b[0m\u001b[1;32m    491\u001b[0m     \u001b[0;32mfinally\u001b[0m\u001b[0;34m:\u001b[0m\u001b[0;34m\u001b[0m\u001b[0;34m\u001b[0m\u001b[0m\n\u001b[1;32m    492\u001b[0m         \u001b[0mtimeout_handle\u001b[0m\u001b[0;34m.\u001b[0m\u001b[0mcancel\u001b[0m\u001b[0;34m(\u001b[0m\u001b[0;34m)\u001b[0m\u001b[0;34m\u001b[0m\u001b[0;34m\u001b[0m\u001b[0m\n",
      "\u001b[0;31mTimeoutError\u001b[0m: "
     ]
    }
   ],
   "source": [
    "await asyncio.wait_for(asleeper(5), timeout=3)"
   ]
  },
  {
   "cell_type": "code",
   "execution_count": 14,
   "metadata": {},
   "outputs": [
    {
     "name": "stdout",
     "output_type": "stream",
     "text": [
      "Task failed\n"
     ]
    }
   ],
   "source": [
    "try:\n",
    "    await asyncio.wait_for(asleeper(5), timeout=3)\n",
    "except asyncio.TimeoutError:\n",
    "    print(\"Task failed\")"
   ]
  },
  {
   "cell_type": "code",
   "execution_count": 15,
   "metadata": {},
   "outputs": [
    {
     "ename": "TimeoutError",
     "evalue": "",
     "output_type": "error",
     "traceback": [
      "\u001b[0;31m---------------------------------------------------------------------------\u001b[0m",
      "\u001b[0;31mTimeoutError\u001b[0m                              Traceback (most recent call last)",
      "\u001b[0;32m<ipython-input-15-5dfab2be919e>\u001b[0m in \u001b[0;36m<module>\u001b[0;34m\u001b[0m\n\u001b[1;32m      5\u001b[0m     \u001b[0;32mawait\u001b[0m \u001b[0masyncio\u001b[0m\u001b[0;34m.\u001b[0m\u001b[0mwait_for\u001b[0m\u001b[0;34m(\u001b[0m\u001b[0masyncio\u001b[0m\u001b[0;34m.\u001b[0m\u001b[0msleep\u001b[0m\u001b[0;34m(\u001b[0m\u001b[0mseconds\u001b[0m\u001b[0;34m)\u001b[0m\u001b[0;34m,\u001b[0m \u001b[0mtimeout\u001b[0m\u001b[0;34m=\u001b[0m\u001b[0mtimeout\u001b[0m\u001b[0;34m)\u001b[0m\u001b[0;34m\u001b[0m\u001b[0;34m\u001b[0m\u001b[0m\n\u001b[1;32m      6\u001b[0m \u001b[0;34m\u001b[0m\u001b[0m\n\u001b[0;32m----> 7\u001b[0;31m \u001b[0;32mawait\u001b[0m \u001b[0masleeper_timeout\u001b[0m\u001b[0;34m(\u001b[0m\u001b[0;36m12\u001b[0m\u001b[0;34m,\u001b[0m \u001b[0mtimeout\u001b[0m\u001b[0;34m=\u001b[0m\u001b[0;36m1\u001b[0m\u001b[0;34m)\u001b[0m\u001b[0;34m\u001b[0m\u001b[0;34m\u001b[0m\u001b[0m\n\u001b[0m",
      "\u001b[0;32m<ipython-input-15-5dfab2be919e>\u001b[0m in \u001b[0;36masleeper_timeout\u001b[0;34m(seconds, i, timeout)\u001b[0m\n\u001b[1;32m      3\u001b[0m     \u001b[0;32mif\u001b[0m \u001b[0mi\u001b[0m \u001b[0;34m!=\u001b[0m \u001b[0;34m-\u001b[0m\u001b[0;36m1\u001b[0m\u001b[0;34m:\u001b[0m\u001b[0;34m\u001b[0m\u001b[0;34m\u001b[0m\u001b[0m\n\u001b[1;32m      4\u001b[0m         \u001b[0mprint\u001b[0m\u001b[0;34m(\u001b[0m\u001b[0;34mf\"a{i}\\t{seconds}s\"\u001b[0m\u001b[0;34m)\u001b[0m\u001b[0;34m\u001b[0m\u001b[0;34m\u001b[0m\u001b[0m\n\u001b[0;32m----> 5\u001b[0;31m     \u001b[0;32mawait\u001b[0m \u001b[0masyncio\u001b[0m\u001b[0;34m.\u001b[0m\u001b[0mwait_for\u001b[0m\u001b[0;34m(\u001b[0m\u001b[0masyncio\u001b[0m\u001b[0;34m.\u001b[0m\u001b[0msleep\u001b[0m\u001b[0;34m(\u001b[0m\u001b[0mseconds\u001b[0m\u001b[0;34m)\u001b[0m\u001b[0;34m,\u001b[0m \u001b[0mtimeout\u001b[0m\u001b[0;34m=\u001b[0m\u001b[0mtimeout\u001b[0m\u001b[0;34m)\u001b[0m\u001b[0;34m\u001b[0m\u001b[0;34m\u001b[0m\u001b[0m\n\u001b[0m\u001b[1;32m      6\u001b[0m \u001b[0;34m\u001b[0m\u001b[0m\n\u001b[1;32m      7\u001b[0m \u001b[0;32mawait\u001b[0m \u001b[0masleeper_timeout\u001b[0m\u001b[0;34m(\u001b[0m\u001b[0;36m12\u001b[0m\u001b[0;34m,\u001b[0m \u001b[0mtimeout\u001b[0m\u001b[0;34m=\u001b[0m\u001b[0;36m1\u001b[0m\u001b[0;34m)\u001b[0m\u001b[0;34m\u001b[0m\u001b[0;34m\u001b[0m\u001b[0m\n",
      "\u001b[0;32m/Library/Frameworks/Python.framework/Versions/3.8/lib/python3.8/asyncio/tasks.py\u001b[0m in \u001b[0;36mwait_for\u001b[0;34m(fut, timeout, loop)\u001b[0m\n\u001b[1;32m    488\u001b[0m             \u001b[0;31m# See https://bugs.python.org/issue32751\u001b[0m\u001b[0;34m\u001b[0m\u001b[0;34m\u001b[0m\u001b[0;34m\u001b[0m\u001b[0m\n\u001b[1;32m    489\u001b[0m             \u001b[0;32mawait\u001b[0m \u001b[0m_cancel_and_wait\u001b[0m\u001b[0;34m(\u001b[0m\u001b[0mfut\u001b[0m\u001b[0;34m,\u001b[0m \u001b[0mloop\u001b[0m\u001b[0;34m=\u001b[0m\u001b[0mloop\u001b[0m\u001b[0;34m)\u001b[0m\u001b[0;34m\u001b[0m\u001b[0;34m\u001b[0m\u001b[0m\n\u001b[0;32m--> 490\u001b[0;31m             \u001b[0;32mraise\u001b[0m \u001b[0mexceptions\u001b[0m\u001b[0;34m.\u001b[0m\u001b[0mTimeoutError\u001b[0m\u001b[0;34m(\u001b[0m\u001b[0;34m)\u001b[0m\u001b[0;34m\u001b[0m\u001b[0;34m\u001b[0m\u001b[0m\n\u001b[0m\u001b[1;32m    491\u001b[0m     \u001b[0;32mfinally\u001b[0m\u001b[0;34m:\u001b[0m\u001b[0;34m\u001b[0m\u001b[0;34m\u001b[0m\u001b[0m\n\u001b[1;32m    492\u001b[0m         \u001b[0mtimeout_handle\u001b[0m\u001b[0;34m.\u001b[0m\u001b[0mcancel\u001b[0m\u001b[0;34m(\u001b[0m\u001b[0;34m)\u001b[0m\u001b[0;34m\u001b[0m\u001b[0;34m\u001b[0m\u001b[0m\n",
      "\u001b[0;31mTimeoutError\u001b[0m: "
     ]
    }
   ],
   "source": [
    "async def asleeper_timeout(seconds, i=-1, timeout=4):\n",
    "    # time.sleep(seconds)\n",
    "    if i != -1:\n",
    "        print(f\"a{i}\\t{seconds}s\")\n",
    "    await asyncio.wait_for(asyncio.sleep(seconds), timeout=timeout)\n",
    "    \n",
    "await asleeper_timeout(12, timeout=1)"
   ]
  },
  {
   "cell_type": "markdown",
   "metadata": {},
   "source": [
    "## Scraping with Selenium - Synchronous\n",
    "New to selenium and web scraping? Watch [this series](https://kirr.co/dwy90n)."
   ]
  },
  {
   "cell_type": "code",
   "execution_count": 16,
   "metadata": {},
   "outputs": [],
   "source": [
    "url = 'https://www.spoonflower.com/en/shop?on=fabric'"
   ]
  },
  {
   "cell_type": "code",
   "execution_count": 17,
   "metadata": {},
   "outputs": [],
   "source": [
    "import re\n",
    "import requests\n",
    "from requests_html import HTML\n",
    "import pandas as pd\n",
    "\n",
    "from selenium import webdriver\n",
    "from selenium.webdriver.chrome.options import Options"
   ]
  },
  {
   "cell_type": "code",
   "execution_count": 18,
   "metadata": {},
   "outputs": [],
   "source": [
    "def scraper(url):\n",
    "    options = Options()\n",
    "    options.add_argument(\"--headless\")\n",
    "    driver = webdriver.Chrome(options=options)\n",
    "    driver.get(url)\n",
    "    return driver.page_source\n",
    "\n",
    "\n",
    "# /en/fabric/7137786-genevieve-floral-by-crystal_walen\n",
    "def extract_id_slug(url_path):\n",
    "    regex = r\"^[^\\s]+/(?P<id>\\d+)-(?P<slug>[\\w_-]+)$\"\n",
    "    group = re.match(regex, url_path)\n",
    "    if not group:\n",
    "        return None, None\n",
    "    return group['id'], group['slug']"
   ]
  },
  {
   "cell_type": "code",
   "execution_count": 19,
   "metadata": {},
   "outputs": [],
   "source": [
    "content = scraper(url)"
   ]
  },
  {
   "cell_type": "code",
   "execution_count": null,
   "metadata": {},
   "outputs": [],
   "source": []
  },
  {
   "cell_type": "code",
   "execution_count": 20,
   "metadata": {},
   "outputs": [
    {
     "name": "stdout",
     "output_type": "stream",
     "text": [
      "8692520 bees-lemons-large-blue-by-fernlesliestudio\n",
      "4352750 loteria-by-jellymania\n",
      "7137786 genevieve-floral-by-crystal_walen\n",
      "6650975 love-nurse-charcoal-gray-by-phyllisdobbs\n",
      "5544045 napoleonic-bees-faux-gilt-on-blackest-black-by-peacoquettedesigns\n",
      "7944022 golden-girls-illustration-peach-by-yesterdaycollection\n",
      "7580754 ibd-gracie-grace-golden-jumbo-by-indybloomdesign\n",
      "5247883 hexo-blue-med-by-nouveau_bohemian\n",
      "6444170 catching-fireflies-by-thestorysmith\n",
      "7236018 australian-native-eucalyptus-leaves-edition-1-australiana-fabric-wallpaper-by-erin__kendal\n",
      "3817098 math-count-on-by-sammyk\n",
      "9060289 saints-fleur-de-lis-new-orleans-saints-football-football-fabric-fleur-de-lis-fabric-black-gold-gold-f-by-charlottewinter\n",
      "7368347 dear-clementine-oranges-teal-by-crystal_walen\n",
      "6812243 cute-kawaii-sushi-small-size-by-penguinhouse\n",
      "7216659 rainbow-stars-watercolor-abstract-small-by-crystal_walen\n",
      "4995362 heart-health-awareness-black-by-ohdarkthirty\n",
      "5048115 mexican-blanket-by-anchored_by_love\n",
      "6327300 call-mountains-evergreen-med-by-nouveau_bohemian\n",
      "5880084 mod-triangles-gold-indigo-by-crystal_walen\n",
      "2920223 m81-woodland-camo-by-ricraynor\n",
      "7812388 dnd-pattern-by-neonborealis\n",
      "2632362 colorful-happy-smiley-face-squares-large-print-by-inspirationz\n",
      "6573088 whale-s-song-by-katherine_quinn\n",
      "5513692 salon-barber-hairdresser-pattern-by-cloudycapevintage\n",
      "4830872 cherry-blossom-watercolor-cherry-blossom-floral-by-magentarosedesigns\n",
      "9453318 african-american-girls-retro-pop-art-by-whimsical_brush\n",
      "4981816 black-white-dogs-by-littleislandcompany\n",
      "9240316 irish-notre-dame-irish-fabric-by-charlottewinter\n",
      "5532389 blue-white-camouflage-pattern-by-artpics\n",
      "6590171 mermaid-scales-by-elladorine\n",
      "7463028 seamless-watercolor-larger-leaves-pattern-1-by-daily_miracles\n",
      "7587085 heres-heart-navy-white-gold2-sketch-1-by-doodleandcharm_\n",
      "6178734 fable-floral-blush-med-by-nouveau_bohemian\n",
      "5700186 puzzle-hearts-by-designedbygeeks\n",
      "2623675 black-white-music-notes-by-inspirationz\n",
      "6079351 josie-meadow-floral-by-sweeterthanhoney\n",
      "8618597 rainbow-watercolor-pawprints-by-dragonstarart\n",
      "991112 nursing-coordinates-by-bluevelvet\n",
      "2623792 purple-space-stars-small-print-by-inspirationz\n",
      "5839396 spectacular-cats-by-cynthia_arre\n",
      "4893900 half-scale-m81-woodland-camo-by-ricraynor\n",
      "3584004 mexican-sugar-skulls-small-by-lusykoror\n",
      "8039248 forest-animal-hot-air-balloon-night-adventure-by-at_the_cottage\n",
      "1577333 marine-marpat-digital-woodland-camo-by-ricraynor\n",
      "8619105 flight-feathers-painted-by-xoxotique\n",
      "5131007 scandinavian-sweet-hedgehog-illustration-kids-gender-neutral-black-white-by-littlesmilemakers\n",
      "7790777 turtles-aqua-blue-by-gingerlique\n",
      "8286001 hanging-out-by-sarah_knight\n",
      "4995555 heart-health-awareness-light-gray-large-by-ohdarkthirty\n",
      "5034356 80s-hair-dryers-by-cjldesigns\n",
      "2330040 maryland-flags-by-elramsay\n",
      "7661255 just-jellies-jellyfish-by-katerhees\n",
      "7679631 scattered-earth-tones-watercolor-rainbows-by-anniemontgomerydesign\n",
      "5312944 thank-being-friend-small-by-elladorine\n",
      "6715163 8-wild-heart-florals-white-by-shopcabin\n",
      "1112778 rosie-riveter-by-spacefem\n",
      "509390 spoonflower-color-map-by-spoonflower_help\n",
      "5469666 galaxy-far-far-away-gray-by-studiofibonacci\n",
      "6263258 navy-blue-watercolor-herringbone-by-laurapol\n",
      "6852245 cute-nurse-love-black-no-gradient-by-jannasalak\n",
      "7984669 8-love-care-medical-white-by-rebelmod\n",
      "5939834 classic-leopard-by-cinneworthington\n",
      "7698482 scrubs-dr-stetho-scope-by-adrianne_vanalstine\n",
      "5514018 hair-cutting-shears-by-cloudycapevintage\n",
      "7137898 sierra-floral-by-crystal_walen\n",
      "7984649 8-love-care-medical-black-by-rebelmod\n",
      "1306112 opal-by-peacoquettedesigns\n",
      "8197261 night-sky-stars-midnight-blue-by-at_the_cottage\n",
      "4270747 happy-hair-stylist-friends-blue-by-clayvision_-_ahappybluetree\n",
      "4888888 flowers-skulls-by-elladorine\n",
      "5588706 black-lives-matter-small-scale-by-ashleysummersdesign\n",
      "8056679 ruth-bader-ginsgurg-rbg-bust-black-by-katerhees\n",
      "7522587 save-honey-bees-large-new-by-fernlesliestudio\n",
      "7685381 dragon-fire-by-adenaj\n",
      "7662668 mermaid-music-by-ceciliamok\n",
      "9119650 horror-friends-by-mariospeedwagon\n",
      "5033660 80s-accessories-by-diannemehta\n",
      "6782514 eame-s-wildflower-meadow-by-hipkiddesigns\n",
      "5773745 rainbow-pride-stripes-by-furbuddy\n",
      "3840217 nurse-theme-by-hot4tees_bg-yahoo_com\n",
      "6864327 love-lips-red-by-hipkiddesigns\n",
      "6650888 love-nurse-whimsy-blue-by-phyllisdobbs\n",
      "5964319 hearts-on-grey-linen-valentines-day-by-littlearrowdesign\n",
      "1096407 skull-wall-by-ben_goetting\n"
     ]
    }
   ],
   "source": [
    "html_r = HTML(html=content)\n",
    "\n",
    "fabric_links = [x for x in list(html_r.links) if x.startswith(\"/en/fabric\")]\n",
    "\n",
    "datas = []\n",
    "for path in fabric_links:\n",
    "    id_, slug_ = extract_id_slug(path)\n",
    "    print(id_, slug_)\n",
    "    data = {\n",
    "        \"id\": id_,\n",
    "        \"slug\": slug_,\n",
    "        \"path\": path,\n",
    "        \"scraped\": 0 # True / False -> 1 / 0 \n",
    "    }\n",
    "    datas.append(data)"
   ]
  },
  {
   "cell_type": "code",
   "execution_count": 21,
   "metadata": {},
   "outputs": [
    {
     "data": {
      "text/html": [
       "<div>\n",
       "<style scoped>\n",
       "    .dataframe tbody tr th:only-of-type {\n",
       "        vertical-align: middle;\n",
       "    }\n",
       "\n",
       "    .dataframe tbody tr th {\n",
       "        vertical-align: top;\n",
       "    }\n",
       "\n",
       "    .dataframe thead th {\n",
       "        text-align: right;\n",
       "    }\n",
       "</style>\n",
       "<table border=\"1\" class=\"dataframe\">\n",
       "  <thead>\n",
       "    <tr style=\"text-align: right;\">\n",
       "      <th></th>\n",
       "      <th>id</th>\n",
       "      <th>slug</th>\n",
       "      <th>path</th>\n",
       "      <th>scraped</th>\n",
       "    </tr>\n",
       "  </thead>\n",
       "  <tbody>\n",
       "    <tr>\n",
       "      <th>0</th>\n",
       "      <td>8692520</td>\n",
       "      <td>bees-lemons-large-blue-by-fernlesliestudio</td>\n",
       "      <td>/en/fabric/8692520-bees-lemons-large-blue-by-f...</td>\n",
       "      <td>0</td>\n",
       "    </tr>\n",
       "    <tr>\n",
       "      <th>1</th>\n",
       "      <td>4352750</td>\n",
       "      <td>loteria-by-jellymania</td>\n",
       "      <td>/en/fabric/4352750-loteria-by-jellymania</td>\n",
       "      <td>0</td>\n",
       "    </tr>\n",
       "    <tr>\n",
       "      <th>2</th>\n",
       "      <td>7137786</td>\n",
       "      <td>genevieve-floral-by-crystal_walen</td>\n",
       "      <td>/en/fabric/7137786-genevieve-floral-by-crystal...</td>\n",
       "      <td>0</td>\n",
       "    </tr>\n",
       "    <tr>\n",
       "      <th>3</th>\n",
       "      <td>6650975</td>\n",
       "      <td>love-nurse-charcoal-gray-by-phyllisdobbs</td>\n",
       "      <td>/en/fabric/6650975-love-nurse-charcoal-gray-by...</td>\n",
       "      <td>0</td>\n",
       "    </tr>\n",
       "    <tr>\n",
       "      <th>4</th>\n",
       "      <td>5544045</td>\n",
       "      <td>napoleonic-bees-faux-gilt-on-blackest-black-by...</td>\n",
       "      <td>/en/fabric/5544045-napoleonic-bees-faux-gilt-o...</td>\n",
       "      <td>0</td>\n",
       "    </tr>\n",
       "  </tbody>\n",
       "</table>\n",
       "</div>"
      ],
      "text/plain": [
       "        id                                               slug  \\\n",
       "0  8692520         bees-lemons-large-blue-by-fernlesliestudio   \n",
       "1  4352750                              loteria-by-jellymania   \n",
       "2  7137786                  genevieve-floral-by-crystal_walen   \n",
       "3  6650975           love-nurse-charcoal-gray-by-phyllisdobbs   \n",
       "4  5544045  napoleonic-bees-faux-gilt-on-blackest-black-by...   \n",
       "\n",
       "                                                path  scraped  \n",
       "0  /en/fabric/8692520-bees-lemons-large-blue-by-f...        0  \n",
       "1           /en/fabric/4352750-loteria-by-jellymania        0  \n",
       "2  /en/fabric/7137786-genevieve-floral-by-crystal...        0  \n",
       "3  /en/fabric/6650975-love-nurse-charcoal-gray-by...        0  \n",
       "4  /en/fabric/5544045-napoleonic-bees-faux-gilt-o...        0  "
      ]
     },
     "execution_count": 21,
     "metadata": {},
     "output_type": "execute_result"
    }
   ],
   "source": [
    "df = pd.DataFrame(datas)\n",
    "df.head()"
   ]
  },
  {
   "cell_type": "code",
   "execution_count": 22,
   "metadata": {},
   "outputs": [],
   "source": [
    "df.to_csv(\"local.csv\", index=False)"
   ]
  },
  {
   "cell_type": "code",
   "execution_count": 23,
   "metadata": {},
   "outputs": [
    {
     "data": {
      "text/html": [
       "<div>\n",
       "<style scoped>\n",
       "    .dataframe tbody tr th:only-of-type {\n",
       "        vertical-align: middle;\n",
       "    }\n",
       "\n",
       "    .dataframe tbody tr th {\n",
       "        vertical-align: top;\n",
       "    }\n",
       "\n",
       "    .dataframe thead th {\n",
       "        text-align: right;\n",
       "    }\n",
       "</style>\n",
       "<table border=\"1\" class=\"dataframe\">\n",
       "  <thead>\n",
       "    <tr style=\"text-align: right;\">\n",
       "      <th></th>\n",
       "      <th>id</th>\n",
       "      <th>slug</th>\n",
       "      <th>path</th>\n",
       "      <th>scraped</th>\n",
       "    </tr>\n",
       "  </thead>\n",
       "  <tbody>\n",
       "    <tr>\n",
       "      <th>0</th>\n",
       "      <td>8692520</td>\n",
       "      <td>bees-lemons-large-blue-by-fernlesliestudio</td>\n",
       "      <td>/en/fabric/8692520-bees-lemons-large-blue-by-f...</td>\n",
       "      <td>0</td>\n",
       "    </tr>\n",
       "    <tr>\n",
       "      <th>1</th>\n",
       "      <td>4352750</td>\n",
       "      <td>loteria-by-jellymania</td>\n",
       "      <td>/en/fabric/4352750-loteria-by-jellymania</td>\n",
       "      <td>0</td>\n",
       "    </tr>\n",
       "    <tr>\n",
       "      <th>2</th>\n",
       "      <td>7137786</td>\n",
       "      <td>genevieve-floral-by-crystal_walen</td>\n",
       "      <td>/en/fabric/7137786-genevieve-floral-by-crystal...</td>\n",
       "      <td>0</td>\n",
       "    </tr>\n",
       "    <tr>\n",
       "      <th>3</th>\n",
       "      <td>6650975</td>\n",
       "      <td>love-nurse-charcoal-gray-by-phyllisdobbs</td>\n",
       "      <td>/en/fabric/6650975-love-nurse-charcoal-gray-by...</td>\n",
       "      <td>0</td>\n",
       "    </tr>\n",
       "    <tr>\n",
       "      <th>4</th>\n",
       "      <td>5544045</td>\n",
       "      <td>napoleonic-bees-faux-gilt-on-blackest-black-by...</td>\n",
       "      <td>/en/fabric/5544045-napoleonic-bees-faux-gilt-o...</td>\n",
       "      <td>0</td>\n",
       "    </tr>\n",
       "    <tr>\n",
       "      <th>...</th>\n",
       "      <td>...</td>\n",
       "      <td>...</td>\n",
       "      <td>...</td>\n",
       "      <td>...</td>\n",
       "    </tr>\n",
       "    <tr>\n",
       "      <th>79</th>\n",
       "      <td>3840217</td>\n",
       "      <td>nurse-theme-by-hot4tees_bg-yahoo_com</td>\n",
       "      <td>/en/fabric/3840217-nurse-theme-by-hot4tees_bg-...</td>\n",
       "      <td>0</td>\n",
       "    </tr>\n",
       "    <tr>\n",
       "      <th>80</th>\n",
       "      <td>6864327</td>\n",
       "      <td>love-lips-red-by-hipkiddesigns</td>\n",
       "      <td>/en/fabric/6864327-love-lips-red-by-hipkiddesigns</td>\n",
       "      <td>0</td>\n",
       "    </tr>\n",
       "    <tr>\n",
       "      <th>81</th>\n",
       "      <td>6650888</td>\n",
       "      <td>love-nurse-whimsy-blue-by-phyllisdobbs</td>\n",
       "      <td>/en/fabric/6650888-love-nurse-whimsy-blue-by-p...</td>\n",
       "      <td>0</td>\n",
       "    </tr>\n",
       "    <tr>\n",
       "      <th>82</th>\n",
       "      <td>5964319</td>\n",
       "      <td>hearts-on-grey-linen-valentines-day-by-littlea...</td>\n",
       "      <td>/en/fabric/5964319-hearts-on-grey-linen-valent...</td>\n",
       "      <td>0</td>\n",
       "    </tr>\n",
       "    <tr>\n",
       "      <th>83</th>\n",
       "      <td>1096407</td>\n",
       "      <td>skull-wall-by-ben_goetting</td>\n",
       "      <td>/en/fabric/1096407-skull-wall-by-ben_goetting</td>\n",
       "      <td>0</td>\n",
       "    </tr>\n",
       "  </tbody>\n",
       "</table>\n",
       "<p>84 rows × 4 columns</p>\n",
       "</div>"
      ],
      "text/plain": [
       "         id                                               slug  \\\n",
       "0   8692520         bees-lemons-large-blue-by-fernlesliestudio   \n",
       "1   4352750                              loteria-by-jellymania   \n",
       "2   7137786                  genevieve-floral-by-crystal_walen   \n",
       "3   6650975           love-nurse-charcoal-gray-by-phyllisdobbs   \n",
       "4   5544045  napoleonic-bees-faux-gilt-on-blackest-black-by...   \n",
       "..      ...                                                ...   \n",
       "79  3840217               nurse-theme-by-hot4tees_bg-yahoo_com   \n",
       "80  6864327                     love-lips-red-by-hipkiddesigns   \n",
       "81  6650888             love-nurse-whimsy-blue-by-phyllisdobbs   \n",
       "82  5964319  hearts-on-grey-linen-valentines-day-by-littlea...   \n",
       "83  1096407                         skull-wall-by-ben_goetting   \n",
       "\n",
       "                                                 path  scraped  \n",
       "0   /en/fabric/8692520-bees-lemons-large-blue-by-f...        0  \n",
       "1            /en/fabric/4352750-loteria-by-jellymania        0  \n",
       "2   /en/fabric/7137786-genevieve-floral-by-crystal...        0  \n",
       "3   /en/fabric/6650975-love-nurse-charcoal-gray-by...        0  \n",
       "4   /en/fabric/5544045-napoleonic-bees-faux-gilt-o...        0  \n",
       "..                                                ...      ...  \n",
       "79  /en/fabric/3840217-nurse-theme-by-hot4tees_bg-...        0  \n",
       "80  /en/fabric/6864327-love-lips-red-by-hipkiddesigns        0  \n",
       "81  /en/fabric/6650888-love-nurse-whimsy-blue-by-p...        0  \n",
       "82  /en/fabric/5964319-hearts-on-grey-linen-valent...        0  \n",
       "83      /en/fabric/1096407-skull-wall-by-ben_goetting        0  \n",
       "\n",
       "[84 rows x 4 columns]"
      ]
     },
     "execution_count": 23,
     "metadata": {},
     "output_type": "execute_result"
    }
   ],
   "source": [
    "pd.read_csv(\"local.csv\")"
   ]
  },
  {
   "cell_type": "markdown",
   "metadata": {},
   "source": [
    "## Asynchronous Scraping with `chromedriver` and `arsenic`\n",
    "\n",
    "[arsenic Docs](https://arsenic.readthedocs.io/en/latest/)"
   ]
  },
  {
   "cell_type": "code",
   "execution_count": 24,
   "metadata": {},
   "outputs": [],
   "source": [
    "# !pip install arsenic"
   ]
  },
  {
   "cell_type": "code",
   "execution_count": 41,
   "metadata": {},
   "outputs": [
    {
     "name": "stdout",
     "output_type": "stream",
     "text": [
      "Overwriting async_scrape.py\n"
     ]
    }
   ],
   "source": [
    "%%writefile async_scrape.py\n",
    "\n",
    "import os\n",
    "import asyncio\n",
    "from arsenic import get_session, keys, browsers, services\n",
    "import pandas as pd\n",
    "from requests_html import HTML\n",
    "import itertools\n",
    "import re\n",
    "import time\n",
    "import pathlib\n",
    "\n",
    "\n",
    "# /en/fabric/7137786-genevieve-floral-by-crystal_walen\n",
    "async def extract_id_slug(url_path):\n",
    "    regex = r\"^[^\\s]+/(?P<id>\\d+)-(?P<slug>[\\w_-]+)$\"\n",
    "    group = re.match(regex, url_path)\n",
    "    if not group:\n",
    "        return None, None\n",
    "    return group['id'], group['slug']\n",
    "\n",
    "\n",
    "\n",
    "async def get_links(body_content):\n",
    "    html_r = HTML(html=body_content)\n",
    "    fabric_links = [x for x in list(html_r.links) if x.startswith(\"/en/fabric\")]\n",
    "    datas = []\n",
    "    for path in fabric_links:\n",
    "        id_, slug_ = await extract_id_slug(path)\n",
    "        data = {\n",
    "            \"id\": id_,\n",
    "            \"slug\": slug_,\n",
    "            \"path\": path,\n",
    "            \"scraped\": 0 # True / False -> 1 / 0 \n",
    "        }\n",
    "        datas.append(data)\n",
    "    return datas\n",
    "\n",
    "async def scraper(url):\n",
    "    service = services.Chromedriver()\n",
    "    browser = browsers.Chrome(chromeOptions={\n",
    "        'args': ['--headless', '--disable-gpu']\n",
    "    })\n",
    "    async with get_session(service, browser) as session:\n",
    "        await session.get(url)\n",
    "        body = await session.get_page_source()\n",
    "        # print(body)\n",
    "        return body\n",
    "\n",
    "async def store_links_as_df_pickle(datas=[], name='links.pkl'):\n",
    "    df = pd.DataFrame(datas)\n",
    "    df.set_index('id', drop=True, inplace=True)\n",
    "    df.to_pickle(name)\n",
    "    return df\n",
    "    \n",
    "    \n",
    "async def run(url):\n",
    "    body_content = await scraper(url)\n",
    "    links = await get_links(body_content)\n",
    "    df = await store_links_as_df_pickle(links)\n",
    "    return links\n",
    "    \n",
    "if __name__ == \"__main__\":\n",
    "    url = 'https://www.spoonflower.com/en/shop?on=fabric'\n",
    "    results = asyncio.run(run(url))\n",
    "    print(results)\n"
   ]
  },
  {
   "cell_type": "code",
   "execution_count": 43,
   "metadata": {},
   "outputs": [
    {
     "name": "stdout",
     "output_type": "stream",
     "text": [
      "https://www.spoonflower.com/en/shop?on=fabric\r\n"
     ]
    }
   ],
   "source": [
    "!python async_scrape.py"
   ]
  },
  {
   "cell_type": "code",
   "execution_count": 36,
   "metadata": {},
   "outputs": [
    {
     "data": {
      "text/html": [
       "<div>\n",
       "<style scoped>\n",
       "    .dataframe tbody tr th:only-of-type {\n",
       "        vertical-align: middle;\n",
       "    }\n",
       "\n",
       "    .dataframe tbody tr th {\n",
       "        vertical-align: top;\n",
       "    }\n",
       "\n",
       "    .dataframe thead th {\n",
       "        text-align: right;\n",
       "    }\n",
       "</style>\n",
       "<table border=\"1\" class=\"dataframe\">\n",
       "  <thead>\n",
       "    <tr style=\"text-align: right;\">\n",
       "      <th></th>\n",
       "      <th>slug</th>\n",
       "      <th>path</th>\n",
       "      <th>scraped</th>\n",
       "    </tr>\n",
       "    <tr>\n",
       "      <th>id</th>\n",
       "      <th></th>\n",
       "      <th></th>\n",
       "      <th></th>\n",
       "    </tr>\n",
       "  </thead>\n",
       "  <tbody>\n",
       "    <tr>\n",
       "      <th>7137786</th>\n",
       "      <td>genevieve-floral-by-crystal_walen</td>\n",
       "      <td>/en/fabric/7137786-genevieve-floral-by-crystal...</td>\n",
       "      <td>0</td>\n",
       "    </tr>\n",
       "    <tr>\n",
       "      <th>4893900</th>\n",
       "      <td>half-scale-m81-woodland-camo-by-ricraynor</td>\n",
       "      <td>/en/fabric/4893900-half-scale-m81-woodland-cam...</td>\n",
       "      <td>0</td>\n",
       "    </tr>\n",
       "    <tr>\n",
       "      <th>7661255</th>\n",
       "      <td>just-jellies-jellyfish-by-katerhees</td>\n",
       "      <td>/en/fabric/7661255-just-jellies-jellyfish-by-k...</td>\n",
       "      <td>0</td>\n",
       "    </tr>\n",
       "    <tr>\n",
       "      <th>5034356</th>\n",
       "      <td>80s-hair-dryers-by-cjldesigns</td>\n",
       "      <td>/en/fabric/5034356-80s-hair-dryers-by-cjldesigns</td>\n",
       "      <td>0</td>\n",
       "    </tr>\n",
       "    <tr>\n",
       "      <th>2623675</th>\n",
       "      <td>black-white-music-notes-by-inspirationz</td>\n",
       "      <td>/en/fabric/2623675-black-white-music-notes-by-...</td>\n",
       "      <td>0</td>\n",
       "    </tr>\n",
       "  </tbody>\n",
       "</table>\n",
       "</div>"
      ],
      "text/plain": [
       "                                              slug  \\\n",
       "id                                                   \n",
       "7137786          genevieve-floral-by-crystal_walen   \n",
       "4893900  half-scale-m81-woodland-camo-by-ricraynor   \n",
       "7661255        just-jellies-jellyfish-by-katerhees   \n",
       "5034356              80s-hair-dryers-by-cjldesigns   \n",
       "2623675    black-white-music-notes-by-inspirationz   \n",
       "\n",
       "                                                      path  scraped  \n",
       "id                                                                   \n",
       "7137786  /en/fabric/7137786-genevieve-floral-by-crystal...        0  \n",
       "4893900  /en/fabric/4893900-half-scale-m81-woodland-cam...        0  \n",
       "7661255  /en/fabric/7661255-just-jellies-jellyfish-by-k...        0  \n",
       "5034356   /en/fabric/5034356-80s-hair-dryers-by-cjldesigns        0  \n",
       "2623675  /en/fabric/2623675-black-white-music-notes-by-...        0  "
      ]
     },
     "execution_count": 36,
     "metadata": {},
     "output_type": "execute_result"
    }
   ],
   "source": [
    "name = 'links.pkl'\n",
    "df = pd.read_pickle(name)\n",
    "df.head()"
   ]
  },
  {
   "cell_type": "code",
   "execution_count": 33,
   "metadata": {},
   "outputs": [
    {
     "data": {
      "text/plain": [
       "(84, 3)"
      ]
     },
     "execution_count": 33,
     "metadata": {},
     "output_type": "execute_result"
    }
   ],
   "source": [
    "df.shape"
   ]
  },
  {
   "cell_type": "code",
   "execution_count": null,
   "metadata": {},
   "outputs": [],
   "source": []
  }
 ],
 "metadata": {
  "kernelspec": {
   "display_name": "Python 3",
   "language": "python",
   "name": "python3"
  },
  "language_info": {
   "codemirror_mode": {
    "name": "ipython",
    "version": 3
   },
   "file_extension": ".py",
   "mimetype": "text/x-python",
   "name": "python",
   "nbconvert_exporter": "python",
   "pygments_lexer": "ipython3",
   "version": "3.8.2"
  }
 },
 "nbformat": 4,
 "nbformat_minor": 4
}
