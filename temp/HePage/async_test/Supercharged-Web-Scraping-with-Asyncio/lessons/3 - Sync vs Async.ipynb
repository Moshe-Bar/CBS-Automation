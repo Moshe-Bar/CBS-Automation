{
 "cells": [
  {
   "cell_type": "code",
   "execution_count": null,
   "metadata": {},
   "outputs": [],
   "source": [
    "# !pip install requests-html selenium arsenic pandas"
   ]
  },
  {
   "cell_type": "markdown",
   "metadata": {},
   "source": [
    "##  Sync vs Async\n",
    "\n",
    "The Chess Game Analogy\n",
    "\n",
    "Consecutive vs Concurrent"
   ]
  },
  {
   "cell_type": "code",
   "execution_count": 9,
   "metadata": {},
   "outputs": [
    {
     "name": "stdout",
     "output_type": "stream",
     "text": [
      "CPU times: user 10 µs, sys: 0 ns, total: 10 µs\n",
      "Wall time: 14.1 µs\n"
     ]
    }
   ],
   "source": [
    "%%time\n",
    "\n",
    "import time\n",
    "\n",
    "iteration_times = [1, 3, 2, 4]\n",
    "\n",
    "\n",
    "def sleeper(seconds, i=-1):\n",
    "    if i != -1:\n",
    "        print(f\"{i}\\t{seconds}s\")\n",
    "    time.sleep(seconds)\n",
    "\n",
    "\n",
    "def run():\n",
    "    for i, second in enumerate(iteration_times):\n",
    "        sleeper(second, i=i)\n",
    "    \n",
    "# run()"
   ]
  },
  {
   "cell_type": "code",
   "execution_count": 21,
   "metadata": {},
   "outputs": [
    {
     "name": "stdout",
     "output_type": "stream",
     "text": [
      "[<Task pending name='Task-38' coro=<a_sleeper() running at <ipython-input-21-b040379a2390>:5>>, <Task pending name='Task-39' coro=<a_sleeper() running at <ipython-input-21-b040379a2390>:5>>, <Task pending name='Task-40' coro=<a_sleeper() running at <ipython-input-21-b040379a2390>:5>>, <Task pending name='Task-41' coro=<a_sleeper() running at <ipython-input-21-b040379a2390>:5>>]\n",
      "0.0005660057067871094\n",
      "0\t1s\n",
      "1\t3s\n",
      "2\t2s\n",
      "3\t1s\n",
      "0 done 1.0051939487457275\n",
      "3 done 1.0053329467773438\n",
      "2 done 2.0058019161224365\n",
      "1 done 3.0049729347229004\n"
     ]
    }
   ],
   "source": [
    "start = time.time()\n",
    "iteration_times = [1, 3, 2, 1]\n",
    "import asyncio\n",
    "\n",
    "async def a_sleeper(seconds, i=-1):\n",
    "    if i != -1:\n",
    "        print(f\"{i}\\t{seconds}s\")\n",
    "    await asyncio.sleep(seconds) # coroutine\n",
    "    \n",
    "    ellap = time.time() - start\n",
    "    print(f\"{i} done {ellap}\")\n",
    "    return \"abc\"\n",
    "\n",
    "async def a_run():\n",
    "    results = []\n",
    "    for i, second in enumerate(iteration_times):\n",
    "        results.append(\n",
    "            asyncio.create_task(a_sleeper(second, i=i))\n",
    "        )\n",
    "    return results\n",
    "    \n",
    "results = await a_run()\n",
    "print(results)\n",
    "end = time.time() - start\n",
    "\n",
    "print(end)"
   ]
  },
  {
   "cell_type": "code",
   "execution_count": null,
   "metadata": {},
   "outputs": [],
   "source": []
  },
  {
   "cell_type": "code",
   "execution_count": null,
   "metadata": {},
   "outputs": [],
   "source": []
  },
  {
   "cell_type": "code",
   "execution_count": null,
   "metadata": {},
   "outputs": [],
   "source": []
  }
 ],
 "metadata": {
  "kernelspec": {
   "display_name": "Python 3",
   "language": "python",
   "name": "python3"
  },
  "language_info": {
   "codemirror_mode": {
    "name": "ipython",
    "version": 3
   },
   "file_extension": ".py",
   "mimetype": "text/x-python",
   "name": "python",
   "nbconvert_exporter": "python",
   "pygments_lexer": "ipython3",
   "version": "3.8.2"
  }
 },
 "nbformat": 4,
 "nbformat_minor": 4
}
